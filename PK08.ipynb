{
 "cells": [
  {
   "cell_type": "markdown",
   "id": "96f08fed-322c-446d-9f50-a4f362914577",
   "metadata": {},
   "source": [
    "# 외부 라이브러리"
   ]
  },
  {
   "cell_type": "markdown",
   "id": "3b161f20-b47a-42bd-8dd3-c7e9bfe050ec",
   "metadata": {},
   "source": [
    "## pip *"
   ]
  },
  {
   "cell_type": "markdown",
   "id": "b4811021-9583-44fd-850c-74047b69eaa5",
   "metadata": {
    "tags": []
   },
   "source": [
    "## Faker"
   ]
  },
  {
   "cell_type": "code",
   "execution_count": 2,
   "id": "c4738224-9209-4630-8c79-1d6ec22d4b50",
   "metadata": {
    "tags": []
   },
   "outputs": [
    {
     "name": "stdout",
     "output_type": "stream",
     "text": [
      "Collecting Faker\n",
      "  Downloading Faker-36.1.1-py3-none-any.whl.metadata (15 kB)\n",
      "Requirement already satisfied: tzdata in c:\\users\\jszxr\\anaconda3\\lib\\site-packages (from Faker) (2023.3)\n",
      "Downloading Faker-36.1.1-py3-none-any.whl (1.9 MB)\n",
      "   ---------------------------------------- 0.0/1.9 MB ? eta -:--:--\n",
      "   ---------------------------------------- 1.9/1.9 MB 26.3 MB/s eta 0:00:00\n",
      "Installing collected packages: Faker\n",
      "Successfully installed Faker-36.1.1\n"
     ]
    }
   ],
   "source": [
    "!pip install Faker"
   ]
  },
  {
   "cell_type": "code",
   "execution_count": 7,
   "id": "868ea70f-70c5-4000-bf9f-84287a2e4234",
   "metadata": {
    "tags": []
   },
   "outputs": [
    {
     "data": {
      "text/plain": [
       "{'name': '김선영', 'company': '최김한'}"
      ]
     },
     "execution_count": 7,
     "metadata": {},
     "output_type": "execute_result"
    }
   ],
   "source": [
    "from faker import Faker\n",
    "fake = Faker('ko-KR')\n",
    "{'name':fake.name(), 'company':fake.company()}"
   ]
  },
  {
   "cell_type": "markdown",
   "id": "779cc194-9be9-4613-a227-1ccb345a2138",
   "metadata": {
    "tags": []
   },
   "source": [
    "<table style=\"float:left;width:400px\">\n",
    "<thead>\n",
    "<tr>\n",
    "<th>항목</th>\n",
    "<th>설명</th>\n",
    "</tr>\n",
    "</thead>\n",
    "<tbody>\n",
    "<tr>\n",
    "<td>fake.name()</td>\n",
    "<td>이름</td>\n",
    "</tr>\n",
    "<tr>\n",
    "<td>fake.address()</td>\n",
    "<td>주소</td>\n",
    "</tr>\n",
    "<tr>\n",
    "<td>fake.postcode()</td>\n",
    "<td>우편 번호</td>\n",
    "</tr>\n",
    "<tr>\n",
    "<td>fake.country()</td>\n",
    "<td>국가명</td>\n",
    "</tr>\n",
    "<tr>\n",
    "<td>fake.company()</td>\n",
    "<td>회사명</td>\n",
    "</tr>\n",
    "<tr>\n",
    "<td>fake.job()</td>\n",
    "<td>직업명</td>\n",
    "</tr>\n",
    "<tr>\n",
    "<td>fake.phone_number()</td>\n",
    "<td>휴대전화 번호</td>\n",
    "</tr>\n",
    "<tr>\n",
    "<td>fake.email()</td>\n",
    "<td>이메일 주소</td>\n",
    "</tr>\n",
    "<tr>\n",
    "<td>fake.user_name()</td>\n",
    "<td>사용자명</td>\n",
    "</tr>\n",
    "<tr>\n",
    "<td>fake.pyint(min_value=0, max_value=100)</td>\n",
    "<td>0부터 100 사이의 임의의 숫자</td>\n",
    "</tr>\n",
    "<tr>\n",
    "<td>fake.ipv4_private()</td>\n",
    "<td>IP 주소</td>\n",
    "</tr>\n",
    "<tr>\n",
    "<td>fake.text()</td>\n",
    "<td>임의의 문장 (한글 임의의 문장은 <code>fake.catch_phrase()</code> 사용)</td>\n",
    "</tr>\n",
    "<tr>\n",
    "<td>fake.color_name()</td>\n",
    "<td>색상명</td>\n",
    "</tr>\n",
    "</tbody>\n",
    "</table>"
   ]
  },
  {
   "cell_type": "code",
   "execution_count": 8,
   "id": "8edef750-7543-4dc7-bc90-319d7b1d0f13",
   "metadata": {
    "tags": []
   },
   "outputs": [
    {
     "name": "stdout",
     "output_type": "stream",
     "text": [
      "-f\n",
      "C:\\Users\\jszxr\\AppData\\Roaming\\jupyter\\runtime\\kernel-4c3ad4ab-0d04-404f-8b17-7973913fbd13.json\n"
     ]
    }
   ],
   "source": [
    "import sys\n",
    "\n",
    "option = sys.argv[1]\n",
    "memo = sys.argv[2]\n",
    "\n",
    "print(option)\n",
    "print(memo)"
   ]
  },
  {
   "cell_type": "code",
   "execution_count": 9,
   "id": "3896dfa5-4a24-4e82-a9b4-40e85d199102",
   "metadata": {
    "tags": []
   },
   "outputs": [],
   "source": [
    "import requests as req\n",
    "from bs4 import BeautifulSoup as bs"
   ]
  },
  {
   "cell_type": "code",
   "execution_count": 13,
   "id": "e366c2cc-3680-41a4-b7b5-97d5b39f1976",
   "metadata": {
    "tags": []
   },
   "outputs": [
    {
     "ename": "SyntaxError",
     "evalue": "'{' was never closed (2208668206.py, line 2)",
     "output_type": "error",
     "traceback": [
      "\u001b[1;36m  Cell \u001b[1;32mIn[13], line 2\u001b[1;36m\u001b[0m\n\u001b[1;33m    headers = {'User-Agent':#네트워크 머리글 안에}\u001b[0m\n\u001b[1;37m              ^\u001b[0m\n\u001b[1;31mSyntaxError\u001b[0m\u001b[1;31m:\u001b[0m '{' was never closed\n"
     ]
    }
   ],
   "source": [
    "url = \"https://www.melon.com/chart/index.htm\"\n",
    "headers = {'User-Agent':#네트워크 머리글 안에}\n",
    "web = req.get(url, headers = headers)\n",
    "soup = bs(web.content, 'html.parser')\n",
    "# print(soup)\n",
    "title = soup.select_one('.wrap_song_info')\n",
    "# atitle = title.select_one('a')\n",
    "# # print(title)\n",
    "# name = title.select_one('.checkEllipsis')\n",
    "# aname = name.select_one('a')\n",
    "# print('1위: ', atitle.text, '/', aname.text)"
   ]
  },
  {
   "cell_type": "code",
   "execution_count": 15,
   "id": "0a9db2e6-7ed4-485e-a116-7745f422dec3",
   "metadata": {
    "tags": []
   },
   "outputs": [
    {
     "name": "stdout",
     "output_type": "stream",
     "text": [
      "<Response [200]>\n"
     ]
    }
   ],
   "source": [
    "url = \"https://www.pknu.ac.kr/main/399?action=view&no=718913\"\n",
    "web = req.get(url)\n",
    "print(web)"
   ]
  },
  {
   "cell_type": "code",
   "execution_count": null,
   "id": "447bebc4-a57d-4316-8d1f-3eda3fa096b2",
   "metadata": {
    "tags": []
   },
   "outputs": [],
   "source": [
    "print(web.text)"
   ]
  },
  {
   "cell_type": "code",
   "execution_count": 17,
   "id": "652a48dc-2524-490c-8c07-d9834e9635ba",
   "metadata": {
    "tags": []
   },
   "outputs": [],
   "source": [
    "soup = bs(web.text, 'html.parser')"
   ]
  },
  {
   "cell_type": "code",
   "execution_count": 23,
   "id": "a8d76170-e547-42c9-bab2-e6e0e8ff84e5",
   "metadata": {
    "tags": []
   },
   "outputs": [
    {
     "name": "stdout",
     "output_type": "stream",
     "text": [
      "Monday\n"
     ]
    }
   ],
   "source": [
    "# print(soup)\n",
    "week = soup.select_one('#subCont > div > div.bdvTxt_wrap > div > div > div:nth-child(18) > table > tbody > tr:nth-child(1) > td:nth-child(2) > p > span')\n",
    "print(week.text)"
   ]
  },
  {
   "cell_type": "code",
   "execution_count": 24,
   "id": "f712eca4-2cc7-4243-92ff-bc6b566b15a5",
   "metadata": {
    "tags": []
   },
   "outputs": [
    {
     "name": "stdout",
     "output_type": "stream",
     "text": [
      "['Monday', 'Tuesday', 'Wednesday', 'Thursday', 'Friday']\n"
     ]
    }
   ],
   "source": [
    "week = []\n",
    "for i in range(2,7):\n",
    "    week_data = soup.select_one(f'#subCont > div > div.bdvTxt_wrap > div > div > div:nth-child(18) > table > tbody > tr:nth-child(1) > td:nth-child({i}) > p > span')\n",
    "    week.append(week_data.text)\n",
    "print(week)"
   ]
  },
  {
   "cell_type": "code",
   "execution_count": 27,
   "id": "bd209c44-112e-417a-95e6-623b809e391a",
   "metadata": {
    "tags": []
   },
   "outputs": [
    {
     "name": "stdout",
     "output_type": "stream",
     "text": [
      "['2월 17일', '2월 18일', '2월 19일', '2월 20일', '2월 21일']\n"
     ]
    }
   ],
   "source": [
    "week_day = []\n",
    "for i in range(1,6):\n",
    "    week_day_data = soup.select_one(f'#subCont > div > div.bdvTxt_wrap > div > div > div:nth-child(18) > table > tbody > tr:nth-child(2) > td:nth-child({i}) > p > strong > span')\n",
    "    week_day.append(week_day_data.text)\n",
    "print(week_day)"
   ]
  },
  {
   "cell_type": "code",
   "execution_count": 28,
   "id": "a5642784-5f62-4a90-860a-5d934700a40e",
   "metadata": {
    "tags": []
   },
   "outputs": [],
   "source": [
    "#subCont > div > div.bdvTxt_wrap > div > div > div:nth-child(18) > table > tbody > tr:nth-child(3) > td:nth-child(2) > p:nth-child(2) > span:nth-child(1)\n",
    "#subCont > div > div.bdvTxt_wrap > div > div > div:nth-child(18) > table > tbody > tr:nth-child(3) > td:nth-child(2) > p:nth-child(2) > span:nth-child(3)\n",
    "#subCont > div > div.bdvTxt_wrap > div > div > div:nth-child(18) > table > tbody > tr:nth-child(3) > td:nth-child(2) > p:nth-child(3) > span\n",
    "#subCont > div > div.bdvTxt_wrap > div > div > div:nth-child(18) > table > tbody > tr:nth-child(3) > td:nth-child(2) > p:nth-child(11) > span\n",
    "\n",
    "#subCont > div > div.bdvTxt_wrap > div > div > div:nth-child(18) > table > tbody > tr:nth-child(3) > td:nth-child(3) > p:nth-child(1) > span:nth-child(2)\n",
    "#subCont > div > div.bdvTxt_wrap > div > div > div:nth-child(18) > table > tbody > tr:nth-child(3) > td:nth-child(3) > p:nth-child(1) > span:nth-child(4)"
   ]
  },
  {
   "cell_type": "code",
   "execution_count": 49,
   "id": "e4b0cce6-5f72-4350-a492-bb0d7f8db730",
   "metadata": {
    "tags": []
   },
   "outputs": [
    {
     "name": "stdout",
     "output_type": "stream",
     "text": [
      "['흑미밥', '곤약탕국', '깐풍육', '볼어묵조림', '해파리냉채', '배추된장무침', '그린샐러드', '키위', '푸실리오일샐러드', '배추김치']\n",
      "['현미밥']\n",
      "['흑미밥', '곤약탕국', '깐풍육', '볼어묵조림', '해파리냉채', '배추된장무침', '그린샐러드', '키위', '푸실리오일샐러드', '배추김치', '현미밥']\n",
      "['흑미밥', '현미밥']\n",
      "['곤약탕국', '깐풍육', '볼어묵조림', '해파리냉채', '배추된장무침', '그린샐러드', '키위', '푸실리오일샐러드', '배추김치']\n"
     ]
    }
   ],
   "source": [
    "ban = []\n",
    "bap = []\n",
    "for i in range(2, 12):\n",
    "    ban_data = soup.select_one(f'#subCont > div > div.bdvTxt_wrap > div > div > div:nth-child(18) > table > tbody > tr:nth-child(3) > td:nth-child(2) > p:nth-child({i}) > span')\n",
    "    ban.append(ban_data.text)\n",
    "for j in range(3,4):\n",
    "    bap_data = soup.select_one(f'#subCont > div > div.bdvTxt_wrap > div > div > div:nth-child(18) > table > tbody > tr:nth-child(3) > td:nth-child(2) > p:nth-child(2) > span:nth-child({j})')\n",
    "    bap.append(bap_data.text)\n",
    "        \n",
    "print(ban)\n",
    "print(bap)\n",
    "\n",
    "all = ban + bap\n",
    "print(all)\n",
    "\n",
    "bap_lst = [item for item in all if \"밥\" in item]\n",
    "print(bap_lst)\n",
    "ban_lst = [item for item in all if not \"밥\" in item]\n",
    "print(ban_lst)"
   ]
  },
  {
   "cell_type": "code",
   "execution_count": 70,
   "id": "fe5699ad-39d5-43ee-ba40-75e459d55844",
   "metadata": {
    "tags": []
   },
   "outputs": [],
   "source": [
    "import pandas as pd\n",
    "df = pd.DataFrame({\n",
    "    \"요일\" : week,\n",
    "    \"날짜\" : week_day,\n",
    "})"
   ]
  },
  {
   "cell_type": "code",
   "execution_count": 71,
   "id": "1b20bb03-971f-4ff1-bd4f-075f380d041e",
   "metadata": {
    "tags": []
   },
   "outputs": [],
   "source": [
    "df.index = range(1, len(df) + 1)"
   ]
  },
  {
   "cell_type": "code",
   "execution_count": 72,
   "id": "1b402beb-f9b1-44ca-95a0-9308032fc35c",
   "metadata": {
    "tags": []
   },
   "outputs": [
    {
     "data": {
      "text/html": [
       "<div>\n",
       "<style scoped>\n",
       "    .dataframe tbody tr th:only-of-type {\n",
       "        vertical-align: middle;\n",
       "    }\n",
       "\n",
       "    .dataframe tbody tr th {\n",
       "        vertical-align: top;\n",
       "    }\n",
       "\n",
       "    .dataframe thead th {\n",
       "        text-align: right;\n",
       "    }\n",
       "</style>\n",
       "<table border=\"1\" class=\"dataframe\">\n",
       "  <thead>\n",
       "    <tr style=\"text-align: right;\">\n",
       "      <th></th>\n",
       "      <th>요일</th>\n",
       "      <th>날짜</th>\n",
       "    </tr>\n",
       "  </thead>\n",
       "  <tbody>\n",
       "    <tr>\n",
       "      <th>1</th>\n",
       "      <td>Monday</td>\n",
       "      <td>2월 17일</td>\n",
       "    </tr>\n",
       "    <tr>\n",
       "      <th>2</th>\n",
       "      <td>Tuesday</td>\n",
       "      <td>2월 18일</td>\n",
       "    </tr>\n",
       "    <tr>\n",
       "      <th>3</th>\n",
       "      <td>Wednesday</td>\n",
       "      <td>2월 19일</td>\n",
       "    </tr>\n",
       "    <tr>\n",
       "      <th>4</th>\n",
       "      <td>Thursday</td>\n",
       "      <td>2월 20일</td>\n",
       "    </tr>\n",
       "    <tr>\n",
       "      <th>5</th>\n",
       "      <td>Friday</td>\n",
       "      <td>2월 21일</td>\n",
       "    </tr>\n",
       "  </tbody>\n",
       "</table>\n",
       "</div>"
      ],
      "text/plain": [
       "          요일      날짜\n",
       "1     Monday  2월 17일\n",
       "2    Tuesday  2월 18일\n",
       "3  Wednesday  2월 19일\n",
       "4   Thursday  2월 20일\n",
       "5     Friday  2월 21일"
      ]
     },
     "execution_count": 72,
     "metadata": {},
     "output_type": "execute_result"
    }
   ],
   "source": [
    "df"
   ]
  },
  {
   "cell_type": "code",
   "execution_count": 73,
   "id": "b3eb0eb6-3941-4499-bda0-4da74d16964f",
   "metadata": {
    "tags": []
   },
   "outputs": [],
   "source": [
    "df = df.T"
   ]
  },
  {
   "cell_type": "code",
   "execution_count": 74,
   "id": "8a35a919-d2f8-4871-a1b7-72b2b16f9aa1",
   "metadata": {
    "tags": []
   },
   "outputs": [
    {
     "data": {
      "text/html": [
       "<div>\n",
       "<style scoped>\n",
       "    .dataframe tbody tr th:only-of-type {\n",
       "        vertical-align: middle;\n",
       "    }\n",
       "\n",
       "    .dataframe tbody tr th {\n",
       "        vertical-align: top;\n",
       "    }\n",
       "\n",
       "    .dataframe thead th {\n",
       "        text-align: right;\n",
       "    }\n",
       "</style>\n",
       "<table border=\"1\" class=\"dataframe\">\n",
       "  <thead>\n",
       "    <tr style=\"text-align: right;\">\n",
       "      <th></th>\n",
       "      <th>1</th>\n",
       "      <th>2</th>\n",
       "      <th>3</th>\n",
       "      <th>4</th>\n",
       "      <th>5</th>\n",
       "    </tr>\n",
       "  </thead>\n",
       "  <tbody>\n",
       "    <tr>\n",
       "      <th>요일</th>\n",
       "      <td>Monday</td>\n",
       "      <td>Tuesday</td>\n",
       "      <td>Wednesday</td>\n",
       "      <td>Thursday</td>\n",
       "      <td>Friday</td>\n",
       "    </tr>\n",
       "    <tr>\n",
       "      <th>날짜</th>\n",
       "      <td>2월 17일</td>\n",
       "      <td>2월 18일</td>\n",
       "      <td>2월 19일</td>\n",
       "      <td>2월 20일</td>\n",
       "      <td>2월 21일</td>\n",
       "    </tr>\n",
       "  </tbody>\n",
       "</table>\n",
       "</div>"
      ],
      "text/plain": [
       "         1        2          3         4       5\n",
       "요일  Monday  Tuesday  Wednesday  Thursday  Friday\n",
       "날짜  2월 17일   2월 18일     2월 19일    2월 20일  2월 21일"
      ]
     },
     "execution_count": 74,
     "metadata": {},
     "output_type": "execute_result"
    }
   ],
   "source": [
    "df"
   ]
  },
  {
   "cell_type": "code",
   "execution_count": 96,
   "id": "34695258-c57e-4a2d-9bf0-a6f918db500d",
   "metadata": {
    "tags": []
   },
   "outputs": [
    {
     "name": "stdout",
     "output_type": "stream",
     "text": [
      "['곤약탕국', '깐풍육', '볼어묵조림', '해파리냉채', '배추된장무침', '그린샐러드', '키위', '푸실리오일샐러드', '배추김치']\n",
      "['시락국', '돈육볶음', '버섯고추장구이', '알감자조림', '호박나물', '그린샐러드', '흑임자', '콘슬로우샐러드', '깍두기']\n",
      "['조갯살미역국', '돈육김치찜', '순대볶음', '무생채', '시래기조림', '그린샐러드', '석류', '펜네샐러드', '베추김치']\n",
      "['달걀국', '닭볶음', '야채고로케', '오이지무침', '우엉채조림', '그린샐러드', '참깨', '마카로니샐러드', '깍두기']\n",
      "['유부비빔밥', '우동국물', '생선까스', '쫄면야채무침', '단무지무침', '산고추오이피클', '야구르트', '그린샐러드', '딸기', '배추김치']\n"
     ]
    }
   ],
   "source": [
    "ban = []\n",
    "for i in range(3, 12):\n",
    "    ban_data = soup.select_one(f'#subCont > div > div.bdvTxt_wrap > div > div > div:nth-child(18) > table > tbody > tr:nth-child(3) > td:nth-child(2) > p:nth-child({i}) > span')\n",
    "    ban.append(ban_data.text)\n",
    "print(ban)\n",
    "\n",
    "ban1 = []\n",
    "for i in range(2, 11):\n",
    "    ban_data1 = soup.select_one(f'#subCont > div > div.bdvTxt_wrap > div > div > div:nth-child(18) > table > tbody > tr:nth-child(3) > td:nth-child(3) > p:nth-child({i}) > span')\n",
    "    ban1.append(ban_data1.text)\n",
    "    \n",
    "print(ban1)\n",
    "\n",
    "ban2 = []\n",
    "for i in range(2, 11):\n",
    "    ban_data2 = soup.select_one(f'#subCont > div > div.bdvTxt_wrap > div > div > div:nth-child(18) > table > tbody > tr:nth-child(3) > td:nth-child(4) > p:nth-child({i}) > span')\n",
    "    ban2.append(ban_data2.text)\n",
    "print(ban2)\n",
    "\n",
    "ban3 = []\n",
    "for i in range(3, 12):\n",
    "    ban_data3 = soup.select_one(f'#subCont > div > div.bdvTxt_wrap > div > div > div:nth-child(18) > table > tbody > tr:nth-child(3) > td:nth-child(5) > p:nth-child({i}) > span')\n",
    "    ban3.append(ban_data3.text)\n",
    "print(ban3)\n",
    "\n",
    "ban4 = []\n",
    "bap4 = []\n",
    "for i in range(1, 12):\n",
    "    ban_data4 = soup.select_one(f'#subCont > div > div.bdvTxt_wrap > div > div > div:nth-child(18) > table > tbody > tr:nth-child(3) > td:nth-child(6) > p:nth-child({i}) > span')\n",
    "    if ban_data4 :\n",
    "        ban4.append(ban_data4.text)\n",
    "    else : \n",
    "        pass\n",
    "print(ban4)\n"
   ]
  },
  {
   "cell_type": "code",
   "execution_count": 75,
   "id": "d41685a2-3e54-4fa7-9f3a-559da5141423",
   "metadata": {
    "tags": []
   },
   "outputs": [],
   "source": [
    "#subCont > div > div.bdvTxt_wrap > div > div > div:nth-child(18) > table > tbody > tr:nth-child(3) > td:nth-child(3) > p:nth-child(2) > span\n",
    "#subCont > div > div.bdvTxt_wrap > div > div > div:nth-child(18) > table > tbody > tr:nth-child(3) > td:nth-child(3) > p:nth-child(3) > span\n",
    "#subCont > div > div.bdvTxt_wrap > div > div > div:nth-child(18) > table > tbody > tr:nth-child(3) > td:nth-child(3) > p:nth-child(10) > span\n",
    "\n",
    "#subCont > div > div.bdvTxt_wrap > div > div > div:nth-child(18) > table > tbody > tr:nth-child(3) > td:nth-child(6) > p:nth-child(1) > span"
   ]
  },
  {
   "cell_type": "code",
   "execution_count": 83,
   "id": "b65e1d0f-61f8-4cb5-9d60-2be33fee8d52",
   "metadata": {
    "tags": []
   },
   "outputs": [
    {
     "name": "stdout",
     "output_type": "stream",
     "text": [
      "['흑미밥/현미밥', '흑미밥/현미밥', '흑미밥/현미밥', '흑미밥/현미밥']\n"
     ]
    }
   ],
   "source": [
    "mon_bap = [bap_lst[0]]*4\n",
    "print(mon_bap)\n",
    "mon_bap.append(ban4[0])\n"
   ]
  },
  {
   "cell_type": "code",
   "execution_count": 84,
   "id": "e3a29540-c287-4645-ba78-42fa6af98eba",
   "metadata": {
    "tags": []
   },
   "outputs": [
    {
     "name": "stdout",
     "output_type": "stream",
     "text": [
      "['흑미밥/현미밥', '흑미밥/현미밥', '흑미밥/현미밥', '흑미밥/현미밥', '유부비빔밥']\n"
     ]
    }
   ],
   "source": [
    "print(mon_bap)"
   ]
  },
  {
   "cell_type": "code",
   "execution_count": 103,
   "id": "1ab355a0-bb50-4f32-bbc9-70fcb631803e",
   "metadata": {
    "tags": []
   },
   "outputs": [
    {
     "name": "stdout",
     "output_type": "stream",
     "text": [
      "['곤약탕국, 깐풍육, 볼어묵조림, 해파리냉채, 배추된장무침, 그린샐러드, 키위, 푸실리오일샐러드, 배추김치', '시락국, 돈육볶음, 버섯고추장구이, 알감자조림, 호박나물, 그린샐러드, 흑임자, 콘슬로우샐러드, 깍두기', '조갯살미역국, 돈육김치찜, 순대볶음, 무생채, 시래기조림, 그린샐러드, 석류, 펜네샐러드, 베추김치', '달걀국, 닭볶음, 야채고로케, 오이지무침, 우엉채조림, 그린샐러드, 참깨, 마카로니샐러드, 깍두기', '우동국물, 생선까스, 쫄면야채무침, 단무지무침, 산고추오이피클, 야구르트, 그린샐러드, 딸기, 배추김치']\n"
     ]
    }
   ],
   "source": [
    "ban_lst = [\", \".join(ban) for ban in [ban, ban1, ban2, ban3, ban4[1:]]]\n",
    "print(ban_lst)"
   ]
  },
  {
   "cell_type": "code",
   "execution_count": 104,
   "id": "546cbe71-d7dc-401a-8fca-40189b539ed5",
   "metadata": {
    "tags": []
   },
   "outputs": [
    {
     "name": "stdout",
     "output_type": "stream",
     "text": [
      "          요일      날짜        밥  \\\n",
      "0     Monday  2월 17일  흑미밥/현미밥   \n",
      "1    Tuesday  2월 18일  흑미밥/현미밥   \n",
      "2  Wednesday  2월 19일  흑미밥/현미밥   \n",
      "3   Thursday  2월 20일  흑미밥/현미밥   \n",
      "4     Friday  2월 21일    유부비빔밥   \n",
      "\n",
      "                                                  반찬  \n",
      "0  곤약탕국, 깐풍육, 볼어묵조림, 해파리냉채, 배추된장무침, 그린샐러드, 키위, 푸실...  \n",
      "1  시락국, 돈육볶음, 버섯고추장구이, 알감자조림, 호박나물, 그린샐러드, 흑임자, 콘...  \n",
      "2  조갯살미역국, 돈육김치찜, 순대볶음, 무생채, 시래기조림, 그린샐러드, 석류, 펜네...  \n",
      "3  달걀국, 닭볶음, 야채고로케, 오이지무침, 우엉채조림, 그린샐러드, 참깨, 마카로니...  \n",
      "4  우동국물, 생선까스, 쫄면야채무침, 단무지무침, 산고추오이피클, 야구르트, 그린샐러...  \n"
     ]
    }
   ],
   "source": [
    "df = pd.DataFrame({\n",
    "    \"요일\": week,\n",
    "    \"날짜\": week_day,\n",
    "    \"밥\": mon_bap, \n",
    "    \"반찬\": ban_lst\n",
    "})\n",
    "\n",
    "print(df)"
   ]
  },
  {
   "cell_type": "code",
   "execution_count": 101,
   "id": "b3bfc15f-ad75-4c2c-883b-25074f2796bc",
   "metadata": {
    "tags": []
   },
   "outputs": [],
   "source": [
    "ban_lst = [\", \".join(ban_lst)] + [\", \".join(ban) for ban in [ban, ban1, ban2, ban3, ban4[1:]]]"
   ]
  },
  {
   "cell_type": "code",
   "execution_count": 105,
   "id": "25b08cd4-7d8c-4c6d-a1c4-ab93d9494813",
   "metadata": {
    "tags": []
   },
   "outputs": [
    {
     "data": {
      "text/html": [
       "<div>\n",
       "<style scoped>\n",
       "    .dataframe tbody tr th:only-of-type {\n",
       "        vertical-align: middle;\n",
       "    }\n",
       "\n",
       "    .dataframe tbody tr th {\n",
       "        vertical-align: top;\n",
       "    }\n",
       "\n",
       "    .dataframe thead th {\n",
       "        text-align: right;\n",
       "    }\n",
       "</style>\n",
       "<table border=\"1\" class=\"dataframe\">\n",
       "  <thead>\n",
       "    <tr style=\"text-align: right;\">\n",
       "      <th></th>\n",
       "      <th>0</th>\n",
       "      <th>1</th>\n",
       "      <th>2</th>\n",
       "      <th>3</th>\n",
       "      <th>4</th>\n",
       "    </tr>\n",
       "  </thead>\n",
       "  <tbody>\n",
       "    <tr>\n",
       "      <th>요일</th>\n",
       "      <td>Monday</td>\n",
       "      <td>Tuesday</td>\n",
       "      <td>Wednesday</td>\n",
       "      <td>Thursday</td>\n",
       "      <td>Friday</td>\n",
       "    </tr>\n",
       "    <tr>\n",
       "      <th>날짜</th>\n",
       "      <td>2월 17일</td>\n",
       "      <td>2월 18일</td>\n",
       "      <td>2월 19일</td>\n",
       "      <td>2월 20일</td>\n",
       "      <td>2월 21일</td>\n",
       "    </tr>\n",
       "    <tr>\n",
       "      <th>밥</th>\n",
       "      <td>흑미밥/현미밥</td>\n",
       "      <td>흑미밥/현미밥</td>\n",
       "      <td>흑미밥/현미밥</td>\n",
       "      <td>흑미밥/현미밥</td>\n",
       "      <td>유부비빔밥</td>\n",
       "    </tr>\n",
       "    <tr>\n",
       "      <th>반찬</th>\n",
       "      <td>곤약탕국, 깐풍육, 볼어묵조림, 해파리냉채, 배추된장무침, 그린샐러드, 키위, 푸실...</td>\n",
       "      <td>시락국, 돈육볶음, 버섯고추장구이, 알감자조림, 호박나물, 그린샐러드, 흑임자, 콘...</td>\n",
       "      <td>조갯살미역국, 돈육김치찜, 순대볶음, 무생채, 시래기조림, 그린샐러드, 석류, 펜네...</td>\n",
       "      <td>달걀국, 닭볶음, 야채고로케, 오이지무침, 우엉채조림, 그린샐러드, 참깨, 마카로니...</td>\n",
       "      <td>우동국물, 생선까스, 쫄면야채무침, 단무지무침, 산고추오이피클, 야구르트, 그린샐러...</td>\n",
       "    </tr>\n",
       "  </tbody>\n",
       "</table>\n",
       "</div>"
      ],
      "text/plain": [
       "                                                    0  \\\n",
       "요일                                             Monday   \n",
       "날짜                                             2월 17일   \n",
       "밥                                             흑미밥/현미밥   \n",
       "반찬  곤약탕국, 깐풍육, 볼어묵조림, 해파리냉채, 배추된장무침, 그린샐러드, 키위, 푸실...   \n",
       "\n",
       "                                                    1  \\\n",
       "요일                                            Tuesday   \n",
       "날짜                                             2월 18일   \n",
       "밥                                             흑미밥/현미밥   \n",
       "반찬  시락국, 돈육볶음, 버섯고추장구이, 알감자조림, 호박나물, 그린샐러드, 흑임자, 콘...   \n",
       "\n",
       "                                                    2  \\\n",
       "요일                                          Wednesday   \n",
       "날짜                                             2월 19일   \n",
       "밥                                             흑미밥/현미밥   \n",
       "반찬  조갯살미역국, 돈육김치찜, 순대볶음, 무생채, 시래기조림, 그린샐러드, 석류, 펜네...   \n",
       "\n",
       "                                                    3  \\\n",
       "요일                                           Thursday   \n",
       "날짜                                             2월 20일   \n",
       "밥                                             흑미밥/현미밥   \n",
       "반찬  달걀국, 닭볶음, 야채고로케, 오이지무침, 우엉채조림, 그린샐러드, 참깨, 마카로니...   \n",
       "\n",
       "                                                    4  \n",
       "요일                                             Friday  \n",
       "날짜                                             2월 21일  \n",
       "밥                                               유부비빔밥  \n",
       "반찬  우동국물, 생선까스, 쫄면야채무침, 단무지무침, 산고추오이피클, 야구르트, 그린샐러...  "
      ]
     },
     "execution_count": 105,
     "metadata": {},
     "output_type": "execute_result"
    }
   ],
   "source": [
    "df.T"
   ]
  },
  {
   "cell_type": "code",
   "execution_count": null,
   "id": "70bfbe14-8cca-4908-93fb-72a705f93465",
   "metadata": {},
   "outputs": [],
   "source": []
  }
 ],
 "metadata": {
  "kernelspec": {
   "display_name": "Python 3 (ipykernel)",
   "language": "python",
   "name": "python3"
  },
  "language_info": {
   "codemirror_mode": {
    "name": "ipython",
    "version": 3
   },
   "file_extension": ".py",
   "mimetype": "text/x-python",
   "name": "python",
   "nbconvert_exporter": "python",
   "pygments_lexer": "ipython3",
   "version": "3.11.5"
  },
  "toc-autonumbering": true
 },
 "nbformat": 4,
 "nbformat_minor": 5
}
