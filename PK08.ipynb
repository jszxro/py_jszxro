{
 "cells": [
  {
   "cell_type": "markdown",
   "id": "96f08fed-322c-446d-9f50-a4f362914577",
   "metadata": {},
   "source": [
    "# 외부 라이브러리"
   ]
  },
  {
   "cell_type": "markdown",
   "id": "3b161f20-b47a-42bd-8dd3-c7e9bfe050ec",
   "metadata": {},
   "source": [
    "## pip *"
   ]
  },
  {
   "cell_type": "markdown",
   "id": "b4811021-9583-44fd-850c-74047b69eaa5",
   "metadata": {
    "tags": []
   },
   "source": [
    "## Faker"
   ]
  },
  {
   "cell_type": "code",
   "execution_count": 2,
   "id": "c4738224-9209-4630-8c79-1d6ec22d4b50",
   "metadata": {
    "tags": []
   },
   "outputs": [
    {
     "name": "stdout",
     "output_type": "stream",
     "text": [
      "Collecting Faker\n",
      "  Downloading Faker-36.1.1-py3-none-any.whl.metadata (15 kB)\n",
      "Requirement already satisfied: tzdata in c:\\users\\jszxr\\anaconda3\\lib\\site-packages (from Faker) (2023.3)\n",
      "Downloading Faker-36.1.1-py3-none-any.whl (1.9 MB)\n",
      "   ---------------------------------------- 0.0/1.9 MB ? eta -:--:--\n",
      "   ---------------------------------------- 1.9/1.9 MB 26.3 MB/s eta 0:00:00\n",
      "Installing collected packages: Faker\n",
      "Successfully installed Faker-36.1.1\n"
     ]
    }
   ],
   "source": [
    "!pip install Faker"
   ]
  },
  {
   "cell_type": "code",
   "execution_count": 7,
   "id": "868ea70f-70c5-4000-bf9f-84287a2e4234",
   "metadata": {
    "tags": []
   },
   "outputs": [
    {
     "data": {
      "text/plain": [
       "{'name': '김선영', 'company': '최김한'}"
      ]
     },
     "execution_count": 7,
     "metadata": {},
     "output_type": "execute_result"
    }
   ],
   "source": [
    "from faker import Faker\n",
    "fake = Faker('ko-KR')\n",
    "{'name':fake.name(), 'company':fake.company()}"
   ]
  },
  {
   "cell_type": "markdown",
   "id": "779cc194-9be9-4613-a227-1ccb345a2138",
   "metadata": {
    "tags": []
   },
   "source": [
    "<table style=\"float:left;width:400px\">\n",
    "<thead>\n",
    "<tr>\n",
    "<th>항목</th>\n",
    "<th>설명</th>\n",
    "</tr>\n",
    "</thead>\n",
    "<tbody>\n",
    "<tr>\n",
    "<td>fake.name()</td>\n",
    "<td>이름</td>\n",
    "</tr>\n",
    "<tr>\n",
    "<td>fake.address()</td>\n",
    "<td>주소</td>\n",
    "</tr>\n",
    "<tr>\n",
    "<td>fake.postcode()</td>\n",
    "<td>우편 번호</td>\n",
    "</tr>\n",
    "<tr>\n",
    "<td>fake.country()</td>\n",
    "<td>국가명</td>\n",
    "</tr>\n",
    "<tr>\n",
    "<td>fake.company()</td>\n",
    "<td>회사명</td>\n",
    "</tr>\n",
    "<tr>\n",
    "<td>fake.job()</td>\n",
    "<td>직업명</td>\n",
    "</tr>\n",
    "<tr>\n",
    "<td>fake.phone_number()</td>\n",
    "<td>휴대전화 번호</td>\n",
    "</tr>\n",
    "<tr>\n",
    "<td>fake.email()</td>\n",
    "<td>이메일 주소</td>\n",
    "</tr>\n",
    "<tr>\n",
    "<td>fake.user_name()</td>\n",
    "<td>사용자명</td>\n",
    "</tr>\n",
    "<tr>\n",
    "<td>fake.pyint(min_value=0, max_value=100)</td>\n",
    "<td>0부터 100 사이의 임의의 숫자</td>\n",
    "</tr>\n",
    "<tr>\n",
    "<td>fake.ipv4_private()</td>\n",
    "<td>IP 주소</td>\n",
    "</tr>\n",
    "<tr>\n",
    "<td>fake.text()</td>\n",
    "<td>임의의 문장 (한글 임의의 문장은 <code>fake.catch_phrase()</code> 사용)</td>\n",
    "</tr>\n",
    "<tr>\n",
    "<td>fake.color_name()</td>\n",
    "<td>색상명</td>\n",
    "</tr>\n",
    "</tbody>\n",
    "</table>"
   ]
  },
  {
   "cell_type": "code",
   "execution_count": 8,
   "id": "8edef750-7543-4dc7-bc90-319d7b1d0f13",
   "metadata": {
    "tags": []
   },
   "outputs": [
    {
     "name": "stdout",
     "output_type": "stream",
     "text": [
      "-f\n",
      "C:\\Users\\jszxr\\AppData\\Roaming\\jupyter\\runtime\\kernel-4c3ad4ab-0d04-404f-8b17-7973913fbd13.json\n"
     ]
    }
   ],
   "source": [
    "import sys\n",
    "\n",
    "option = sys.argv[1]\n",
    "memo = sys.argv[2]\n",
    "\n",
    "print(option)\n",
    "print(memo)"
   ]
  },
  {
   "cell_type": "code",
   "execution_count": 9,
   "id": "3896dfa5-4a24-4e82-a9b4-40e85d199102",
   "metadata": {
    "tags": []
   },
   "outputs": [],
   "source": [
    "import requests as req\n",
    "from bs4 import BeautifulSoup as bs"
   ]
  },
  {
   "cell_type": "code",
   "execution_count": 13,
   "id": "e366c2cc-3680-41a4-b7b5-97d5b39f1976",
   "metadata": {
    "tags": []
   },
   "outputs": [
    {
     "ename": "SyntaxError",
     "evalue": "'{' was never closed (2208668206.py, line 2)",
     "output_type": "error",
     "traceback": [
      "\u001b[1;36m  Cell \u001b[1;32mIn[13], line 2\u001b[1;36m\u001b[0m\n\u001b[1;33m    headers = {'User-Agent':#네트워크 머리글 안에}\u001b[0m\n\u001b[1;37m              ^\u001b[0m\n\u001b[1;31mSyntaxError\u001b[0m\u001b[1;31m:\u001b[0m '{' was never closed\n"
     ]
    }
   ],
   "source": [
    "url = \"https://www.melon.com/chart/index.htm\"\n",
    "headers = {'User-Agent':#네트워크 머리글 안에}\n",
    "web = req.get(url, headers = headers)\n",
    "soup = bs(web.content, 'html.parser')\n",
    "# print(soup)\n",
    "title = soup.select_one('.wrap_song_info')\n",
    "# atitle = title.select_one('a')\n",
    "# # print(title)\n",
    "# name = title.select_one('.checkEllipsis')\n",
    "# aname = name.select_one('a')\n",
    "# print('1위: ', atitle.text, '/', aname.text)"
   ]
  },
  {
   "cell_type": "code",
   "execution_count": 15,
   "id": "0a9db2e6-7ed4-485e-a116-7745f422dec3",
   "metadata": {
    "tags": []
   },
   "outputs": [
    {
     "name": "stdout",
     "output_type": "stream",
     "text": [
      "<Response [200]>\n"
     ]
    }
   ],
   "source": [
    "url = \"https://www.pknu.ac.kr/main/399?action=view&no=718913\"\n",
    "web = req.get(url)\n",
    "print(web)"
   ]
  },
  {
   "cell_type": "code",
   "execution_count": null,
   "id": "447bebc4-a57d-4316-8d1f-3eda3fa096b2",
   "metadata": {
    "tags": []
   },
   "outputs": [],
   "source": [
    "print(web.text)"
   ]
  },
  {
   "cell_type": "code",
   "execution_count": 17,
   "id": "652a48dc-2524-490c-8c07-d9834e9635ba",
   "metadata": {
    "tags": []
   },
   "outputs": [],
   "source": [
    "soup = bs(web.text, 'html.parser')"
   ]
  },
  {
   "cell_type": "code",
   "execution_count": 23,
   "id": "a8d76170-e547-42c9-bab2-e6e0e8ff84e5",
   "metadata": {
    "tags": []
   },
   "outputs": [
    {
     "name": "stdout",
     "output_type": "stream",
     "text": [
      "Monday\n"
     ]
    }
   ],
   "source": [
    "# print(soup)\n",
    "week = soup.select_one('#subCont > div > div.bdvTxt_wrap > div > div > div:nth-child(18) > table > tbody > tr:nth-child(1) > td:nth-child(2) > p > span')\n",
    "print(week.text)"
   ]
  },
  {
   "cell_type": "code",
   "execution_count": 24,
   "id": "f712eca4-2cc7-4243-92ff-bc6b566b15a5",
   "metadata": {
    "tags": []
   },
   "outputs": [
    {
     "name": "stdout",
     "output_type": "stream",
     "text": [
      "['Monday', 'Tuesday', 'Wednesday', 'Thursday', 'Friday']\n"
     ]
    }
   ],
   "source": [
    "week = []\n",
    "for i in range(2,7):\n",
    "    week_data = soup.select_one(f'#subCont > div > div.bdvTxt_wrap > div > div > div:nth-child(18) > table > tbody > tr:nth-child(1) > td:nth-child({i}) > p > span')\n",
    "    week.append(week_data.text)\n",
    "print(week)"
   ]
  },
  {
   "cell_type": "code",
   "execution_count": 27,
   "id": "bd209c44-112e-417a-95e6-623b809e391a",
   "metadata": {
    "tags": []
   },
   "outputs": [
    {
     "name": "stdout",
     "output_type": "stream",
     "text": [
      "['2월 17일', '2월 18일', '2월 19일', '2월 20일', '2월 21일']\n"
     ]
    }
   ],
   "source": [
    "week_day = []\n",
    "for i in range(1,6):\n",
    "    week_day_data = soup.select_one(f'#subCont > div > div.bdvTxt_wrap > div > div > div:nth-child(18) > table > tbody > tr:nth-child(2) > td:nth-child({i}) > p > strong > span')\n",
    "    week_day.append(week_day_data.text)\n",
    "print(week_day)"
   ]
  },
  {
   "cell_type": "code",
   "execution_count": 28,
   "id": "a5642784-5f62-4a90-860a-5d934700a40e",
   "metadata": {
    "tags": []
   },
   "outputs": [],
   "source": [
    "#subCont > div > div.bdvTxt_wrap > div > div > div:nth-child(18) > table > tbody > tr:nth-child(3) > td:nth-child(2) > p:nth-child(2) > span:nth-child(1)\n",
    "#subCont > div > div.bdvTxt_wrap > div > div > div:nth-child(18) > table > tbody > tr:nth-child(3) > td:nth-child(2) > p:nth-child(2) > span:nth-child(3)\n",
    "#subCont > div > div.bdvTxt_wrap > div > div > div:nth-child(18) > table > tbody > tr:nth-child(3) > td:nth-child(2) > p:nth-child(3) > span\n",
    "#subCont > div > div.bdvTxt_wrap > div > div > div:nth-child(18) > table > tbody > tr:nth-child(3) > td:nth-child(2) > p:nth-child(11) > span\n",
    "\n",
    "#subCont > div > div.bdvTxt_wrap > div > div > div:nth-child(18) > table > tbody > tr:nth-child(3) > td:nth-child(3) > p:nth-child(1) > span:nth-child(2)\n",
    "#subCont > div > div.bdvTxt_wrap > div > div > div:nth-child(18) > table > tbody > tr:nth-child(3) > td:nth-child(3) > p:nth-child(1) > span:nth-child(4)"
   ]
  },
  {
   "cell_type": "code",
   "execution_count": 49,
   "id": "e4b0cce6-5f72-4350-a492-bb0d7f8db730",
   "metadata": {
    "tags": []
   },
   "outputs": [
    {
     "name": "stdout",
     "output_type": "stream",
     "text": [
      "['흑미밥', '곤약탕국', '깐풍육', '볼어묵조림', '해파리냉채', '배추된장무침', '그린샐러드', '키위', '푸실리오일샐러드', '배추김치']\n",
      "['현미밥']\n",
      "['흑미밥', '곤약탕국', '깐풍육', '볼어묵조림', '해파리냉채', '배추된장무침', '그린샐러드', '키위', '푸실리오일샐러드', '배추김치', '현미밥']\n",
      "['흑미밥', '현미밥']\n",
      "['곤약탕국', '깐풍육', '볼어묵조림', '해파리냉채', '배추된장무침', '그린샐러드', '키위', '푸실리오일샐러드', '배추김치']\n"
     ]
    }
   ],
   "source": [
    "ban = []\n",
    "bap = []\n",
    "for i in range(2, 12):\n",
    "    ban_data = soup.select_one(f'#subCont > div > div.bdvTxt_wrap > div > div > div:nth-child(18) > table > tbody > tr:nth-child(3) > td:nth-child(2) > p:nth-child({i}) > span')\n",
    "    ban.append(ban_data.text)\n",
    "for j in range(3,4):\n",
    "    bap_data = soup.select_one(f'#subCont > div > div.bdvTxt_wrap > div > div > div:nth-child(18) > table > tbody > tr:nth-child(3) > td:nth-child(2) > p:nth-child(2) > span:nth-child({j})')\n",
    "    bap.append(bap_data.text)\n",
    "        \n",
    "print(ban)\n",
    "print(bap)\n",
    "\n",
    "all = ban + bap\n",
    "print(all)\n",
    "\n",
    "bap_lst = [item for item in all if \"밥\" in item]\n",
    "print(bap_lst)\n",
    "ban_lst = [item for item in all if not \"밥\" in item]\n",
    "print(ban_lst)"
   ]
  },
  {
   "cell_type": "code",
   "execution_count": 70,
   "id": "fe5699ad-39d5-43ee-ba40-75e459d55844",
   "metadata": {
    "tags": []
   },
   "outputs": [],
   "source": [
    "import pandas as pd\n",
    "df = pd.DataFrame({\n",
    "    \"요일\" : week,\n",
    "    \"날짜\" : week_day,\n",
    "})"
   ]
  },
  {
   "cell_type": "code",
   "execution_count": 71,
   "id": "1b20bb03-971f-4ff1-bd4f-075f380d041e",
   "metadata": {
    "tags": []
   },
   "outputs": [],
   "source": [
    "df.index = range(1, len(df) + 1)"
   ]
  },
  {
   "cell_type": "code",
   "execution_count": 72,
   "id": "1b402beb-f9b1-44ca-95a0-9308032fc35c",
   "metadata": {
    "tags": []
   },
   "outputs": [
    {
     "data": {
      "text/html": [
       "<div>\n",
       "<style scoped>\n",
       "    .dataframe tbody tr th:only-of-type {\n",
       "        vertical-align: middle;\n",
       "    }\n",
       "\n",
       "    .dataframe tbody tr th {\n",
       "        vertical-align: top;\n",
       "    }\n",
       "\n",
       "    .dataframe thead th {\n",
       "        text-align: right;\n",
       "    }\n",
       "</style>\n",
       "<table border=\"1\" class=\"dataframe\">\n",
       "  <thead>\n",
       "    <tr style=\"text-align: right;\">\n",
       "      <th></th>\n",
       "      <th>요일</th>\n",
       "      <th>날짜</th>\n",
       "    </tr>\n",
       "  </thead>\n",
       "  <tbody>\n",
       "    <tr>\n",
       "      <th>1</th>\n",
       "      <td>Monday</td>\n",
       "      <td>2월 17일</td>\n",
       "    </tr>\n",
       "    <tr>\n",
       "      <th>2</th>\n",
       "      <td>Tuesday</td>\n",
       "      <td>2월 18일</td>\n",
       "    </tr>\n",
       "    <tr>\n",
       "      <th>3</th>\n",
       "      <td>Wednesday</td>\n",
       "      <td>2월 19일</td>\n",
       "    </tr>\n",
       "    <tr>\n",
       "      <th>4</th>\n",
       "      <td>Thursday</td>\n",
       "      <td>2월 20일</td>\n",
       "    </tr>\n",
       "    <tr>\n",
       "      <th>5</th>\n",
       "      <td>Friday</td>\n",
       "      <td>2월 21일</td>\n",
       "    </tr>\n",
       "  </tbody>\n",
       "</table>\n",
       "</div>"
      ],
      "text/plain": [
       "          요일      날짜\n",
       "1     Monday  2월 17일\n",
       "2    Tuesday  2월 18일\n",
       "3  Wednesday  2월 19일\n",
       "4   Thursday  2월 20일\n",
       "5     Friday  2월 21일"
      ]
     },
     "execution_count": 72,
     "metadata": {},
     "output_type": "execute_result"
    }
   ],
   "source": [
    "df"
   ]
  },
  {
   "cell_type": "code",
   "execution_count": 73,
   "id": "b3eb0eb6-3941-4499-bda0-4da74d16964f",
   "metadata": {
    "tags": []
   },
   "outputs": [],
   "source": [
    "df = df.T"
   ]
  },
  {
   "cell_type": "code",
   "execution_count": 74,
   "id": "8a35a919-d2f8-4871-a1b7-72b2b16f9aa1",
   "metadata": {
    "tags": []
   },
   "outputs": [
    {
     "data": {
      "text/html": [
       "<div>\n",
       "<style scoped>\n",
       "    .dataframe tbody tr th:only-of-type {\n",
       "        vertical-align: middle;\n",
       "    }\n",
       "\n",
       "    .dataframe tbody tr th {\n",
       "        vertical-align: top;\n",
       "    }\n",
       "\n",
       "    .dataframe thead th {\n",
       "        text-align: right;\n",
       "    }\n",
       "</style>\n",
       "<table border=\"1\" class=\"dataframe\">\n",
       "  <thead>\n",
       "    <tr style=\"text-align: right;\">\n",
       "      <th></th>\n",
       "      <th>1</th>\n",
       "      <th>2</th>\n",
       "      <th>3</th>\n",
       "      <th>4</th>\n",
       "      <th>5</th>\n",
       "    </tr>\n",
       "  </thead>\n",
       "  <tbody>\n",
       "    <tr>\n",
       "      <th>요일</th>\n",
       "      <td>Monday</td>\n",
       "      <td>Tuesday</td>\n",
       "      <td>Wednesday</td>\n",
       "      <td>Thursday</td>\n",
       "      <td>Friday</td>\n",
       "    </tr>\n",
       "    <tr>\n",
       "      <th>날짜</th>\n",
       "      <td>2월 17일</td>\n",
       "      <td>2월 18일</td>\n",
       "      <td>2월 19일</td>\n",
       "      <td>2월 20일</td>\n",
       "      <td>2월 21일</td>\n",
       "    </tr>\n",
       "  </tbody>\n",
       "</table>\n",
       "</div>"
      ],
      "text/plain": [
       "         1        2          3         4       5\n",
       "요일  Monday  Tuesday  Wednesday  Thursday  Friday\n",
       "날짜  2월 17일   2월 18일     2월 19일    2월 20일  2월 21일"
      ]
     },
     "execution_count": 74,
     "metadata": {},
     "output_type": "execute_result"
    }
   ],
   "source": [
    "df"
   ]
  },
  {
   "cell_type": "code",
   "execution_count": 96,
   "id": "34695258-c57e-4a2d-9bf0-a6f918db500d",
   "metadata": {
    "tags": []
   },
   "outputs": [
    {
     "name": "stdout",
     "output_type": "stream",
     "text": [
      "['곤약탕국', '깐풍육', '볼어묵조림', '해파리냉채', '배추된장무침', '그린샐러드', '키위', '푸실리오일샐러드', '배추김치']\n",
      "['시락국', '돈육볶음', '버섯고추장구이', '알감자조림', '호박나물', '그린샐러드', '흑임자', '콘슬로우샐러드', '깍두기']\n",
      "['조갯살미역국', '돈육김치찜', '순대볶음', '무생채', '시래기조림', '그린샐러드', '석류', '펜네샐러드', '베추김치']\n",
      "['달걀국', '닭볶음', '야채고로케', '오이지무침', '우엉채조림', '그린샐러드', '참깨', '마카로니샐러드', '깍두기']\n",
      "['유부비빔밥', '우동국물', '생선까스', '쫄면야채무침', '단무지무침', '산고추오이피클', '야구르트', '그린샐러드', '딸기', '배추김치']\n"
     ]
    }
   ],
   "source": [
    "ban = []\n",
    "for i in range(3, 12):\n",
    "    ban_data = soup.select_one(f'#subCont > div > div.bdvTxt_wrap > div > div > div:nth-child(18) > table > tbody > tr:nth-child(3) > td:nth-child(2) > p:nth-child({i}) > span')\n",
    "    ban.append(ban_data.text)\n",
    "print(ban)\n",
    "\n",
    "ban1 = []\n",
    "for i in range(2, 11):\n",
    "    ban_data1 = soup.select_one(f'#subCont > div > div.bdvTxt_wrap > div > div > div:nth-child(18) > table > tbody > tr:nth-child(3) > td:nth-child(3) > p:nth-child({i}) > span')\n",
    "    ban1.append(ban_data1.text)\n",
    "    \n",
    "print(ban1)\n",
    "\n",
    "ban2 = []\n",
    "for i in range(2, 11):\n",
    "    ban_data2 = soup.select_one(f'#subCont > div > div.bdvTxt_wrap > div > div > div:nth-child(18) > table > tbody > tr:nth-child(3) > td:nth-child(4) > p:nth-child({i}) > span')\n",
    "    ban2.append(ban_data2.text)\n",
    "print(ban2)\n",
    "\n",
    "ban3 = []\n",
    "for i in range(3, 12):\n",
    "    ban_data3 = soup.select_one(f'#subCont > div > div.bdvTxt_wrap > div > div > div:nth-child(18) > table > tbody > tr:nth-child(3) > td:nth-child(5) > p:nth-child({i}) > span')\n",
    "    ban3.append(ban_data3.text)\n",
    "print(ban3)\n",
    "\n",
    "ban4 = []\n",
    "bap4 = []\n",
    "for i in range(1, 12):\n",
    "    ban_data4 = soup.select_one(f'#subCont > div > div.bdvTxt_wrap > div > div > div:nth-child(18) > table > tbody > tr:nth-child(3) > td:nth-child(6) > p:nth-child({i}) > span')\n",
    "    if ban_data4 :\n",
    "        ban4.append(ban_data4.text)\n",
    "    else : \n",
    "        pass\n",
    "print(ban4)\n"
   ]
  },
  {
   "cell_type": "code",
   "execution_count": 75,
   "id": "d41685a2-3e54-4fa7-9f3a-559da5141423",
   "metadata": {
    "tags": []
   },
   "outputs": [],
   "source": [
    "#subCont > div > div.bdvTxt_wrap > div > div > div:nth-child(18) > table > tbody > tr:nth-child(3) > td:nth-child(3) > p:nth-child(2) > span\n",
    "#subCont > div > div.bdvTxt_wrap > div > div > div:nth-child(18) > table > tbody > tr:nth-child(3) > td:nth-child(3) > p:nth-child(3) > span\n",
    "#subCont > div > div.bdvTxt_wrap > div > div > div:nth-child(18) > table > tbody > tr:nth-child(3) > td:nth-child(3) > p:nth-child(10) > span\n",
    "\n",
    "#subCont > div > div.bdvTxt_wrap > div > div > div:nth-child(18) > table > tbody > tr:nth-child(3) > td:nth-child(6) > p:nth-child(1) > span"
   ]
  },
  {
   "cell_type": "code",
   "execution_count": 83,
   "id": "b65e1d0f-61f8-4cb5-9d60-2be33fee8d52",
   "metadata": {
    "tags": []
   },
   "outputs": [
    {
     "name": "stdout",
     "output_type": "stream",
     "text": [
      "['흑미밥/현미밥', '흑미밥/현미밥', '흑미밥/현미밥', '흑미밥/현미밥']\n"
     ]
    }
   ],
   "source": [
    "mon_bap = [bap_lst[0]]*4\n",
    "print(mon_bap)\n",
    "mon_bap.append(ban4[0])\n"
   ]
  },
  {
   "cell_type": "code",
   "execution_count": 84,
   "id": "e3a29540-c287-4645-ba78-42fa6af98eba",
   "metadata": {
    "tags": []
   },
   "outputs": [
    {
     "name": "stdout",
     "output_type": "stream",
     "text": [
      "['흑미밥/현미밥', '흑미밥/현미밥', '흑미밥/현미밥', '흑미밥/현미밥', '유부비빔밥']\n"
     ]
    }
   ],
   "source": [
    "print(mon_bap)"
   ]
  },
  {
   "cell_type": "code",
   "execution_count": 103,
   "id": "1ab355a0-bb50-4f32-bbc9-70fcb631803e",
   "metadata": {
    "tags": []
   },
   "outputs": [
    {
     "name": "stdout",
     "output_type": "stream",
     "text": [
      "['곤약탕국, 깐풍육, 볼어묵조림, 해파리냉채, 배추된장무침, 그린샐러드, 키위, 푸실리오일샐러드, 배추김치', '시락국, 돈육볶음, 버섯고추장구이, 알감자조림, 호박나물, 그린샐러드, 흑임자, 콘슬로우샐러드, 깍두기', '조갯살미역국, 돈육김치찜, 순대볶음, 무생채, 시래기조림, 그린샐러드, 석류, 펜네샐러드, 베추김치', '달걀국, 닭볶음, 야채고로케, 오이지무침, 우엉채조림, 그린샐러드, 참깨, 마카로니샐러드, 깍두기', '우동국물, 생선까스, 쫄면야채무침, 단무지무침, 산고추오이피클, 야구르트, 그린샐러드, 딸기, 배추김치']\n"
     ]
    }
   ],
   "source": [
    "ban_lst = [\", \".join(ban) for ban in [ban, ban1, ban2, ban3, ban4[1:]]]\n",
    "print(ban_lst)"
   ]
  },
  {
   "cell_type": "code",
   "execution_count": 104,
   "id": "546cbe71-d7dc-401a-8fca-40189b539ed5",
   "metadata": {
    "tags": []
   },
   "outputs": [
    {
     "name": "stdout",
     "output_type": "stream",
     "text": [
      "          요일      날짜        밥  \\\n",
      "0     Monday  2월 17일  흑미밥/현미밥   \n",
      "1    Tuesday  2월 18일  흑미밥/현미밥   \n",
      "2  Wednesday  2월 19일  흑미밥/현미밥   \n",
      "3   Thursday  2월 20일  흑미밥/현미밥   \n",
      "4     Friday  2월 21일    유부비빔밥   \n",
      "\n",
      "                                                  반찬  \n",
      "0  곤약탕국, 깐풍육, 볼어묵조림, 해파리냉채, 배추된장무침, 그린샐러드, 키위, 푸실...  \n",
      "1  시락국, 돈육볶음, 버섯고추장구이, 알감자조림, 호박나물, 그린샐러드, 흑임자, 콘...  \n",
      "2  조갯살미역국, 돈육김치찜, 순대볶음, 무생채, 시래기조림, 그린샐러드, 석류, 펜네...  \n",
      "3  달걀국, 닭볶음, 야채고로케, 오이지무침, 우엉채조림, 그린샐러드, 참깨, 마카로니...  \n",
      "4  우동국물, 생선까스, 쫄면야채무침, 단무지무침, 산고추오이피클, 야구르트, 그린샐러...  \n"
     ]
    }
   ],
   "source": [
    "df = pd.DataFrame({\n",
    "    \"요일\": week,\n",
    "    \"날짜\": week_day,\n",
    "    \"밥\": mon_bap, \n",
    "    \"반찬\": ban_lst\n",
    "})\n",
    "\n",
    "print(df)"
   ]
  },
  {
   "cell_type": "code",
   "execution_count": 101,
   "id": "b3bfc15f-ad75-4c2c-883b-25074f2796bc",
   "metadata": {
    "tags": []
   },
   "outputs": [],
   "source": [
    "ban_lst = [\", \".join(ban_lst)] + [\", \".join(ban) for ban in [ban, ban1, ban2, ban3, ban4[1:]]]"
   ]
  },
  {
   "cell_type": "code",
   "execution_count": 105,
   "id": "25b08cd4-7d8c-4c6d-a1c4-ab93d9494813",
   "metadata": {
    "tags": []
   },
   "outputs": [
    {
     "data": {
      "text/html": [
       "<div>\n",
       "<style scoped>\n",
       "    .dataframe tbody tr th:only-of-type {\n",
       "        vertical-align: middle;\n",
       "    }\n",
       "\n",
       "    .dataframe tbody tr th {\n",
       "        vertical-align: top;\n",
       "    }\n",
       "\n",
       "    .dataframe thead th {\n",
       "        text-align: right;\n",
       "    }\n",
       "</style>\n",
       "<table border=\"1\" class=\"dataframe\">\n",
       "  <thead>\n",
       "    <tr style=\"text-align: right;\">\n",
       "      <th></th>\n",
       "      <th>0</th>\n",
       "      <th>1</th>\n",
       "      <th>2</th>\n",
       "      <th>3</th>\n",
       "      <th>4</th>\n",
       "    </tr>\n",
       "  </thead>\n",
       "  <tbody>\n",
       "    <tr>\n",
       "      <th>요일</th>\n",
       "      <td>Monday</td>\n",
       "      <td>Tuesday</td>\n",
       "      <td>Wednesday</td>\n",
       "      <td>Thursday</td>\n",
       "      <td>Friday</td>\n",
       "    </tr>\n",
       "    <tr>\n",
       "      <th>날짜</th>\n",
       "      <td>2월 17일</td>\n",
       "      <td>2월 18일</td>\n",
       "      <td>2월 19일</td>\n",
       "      <td>2월 20일</td>\n",
       "      <td>2월 21일</td>\n",
       "    </tr>\n",
       "    <tr>\n",
       "      <th>밥</th>\n",
       "      <td>흑미밥/현미밥</td>\n",
       "      <td>흑미밥/현미밥</td>\n",
       "      <td>흑미밥/현미밥</td>\n",
       "      <td>흑미밥/현미밥</td>\n",
       "      <td>유부비빔밥</td>\n",
       "    </tr>\n",
       "    <tr>\n",
       "      <th>반찬</th>\n",
       "      <td>곤약탕국, 깐풍육, 볼어묵조림, 해파리냉채, 배추된장무침, 그린샐러드, 키위, 푸실...</td>\n",
       "      <td>시락국, 돈육볶음, 버섯고추장구이, 알감자조림, 호박나물, 그린샐러드, 흑임자, 콘...</td>\n",
       "      <td>조갯살미역국, 돈육김치찜, 순대볶음, 무생채, 시래기조림, 그린샐러드, 석류, 펜네...</td>\n",
       "      <td>달걀국, 닭볶음, 야채고로케, 오이지무침, 우엉채조림, 그린샐러드, 참깨, 마카로니...</td>\n",
       "      <td>우동국물, 생선까스, 쫄면야채무침, 단무지무침, 산고추오이피클, 야구르트, 그린샐러...</td>\n",
       "    </tr>\n",
       "  </tbody>\n",
       "</table>\n",
       "</div>"
      ],
      "text/plain": [
       "                                                    0  \\\n",
       "요일                                             Monday   \n",
       "날짜                                             2월 17일   \n",
       "밥                                             흑미밥/현미밥   \n",
       "반찬  곤약탕국, 깐풍육, 볼어묵조림, 해파리냉채, 배추된장무침, 그린샐러드, 키위, 푸실...   \n",
       "\n",
       "                                                    1  \\\n",
       "요일                                            Tuesday   \n",
       "날짜                                             2월 18일   \n",
       "밥                                             흑미밥/현미밥   \n",
       "반찬  시락국, 돈육볶음, 버섯고추장구이, 알감자조림, 호박나물, 그린샐러드, 흑임자, 콘...   \n",
       "\n",
       "                                                    2  \\\n",
       "요일                                          Wednesday   \n",
       "날짜                                             2월 19일   \n",
       "밥                                             흑미밥/현미밥   \n",
       "반찬  조갯살미역국, 돈육김치찜, 순대볶음, 무생채, 시래기조림, 그린샐러드, 석류, 펜네...   \n",
       "\n",
       "                                                    3  \\\n",
       "요일                                           Thursday   \n",
       "날짜                                             2월 20일   \n",
       "밥                                             흑미밥/현미밥   \n",
       "반찬  달걀국, 닭볶음, 야채고로케, 오이지무침, 우엉채조림, 그린샐러드, 참깨, 마카로니...   \n",
       "\n",
       "                                                    4  \n",
       "요일                                             Friday  \n",
       "날짜                                             2월 21일  \n",
       "밥                                               유부비빔밥  \n",
       "반찬  우동국물, 생선까스, 쫄면야채무침, 단무지무침, 산고추오이피클, 야구르트, 그린샐러...  "
      ]
     },
     "execution_count": 105,
     "metadata": {},
     "output_type": "execute_result"
    }
   ],
   "source": [
    "df.T"
   ]
  },
  {
   "cell_type": "code",
   "execution_count": 1,
   "id": "60635dac-c56b-4ee9-901b-8276be2f1acb",
   "metadata": {
    "tags": []
   },
   "outputs": [
    {
     "name": "stdout",
     "output_type": "stream",
     "text": [
      "Collecting python-telegram-bot\n",
      "  Downloading python_telegram_bot-21.10-py3-none-any.whl.metadata (17 kB)\n",
      "Collecting httpx~=0.27 (from python-telegram-bot)\n",
      "  Downloading httpx-0.28.1-py3-none-any.whl.metadata (7.1 kB)\n",
      "Requirement already satisfied: anyio in c:\\users\\jszxr\\anaconda3\\lib\\site-packages (from httpx~=0.27->python-telegram-bot) (3.5.0)\n",
      "Requirement already satisfied: certifi in c:\\users\\jszxr\\anaconda3\\lib\\site-packages (from httpx~=0.27->python-telegram-bot) (2024.12.14)\n",
      "Collecting httpcore==1.* (from httpx~=0.27->python-telegram-bot)\n",
      "  Downloading httpcore-1.0.7-py3-none-any.whl.metadata (21 kB)\n",
      "Requirement already satisfied: idna in c:\\users\\jszxr\\anaconda3\\lib\\site-packages (from httpx~=0.27->python-telegram-bot) (3.4)\n",
      "Collecting h11<0.15,>=0.13 (from httpcore==1.*->httpx~=0.27->python-telegram-bot)\n",
      "  Downloading h11-0.14.0-py3-none-any.whl.metadata (8.2 kB)\n",
      "Requirement already satisfied: sniffio>=1.1 in c:\\users\\jszxr\\anaconda3\\lib\\site-packages (from anyio->httpx~=0.27->python-telegram-bot) (1.2.0)\n",
      "Downloading python_telegram_bot-21.10-py3-none-any.whl (669 kB)\n",
      "   ---------------------------------------- 0.0/669.5 kB ? eta -:--:--\n",
      "   --------------------------------------- 669.5/669.5 kB 13.1 MB/s eta 0:00:00\n",
      "Downloading httpx-0.28.1-py3-none-any.whl (73 kB)\n",
      "Downloading httpcore-1.0.7-py3-none-any.whl (78 kB)\n",
      "Downloading h11-0.14.0-py3-none-any.whl (58 kB)\n",
      "Installing collected packages: h11, httpcore, httpx, python-telegram-bot\n",
      "Successfully installed h11-0.14.0 httpcore-1.0.7 httpx-0.28.1 python-telegram-bot-21.10\n"
     ]
    }
   ],
   "source": [
    "!pip install python-telegram-bot"
   ]
  },
  {
   "cell_type": "code",
   "execution_count": null,
   "id": "70bfbe14-8cca-4908-93fb-72a705f93465",
   "metadata": {},
   "outputs": [],
   "source": []
  },
  {
   "cell_type": "code",
   "execution_count": null,
   "id": "f4405693-2aba-4f1e-bdd8-45c18ae907c2",
   "metadata": {
    "tags": []
   },
   "outputs": [],
   "source": []
  },
  {
   "cell_type": "code",
   "execution_count": null,
   "id": "d68efbdc-7f57-4f36-9c48-a9e0d57c979c",
   "metadata": {},
   "outputs": [],
   "source": [
    "requests\n",
    "BeautifulSoup\n",
    "html.parser\n",
    "soup.select"
   ]
  },
  {
   "cell_type": "code",
   "execution_count": 40,
   "id": "6a6606d7-3367-4eca-9b78-dfb12b571e51",
   "metadata": {},
   "outputs": [
    {
     "name": "stdout",
     "output_type": "stream",
     "text": [
      "□  (종합) 대기 매우 건조, 기온 낮아 춥겠음, 강풍 및 풍랑 유의\n",
      "○  (오늘, 21일) 구름많다가 오후에 맑아짐\n",
      "○  (내일, 22일) 대체로 맑음\n",
      "○  (모레, 23일) 대체로 맑겠으나, 경남서부내륙 가끔 구름많음\n",
      "○  (글피, 24일) 대체로 맑음\n"
     ]
    }
   ],
   "source": [
    "import requests as req\n",
    "from bs4 import BeautifulSoup as bs\n",
    "url = \"https://www.weather.go.kr/w/weather/forecast/short-term.do?stnId=159\"\n",
    "web = req.get(url)\n",
    "\n",
    "soup = bs(web.content, 'html.parser')\n",
    "summary = soup.select('p.summary')\n",
    "for s in summary:\n",
    "    print(s.text.replace('○', '\\n○'))"
   ]
  },
  {
   "cell_type": "code",
   "execution_count": 50,
   "id": "aeabeaab-f3c9-480e-a211-e595875ebbea",
   "metadata": {
    "tags": []
   },
   "outputs": [
    {
     "name": "stdout",
     "output_type": "stream",
     "text": [
      "예보요소  : 최저기온 / 최고기온\n",
      "평년(오늘): -5.1 ~ 2.1 / 9.0 ~ 11.7\n",
      "어제(20일): -9.7 ~ -2.0 / 4.4 ~ 8.8\n",
      "오늘(21일): - / 3 ~ 7\n",
      "내일(22일): -7 ~ -3 / 4 ~ 7\n",
      "모레(23일): -8 ~ -3 / 1 ~ 5\n",
      "글피(24일): -9 ~ -4 / 5 ~ 8\n"
     ]
    }
   ],
   "source": [
    "table = soup.select('table.table-col')[0]\n",
    "data = table.select('tr')\n",
    "header = data[0].select('th')\n",
    "line1 = ['최저기온']+data[1].select('td')\n",
    "line2 = ['최고기온']+data[2].select('td')\n",
    "raw_data = []\n",
    "for h, l1, l2 in zip(header, line1, line2):\n",
    "    try :\n",
    "        out = h.text+': '+ l1.text+ ' / '+ l2.text\n",
    "    except:\n",
    "        out = h.text+'  : '+ l1+ ' / '+ l2\n",
    "    finally:\n",
    "        print(out)\n",
    "        raw_data.append(out)\n",
    "        "
   ]
  },
  {
   "cell_type": "code",
   "execution_count": 58,
   "id": "bbed1533-4698-4b33-9f4f-4891b7240941",
   "metadata": {
    "tags": []
   },
   "outputs": [
    {
     "data": {
      "text/html": [
       "<div>\n",
       "<style scoped>\n",
       "    .dataframe tbody tr th:only-of-type {\n",
       "        vertical-align: middle;\n",
       "    }\n",
       "\n",
       "    .dataframe tbody tr th {\n",
       "        vertical-align: top;\n",
       "    }\n",
       "\n",
       "    .dataframe thead th {\n",
       "        text-align: right;\n",
       "    }\n",
       "</style>\n",
       "<table border=\"1\" class=\"dataframe\">\n",
       "  <thead>\n",
       "    <tr style=\"text-align: right;\">\n",
       "      <th></th>\n",
       "      <th>날짜</th>\n",
       "      <th>최저기온</th>\n",
       "      <th>최고기온</th>\n",
       "    </tr>\n",
       "  </thead>\n",
       "  <tbody>\n",
       "    <tr>\n",
       "      <th>0</th>\n",
       "      <td>평년(오늘)</td>\n",
       "      <td>-5.1 ~ 2.1</td>\n",
       "      <td>9.0 ~ 11.7</td>\n",
       "    </tr>\n",
       "    <tr>\n",
       "      <th>1</th>\n",
       "      <td>어제(20일)</td>\n",
       "      <td>-9.7 ~ -2.0</td>\n",
       "      <td>4.4 ~ 8.8</td>\n",
       "    </tr>\n",
       "    <tr>\n",
       "      <th>2</th>\n",
       "      <td>오늘(21일)</td>\n",
       "      <td>-</td>\n",
       "      <td>3 ~ 7</td>\n",
       "    </tr>\n",
       "    <tr>\n",
       "      <th>3</th>\n",
       "      <td>내일(22일)</td>\n",
       "      <td>-7 ~ -3</td>\n",
       "      <td>4 ~ 7</td>\n",
       "    </tr>\n",
       "    <tr>\n",
       "      <th>4</th>\n",
       "      <td>모레(23일)</td>\n",
       "      <td>-8 ~ -3</td>\n",
       "      <td>1 ~ 5</td>\n",
       "    </tr>\n",
       "    <tr>\n",
       "      <th>5</th>\n",
       "      <td>글피(24일)</td>\n",
       "      <td>-9 ~ -4</td>\n",
       "      <td>5 ~ 8</td>\n",
       "    </tr>\n",
       "  </tbody>\n",
       "</table>\n",
       "</div>"
      ],
      "text/plain": [
       "        날짜         최저기온        최고기온\n",
       "0   평년(오늘)   -5.1 ~ 2.1  9.0 ~ 11.7\n",
       "1  어제(20일)  -9.7 ~ -2.0   4.4 ~ 8.8\n",
       "2  오늘(21일)            -       3 ~ 7\n",
       "3  내일(22일)      -7 ~ -3       4 ~ 7\n",
       "4  모레(23일)      -8 ~ -3       1 ~ 5\n",
       "5  글피(24일)      -9 ~ -4       5 ~ 8"
      ]
     },
     "execution_count": 58,
     "metadata": {},
     "output_type": "execute_result"
    }
   ],
   "source": [
    "import pandas as pd\n",
    "parser_data = []\n",
    "for entry in raw_data[1:]:\n",
    "    date, temps = entry.split(':')\n",
    "    low_temps, high_temps = temps.split('/')\n",
    "    parser_data.append([date.strip(), low_temps.strip(), high_temps.strip()])\n",
    "df = pd.DataFrame(parser_data, columns = [\"날짜\", \"최저기온\",\"최고기온\"])\n",
    "df.to_csv('weather.csv', index=False, encoding = 'utf-8')"
   ]
  },
  {
   "cell_type": "code",
   "execution_count": null,
   "id": "7daf556f-ca4b-4db1-a88c-62ef464a97c6",
   "metadata": {},
   "outputs": [],
   "source": [
    "df = pd.DataFrame([entry.split(':')[0].strip(), *entry.split(':')[1].strip().split().split('/')] for entry in raw_data[1:])\n",
    "pd.columns=['날짜', '최저기온', '최고기온']"
   ]
  },
  {
   "cell_type": "code",
   "execution_count": 6,
   "id": "b94d7b4f-8cc4-4895-af44-789c7ae3e97e",
   "metadata": {
    "tags": []
   },
   "outputs": [],
   "source": [
    "# import os\n",
    "# import random\n",
    "# import asyncio\n",
    "# from dotenv import load_dotenv\n",
    "# from telegram import Update\n",
    "# from telegram.ext import Application, CommandHandler, MessageHandler, filters, CallbackContext\n",
    "\n",
    "# # ✅ .env 파일에서 환경 변수 로드\n",
    "# load_dotenv()\n",
    "# TOKEN = os.getenv(\"TELEGRAM_TOKEN\")  # 🔥 환경 변수에서 토큰 가져오기 🔥\n",
    "\n",
    "# # 🔹 특정 키워드 감지 시 자동 응답\n",
    "# TRIGGER_WORDS = {\n",
    "#     \"안녕\": \"쿠키애오\",\n",
    "#     \"정보\": \"어떤 정보가 필요하새요??\",\n",
    "#     \"기분\": \"저는 기분이 좋아요!\",\n",
    "#     \"쿠키\": \"쿠키를 부르셨습니까\",\n",
    "#     \"배고파\": \"쿠키도 배가 고파오 밥은 언제 주시나여?\",\n",
    "#     \"우리조\": \"여기가 2조 방이애요? 멋있다!!\",\n",
    "#     \"뭐해\": \"쿠키도 휴식이 필요해여\",\n",
    "#     \"머해\": \"쿠키도 휴식이 필요해여\",\n",
    "#     \"바보야?\": \"바보는 제가 아니라 babot입니다૮₍◔ᴥ◔₎ა\",\n",
    "#     \"어때\": \"쿠키가 제일 똑똑하다고 생각해오\",\n",
    "#     \"다른 봇이랑 친하게 지내\": \"흠..\",\n",
    "#     \"바봇\": \"바봇아 안녕\",\n",
    "#     \"그만말해\": \"쿠키는 말을 하고 싶어요\",\n",
    "#     \"공격해\": \"\"\"\n",
    "#   | ＼＿＿＿／|\n",
    "# 　| ノ o　o　 ヽ\n",
    "# 　ミ 　 ●　 　● ミ\n",
    "# 　ミ 　　　　▼　 ミ\n",
    "# 　彡、 　 ＿人_ノ ＼\n",
    "# /　＿＿　＿＿ノ ´>　 )\n",
    "# (＿＿＿）　　　/(_／\n",
    "# 　|　　　　　 /\n",
    "# 　|　　／＼　＼\n",
    "# 　) (　　 )　 )\n",
    "# 　( / （　 ＼\n",
    "# 　<__ )　 　 ＼＿)\"\"\"\n",
    "# }\n",
    "\n",
    "# # ✅ 가위바위보 기능 ✌️ (명령어: /rps)\n",
    "# RPS_CHOICES = [\"가위\", \"바위\", \"보\"]\n",
    "\n",
    "# async def rps(update: Update, context: CallbackContext):\n",
    "#     if len(context.args) == 0:\n",
    "#         await update.message.reply_text(\"쿠키랑 가위바위보 게임해요! 예: /rps 가위\")\n",
    "#         return\n",
    "\n",
    "#     user_choice = context.args[0]  # 사용자 입력값\n",
    "#     bot_choice = random.choice(RPS_CHOICES)  # 봇 랜덤 선택\n",
    "\n",
    "#     if user_choice not in RPS_CHOICES:\n",
    "#         await update.message.reply_text(\"가위, 바위, 보 중에서만 선택해오!\")\n",
    "#         return\n",
    "\n",
    "#     # 결과 판단\n",
    "#     if user_choice == bot_choice:\n",
    "#         result = f\"나는 {bot_choice}! 무승부! 😲\"\n",
    "#     elif (user_choice == \"가위\" and bot_choice == \"보\") or \\\n",
    "#          (user_choice == \"바위\" and bot_choice == \"가위\") or \\\n",
    "#          (user_choice == \"보\" and bot_choice == \"바위\"):\n",
    "#         result = f\"나는 {bot_choice}! 졋네..! 🎉\"\n",
    "#     else:\n",
    "#         result = f\"나는 {bot_choice}! 쿠키가 이겼다! 😆\"\n",
    "\n",
    "#     await update.message.reply_text(result)\n",
    "\n",
    "# # ✅ 랜덤 밥 추천 🍜 (명령어: /food)\n",
    "# FOODS = [\"김치찌개\", \"삼겹살\", \"치킨\", \"햄버거\", \"파스타\", \"떡볶이\", \"라면\", \"초밥\", \"짜장면\", \"부대찌개\"]\n",
    "\n",
    "# async def what_to_eat(update: Update, context: CallbackContext):\n",
    "#     choice = random.choice(FOODS)\n",
    "#     await update.message.reply_text(f\"오늘은 {choice} 어때오?? 😋\")\n",
    "\n",
    "# # ✅ \"/start\" 명령어 응답 함수\n",
    "# async def start(update: Update, context: CallbackContext):\n",
    "#     await update.message.reply_text(\"쿠키. 등장!!\")\n",
    "\n",
    "# # ✅ 메시지를 감지하고 자동 응답\n",
    "# async def monitor_chat(update: Update, context: CallbackContext):\n",
    "#     user_text = update.message.text  # 감지된 메시지\n",
    "#     chat_id = update.message.chat_id  # 메시지가 온 채팅방\n",
    "\n",
    "#     for key, res in TRIGGER_WORDS.items():\n",
    "#         if key in user_text:\n",
    "#             await context.bot.send_message(chat_id=chat_id, text=res)\n",
    "#             break  # 한 개의 키워드만 적용\n",
    "\n",
    "# # ✅ 숫자 맞추기 게임 추가\n",
    "# number_to_guess = None  # 정답 숫자 저장\n",
    "\n",
    "# async def start_number_game(update: Update, context: CallbackContext):\n",
    "#     global number_to_guess\n",
    "#     number_to_guess = random.randint(1, 10)\n",
    "#     await update.message.reply_text(\"1부터 10 사이의 숫자를 맞춰보세요!\")\n",
    "\n",
    "# async def check_number(update: Update, context: CallbackContext):\n",
    "#     global number_to_guess\n",
    "#     if number_to_guess is None:\n",
    "#         return  # 숫자게임이 실행되지 않았다면 그냥 패스\n",
    "\n",
    "#     try:\n",
    "#         guess = int(update.message.text)\n",
    "#         if guess == number_to_guess:\n",
    "#             number_to_guess = None  # 정답 맞추면 초기화\n",
    "#             await update.message.reply_text(\"정답입니다! 🎉\")\n",
    "#         elif guess < number_to_guess:\n",
    "#             await update.message.reply_text(\"더 큰 숫자예요! 📈\")\n",
    "#         else:\n",
    "#             await update.message.reply_text(\"더 작은 숫자예요! 📉\")\n",
    "#     except ValueError:\n",
    "#         return  # 숫자가 아닌 경우 무시\n",
    "\n",
    "# # ✅ 텔레그램 봇 실행\n",
    "# async def main():\n",
    "#     application = Application.builder().token(TOKEN).build()\n",
    "\n",
    "#     # 명령어 핸들러 추가 (한글 명령어 대신 영어 명령어 사용)\n",
    "#     application.add_handler(CommandHandler(\"start\", start))\n",
    "#     application.add_handler(CommandHandler(\"rps\", rps))  # ✅ 가위바위보 명령어 변경\n",
    "#     application.add_handler(CommandHandler(\"food\", what_to_eat))  # ✅ 밥 추천 명령어 변경\n",
    "#     application.add_handler(CommandHandler(\"numbergame\", start_number_game))  # ✅ 숫자게임 추가\n",
    "\n",
    "#     # 메시지 감지 핸들러 추가\n",
    "#     application.add_handler(MessageHandler(filters.TEXT & ~filters.COMMAND, check_number))  # 숫자 입력 체크\n",
    "#     application.add_handler(MessageHandler(filters.TEXT & ~filters.COMMAND, monitor_chat))  # 일반 메시지 감지\n",
    "\n",
    "#     print(\"✅ 텔레그램 봇이 실행 중입니다...\")\n",
    "\n",
    "#     await application.run_polling()\n",
    "\n",
    "# # ✅ 실행 (Jupyter 환경 대응)\n",
    "# import nest_asyncio  # 🔥 주피터에서 asyncio 문제 해결을 위한 라이브러리\n",
    "# nest_asyncio.apply()\n",
    "\n",
    "# # 🔥 비동기 루프 실행\n",
    "# asyncio.run(main())\n"
   ]
  },
  {
   "cell_type": "code",
   "execution_count": null,
   "id": "595cfddb-5152-4d66-9deb-368be2cfbf44",
   "metadata": {},
   "outputs": [],
   "source": []
  }
 ],
 "metadata": {
  "kernelspec": {
   "display_name": "Python 3 (ipykernel)",
   "language": "python",
   "name": "python3"
  },
  "language_info": {
   "codemirror_mode": {
    "name": "ipython",
    "version": 3
   },
   "file_extension": ".py",
   "mimetype": "text/x-python",
   "name": "python",
   "nbconvert_exporter": "python",
   "pygments_lexer": "ipython3",
   "version": "3.11.5"
  },
  "toc-autonumbering": true
 },
 "nbformat": 4,
 "nbformat_minor": 5
}
