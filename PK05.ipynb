{
 "cells": [
  {
   "cell_type": "markdown",
   "id": "26b93fcd-6b56-42bd-a73a-80cdd388abd4",
   "metadata": {},
   "source": [
    "## 클래스"
   ]
  },
  {
   "cell_type": "code",
   "execution_count": 1,
   "id": "41c89d8d-c153-498f-a6e1-40f5a0a39d3f",
   "metadata": {
    "tags": []
   },
   "outputs": [
    {
     "name": "stdout",
     "output_type": "stream",
     "text": [
      "[1, 2, 3, 4] <class 'list'>\n"
     ]
    }
   ],
   "source": [
    "what = [1,2,3,4]\n",
    "print(what, type(what))"
   ]
  },
  {
   "cell_type": "code",
   "execution_count": 2,
   "id": "b129b547-0cce-43a6-b551-482b8250086c",
   "metadata": {
    "tags": []
   },
   "outputs": [
    {
     "data": {
      "text/plain": [
       "['__add__',\n",
       " '__class__',\n",
       " '__class_getitem__',\n",
       " '__contains__',\n",
       " '__delattr__',\n",
       " '__dir__',\n",
       " '__doc__',\n",
       " '__eq__',\n",
       " '__format__',\n",
       " '__ge__',\n",
       " '__getattribute__',\n",
       " '__getitem__',\n",
       " '__getnewargs__',\n",
       " '__getstate__',\n",
       " '__gt__',\n",
       " '__hash__',\n",
       " '__init__',\n",
       " '__init_subclass__',\n",
       " '__iter__',\n",
       " '__le__',\n",
       " '__len__',\n",
       " '__lt__',\n",
       " '__mul__',\n",
       " '__ne__',\n",
       " '__new__',\n",
       " '__reduce__',\n",
       " '__reduce_ex__',\n",
       " '__repr__',\n",
       " '__rmul__',\n",
       " '__setattr__',\n",
       " '__sizeof__',\n",
       " '__str__',\n",
       " '__subclasshook__',\n",
       " 'count',\n",
       " 'index']"
      ]
     },
     "execution_count": 2,
     "metadata": {},
     "output_type": "execute_result"
    }
   ],
   "source": [
    "dir(tuple)"
   ]
  },
  {
   "cell_type": "code",
   "execution_count": 9,
   "id": "498d5acb-2c9e-4190-ac9a-fc7b6c354ea9",
   "metadata": {
    "tags": []
   },
   "outputs": [
    {
     "name": "stdout",
     "output_type": "stream",
     "text": [
      "3\n",
      "7\n",
      "7\n"
     ]
    }
   ],
   "source": [
    "class Calculator :\n",
    "    def __init__(self):\n",
    "        self.result = 0\n",
    "    def add(self, num) :\n",
    "        self.result += num\n",
    "        return self.result\n",
    "    def sub(self, num) :\n",
    "        self.result -= num\n",
    "        return self.result\n",
    "    \n",
    "cal1 = Calculator()\n",
    "cal2 = Calculator()\n",
    "\n",
    "print(cal1.add(3))\n",
    "print(cal1.add(4))\n",
    "print(cal2.add(7))"
   ]
  },
  {
   "cell_type": "code",
   "execution_count": 19,
   "id": "1c4b1aab-5569-4e00-94b2-0ed2dfd41b4d",
   "metadata": {
    "tags": []
   },
   "outputs": [],
   "source": [
    "class Dduk:\n",
    "    def __init__(self, won, ea):\n",
    "        self.won = won\n",
    "        self.ea = ea\n",
    "    def dduk(self):\n",
    "        result = self.won * self.ea\n",
    "        print(f'배가 고파서 떡볶이 집에서 떡볶이를 {result}원어치 먹었다.')\n",
    "    def odeng(self):\n",
    "        result = self.won * 2 * self.ea\n",
    "        print(f'배가 고파서 떡볶이 집에서 오뎅을 {result}원어치 먹었다.')\n",
    "    def sundae(self):\n",
    "        result = self.won * 3 * self.ea\n",
    "\n",
    "쿠키 = Dduk(2000, 3)\n",
    "승욱 = Dduk(3000, 2)\n",
    "서영 = Dduk(5000, 5)"
   ]
  },
  {
   "cell_type": "code",
   "execution_count": 16,
   "id": "f9d9d178-567e-4cdc-8c0f-f288d2bbd89e",
   "metadata": {
    "tags": []
   },
   "outputs": [
    {
     "name": "stdout",
     "output_type": "stream",
     "text": [
      "배가 고파서 떡볶이 집에서 떡볶이를 6000원어치 먹었다.\n",
      "배가 고파서 떡볶이 집에서 오뎅을 12000원어치 먹었다.\n"
     ]
    }
   ],
   "source": [
    "쿠키.dduk()\n",
    "쿠키.odeng()"
   ]
  },
  {
   "cell_type": "code",
   "execution_count": 17,
   "id": "73d8fd72-dba6-4096-b3f5-e998e46ac36a",
   "metadata": {
    "tags": []
   },
   "outputs": [],
   "source": [
    "쿠키.__init__(1500, 3)"
   ]
  },
  {
   "cell_type": "code",
   "execution_count": 18,
   "id": "4d4fae53-8639-46de-9f98-aa8b1eb382a1",
   "metadata": {
    "tags": []
   },
   "outputs": [
    {
     "name": "stdout",
     "output_type": "stream",
     "text": [
      "배가 고파서 떡볶이 집에서 떡볶이를 4500원어치 먹었다.\n"
     ]
    }
   ],
   "source": [
    "쿠키.dduk()"
   ]
  },
  {
   "cell_type": "code",
   "execution_count": 21,
   "id": "6f029fad-87f1-4347-9674-c46c7c5f98c8",
   "metadata": {
    "tags": []
   },
   "outputs": [
    {
     "name": "stdout",
     "output_type": "stream",
     "text": [
      "배가 고파서 떡볶이 집에서 떡볶이를 25000원어치 먹었다.\n"
     ]
    }
   ],
   "source": [
    "서영.dduk()"
   ]
  },
  {
   "cell_type": "code",
   "execution_count": 22,
   "id": "3305de46-5de9-4faa-a252-d521ac6051ae",
   "metadata": {
    "tags": []
   },
   "outputs": [],
   "source": [
    "서영.__init__(1000, 2)"
   ]
  },
  {
   "cell_type": "code",
   "execution_count": 23,
   "id": "ac9e3f9d-bb51-4db0-b33d-9ed647928244",
   "metadata": {
    "tags": []
   },
   "outputs": [
    {
     "name": "stdout",
     "output_type": "stream",
     "text": [
      "배가 고파서 떡볶이 집에서 떡볶이를 2000원어치 먹었다.\n"
     ]
    }
   ],
   "source": [
    "서영.dduk()"
   ]
  },
  {
   "cell_type": "code",
   "execution_count": 27,
   "id": "60a71d51-af24-4dd4-ad8e-317432607748",
   "metadata": {
    "tags": []
   },
   "outputs": [
    {
     "name": "stdout",
     "output_type": "stream",
     "text": [
      "방가방가\n",
      "Help on function test in module __main__:\n",
      "\n",
      "test()\n",
      "    이것은 예로부터 전해오는 인사 함수입니다.\n",
      "\n"
     ]
    }
   ],
   "source": [
    "# test\n",
    "\n",
    "def test():\n",
    "    \"\"\"\n",
    "    이것은 예로부터 전해오는 인사 함수입니다.\n",
    "    \"\"\"\n",
    "    print('방가방가')\n",
    "test()\n",
    "help(test)"
   ]
  },
  {
   "cell_type": "code",
   "execution_count": 26,
   "id": "eb568952-dda4-43fd-8e8d-b438aa6828f3",
   "metadata": {
    "tags": []
   },
   "outputs": [
    {
     "name": "stdout",
     "output_type": "stream",
     "text": [
      "\n",
      "    이것은 예로부터 전해오는 인사 함수입니다.\n",
      "    \n"
     ]
    }
   ],
   "source": [
    "print(test.__doc__)"
   ]
  },
  {
   "cell_type": "code",
   "execution_count": 33,
   "id": "e2d74a43-189c-4e8a-b6a7-f95d89899737",
   "metadata": {
    "tags": []
   },
   "outputs": [],
   "source": [
    "# class의 self 없이 함수 만들기\n",
    "\n",
    "def set_car(name, color):\n",
    "    return {\"name\":name, 'color':color}\n",
    "\n",
    "# print(set_car(\"HD\", \"Blue\"))\n",
    "\n",
    "def get_car_info(car):\n",
    "    return f'car:{car[\"name\"]}, Color:{car[\"color\"]}'\n",
    "\n",
    "#자동차 생성\n",
    "car = set_car(\"HD\", \"Blue\")\n",
    "get_car_info(car)\n",
    "\n",
    "print(get_car_info(set_car(\"kia\", \"white\")))"
   ]
  },
  {
   "cell_type": "code",
   "execution_count": 41,
   "id": "dd62f7d4-cf33-42b6-9237-d30f7429f9bf",
   "metadata": {
    "tags": []
   },
   "outputs": [],
   "source": [
    "# test3\n",
    "class Car:\n",
    "    def set_car(name, color):\n",
    "        return {'name':name, 'color':color}\n",
    "    def get_car_info(car):\n",
    "        return f'car:{car[\"name\"]}, Color:{car[\"color\"]}'\n",
    "\n",
    "car1 = Car.set_car('HD', 'Yellow')\n",
    "car2 = Car.set_car('kia', 'White')\n",
    "print(Car.get_car_info(car1))"
   ]
  },
  {
   "cell_type": "code",
   "execution_count": 55,
   "id": "1fba32b7-f154-4cce-9df9-22e402950dc5",
   "metadata": {
    "tags": []
   },
   "outputs": [],
   "source": [
    "class Car:\n",
    "    def __init__(self, name, color):#생성자\n",
    "        self.name = name\n",
    "        self.color = color\n",
    "        self.__speed = 0\n",
    "    def get_car_info(self):\n",
    "        return f'car:{self.name}, Color:{self.color}'\n",
    "    def acc(self, amount):\n",
    "        self.speed += amount #속도가 증가\n",
    "        return f'{self.color}색 {self.name}자동차 속도 올려요. 현재 속도는 {self.speed}km/h'\n",
    "\n",
    "# car1 = Car(\"HD\", \"Black\")\n",
    "# car2 = Car(\"kia\", \"Gray\")\n",
    "\n",
    "# print(car1.get_car_info())\n",
    "# print(car2.get_car_info())"
   ]
  },
  {
   "cell_type": "code",
   "execution_count": 56,
   "id": "bb42601f-21a4-43a1-ba2d-6c86663ad035",
   "metadata": {
    "tags": []
   },
   "outputs": [
    {
     "name": "stdout",
     "output_type": "stream",
     "text": [
      "car:HD, Color:Black\n",
      "car:kia, Color:Gray\n",
      "Black색 HD자동차 속도 올려요. 현재 속도는 30km/h\n",
      "Gray색 kia자동차 속도 올려요. 현재 속도는 50km/h\n"
     ]
    }
   ],
   "source": [
    "car1 = Car(\"HD\", \"Black\")\n",
    "car2 = Car(\"kia\", \"Gray\")\n",
    "\n",
    "print(car1.get_car_info())\n",
    "print(car2.get_car_info())\n",
    "print(car1.acc(30))\n",
    "print(car2.acc(50))"
   ]
  },
  {
   "cell_type": "code",
   "execution_count": 59,
   "id": "5a2a5e68-d446-4433-9985-e1e92cb4d2c6",
   "metadata": {
    "tags": []
   },
   "outputs": [
    {
     "name": "stdout",
     "output_type": "stream",
     "text": [
      "Black색 HD자동차 속도 올려요. 현재 속도는 61km/h\n",
      "60km/h 속도 유지중...\n"
     ]
    }
   ],
   "source": [
    "import time as t\n",
    "for n in range(1):\n",
    "    print(car1.acc(n))\n",
    "    t.sleep(1)\n",
    "print('60km/h 속도 유지중...')"
   ]
  },
  {
   "cell_type": "code",
   "execution_count": 69,
   "id": "83550ccd-1f70-4623-9c6a-ba2aa10a8edf",
   "metadata": {
    "tags": []
   },
   "outputs": [],
   "source": [
    "#상속\n",
    "\n",
    "class Mycar(Car):\n",
    "    def turbo(self):\n",
    "        self.speed += 50\n",
    "        return (f'터보 {self.speed}km/h')\n",
    "    def acc(self):\n",
    "        self.speed += 30 #속도가 증가\n",
    "        return f'{self.name}의 {self.speed}!'#덮어씀\n"
   ]
  },
  {
   "cell_type": "code",
   "execution_count": 70,
   "id": "a51eda10-5722-4e36-a77e-e83a3727b1cd",
   "metadata": {
    "tags": []
   },
   "outputs": [],
   "source": [
    "my = Mycar('mycar', 'pink')"
   ]
  },
  {
   "cell_type": "code",
   "execution_count": 72,
   "id": "5b72aa0f-59da-4820-8b81-069928910ab3",
   "metadata": {
    "tags": []
   },
   "outputs": [
    {
     "name": "stdout",
     "output_type": "stream",
     "text": [
      "터보 100km/h\n",
      "mycar의 130!\n"
     ]
    }
   ],
   "source": [
    "print(my.turbo())\n",
    "print(my.acc())"
   ]
  },
  {
   "cell_type": "code",
   "execution_count": 76,
   "id": "d6fdba89-98f0-45e2-b24c-cad1c2b8f562",
   "metadata": {
    "tags": []
   },
   "outputs": [],
   "source": [
    "#test7\n",
    "class Pet:\n",
    "    def __init__(self, name, species):\n",
    "        \"\"\"\n",
    "            펫을 생성\n",
    "        \"\"\"\n",
    "        self.name = name\n",
    "        self.species = species\n",
    "        self.hunger = 50 #초기 배고픔 수치(0~100)\n",
    "    def feed(self):\n",
    "        \"\"\"\n",
    "            밥을 주면 배고픔 감소\n",
    "        \"\"\"\n",
    "        if self.hunger > 10 :\n",
    "            self.hunger -= 12\n",
    "            return f'{self.name}는 밥을 먹고 있습니다. 배고픔: {self.hunger}'\n",
    "    def play(self):\n",
    "        \"\"\"\n",
    "            놀아주면 배고픔이 증가\n",
    "        \"\"\"\n",
    "        if self.hunger < 80 :\n",
    "            self.hunger += 20\n",
    "        else :\n",
    "            self.hunger = 100 \n",
    "        return f'{self.name}는 즐거워합니다 배고픔: {self.hunger}'\n",
    "    \n",
    "cookie = Pet('쿠키', '강아지')\n",
    "yoshi = Pet('요시', '게코')"
   ]
  },
  {
   "cell_type": "code",
   "execution_count": 88,
   "id": "192e79e1-7eb8-4ed8-8004-d42eb8c3e01a",
   "metadata": {
    "tags": []
   },
   "outputs": [
    {
     "name": "stdout",
     "output_type": "stream",
     "text": [
      "요시는 밥을 먹고 있습니다. 배고픔: 28\n"
     ]
    }
   ],
   "source": [
    "print(yoshi.feed())"
   ]
  },
  {
   "cell_type": "code",
   "execution_count": 90,
   "id": "b611769d-990b-4498-b12e-07063e7ce906",
   "metadata": {
    "tags": []
   },
   "outputs": [],
   "source": [
    "class Bacteria:\n",
    "    def __init__(self, initial_population, growth_rate):\n",
    "        '''세균초기화'''\n",
    "        self.population = initial_population\n",
    "        self.growth_rate = growth_rate\n",
    "        self.time = 0\n",
    "    def grow(self, hours):\n",
    "        '''일정 시간이 지나면 세균이 증식함'''\n",
    "        self.time = hours\n",
    "        self.population *= self.growth_rate**hours\n",
    "        return f'{self.time} 시간 후 세균 수: {int(self.population)}마리'\n",
    "    def check(self) :\n",
    "        '''현재 세균 수 확인'''\n",
    "        return f'현재 세균 수: {int(self.population)}마리'"
   ]
  },
  {
   "cell_type": "code",
   "execution_count": 91,
   "id": "2b13e0e9-a6c0-4735-ac60-4acfcc08ff2e",
   "metadata": {
    "tags": []
   },
   "outputs": [],
   "source": [
    "bacteria = Bacteria(100, 2)"
   ]
  },
  {
   "cell_type": "code",
   "execution_count": 92,
   "id": "61e6e7f9-5283-4a2b-ba37-2ad9280e3812",
   "metadata": {
    "tags": []
   },
   "outputs": [
    {
     "name": "stdout",
     "output_type": "stream",
     "text": [
      "1 시간 후 세균 수: 200마리\n"
     ]
    }
   ],
   "source": [
    "print(bacteria.grow(1))"
   ]
  },
  {
   "cell_type": "code",
   "execution_count": 93,
   "id": "cde23008-06a4-4126-93e5-4f462848b3cd",
   "metadata": {
    "tags": []
   },
   "outputs": [
    {
     "name": "stdout",
     "output_type": "stream",
     "text": [
      "2 시간 후 세균 수: 800마리\n"
     ]
    }
   ],
   "source": [
    "print(bacteria.grow(2))"
   ]
  },
  {
   "cell_type": "code",
   "execution_count": 113,
   "id": "6da6763b-c475-444b-b3df-f477ceaff34a",
   "metadata": {
    "tags": []
   },
   "outputs": [],
   "source": [
    "#은행 예금 캡슐화 예제, 클래스 변수\n",
    "class BankAccount:\n",
    "    interest_rate = 0.02 # 클래스 변수 -> 하나 바꾸면 다 바뀜\n",
    "    def __init__(self, owner, balance):\n",
    "        self.owner = owner\n",
    "        self.__balance = balance or 0\n",
    "    def bprint(self):\n",
    "        return f'{self.owner}님의 잔고는 {self.__balance}원 입니다.'\n",
    "    def deposit(self, amount):\n",
    "        self.__balance += amount\n",
    "        return f'{self.owner}님의 계좌에 {amount}원이 입금 되었습니다. 현재 잔액: {self.__balance}원'\n",
    "    def withdraw(self, amount):\n",
    "        if self.__balance >= amount:\n",
    "            self.__balance -= amount\n",
    "            return f'{self.owner}님의 계좌에 {amount}원이 출금 되었습니다. 현재 잔액: {self.__balance}원'\n",
    "        return '잔액이 부족합니다'\n",
    "    def interest(self):\n",
    "        total = self.__balance * (1 + self.interest_rate)\n",
    "        return f'{self.interest_rate}의 이자가 반영된 금액은 {total:.0f}원 입니다.'"
   ]
  },
  {
   "cell_type": "code",
   "execution_count": 114,
   "id": "10377dd5-88fa-4ad8-af89-20b736c7f2fe",
   "metadata": {
    "tags": []
   },
   "outputs": [
    {
     "data": {
      "text/plain": [
       "'철수님의 잔고는 50000원 입니다.'"
      ]
     },
     "execution_count": 114,
     "metadata": {},
     "output_type": "execute_result"
    }
   ],
   "source": [
    "acc1 = BankAccount('철수', 50000)\n",
    "acc2 = BankAccount('영희', 250000)\n",
    "\n",
    "acc1.bprint()\n",
    "\n",
    "acc1.balance = 9000000\n",
    "\n",
    "acc1.bprint()"
   ]
  },
  {
   "cell_type": "code",
   "execution_count": 116,
   "id": "f601fad2-9118-4d20-bee5-9c250cc1d16f",
   "metadata": {
    "tags": []
   },
   "outputs": [
    {
     "name": "stdout",
     "output_type": "stream",
     "text": [
      "철수님의 계좌에 30000원이 입금 되었습니다. 현재 잔액: 80000원\n",
      "철수님의 계좌에 5500원이 출금 되었습니다. 현재 잔액: 74500원\n",
      "0.02의 이자가 반영된 금액은 75990원 입니다.\n"
     ]
    }
   ],
   "source": [
    "acc3 = BankAccount('철수', 50000)\n",
    "acc2 = BankAccount('영희', 250000)\n",
    "print(acc3.deposit(30000))\n",
    "print(acc3.withdraw(5500))\n",
    "print(acc3.interest())"
   ]
  },
  {
   "cell_type": "code",
   "execution_count": 118,
   "id": "37068783-853f-45d5-b365-fdf9a54ef7b8",
   "metadata": {
    "tags": []
   },
   "outputs": [],
   "source": [
    "class VendingMachine:\n",
    "    def __init__(self) :\n",
    "        self.balance = 0 #사용자의 잔액\n",
    "        self.items = {\n",
    "            \"콜라\":2000,\n",
    "            \"사이다\":2000,\n",
    "            \"물\":1000,\n",
    "            '불닭볶음면':1800,\n",
    "            '라면볶이':1700,\n",
    "            '하리보믹스':2000\n",
    "        }\n",
    "    def insert_money(self, amount):\n",
    "        \"\"\"잔액 충전\"\"\"\n",
    "        self.balance += amount\n",
    "        return f'충전 금액: {amount}, 현재 잔액: {self.balance}'\n",
    "    def buy_item(self, item_name):\n",
    "        \"\"\"상품 구매\"\"\"\n",
    "        if item_name not in self.items:\n",
    "            return f'{item_name}은(는) 판매하지 않는 상품입니다.'\n",
    "        price = self.items[item_name]\n",
    "        if self.balance < price:\n",
    "            return f'잔액이 부족합니다. {item_name} 가격: {price}원, 현재 잔액: {self.balance}원'\n",
    "        self.balance -= price\n",
    "        return f'{item_name}을(를) 구매했습니다! 남은 잔액: {self.balance}원'\n",
    "    def refund(self):\n",
    "        \"\"\"잔액 반환\"\"\"\n",
    "        amount = self.balance\n",
    "        self.balance = 0\n",
    "        return f'잔액 {amount}원이 반환되었습니다.'\n",
    "\n",
    "vm = VendingMachine()"
   ]
  },
  {
   "cell_type": "code",
   "execution_count": 119,
   "id": "f558e6a7-d093-49e6-88a4-f7f6467fa61c",
   "metadata": {
    "tags": []
   },
   "outputs": [
    {
     "name": "stdout",
     "output_type": "stream",
     "text": [
      "충전 금액: 50000, 현재 잔액: 50000\n"
     ]
    }
   ],
   "source": [
    "print(vm.insert_money(50000))"
   ]
  },
  {
   "cell_type": "code",
   "execution_count": 120,
   "id": "5bcaf1e2-6b1e-4930-96b3-755ab46fb62e",
   "metadata": {
    "tags": []
   },
   "outputs": [
    {
     "name": "stdout",
     "output_type": "stream",
     "text": [
      "충전 금액: 50000, 현재 잔액: 100000\n"
     ]
    }
   ],
   "source": [
    "print(vm.insert_money(50000))"
   ]
  },
  {
   "cell_type": "code",
   "execution_count": 122,
   "id": "e85485f9-6043-4d4d-a089-2291d556187c",
   "metadata": {
    "tags": []
   },
   "outputs": [
    {
     "name": "stdout",
     "output_type": "stream",
     "text": [
      "불닭볶음면을(를) 구매했습니다! 남은 잔액: 98200원\n"
     ]
    }
   ],
   "source": [
    "print(vm.buy_item('불닭볶음면'))"
   ]
  },
  {
   "cell_type": "code",
   "execution_count": 1,
   "id": "8841634c-6585-4512-b335-54d509165c2f",
   "metadata": {},
   "outputs": [],
   "source": [
    "import random\n",
    "\n",
    "class Character:\n",
    "    def __init__(self, name, hp, attack_p):\n",
    "        \"\"\"캐릭터 초기화\"\"\"\n",
    "        self.name = name\n",
    "        self.hp = hp\n",
    "        self.attack_p = attack_p\n",
    "    def attack(self, opponent):\n",
    "        \"\"\"상대방을 공격\"\"\"\n",
    "        damage = random.randint(2, self.attack_p)\n",
    "        opponent.hp -= damage\n",
    "        print(f'{self.name}가 {opponent.name}를 공격하여 {damage}데미지를 입혔습니다.')\n",
    "    def now_status(self):\n",
    "        \"\"\"현재 체력 상태 확인\"\"\"\n",
    "        return f'{self.name} 체력: {self.hp}'\n",
    "    def is_alive(self):\n",
    "        \"\"\"캐릭터 생존여부 확인\"\"\"\n",
    "        return self.hp > 0"
   ]
  },
  {
   "cell_type": "code",
   "execution_count": 3,
   "id": "0e764199-8cd3-455a-8f60-7245c7064009",
   "metadata": {
    "tags": []
   },
   "outputs": [],
   "source": [
    "#영웅, 몬스터 생성\n",
    "player = Character(hp=50, name = \"영웅\", attack_p = 15)\n",
    "monster = Character(\"골렘\", 60, 9)"
   ]
  },
  {
   "cell_type": "code",
   "execution_count": 4,
   "id": "afcb9693-ace7-48ea-9881-c55e2ebc1210",
   "metadata": {
    "tags": []
   },
   "outputs": [
    {
     "name": "stdout",
     "output_type": "stream",
     "text": [
      "=====전투시작=====\n"
     ]
    },
    {
     "name": "stdin",
     "output_type": "stream",
     "text": [
      "공격하려면 엔터를 치세여 \n"
     ]
    },
    {
     "name": "stdout",
     "output_type": "stream",
     "text": [
      "영웅가 골렘를 공격하여 5데미지를 입혔습니다.\n",
      "골렘가 영웅를 공격하여 7데미지를 입혔습니다.\n",
      "영웅 체력: 43 vs 골렘 체력: 55\n"
     ]
    },
    {
     "name": "stdin",
     "output_type": "stream",
     "text": [
      "공격하려면 엔터를 치세여 \n"
     ]
    },
    {
     "name": "stdout",
     "output_type": "stream",
     "text": [
      "영웅가 골렘를 공격하여 2데미지를 입혔습니다.\n",
      "골렘가 영웅를 공격하여 9데미지를 입혔습니다.\n",
      "영웅 체력: 34 vs 골렘 체력: 53\n"
     ]
    },
    {
     "name": "stdin",
     "output_type": "stream",
     "text": [
      "공격하려면 엔터를 치세여 \n"
     ]
    },
    {
     "name": "stdout",
     "output_type": "stream",
     "text": [
      "영웅가 골렘를 공격하여 4데미지를 입혔습니다.\n",
      "골렘가 영웅를 공격하여 2데미지를 입혔습니다.\n",
      "영웅 체력: 32 vs 골렘 체력: 49\n"
     ]
    },
    {
     "name": "stdin",
     "output_type": "stream",
     "text": [
      "공격하려면 엔터를 치세여 \n"
     ]
    },
    {
     "name": "stdout",
     "output_type": "stream",
     "text": [
      "영웅가 골렘를 공격하여 5데미지를 입혔습니다.\n",
      "골렘가 영웅를 공격하여 4데미지를 입혔습니다.\n",
      "영웅 체력: 28 vs 골렘 체력: 44\n"
     ]
    },
    {
     "name": "stdin",
     "output_type": "stream",
     "text": [
      "공격하려면 엔터를 치세여 \n"
     ]
    },
    {
     "name": "stdout",
     "output_type": "stream",
     "text": [
      "영웅가 골렘를 공격하여 13데미지를 입혔습니다.\n",
      "골렘가 영웅를 공격하여 3데미지를 입혔습니다.\n",
      "영웅 체력: 25 vs 골렘 체력: 31\n"
     ]
    },
    {
     "name": "stdin",
     "output_type": "stream",
     "text": [
      "공격하려면 엔터를 치세여 \n"
     ]
    },
    {
     "name": "stdout",
     "output_type": "stream",
     "text": [
      "영웅가 골렘를 공격하여 14데미지를 입혔습니다.\n",
      "골렘가 영웅를 공격하여 8데미지를 입혔습니다.\n",
      "영웅 체력: 17 vs 골렘 체력: 17\n"
     ]
    },
    {
     "name": "stdin",
     "output_type": "stream",
     "text": [
      "공격하려면 엔터를 치세여 \n"
     ]
    },
    {
     "name": "stdout",
     "output_type": "stream",
     "text": [
      "영웅가 골렘를 공격하여 7데미지를 입혔습니다.\n",
      "골렘가 영웅를 공격하여 5데미지를 입혔습니다.\n",
      "영웅 체력: 12 vs 골렘 체력: 10\n"
     ]
    },
    {
     "name": "stdin",
     "output_type": "stream",
     "text": [
      "공격하려면 엔터를 치세여 \n"
     ]
    },
    {
     "name": "stdout",
     "output_type": "stream",
     "text": [
      "영웅가 골렘를 공격하여 11데미지를 입혔습니다.\n",
      "영웅 체력: 12 vs 골렘 체력: -1\n",
      "승리\n"
     ]
    }
   ],
   "source": [
    "#전투진행\n",
    "print('=====전투시작=====')\n",
    "while player.is_alive() and monster.is_alive():\n",
    "    input('공격하려면 엔터를 치세여')\n",
    "    player.attack(monster)\n",
    "    if monster.is_alive():\n",
    "        monster.attack(player)\n",
    "    print(player.now_status(), 'vs', monster.now_status())\n",
    "    \n",
    "# 결과\n",
    "if player.is_alive():\n",
    "    print('승리')\n",
    "else:\n",
    "    print('패배')"
   ]
  },
  {
   "cell_type": "code",
   "execution_count": null,
   "id": "e78471e7-2c0c-431f-9778-b809ef5a58b4",
   "metadata": {},
   "outputs": [],
   "source": []
  }
 ],
 "metadata": {
  "kernelspec": {
   "display_name": "Python 3 (ipykernel)",
   "language": "python",
   "name": "python3"
  },
  "language_info": {
   "codemirror_mode": {
    "name": "ipython",
    "version": 3
   },
   "file_extension": ".py",
   "mimetype": "text/x-python",
   "name": "python",
   "nbconvert_exporter": "python",
   "pygments_lexer": "ipython3",
   "version": "3.11.5"
  }
 },
 "nbformat": 4,
 "nbformat_minor": 5
}
