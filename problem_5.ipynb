{
 "cells": [
  {
   "cell_type": "markdown",
   "id": "68e204a8-60e0-4f64-9253-25ab7b9e91c6",
   "metadata": {},
   "source": [
    "## 1. 클래스 상속받고 메서드 추가"
   ]
  },
  {
   "cell_type": "code",
   "execution_count": 1,
   "id": "b12a6619-a836-41a5-926a-a3a0ae5b0569",
   "metadata": {
    "tags": []
   },
   "outputs": [],
   "source": [
    "class Calculator :\n",
    "    def __init__(self):\n",
    "        self.value = 0\n",
    "        \n",
    "    def add(self, val):\n",
    "        self.value += val\n",
    "\n",
    "class UpgradeCalculator(Calculator) :\n",
    "    def add(self, val):\n",
    "        self.value -= val"
   ]
  },
  {
   "cell_type": "markdown",
   "id": "dabb9b12-9c8c-4236-8a02-e6555b9f3917",
   "metadata": {},
   "source": [
    "## 2. 클래스 상속받고 메서드 추가2"
   ]
  },
  {
   "cell_type": "code",
   "execution_count": 2,
   "id": "385e710f-6128-4ce0-8fb9-a03e9d64be25",
   "metadata": {
    "tags": []
   },
   "outputs": [],
   "source": [
    "class MaxLimitCalculator(Calculator):\n",
    "    def add(self, val):\n",
    "        self.value += val\n",
    "        if self.value > 100 :\n",
    "            self.value = 100"
   ]
  },
  {
   "cell_type": "markdown",
   "id": "d0501e74-27d2-4de6-94a5-9a664a6750c2",
   "metadata": {},
   "source": [
    "## 3. 참과 거짓 예측하기"
   ]
  },
  {
   "cell_type": "code",
   "execution_count": 3,
   "id": "b4888b50-9796-4c81-8388-20fe69300a66",
   "metadata": {
    "tags": []
   },
   "outputs": [],
   "source": [
    "# 리스트의 요솟값 중 0이 있으면 False\n",
    "#True"
   ]
  },
  {
   "cell_type": "markdown",
   "id": "4656d2a8-a6ce-45f0-bda5-d82041d9ed06",
   "metadata": {},
   "source": [
    "## 4. 음수 제거하기"
   ]
  },
  {
   "cell_type": "code",
   "execution_count": 5,
   "id": "b11bc66f-54da-43df-895d-ba015546e2f8",
   "metadata": {
    "tags": []
   },
   "outputs": [
    {
     "data": {
      "text/plain": [
       "[1, 3, 8]"
      ]
     },
     "execution_count": 5,
     "metadata": {},
     "output_type": "execute_result"
    }
   ],
   "source": [
    "list(filter(lambda x: x>0, [1,-2,3,-5,8,-3]))"
   ]
  },
  {
   "cell_type": "markdown",
   "id": "00d44aaa-a46d-478a-a627-7b9531202921",
   "metadata": {},
   "source": [
    "## 5. 16진수를 10진수로 변경하기"
   ]
  },
  {
   "cell_type": "code",
   "execution_count": 7,
   "id": "f70eda0c-c218-4a6d-a351-7ebbdb76dcc6",
   "metadata": {
    "tags": []
   },
   "outputs": [
    {
     "data": {
      "text/plain": [
       "234"
      ]
     },
     "execution_count": 7,
     "metadata": {},
     "output_type": "execute_result"
    }
   ],
   "source": [
    "#234라는 10진수의 16진수는 hex(234)\n",
    "int('0xea',16)"
   ]
  },
  {
   "cell_type": "markdown",
   "id": "c4dd64dc-3707-4860-9f29-56f6463dae88",
   "metadata": {},
   "source": [
    "## 6. 리스트 항목마다 3 곱하여 리턴하기"
   ]
  },
  {
   "cell_type": "code",
   "execution_count": 8,
   "id": "65a371fa-6604-4285-8e32-e4364366b83f",
   "metadata": {
    "tags": []
   },
   "outputs": [
    {
     "data": {
      "text/plain": [
       "[3, 6, 9, 12]"
      ]
     },
     "execution_count": 8,
     "metadata": {},
     "output_type": "execute_result"
    }
   ],
   "source": [
    "list(map(lambda x: x*3, [1,2,3,4]))"
   ]
  },
  {
   "cell_type": "markdown",
   "id": "ea7a2adb-4272-4a33-82cc-bb6f8f8c4358",
   "metadata": {},
   "source": [
    "## 7. 최댓값과 최솟값의 합"
   ]
  },
  {
   "cell_type": "code",
   "execution_count": 13,
   "id": "06c729e7-7143-4b11-bb8c-cf60b45c0e66",
   "metadata": {
    "tags": []
   },
   "outputs": [
    {
     "name": "stdout",
     "output_type": "stream",
     "text": [
      "-1\n"
     ]
    }
   ],
   "source": [
    "lst = [-8,2,7,5,-3,5,0,1]\n",
    "m = max(lst)\n",
    "i = min(lst)\n",
    "print(m+i)"
   ]
  },
  {
   "cell_type": "markdown",
   "id": "fe0e8016-1960-454e-bbca-22e0590c19ae",
   "metadata": {},
   "source": [
    "## 8. 소숫점 반올림하기"
   ]
  },
  {
   "cell_type": "code",
   "execution_count": 16,
   "id": "d9393b50-fae5-4e69-b258-c032473d3cf2",
   "metadata": {
    "tags": []
   },
   "outputs": [
    {
     "data": {
      "text/plain": [
       "5.6667"
      ]
     },
     "execution_count": 16,
     "metadata": {},
     "output_type": "execute_result"
    }
   ],
   "source": [
    "round(17/3, 4)"
   ]
  },
  {
   "cell_type": "markdown",
   "id": "84c34ae2-1894-496e-a490-eb5d26c11fd6",
   "metadata": {},
   "source": [
    "## 9. 디렉터리 이동하고 파일 목록 출력하기"
   ]
  },
  {
   "cell_type": "code",
   "execution_count": null,
   "id": "51f2c993-20e1-4176-a27c-0912d3b98d22",
   "metadata": {
    "tags": []
   },
   "outputs": [],
   "source": [
    "import os\n",
    "\n",
    "os.chdir('c:\\doit')\n",
    "\n",
    "result = os.popen('dir')\n",
    "\n",
    "print(result.read())"
   ]
  },
  {
   "cell_type": "markdown",
   "id": "f8ab535b-f54f-46a0-87e4-973ff7f3d2b1",
   "metadata": {},
   "source": [
    "## 10. 파일 확장자가 .py인 파일만 찾기"
   ]
  },
  {
   "cell_type": "code",
   "execution_count": 18,
   "id": "40bb5f96-21bd-464b-9505-e10140dd5feb",
   "metadata": {
    "tags": []
   },
   "outputs": [
    {
     "data": {
      "text/plain": [
       "[]"
      ]
     },
     "execution_count": 18,
     "metadata": {},
     "output_type": "execute_result"
    }
   ],
   "source": [
    "import glob\n",
    "glob.glob('c:/doit/*.py')"
   ]
  },
  {
   "cell_type": "markdown",
   "id": "9f48b7b5-d8d9-4a37-9bb4-6ffb2d77a4cf",
   "metadata": {},
   "source": [
    "## 11. 날짜 표시하기"
   ]
  },
  {
   "cell_type": "code",
   "execution_count": 19,
   "id": "cd8634ae-7a71-4fad-84cd-982ca9307760",
   "metadata": {
    "tags": []
   },
   "outputs": [
    {
     "data": {
      "text/plain": [
       "'2025/02/21 09:30:57'"
      ]
     },
     "execution_count": 19,
     "metadata": {},
     "output_type": "execute_result"
    }
   ],
   "source": [
    "import time\n",
    "time.strftime(\"%Y/%m/%d %H:%M:%S\")"
   ]
  },
  {
   "cell_type": "markdown",
   "id": "e9faa04d-3b64-4cdf-ab2f-8a15e6b6c61c",
   "metadata": {},
   "source": [
    "## 12. 로또 번호 생성하기"
   ]
  },
  {
   "cell_type": "code",
   "execution_count": 20,
   "id": "71b7434d-87f8-4be9-866f-2382749e2fc6",
   "metadata": {
    "tags": []
   },
   "outputs": [
    {
     "name": "stdout",
     "output_type": "stream",
     "text": [
      "[35, 2, 37, 9, 44, 1]\n"
     ]
    }
   ],
   "source": [
    "import random \n",
    "\n",
    "result = []\n",
    "while len(result) < 6:\n",
    "    num = random.randint(1,45)\n",
    "    if num not in result:\n",
    "        result.append(num)\n",
    "        \n",
    "print(result)"
   ]
  },
  {
   "cell_type": "markdown",
   "id": "0b3b16ea-afdf-45be-9f24-c0282c97bc78",
   "metadata": {},
   "source": [
    "## 13. 누나는 영철이보다 며칠 더 먼저 태어났을까?"
   ]
  },
  {
   "cell_type": "code",
   "execution_count": 23,
   "id": "59a211f2-d29b-483b-b221-63effd52955c",
   "metadata": {
    "tags": []
   },
   "outputs": [
    {
     "data": {
      "text/plain": [
       "1051"
      ]
     },
     "execution_count": 23,
     "metadata": {},
     "output_type": "execute_result"
    }
   ],
   "source": [
    "import datetime\n",
    "\n",
    "sister = datetime.date(1995,11,20)\n",
    "me = datetime.date(1998,10,6)\n",
    "\n",
    "(me-sister).days"
   ]
  },
  {
   "cell_type": "markdown",
   "id": "76c0c797-7301-4750-9276-43ce6a025df9",
   "metadata": {},
   "source": [
    "## 14. 기록순으로 정렬하기"
   ]
  },
  {
   "cell_type": "code",
   "execution_count": null,
   "id": "50f6d360-1f74-4b5a-b63a-8fb54f856ee3",
   "metadata": {},
   "outputs": [],
   "source": [
    "import operator\n",
    "\n",
    "data = sorted(data, key = operator.itemgetter(1))\n",
    "for d in data :\n",
    "    print(d)"
   ]
  },
  {
   "cell_type": "markdown",
   "id": "f5b58ceb-5f76-4f7a-9ee3-2637e0028a28",
   "metadata": {},
   "source": [
    "## 15. 청소 당번 두명 뽑기"
   ]
  },
  {
   "cell_type": "code",
   "execution_count": 25,
   "id": "8ef2ca93-4fcd-475e-b30e-877c9561619c",
   "metadata": {
    "tags": []
   },
   "outputs": [
    {
     "name": "stdout",
     "output_type": "stream",
     "text": [
      "[('나지혜', '성성민'), ('나지혜', '윤지현'), ('나지혜', '김정숙'), ('성성민', '윤지현'), ('성성민', '김정숙'), ('윤지현', '김정숙')]\n"
     ]
    }
   ],
   "source": [
    "#4명 중 2명 뽑는 경우의 수 모두 뽑기\n",
    "import itertools\n",
    "lst = ['나지혜', '성성민', '윤지현', '김정숙']\n",
    "result = itertools.combinations(lst, 2)\n",
    "print(list(result))"
   ]
  },
  {
   "cell_type": "markdown",
   "id": "d744fe53-9728-4c14-88b9-72fd1fae266b",
   "metadata": {},
   "source": [
    "## 16. 문자열 나열하기"
   ]
  },
  {
   "cell_type": "code",
   "execution_count": 27,
   "id": "579f4fd5-6851-4565-84c6-037a4480d975",
   "metadata": {
    "tags": []
   },
   "outputs": [
    {
     "name": "stdout",
     "output_type": "stream",
     "text": [
      "abcd\n",
      "abdc\n",
      "acbd\n",
      "acdb\n",
      "adbc\n",
      "adcb\n",
      "bacd\n",
      "badc\n",
      "bcad\n",
      "bcda\n",
      "bdac\n",
      "bdca\n",
      "cabd\n",
      "cadb\n",
      "cbad\n",
      "cbda\n",
      "cdab\n",
      "cdba\n",
      "dabc\n",
      "dacb\n",
      "dbac\n",
      "dbca\n",
      "dcab\n",
      "dcba\n"
     ]
    }
   ],
   "source": [
    "#리턴되는 순열의 항목은 튜플이므로 join으로 묶음\n",
    "import itertools\n",
    "\n",
    "a = 'abcd'\n",
    "result = itertools.permutations(a,4)\n",
    "for r in result:\n",
    "    print(''.join(r))"
   ]
  },
  {
   "cell_type": "markdown",
   "id": "386a992f-1d13-47e3-ae4c-0a57cfaeddb3",
   "metadata": {},
   "source": [
    "## 17. 다섯명에게 할 일 부여하기"
   ]
  },
  {
   "cell_type": "code",
   "execution_count": 32,
   "id": "5365873b-3fbe-47f2-8dc3-7d7677ef65c8",
   "metadata": {
    "tags": []
   },
   "outputs": [
    {
     "name": "stdout",
     "output_type": "stream",
     "text": [
      "('김승현', '청소')\n",
      "('김진호', '빨래')\n",
      "('강춘자', '설거지')\n",
      "('이예준', '휴식')\n",
      "('김현주', '휴식')\n"
     ]
    }
   ],
   "source": [
    "people = ['김승현', '김진호', '강춘자', '이예준', '김현주']\n",
    "duty = ['청소', '빨래', '설거지']\n",
    "\n",
    "random.sample(people, len(people))\n",
    "result = itertools.zip_longest(people, duty, fillvalue = '휴식')\n",
    "\n",
    "for r in result:\n",
    "    print(r)"
   ]
  },
  {
   "cell_type": "markdown",
   "id": "0bebce21-1201-41eb-9adb-8d60ec7d4b61",
   "metadata": {},
   "source": [
    "## 18. 벽에 타일 붙이기"
   ]
  },
  {
   "cell_type": "code",
   "execution_count": 43,
   "id": "5dc008c1-30ff-4468-998d-4de8c29f37f2",
   "metadata": {
    "tags": []
   },
   "outputs": [
    {
     "name": "stdout",
     "output_type": "stream",
     "text": [
      "한 선의 길이: 40\n",
      "필요한 타일의 갯수는: 10.0개\n"
     ]
    }
   ],
   "source": [
    "import math\n",
    "\n",
    "size = math.gcd(200, 80)\n",
    "print(f'한 선의 길이: {size}')\n",
    "\n",
    "cnt_w = 200/40\n",
    "cnt_h = 80/40\n",
    "\n",
    "print(f'필요한 타일의 갯수는: {cnt_w * cnt_h}개')"
   ]
  },
  {
   "cell_type": "code",
   "execution_count": null,
   "id": "d675c754-1b5d-47fc-9b33-c7d113695ed7",
   "metadata": {},
   "outputs": [],
   "source": []
  }
 ],
 "metadata": {
  "kernelspec": {
   "display_name": "Python 3 (ipykernel)",
   "language": "python",
   "name": "python3"
  },
  "language_info": {
   "codemirror_mode": {
    "name": "ipython",
    "version": 3
   },
   "file_extension": ".py",
   "mimetype": "text/x-python",
   "name": "python",
   "nbconvert_exporter": "python",
   "pygments_lexer": "ipython3",
   "version": "3.11.5"
  }
 },
 "nbformat": 4,
 "nbformat_minor": 5
}
