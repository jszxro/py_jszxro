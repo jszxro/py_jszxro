{
 "cells": [
  {
   "cell_type": "markdown",
   "id": "0d5e3120-c8a2-4269-b82b-9e7d0a31f436",
   "metadata": {},
   "source": [
    "# 함수"
   ]
  },
  {
   "cell_type": "markdown",
   "id": "6f918c4c-95ee-4393-a179-8ee796bf8aac",
   "metadata": {},
   "source": [
    "## 입력값과 리턴값에 따른 함수의 형태"
   ]
  },
  {
   "cell_type": "code",
   "execution_count": 1,
   "id": "f1204efa-a29f-4bc2-b02d-a6db25c1fb44",
   "metadata": {},
   "outputs": [],
   "source": [
    "#입력값이 없는 함수\n",
    "\n",
    "def say():\n",
    "    return '안녕'"
   ]
  },
  {
   "cell_type": "code",
   "execution_count": 2,
   "id": "53c5d4a1-32ba-4fa2-b6f4-4c61454604ca",
   "metadata": {
    "tags": []
   },
   "outputs": [
    {
     "name": "stdout",
     "output_type": "stream",
     "text": [
      "안녕\n"
     ]
    }
   ],
   "source": [
    "a = say()\n",
    "print(a)"
   ]
  },
  {
   "cell_type": "code",
   "execution_count": 3,
   "id": "415b08d2-a228-4e23-8da5-6b86394bfc31",
   "metadata": {
    "tags": []
   },
   "outputs": [],
   "source": [
    "#리턴값이 없는 함수\n",
    "def add(a,b):\n",
    "    print(\"%d, %d의 합은 %d입니다\" %(a, b, a+b))"
   ]
  },
  {
   "cell_type": "code",
   "execution_count": 4,
   "id": "a65ae36e-3279-42ae-98a1-08ab8e86da77",
   "metadata": {
    "tags": []
   },
   "outputs": [
    {
     "name": "stdout",
     "output_type": "stream",
     "text": [
      "11, 33의 합은 44입니다\n"
     ]
    }
   ],
   "source": [
    "add(11, 33)"
   ]
  },
  {
   "cell_type": "code",
   "execution_count": 5,
   "id": "16d47a48-4989-4725-b022-541468fc0596",
   "metadata": {
    "tags": []
   },
   "outputs": [],
   "source": [
    "#입력값과 리턴값이 없는 함수\n",
    "\n",
    "def say():\n",
    "    print('안녕')\n",
    "    print('난 입력값과 리턴값이 업성')"
   ]
  },
  {
   "cell_type": "code",
   "execution_count": 6,
   "id": "dc419de4-5421-4622-a750-68e7f19890b2",
   "metadata": {
    "tags": []
   },
   "outputs": [
    {
     "name": "stdout",
     "output_type": "stream",
     "text": [
      "안녕\n",
      "난 입력값과 리턴값이 업성\n"
     ]
    }
   ],
   "source": [
    "say()"
   ]
  },
  {
   "cell_type": "code",
   "execution_count": 7,
   "id": "38da79f9-7045-4641-891d-b9a317083b89",
   "metadata": {
    "tags": []
   },
   "outputs": [],
   "source": [
    "import time as t\n",
    "\n",
    "def disp():\n",
    "    print('안녕')\n",
    "    t.sleep(1)\n",
    "    print('난 입력값과 리턴값이 업성')"
   ]
  },
  {
   "cell_type": "code",
   "execution_count": 8,
   "id": "e9e881a6-7aaf-47b1-8ab0-7a2dcbad9940",
   "metadata": {
    "tags": []
   },
   "outputs": [
    {
     "name": "stdout",
     "output_type": "stream",
     "text": [
      "안녕\n",
      "난 입력값과 리턴값이 업성\n"
     ]
    }
   ],
   "source": [
    "disp()"
   ]
  },
  {
   "cell_type": "code",
   "execution_count": 11,
   "id": "8b74f120-f06e-476f-a984-a48652557db5",
   "metadata": {
    "tags": []
   },
   "outputs": [],
   "source": [
    "import matplotlib.pyplot as plt"
   ]
  },
  {
   "cell_type": "code",
   "execution_count": 12,
   "id": "b69909c7-80e5-4659-ac0c-0a27f4da4243",
   "metadata": {
    "tags": []
   },
   "outputs": [],
   "source": [
    "#여러개의 입력값을 받는 함수 만들기\n",
    "\n",
    "def add_many():\n",
    "    result = 0\n",
    "    for i in args:\n",
    "        result = result + 1"
   ]
  },
  {
   "cell_type": "markdown",
   "id": "2b52a7cf-b07b-4256-b7c7-e620da81dfe6",
   "metadata": {},
   "source": [
    "## 함수 안에서 선언한 변수의 효력 범위"
   ]
  },
  {
   "cell_type": "code",
   "execution_count": 4,
   "id": "f3a934f8-4ddb-464c-9c78-b801e44c35ef",
   "metadata": {
    "tags": []
   },
   "outputs": [],
   "source": [
    "a = 1"
   ]
  },
  {
   "cell_type": "code",
   "execution_count": 14,
   "id": "75f37f92-08a2-40f5-a5dd-c1da3e9cb1de",
   "metadata": {
    "tags": []
   },
   "outputs": [
    {
     "name": "stdout",
     "output_type": "stream",
     "text": [
      "1\n"
     ]
    }
   ],
   "source": [
    "a = 1\n",
    "def test1(a) :\n",
    "    a = a+1\n",
    "test1(a)\n",
    "print(a)"
   ]
  },
  {
   "cell_type": "code",
   "execution_count": 15,
   "id": "cd9ad0ae-4aab-49c6-adf6-987991bc5ac0",
   "metadata": {
    "tags": []
   },
   "outputs": [
    {
     "name": "stdout",
     "output_type": "stream",
     "text": [
      "1\n"
     ]
    }
   ],
   "source": [
    "def test2(a) :\n",
    "    a = a+1\n",
    "test2(3)\n",
    "print(a)"
   ]
  },
  {
   "cell_type": "code",
   "execution_count": 17,
   "id": "3b81bf5d-cc09-40e4-8063-babadba8f4de",
   "metadata": {
    "tags": []
   },
   "outputs": [
    {
     "name": "stdout",
     "output_type": "stream",
     "text": [
      "2\n"
     ]
    }
   ],
   "source": [
    "c = 1\n",
    "def test3(c) :\n",
    "    c = c+1\n",
    "    return c\n",
    "c = test3(c)\n",
    "print(c)"
   ]
  },
  {
   "cell_type": "code",
   "execution_count": 22,
   "id": "44a8e659-0aa0-4890-999d-d704cc32c3a4",
   "metadata": {
    "tags": []
   },
   "outputs": [
    {
     "name": "stdout",
     "output_type": "stream",
     "text": [
      "2\n"
     ]
    }
   ],
   "source": [
    "d = 1\n",
    "def test4():\n",
    "    global d\n",
    "    d = d+1\n",
    "test4()\n",
    "print(d)"
   ]
  },
  {
   "cell_type": "markdown",
   "id": "974df205-7639-41fe-8146-ea5d526337a6",
   "metadata": {},
   "source": [
    "## lambda 예약어(익명함수)"
   ]
  },
  {
   "cell_type": "code",
   "execution_count": 23,
   "id": "950d154e-b4ff-49af-a9da-1be75139218d",
   "metadata": {
    "tags": []
   },
   "outputs": [
    {
     "name": "stdout",
     "output_type": "stream",
     "text": [
      "7\n"
     ]
    }
   ],
   "source": [
    "add = lambda a, b: a+b\n",
    "print(add(3,4))"
   ]
  },
  {
   "cell_type": "code",
   "execution_count": 24,
   "id": "b6817efc-0d4b-4df1-9eaa-fc8851f98666",
   "metadata": {
    "tags": []
   },
   "outputs": [
    {
     "name": "stdout",
     "output_type": "stream",
     "text": [
      "[0, 1, 2, 3, 4, 5, 6, 7, 8, 9]\n"
     ]
    }
   ],
   "source": [
    "a1 = [x for x in range(10)]\n",
    "print(a1)"
   ]
  },
  {
   "cell_type": "code",
   "execution_count": 25,
   "id": "a4be9888-b1e4-49a3-91cb-82d67c761d5f",
   "metadata": {
    "tags": []
   },
   "outputs": [],
   "source": [
    "a2 = [(lambda x:x*2) (x) for x in range(10)]"
   ]
  },
  {
   "cell_type": "code",
   "execution_count": 26,
   "id": "f3422892-47b0-4e4a-8b5f-585a9ab542f2",
   "metadata": {
    "tags": []
   },
   "outputs": [
    {
     "name": "stdout",
     "output_type": "stream",
     "text": [
      "[0, 2, 4, 6, 8, 10, 12, 14, 16, 18]\n"
     ]
    }
   ],
   "source": [
    "print(a2)"
   ]
  },
  {
   "cell_type": "code",
   "execution_count": 28,
   "id": "cc69138a-92d1-4c19-b0cb-69af8a4a5e3a",
   "metadata": {
    "tags": []
   },
   "outputs": [
    {
     "name": "stdout",
     "output_type": "stream",
     "text": [
      "[0, 1, 4, 9, 16, 25, 36, 49, 64, 81]\n"
     ]
    }
   ],
   "source": [
    "# map() -> 새로 배열을 만들어라\n",
    "a3 = [0, 1, 2, 3, 4, 5, 6, 7, 8, 9]\n",
    "print(list(map(lambda x : x**2, a3)))"
   ]
  },
  {
   "cell_type": "markdown",
   "id": "156b9365-19d0-4188-8bff-e14a15611d66",
   "metadata": {},
   "source": [
    "<table>\n",
    "<thead>\n",
    "<tr>\n",
    "<th>파일열기모드</th>\n",
    "<th>설명</th>\n",
    "</tr>\n",
    "</thead>\n",
    "<tbody>\n",
    "<tr>\n",
    "<td>r</td>\n",
    "<td>읽기 모드: 파일을 읽기만 할 때 사용한다.</td>\n",
    "</tr>\n",
    "<tr>\n",
    "<td>w</td>\n",
    "<td>쓰기 모드: 파일에 내용을 쓸 때 사용한다.</td>\n",
    "</tr>\n",
    "<tr>\n",
    "<td>a</td>\n",
    "<td>추가 모드: 파일의 마지막에 새로운 내용을 추가할 때 사용한다.</td>\n",
    "</tr>\n",
    "</tbody>\n",
    "</table>"
   ]
  },
  {
   "cell_type": "code",
   "execution_count": 34,
   "id": "0af79b21-8ac2-4ef1-85fd-20449b83b5b0",
   "metadata": {
    "tags": []
   },
   "outputs": [],
   "source": [
    "# 파일 생성하기2 + 경로\n",
    "path = './testfile/'\n",
    "if not os.path.exists(path):\n",
    "    os.makedirs(path)\n",
    "f = open(path+'새파일생성3.txt', 'w')\n",
    "f.close()"
   ]
  },
  {
   "cell_type": "code",
   "execution_count": 33,
   "id": "b1502e09-397d-454f-98a9-e3f10a50c41e",
   "metadata": {
    "tags": []
   },
   "outputs": [
    {
     "name": "stdout",
     "output_type": "stream",
     "text": [
      "C:\\Users\\jszxr\\MyJupyter\\code_PK\n"
     ]
    }
   ],
   "source": [
    "# 파일을 쓰기 모드로 열어 내용 쓰기\n",
    "\n",
    "import os\n",
    "print(os.getcwd())  # 현재 작업 디렉토리 확인"
   ]
  },
  {
   "cell_type": "code",
   "execution_count": 36,
   "id": "a1145e14-6646-4422-9511-bb3a6dfa3636",
   "metadata": {
    "tags": []
   },
   "outputs": [],
   "source": [
    "path = './textfile/'\n",
    "f = open(path+'새파일생성3.txt', 'w', encoding='utf-8')\n",
    "f.write('안녕')\n",
    "f.close()"
   ]
  },
  {
   "cell_type": "code",
   "execution_count": 40,
   "id": "ad96e860-d108-446a-844e-29a36468b25f",
   "metadata": {},
   "outputs": [],
   "source": [
    "import random\n",
    "path = './textfile/'\n",
    "f = open(path+'lotto.txt', 'w', encoding='utf-8')\n",
    "\n",
    "for j in range(1000) :\n",
    "    num1 = sorted(random.sample(range(1, 46), 6))\n",
    "    f.write(','.join(map(str, num1)) + '\\n')\n",
    "\n",
    "f.close()"
   ]
  },
  {
   "cell_type": "code",
   "execution_count": 47,
   "id": "f02f3abe-8777-45c1-a5cf-8a0d7cd00aec",
   "metadata": {
    "tags": []
   },
   "outputs": [],
   "source": [
    "path = './textfile/'\n",
    "f = open(path+'새파일생성4.txt', 'w', encoding='utf-8')\n",
    "for i in range(10) :\n",
    "    f.write(f'{i+1}번째 배고픔\\n')\n",
    "f.close()"
   ]
  },
  {
   "cell_type": "code",
   "execution_count": 51,
   "id": "b39226f1-c8f1-4819-9d5e-47e19924e037",
   "metadata": {
    "tags": []
   },
   "outputs": [
    {
     "name": "stdout",
     "output_type": "stream",
     "text": [
      "1번째 배고픔\n",
      "\n"
     ]
    }
   ],
   "source": [
    "f = open(path +'새파일생성4.txt', 'r', encoding='utf-8')\n",
    "line = f.readline()\n",
    "print(line)\n",
    "f.close()"
   ]
  },
  {
   "cell_type": "code",
   "execution_count": 53,
   "id": "20c49f08-cb01-4c84-a579-be1d5d8f00da",
   "metadata": {
    "tags": []
   },
   "outputs": [
    {
     "name": "stdout",
     "output_type": "stream",
     "text": [
      "1번째 배고픔\n",
      "\n",
      "2번째 배고픔\n",
      "\n",
      "3번째 배고픔\n",
      "\n",
      "4번째 배고픔\n",
      "\n",
      "5번째 배고픔\n",
      "\n",
      "6번째 배고픔\n",
      "\n",
      "7번째 배고픔\n",
      "\n",
      "8번째 배고픔\n",
      "\n",
      "9번째 배고픔\n",
      "\n",
      "10번째 배고픔\n",
      "\n"
     ]
    }
   ],
   "source": [
    "f = open(path +'새파일생성4.txt', 'r', encoding='utf-8')\n",
    "while True:\n",
    "    line = f.readline()\n",
    "    if not line : break\n",
    "    print(line)\n",
    "f.close()"
   ]
  },
  {
   "cell_type": "code",
   "execution_count": 54,
   "id": "701c9ef5-4301-47e4-84db-9d4b36bda7a9",
   "metadata": {
    "tags": []
   },
   "outputs": [],
   "source": [
    "def diary(name):\n",
    "    path = './textfile/'\n",
    "    f = open(path + name + '.txt', 'a', encoding='utf-8')\n",
    "    while 1:\n",
    "        input('작성하고 싶은 내용')\n",
    "        if inp == '그만' : break\n",
    "        f.write(inp+'\\n')\n",
    "    f.close()"
   ]
  },
  {
   "cell_type": "code",
   "execution_count": null,
   "id": "0db1ab06-e909-4a7b-81cc-9f2c9b1143c5",
   "metadata": {},
   "outputs": [],
   "source": [
    "diary('20250211일기')"
   ]
  },
  {
   "cell_type": "code",
   "execution_count": 61,
   "id": "3e815753-c6c5-413d-b171-423ea40957b7",
   "metadata": {
    "tags": []
   },
   "outputs": [],
   "source": [
    "# #readlines + strip() -> list\n",
    "# f = open(path+'새파일생성4.txt', 'r', encoding='utf-8')\n",
    "# lines = f.readlines()\n",
    "# print(lines, type(lines))\n",
    "# for i in lines:\n",
    "#     # i = i.strip()\n",
    "#     # print(i, end='')\n",
    "#     print(list(i))\n",
    "#     print(i)\n",
    "# f.close()"
   ]
  },
  {
   "cell_type": "code",
   "execution_count": 62,
   "id": "b3cf2cdd-2813-4d1f-b34f-ecdb574f9cbe",
   "metadata": {
    "tags": []
   },
   "outputs": [],
   "source": [
    "# open('파일이름.txt',w)\n",
    "# open('파일이름.txt', 'w', encoding='utf-8').write('내용작성')\n",
    "# open('파일이름.txt', 'w', encoding='utf-8').close() # 이거 두개는 다름 위에서 안닫아서"
   ]
  },
  {
   "cell_type": "code",
   "execution_count": 64,
   "id": "aefa5c38-fb32-4677-998d-1528adccc9c3",
   "metadata": {
    "tags": []
   },
   "outputs": [],
   "source": [
    "#read 함수 사용하기 -> 파일 전체를 문자열 str로 리턴"
   ]
  },
  {
   "cell_type": "code",
   "execution_count": 66,
   "id": "ad7cdb38-9b7b-4379-be20-ac1c16fc5c98",
   "metadata": {
    "tags": []
   },
   "outputs": [
    {
     "name": "stdout",
     "output_type": "stream",
     "text": [
      "<_io.TextIOWrapper name='./textfile/새파일생성4.txt' mode='r' encoding='utf-8'>\n",
      "<_io.TextIOWrapper name='./textfile/새파일생성4.txt' mode='r' encoding='utf-8'>\n",
      "<_io.TextIOWrapper name='./textfile/새파일생성4.txt' mode='r' encoding='utf-8'>\n",
      "<_io.TextIOWrapper name='./textfile/새파일생성4.txt' mode='r' encoding='utf-8'>\n",
      "<_io.TextIOWrapper name='./textfile/새파일생성4.txt' mode='r' encoding='utf-8'>\n",
      "<_io.TextIOWrapper name='./textfile/새파일생성4.txt' mode='r' encoding='utf-8'>\n",
      "<_io.TextIOWrapper name='./textfile/새파일생성4.txt' mode='r' encoding='utf-8'>\n",
      "<_io.TextIOWrapper name='./textfile/새파일생성4.txt' mode='r' encoding='utf-8'>\n",
      "<_io.TextIOWrapper name='./textfile/새파일생성4.txt' mode='r' encoding='utf-8'>\n",
      "<_io.TextIOWrapper name='./textfile/새파일생성4.txt' mode='r' encoding='utf-8'>\n"
     ]
    }
   ],
   "source": [
    "path = './textfile/'\n",
    "f = open(path + '새파일생성4.txt', 'r', encoding='utf-8')\n",
    "for line in f:\n",
    "    print(f)\n",
    "f.close()"
   ]
  },
  {
   "cell_type": "code",
   "execution_count": 67,
   "id": "bb8f6085-4f45-41c2-9d69-45f762161686",
   "metadata": {
    "tags": []
   },
   "outputs": [
    {
     "name": "stdout",
     "output_type": "stream",
     "text": [
      "<_io.TextIOWrapper name='./textfile/새파일생성4.txt' mode='r' encoding='utf-8'>\n",
      "<_io.TextIOWrapper name='./textfile/새파일생성4.txt' mode='r' encoding='utf-8'>\n",
      "<_io.TextIOWrapper name='./textfile/새파일생성4.txt' mode='r' encoding='utf-8'>\n",
      "<_io.TextIOWrapper name='./textfile/새파일생성4.txt' mode='r' encoding='utf-8'>\n",
      "<_io.TextIOWrapper name='./textfile/새파일생성4.txt' mode='r' encoding='utf-8'>\n",
      "<_io.TextIOWrapper name='./textfile/새파일생성4.txt' mode='r' encoding='utf-8'>\n",
      "<_io.TextIOWrapper name='./textfile/새파일생성4.txt' mode='r' encoding='utf-8'>\n",
      "<_io.TextIOWrapper name='./textfile/새파일생성4.txt' mode='r' encoding='utf-8'>\n",
      "<_io.TextIOWrapper name='./textfile/새파일생성4.txt' mode='r' encoding='utf-8'>\n",
      "<_io.TextIOWrapper name='./textfile/새파일생성4.txt' mode='r' encoding='utf-8'>\n"
     ]
    }
   ],
   "source": [
    "path = './textfile/'\n",
    "f = open(path + '새파일생성4.txt', 'r', encoding='utf-8')\n",
    "for line in f:\n",
    "    print(f)\n",
    "f.close()"
   ]
  },
  {
   "cell_type": "code",
   "execution_count": 68,
   "id": "4505917d-74f2-4887-9972-3c4e5fc3fa0b",
   "metadata": {
    "tags": []
   },
   "outputs": [
    {
     "name": "stdout",
     "output_type": "stream",
     "text": [
      "1번째 배고픔\n",
      "\n",
      "2번째 배고픔\n",
      "\n",
      "3번째 배고픔\n",
      "\n",
      "4번째 배고픔\n",
      "\n",
      "5번째 배고픔\n",
      "\n",
      "6번째 배고픔\n",
      "\n",
      "7번째 배고픔\n",
      "\n",
      "8번째 배고픔\n",
      "\n",
      "9번째 배고픔\n",
      "\n",
      "10번째 배고픔\n",
      "\n"
     ]
    }
   ],
   "source": [
    "path = './textfile/'\n",
    "with open(path + '새파일생성4.txt', 'r', encoding='utf-8') as f :\n",
    "    for line in f:\n",
    "        print(line)"
   ]
  },
  {
   "cell_type": "code",
   "execution_count": 69,
   "id": "2f16b719-e845-41b3-9e74-f300de7c7f3a",
   "metadata": {
    "tags": []
   },
   "outputs": [],
   "source": [
    "# p182\n",
    "\n",
    "# \"foo + bar\""
   ]
  },
  {
   "cell_type": "markdown",
   "id": "0ba196bc-7fcc-4edb-9c16-59ecf917ade3",
   "metadata": {},
   "source": [
    "## 프로그램의 입출력"
   ]
  },
  {
   "cell_type": "code",
   "execution_count": 70,
   "id": "e5b2c938-f062-4cdc-b80c-17595ac560bd",
   "metadata": {
    "tags": []
   },
   "outputs": [
    {
     "name": "stdout",
     "output_type": "stream",
     "text": [
      "C:\\Users\\jszxr\\anaconda3\\Lib\\site-packages\\ipykernel_launcher.py\n",
      "-f\n",
      "C:\\Users\\jszxr\\AppData\\Roaming\\jupyter\\runtime\\kernel-97449adc-c736-474b-8589-3c6008a34aac.json\n"
     ]
    }
   ],
   "source": [
    "import sys\n",
    "args = sys.argv\n",
    "for i in args:\n",
    "    print(i)"
   ]
  },
  {
   "cell_type": "code",
   "execution_count": 78,
   "id": "5206d2a8-21c8-495d-9d19-0f7e484e2dad",
   "metadata": {
    "tags": []
   },
   "outputs": [
    {
     "name": "stdout",
     "output_type": "stream",
     "text": [
      "===2단===\n",
      "2x1 = 2\n",
      "2x2 = 4\n",
      "2x3 = 6\n",
      "2x4 = 8\n",
      "2x5 = 10\n",
      "2x6 = 12\n",
      "2x7 = 14\n",
      "2x8 = 16\n",
      "2x9 = 18\n",
      "===3단===\n",
      "3x1 = 3\n",
      "3x2 = 6\n",
      "3x3 = 9\n",
      "3x4 = 12\n",
      "3x5 = 15\n",
      "3x6 = 18\n",
      "3x7 = 21\n",
      "3x8 = 24\n",
      "3x9 = 27\n"
     ]
    }
   ],
   "source": [
    "def gugu(a,b):\n",
    "    for i in range(a,a+b) :\n",
    "        print(f'==={i}단===')\n",
    "        for j in range(1,10) :\n",
    "            print(f'{i}x{j} = {i*j}')\n",
    "\n",
    "gugu(2,2)"
   ]
  },
  {
   "cell_type": "code",
   "execution_count": 91,
   "id": "90083ee8-21d6-4683-a41e-dc74c95c0aa0",
   "metadata": {
    "tags": []
   },
   "outputs": [
    {
     "name": "stdout",
     "output_type": "stream",
     "text": [
      "19\n",
      "55,700\n",
      "원\n",
      "17\n",
      "93,800\n",
      "\t\t원\n"
     ]
    }
   ],
   "source": [
    "import requests as req\n",
    "url = 'https://finance.naver.com/sise/sise_market_sum.naver'\n",
    "web = req.get(url)\n",
    "html = web.text\n",
    "# print(html)\n",
    "f1 = html.find('삼성전자')\n",
    "f2 = html.find('기아')\n",
    "\n",
    "print(html[f1:f1+100].find('<td class=\"number\">'))\n",
    "print(html[f1:f1+100][19:50].replace('<td class=\"number\">', '').replace('</td>', '')+'원')\n",
    "print(html[f2:f2+100].find('<td class=\"number\">'))\n",
    "print(html[f2:f2+100][17:50].replace('<td class=\"number\">', '').replace('</td>', '')+'원')"
   ]
  },
  {
   "cell_type": "code",
   "execution_count": null,
   "id": "3ec23931-468f-4c68-abba-efd0bf6a7c34",
   "metadata": {},
   "outputs": [],
   "source": []
  }
 ],
 "metadata": {
  "kernelspec": {
   "display_name": "Python 3 (ipykernel)",
   "language": "python",
   "name": "python3"
  },
  "language_info": {
   "codemirror_mode": {
    "name": "ipython",
    "version": 3
   },
   "file_extension": ".py",
   "mimetype": "text/x-python",
   "name": "python",
   "nbconvert_exporter": "python",
   "pygments_lexer": "ipython3",
   "version": "3.11.5"
  },
  "toc-autonumbering": true
 },
 "nbformat": 4,
 "nbformat_minor": 5
}
