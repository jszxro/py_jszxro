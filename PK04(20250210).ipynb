{
 "cells": [
  {
   "cell_type": "markdown",
   "id": "0d5e3120-c8a2-4269-b82b-9e7d0a31f436",
   "metadata": {},
   "source": [
    "# 함수"
   ]
  },
  {
   "cell_type": "markdown",
   "id": "6f918c4c-95ee-4393-a179-8ee796bf8aac",
   "metadata": {},
   "source": [
    "## 입력값과 리턴값에 따른 함수의 형태"
   ]
  },
  {
   "cell_type": "code",
   "execution_count": 1,
   "id": "f1204efa-a29f-4bc2-b02d-a6db25c1fb44",
   "metadata": {},
   "outputs": [],
   "source": [
    "#입력값이 없는 함수\n",
    "\n",
    "def say():\n",
    "    return '안녕'"
   ]
  },
  {
   "cell_type": "code",
   "execution_count": 2,
   "id": "53c5d4a1-32ba-4fa2-b6f4-4c61454604ca",
   "metadata": {
    "tags": []
   },
   "outputs": [
    {
     "name": "stdout",
     "output_type": "stream",
     "text": [
      "안녕\n"
     ]
    }
   ],
   "source": [
    "a = say()\n",
    "print(a)"
   ]
  },
  {
   "cell_type": "code",
   "execution_count": 3,
   "id": "415b08d2-a228-4e23-8da5-6b86394bfc31",
   "metadata": {
    "tags": []
   },
   "outputs": [],
   "source": [
    "#리턴값이 없는 함수\n",
    "def add(a,b):\n",
    "    print(\"%d, %d의 합은 %d입니다\" %(a, b, a+b))"
   ]
  },
  {
   "cell_type": "code",
   "execution_count": 4,
   "id": "a65ae36e-3279-42ae-98a1-08ab8e86da77",
   "metadata": {
    "tags": []
   },
   "outputs": [
    {
     "name": "stdout",
     "output_type": "stream",
     "text": [
      "11, 33의 합은 44입니다\n"
     ]
    }
   ],
   "source": [
    "add(11, 33)"
   ]
  },
  {
   "cell_type": "code",
   "execution_count": 5,
   "id": "16d47a48-4989-4725-b022-541468fc0596",
   "metadata": {
    "tags": []
   },
   "outputs": [],
   "source": [
    "#입력값과 리턴값이 없는 함수\n",
    "\n",
    "def say():\n",
    "    print('안녕')\n",
    "    print('난 입력값과 리턴값이 업성')"
   ]
  },
  {
   "cell_type": "code",
   "execution_count": 6,
   "id": "dc419de4-5421-4622-a750-68e7f19890b2",
   "metadata": {
    "tags": []
   },
   "outputs": [
    {
     "name": "stdout",
     "output_type": "stream",
     "text": [
      "안녕\n",
      "난 입력값과 리턴값이 업성\n"
     ]
    }
   ],
   "source": [
    "say()"
   ]
  },
  {
   "cell_type": "code",
   "execution_count": 7,
   "id": "38da79f9-7045-4641-891d-b9a317083b89",
   "metadata": {
    "tags": []
   },
   "outputs": [],
   "source": [
    "import time as t\n",
    "\n",
    "def disp():\n",
    "    print('안녕')\n",
    "    t.sleep(1)\n",
    "    print('난 입력값과 리턴값이 업성')"
   ]
  },
  {
   "cell_type": "code",
   "execution_count": 8,
   "id": "e9e881a6-7aaf-47b1-8ab0-7a2dcbad9940",
   "metadata": {
    "tags": []
   },
   "outputs": [
    {
     "name": "stdout",
     "output_type": "stream",
     "text": [
      "안녕\n",
      "난 입력값과 리턴값이 업성\n"
     ]
    }
   ],
   "source": [
    "disp()"
   ]
  },
  {
   "cell_type": "code",
   "execution_count": 11,
   "id": "8b74f120-f06e-476f-a984-a48652557db5",
   "metadata": {
    "tags": []
   },
   "outputs": [],
   "source": [
    "import matplotlib.pyplot as plt"
   ]
  },
  {
   "cell_type": "code",
   "execution_count": 12,
   "id": "b69909c7-80e5-4659-ac0c-0a27f4da4243",
   "metadata": {
    "tags": []
   },
   "outputs": [],
   "source": [
    "#여러개의 입력값을 받는 함수 만들기\n",
    "\n",
    "def add_many():\n",
    "    result = 0\n",
    "    for i in args:\n",
    "        result = result + 1"
   ]
  },
  {
   "cell_type": "code",
   "execution_count": null,
   "id": "57d8035c-3add-491b-a166-8b528e39082a",
   "metadata": {},
   "outputs": [],
   "source": []
  }
 ],
 "metadata": {
  "kernelspec": {
   "display_name": "Python 3 (ipykernel)",
   "language": "python",
   "name": "python3"
  },
  "language_info": {
   "codemirror_mode": {
    "name": "ipython",
    "version": 3
   },
   "file_extension": ".py",
   "mimetype": "text/x-python",
   "name": "python",
   "nbconvert_exporter": "python",
   "pygments_lexer": "ipython3",
   "version": "3.11.5"
  },
  "toc-autonumbering": true
 },
 "nbformat": 4,
 "nbformat_minor": 5
}
