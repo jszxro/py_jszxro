{
 "cells": [
  {
   "cell_type": "markdown",
   "id": "bca3801c-c545-4705-adbb-42c5282b0e7c",
   "metadata": {},
   "source": [
    "## 04장 되새김 문제"
   ]
  },
  {
   "cell_type": "markdown",
   "id": "1af97e16-6131-4144-b19d-ef3d65ac9755",
   "metadata": {},
   "source": [
    "#### 홀수, 짝수 판별하기"
   ]
  },
  {
   "cell_type": "code",
   "execution_count": 1,
   "id": "826722ef-4aa2-4b63-b6d4-adc4da4cc9d5",
   "metadata": {
    "tags": []
   },
   "outputs": [
    {
     "name": "stdin",
     "output_type": "stream",
     "text": [
      "숫자를 입력하세요:  14\n"
     ]
    },
    {
     "name": "stdout",
     "output_type": "stream",
     "text": [
      "False\n"
     ]
    }
   ],
   "source": [
    "a = int(input('숫자를 입력하세요: '))\n",
    "def is_odd(number):\n",
    "    if a % 2 == 1 :\n",
    "        return True\n",
    "    else:\n",
    "        return False\n",
    "\n",
    "print(is_odd(a))"
   ]
  },
  {
   "cell_type": "markdown",
   "id": "2aaf0f56-ac6e-4619-9919-2359ee21bcec",
   "metadata": {},
   "source": [
    "#### 모든 입력의 평균값 구하기"
   ]
  },
  {
   "cell_type": "code",
   "execution_count": 4,
   "id": "5708fd55-5a4b-4955-bd16-e8689365bb6c",
   "metadata": {
    "tags": []
   },
   "outputs": [
    {
     "name": "stdin",
     "output_type": "stream",
     "text": [
      "숫자를 입력하세여:  1,2\n"
     ]
    },
    {
     "name": "stdout",
     "output_type": "stream",
     "text": [
      "1.5\n"
     ]
    }
   ],
   "source": [
    "def avg_numbers(args) :\n",
    "    a = list(args)\n",
    "    return sum(a) / len(a)\n",
    "\n",
    "args = list(map(int, input('숫자를 입력하세여: ').split(',')))\n",
    "print(avg_numbers(args))"
   ]
  },
  {
   "cell_type": "markdown",
   "id": "e3229977-8bce-4001-86d0-2f2906a8eb69",
   "metadata": {},
   "source": [
    "#### 프로그램 오류 수정하기1"
   ]
  },
  {
   "cell_type": "code",
   "execution_count": 4,
   "id": "482004e6-6931-4aa4-a458-0941497c6e53",
   "metadata": {
    "tags": []
   },
   "outputs": [
    {
     "name": "stdin",
     "output_type": "stream",
     "text": [
      "첫 번째 숫자를 입력하세요:  3\n",
      "두 번째 숫자를 입력하세요:  6\n"
     ]
    },
    {
     "name": "stdout",
     "output_type": "stream",
     "text": [
      "두 수의 합은 9입니다\n"
     ]
    }
   ],
   "source": [
    "input1 = int(input('첫 번째 숫자를 입력하세요: '))\n",
    "input2 = int(input('두 번째 숫자를 입력하세요: '))\n",
    "\n",
    "total = input1 + input2\n",
    "print('두 수의 합은 %s입니다' % total)"
   ]
  },
  {
   "cell_type": "markdown",
   "id": "571d62d5-ba37-4b71-8005-b1de187b5728",
   "metadata": {},
   "source": [
    "#### 출력 결과가 다른 것은?"
   ]
  },
  {
   "cell_type": "code",
   "execution_count": 5,
   "id": "72f92866-36c7-4733-bc0c-67266c456035",
   "metadata": {
    "tags": []
   },
   "outputs": [],
   "source": [
    "# 3번 공백이 있음 혼자"
   ]
  },
  {
   "cell_type": "markdown",
   "id": "ff1259ab-a568-4398-a3c5-681d4976da74",
   "metadata": {},
   "source": [
    "#### 프로그램 오류 수정하기2"
   ]
  },
  {
   "cell_type": "code",
   "execution_count": 6,
   "id": "407f596b-c304-4f8e-97c8-8a549920aca8",
   "metadata": {
    "tags": []
   },
   "outputs": [
    {
     "name": "stdout",
     "output_type": "stream",
     "text": [
      "Life is too short\n"
     ]
    }
   ],
   "source": [
    "f1 = open(\"test.txt\", \"w\")\n",
    "f1.write(\"Life is too short\")\n",
    "f1.close()\n",
    "\n",
    "f2 = open(\"test.txt\", \"r\")\n",
    "print(f2.read())"
   ]
  },
  {
   "cell_type": "markdown",
   "id": "143835e7-30f0-4e47-af44-b65563136d48",
   "metadata": {},
   "source": [
    "#### 사용자 입력 저장하기"
   ]
  },
  {
   "cell_type": "code",
   "execution_count": 7,
   "id": "37e5418d-3b41-47a7-a105-7125e44c661b",
   "metadata": {
    "tags": []
   },
   "outputs": [
    {
     "name": "stdin",
     "output_type": "stream",
     "text": [
      "저장할 내용을 입력하세요:  hi\n"
     ]
    }
   ],
   "source": [
    "user_input = input(\"저장할 내용을 입력하세요: \")\n",
    "f = open('test.txt', 'w')\n",
    "f.write(user_input)\n",
    "f.write('\\n')\n",
    "f.close()"
   ]
  },
  {
   "cell_type": "markdown",
   "id": "acd054c9-8fa2-48f2-ba2b-032af8770b7c",
   "metadata": {},
   "source": [
    "#### 파일의 문자열 바꾸기"
   ]
  },
  {
   "cell_type": "code",
   "execution_count": 14,
   "id": "dbf99d75-dfc9-4ab7-978f-9932a93e4d6e",
   "metadata": {
    "tags": []
   },
   "outputs": [
    {
     "name": "stdout",
     "output_type": "stream",
     "text": [
      "Life too short\n",
      "you need python\n"
     ]
    }
   ],
   "source": [
    "f3 = open('test.txt', 'r')\n",
    "body = f3.read()\n",
    "f3.close()\n",
    "\n",
    "body = body.replace('java', 'python')\n",
    "\n",
    "f3 = open('test.txt', 'w')\n",
    "f3.write(body)\n",
    "f3.close()\n",
    "\n",
    "f3 = open('test.txt', 'r')\n",
    "print(f3.read())\n",
    "f3.close()"
   ]
  },
  {
   "cell_type": "markdown",
   "id": "34fc4bc9-bcd7-41a6-83b2-f832c6aba14d",
   "metadata": {},
   "source": [
    "#### 입력값을 모두 더해 출력하기"
   ]
  },
  {
   "cell_type": "code",
   "execution_count": null,
   "id": "c5845715-2e6e-48f7-bb2d-ce0ce2ce3321",
   "metadata": {
    "tags": []
   },
   "outputs": [],
   "source": [
    "import sys\n",
    "\n",
    "args = sys.argv[1:]\n",
    "total = sum(map(int, args))\n",
    "print(total)"
   ]
  },
  {
   "cell_type": "code",
   "execution_count": null,
   "id": "ef125b5e-0af0-4196-9716-c3c6909b37eb",
   "metadata": {},
   "outputs": [],
   "source": []
  }
 ],
 "metadata": {
  "kernelspec": {
   "display_name": "Python 3 (ipykernel)",
   "language": "python",
   "name": "python3"
  },
  "language_info": {
   "codemirror_mode": {
    "name": "ipython",
    "version": 3
   },
   "file_extension": ".py",
   "mimetype": "text/x-python",
   "name": "python",
   "nbconvert_exporter": "python",
   "pygments_lexer": "ipython3",
   "version": "3.11.5"
  }
 },
 "nbformat": 4,
 "nbformat_minor": 5
}
