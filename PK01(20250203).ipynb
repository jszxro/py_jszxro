{
 "cells": [
  {
   "cell_type": "code",
   "execution_count": null,
   "id": "cf7575ad-5427-424e-8ca8-cc247e33e71d",
   "metadata": {
    "tags": []
   },
   "outputs": [],
   "source": [
    "print('하이')"
   ]
  },
  {
   "cell_type": "code",
   "execution_count": null,
   "id": "5283973c-d928-4365-a688-ea08f0eacce0",
   "metadata": {},
   "outputs": [],
   "source": [
    "#` -> 백틱, \\ -> 역슬래시, & -> 앰퍼샌트(and), | -> 버티컬바(or) "
   ]
  },
  {
   "cell_type": "markdown",
   "id": "2a3d39f7-5c60-4790-ad91-a3a0f7d30488",
   "metadata": {},
   "source": [
    "### 주피터랩 단축키\n",
    "- a: 위 셀 추가\n",
    "- b: 아래 셀 추가\n",
    "- Ctrl + shift + 위: 셀 위로 이동\n",
    "- Ctrl + shift + 아래: 셀 아래로 이동\n",
    "- dd: 셀 삭제\n",
    "- x: 셀 잘라내기\n",
    "- c: 셀 복사\n",
    "- v: 셀 붙여넣기\n",
    "- z: undo\n",
    "- shift + z: redo"
   ]
  },
  {
   "cell_type": "code",
   "execution_count": null,
   "id": "a24e8f34-531b-44d2-9548-7750495ce369",
   "metadata": {
    "tags": []
   },
   "outputs": [],
   "source": [
    "print('안녕하지', end=\"말입니다.\")"
   ]
  },
  {
   "cell_type": "code",
   "execution_count": null,
   "id": "bdf53ebc-d651-4b29-9e05-ecbd99601c28",
   "metadata": {
    "tags": []
   },
   "outputs": [],
   "source": [
    "print('안녕하지', end=\"\\n\")\n",
    "#줄 개행"
   ]
  },
  {
   "cell_type": "code",
   "execution_count": null,
   "id": "e74392f6-1e67-42cd-87d3-cd6e7f9c335e",
   "metadata": {
    "tags": []
   },
   "outputs": [],
   "source": [
    "print('안녕하지', end=\"\\r\")\n",
    "# 다른 영역으로 커서를 옮김"
   ]
  },
  {
   "cell_type": "code",
   "execution_count": null,
   "id": "a3cfbda7-57c3-4f8f-90de-949b52c9cea9",
   "metadata": {
    "tags": []
   },
   "outputs": [],
   "source": [
    "x = 15\n",
    "y = 20\n",
    "print(f'x==y : {x == y}') \n",
    "print(f'x is y : {x is y}') "
   ]
  },
  {
   "cell_type": "code",
   "execution_count": null,
   "id": "48a9cc1a-e650-474e-980d-955c35dd32e5",
   "metadata": {
    "tags": []
   },
   "outputs": [],
   "source": [
    "print(1,2,3,4,5, sep='g')"
   ]
  },
  {
   "cell_type": "code",
   "execution_count": null,
   "id": "971a1c78-0a4a-4c79-896c-d94a5627348f",
   "metadata": {
    "tags": []
   },
   "outputs": [],
   "source": [
    "a = 123\n",
    "b = 456\n",
    "\n",
    "print(a+b, end = '\\n=====\\n')\n",
    "print(a-b, end = '\\n=====\\n')\n",
    "print(a*b, end = '\\n=====\\n')\n",
    "print(a/b, end = '\\n=====\\n')\n",
    "print(a//b, end = '\\n=====\\n')\n",
    "print(a%b, end = '\\n=====\\n')\n",
    "print(a**2, end = '\\n=====\\n')"
   ]
  },
  {
   "cell_type": "code",
   "execution_count": 3,
   "id": "cfe76d41-3636-4bf1-8f35-f92f60c44275",
   "metadata": {
    "tags": []
   },
   "outputs": [
    {
     "name": "stdout",
     "output_type": "stream",
     "text": [
      "15\n",
      "127\n",
      "2303 2748\n"
     ]
    }
   ],
   "source": [
    "#2진수(bin), 8진수(oct)와 16진수(hex)\n",
    "\n",
    "aaa1 = 0b1111\n",
    "print(aaa1)\n",
    "\n",
    "aaa = 0o177\n",
    "print(aaa)\n",
    "\n",
    "bbb = 0x8ff\n",
    "ccc = 0xABC\n",
    "\n",
    "print(bbb, ccc)"
   ]
  },
  {
   "cell_type": "code",
   "execution_count": 4,
   "id": "1265635c-6be0-44dc-96df-aaf386cf1d3f",
   "metadata": {},
   "outputs": [],
   "source": [
    "x = ['orange', 'apple', 'mango', 'berry', 'kiwi', 'blueberry']"
   ]
  },
  {
   "cell_type": "code",
   "execution_count": 5,
   "id": "734f1532-bce7-4c05-8e6f-58e5e9554335",
   "metadata": {
    "tags": []
   },
   "outputs": [],
   "source": [
    "#방법 1\n",
    "ex1 = []\n",
    "for i in range(len(x)):\n",
    "    if x[i] == 'apple' or x[i] == 'kiwi':\n",
    "        ex1.append(x[i].upper())"
   ]
  },
  {
   "cell_type": "code",
   "execution_count": 11,
   "id": "54c7d781-939d-400d-afe3-bddf22c18757",
   "metadata": {
    "tags": []
   },
   "outputs": [
    {
     "name": "stdout",
     "output_type": "stream",
     "text": [
      "ex1 결과: ['APPLE', 'KIWI']\n"
     ]
    }
   ],
   "source": [
    "print(f'ex1 결과: {ex1}')"
   ]
  },
  {
   "cell_type": "code",
   "execution_count": 15,
   "id": "55a2e21e-83e5-45ec-b16f-126d1e8406e6",
   "metadata": {
    "tags": []
   },
   "outputs": [
    {
     "name": "stdout",
     "output_type": "stream",
     "text": [
      "ex2 결과: ['APPLE', 'KIWI']\n"
     ]
    }
   ],
   "source": [
    "#방법 2\n",
    "ex2 = list(map(lambda b: b.upper(), filter(lambda a: a == 'apple' or a == 'kiwi', x)))\n",
    "print(f'ex2 결과: {ex1}')"
   ]
  },
  {
   "cell_type": "code",
   "execution_count": 17,
   "id": "d5b9d56d-79ef-4507-96e8-ab38b4804023",
   "metadata": {
    "tags": []
   },
   "outputs": [
    {
     "name": "stdout",
     "output_type": "stream",
     "text": [
      "ex3 결과: ['APPLE', 'KIWI']\n"
     ]
    }
   ],
   "source": [
    "#방법 3: List Comprehension\n",
    "\n",
    "ex3 = [a.upper() for a in x if a == 'apple' or a == 'kiwi']\n",
    "print(f'ex3 결과: {ex3}')\n"
   ]
  },
  {
   "cell_type": "code",
   "execution_count": 7,
   "id": "242331c4-10a1-4dcb-ac6c-89b14aebade8",
   "metadata": {
    "tags": []
   },
   "outputs": [],
   "source": [
    "#복합 연산자"
   ]
  },
  {
   "cell_type": "code",
   "execution_count": 8,
   "id": "5cffd3f7-db6f-4361-ad56-38e71cfb540b",
   "metadata": {
    "tags": []
   },
   "outputs": [],
   "source": [
    "a = 1"
   ]
  },
  {
   "cell_type": "code",
   "execution_count": 10,
   "id": "e1444c21-3c7f-483b-9c8b-dc20b705aa6c",
   "metadata": {
    "tags": []
   },
   "outputs": [
    {
     "name": "stdout",
     "output_type": "stream",
     "text": [
      "3\n"
     ]
    }
   ],
   "source": [
    "a = a+1\n",
    "print(a)"
   ]
  },
  {
   "cell_type": "code",
   "execution_count": 23,
   "id": "3f0153fc-1ce2-47aa-a6aa-e0683745dc5e",
   "metadata": {
    "tags": []
   },
   "outputs": [
    {
     "name": "stdout",
     "output_type": "stream",
     "text": [
      "a1 결과: [30, 28, 26, 24, 22, 20, 18, 16, 14, 12, 10, 8, 6, 4, 2, 0, -2, -4, -6, -8, -10]\n"
     ]
    }
   ],
   "source": [
    "a1 = [a for a in range(30, -11, -2)]\n",
    "print(f'a1 결과: {a1}')"
   ]
  },
  {
   "cell_type": "code",
   "execution_count": 24,
   "id": "0db51e35-d545-4f1a-a392-c633df6a1dff",
   "metadata": {
    "tags": []
   },
   "outputs": [
    {
     "name": "stdout",
     "output_type": "stream",
     "text": [
      "땡땡 왈: Python\"s favorite food is perl\n"
     ]
    }
   ],
   "source": [
    "food = 'Python\"s favorite food is perl'\n",
    "print(f'땡땡 왈: {food}')"
   ]
  },
  {
   "cell_type": "code",
   "execution_count": 26,
   "id": "ac7e7fdd-78a2-4d38-9b02-3e60bb92c0ea",
   "metadata": {
    "tags": []
   },
   "outputs": [
    {
     "name": "stdout",
     "output_type": "stream",
     "text": [
      "땡땡 왈: Python's favorite food is perl\n"
     ]
    }
   ],
   "source": [
    "food = 'Python\\'s favorite food is perl'\n",
    "print(f'땡땡 왈: {food}')"
   ]
  },
  {
   "cell_type": "code",
   "execution_count": 31,
   "id": "321c96d7-bb60-4659-8198-461b73998d19",
   "metadata": {
    "tags": []
   },
   "outputs": [
    {
     "name": "stdout",
     "output_type": "stream",
     "text": [
      "b1 결과: [10, 2, 30, 4, 50, 6, 70, 8, 90, 10, 110, 12, 130, 14, 150, 16, 170, 18, 190, 20]\n"
     ]
    }
   ],
   "source": [
    "b1 = [b*10 if b % 2 != 0 else b for b in range(1, 21)]\n",
    "print(f'b1 결과: {b1}')"
   ]
  },
  {
   "cell_type": "code",
   "execution_count": 37,
   "id": "54afdee4-113d-4253-a75d-1b67b0e5e9a2",
   "metadata": {
    "tags": []
   },
   "outputs": [
    {
     "name": "stdout",
     "output_type": "stream",
     "text": [
      "c1의 결과는: ['0', '10', '20', '30', '40', '50', '60', '70', '80', '90', '100', '110', '120', '130', '140', '150']\n"
     ]
    }
   ],
   "source": [
    "c1 = list(map(lambda c: str(c*10), range(16)))\n",
    "print(f'c1의 결과는: {c1}')"
   ]
  },
  {
   "cell_type": "code",
   "execution_count": 39,
   "id": "f77d5360-56c1-490f-9cc7-58927558753e",
   "metadata": {
    "tags": []
   },
   "outputs": [
    {
     "data": {
      "text/plain": [
       "['0',\n",
       " '10',\n",
       " '20',\n",
       " '30',\n",
       " '40',\n",
       " '50',\n",
       " '60',\n",
       " '70',\n",
       " '80',\n",
       " '90',\n",
       " '100',\n",
       " '110',\n",
       " '120',\n",
       " '130',\n",
       " '140',\n",
       " '150']"
      ]
     },
     "execution_count": 39,
     "metadata": {},
     "output_type": "execute_result"
    }
   ],
   "source": [
    "[str(c*10) for c in range(16)]"
   ]
  },
  {
   "cell_type": "code",
   "execution_count": 38,
   "id": "4a1ef754-4f56-4ee2-a7e0-dcc6978bfa1a",
   "metadata": {
    "tags": []
   },
   "outputs": [
    {
     "name": "stdout",
     "output_type": "stream",
     "text": [
      "Life is too short\n",
      " You need python\n"
     ]
    }
   ],
   "source": [
    "multiline = \"Life is too short\\n You need python\"\n",
    "print(multiline)"
   ]
  },
  {
   "cell_type": "code",
   "execution_count": 40,
   "id": "e37c08b9-a3b6-475b-8975-f786796f3639",
   "metadata": {
    "tags": []
   },
   "outputs": [
    {
     "name": "stdout",
     "output_type": "stream",
     "text": [
      "Python is fun~\n"
     ]
    }
   ],
   "source": [
    "#문자열 연산하기\n",
    "\n",
    "head = \"Python\"\n",
    "tail = \" is fun~\"\n",
    "print(head + tail)"
   ]
  },
  {
   "cell_type": "code",
   "execution_count": 41,
   "id": "06d08a52-0b9a-4de6-af06-87cbb4ba843d",
   "metadata": {
    "tags": []
   },
   "outputs": [],
   "source": [
    "x = [\"a\", 1, \"b\", 2, \"a\", 3, \"b\", 4, 5, \"b\"]"
   ]
  },
  {
   "cell_type": "code",
   "execution_count": 45,
   "id": "18c9acfd-971f-4072-957c-d96731cfa234",
   "metadata": {
    "tags": []
   },
   "outputs": [
    {
     "name": "stdout",
     "output_type": "stream",
     "text": [
      "[1, 2, 3, 4, 5, 'b', 'a']\n"
     ]
    }
   ],
   "source": [
    "#방법 1\n",
    "print(list(set(x)))"
   ]
  },
  {
   "cell_type": "code",
   "execution_count": 47,
   "id": "20fb28fc-73d4-4f85-9b55-c5efa6685805",
   "metadata": {
    "tags": []
   },
   "outputs": [
    {
     "name": "stdout",
     "output_type": "stream",
     "text": [
      "['a', 1, 'b', 2, 3, 4, 5]\n"
     ]
    }
   ],
   "source": [
    "#방법 2(순서 유지)\n",
    "from collections import OrderedDict\n",
    "\n",
    "print(list(OrderedDict.fromkeys(x)))"
   ]
  },
  {
   "cell_type": "code",
   "execution_count": 51,
   "id": "339ee1b5-a484-48b6-81d5-8592f01addc1",
   "metadata": {
    "tags": []
   },
   "outputs": [
    {
     "name": "stdout",
     "output_type": "stream",
     "text": [
      "['a', 1, 'b', 2, 3, 4, 5]\n"
     ]
    }
   ],
   "source": [
    "#방법 3(순서 유지)\n",
    "d3 = []\n",
    "for i in x:\n",
    "    if i not in d3:\n",
    "        d3.append(i)\n",
    "print(d3)"
   ]
  },
  {
   "cell_type": "code",
   "execution_count": 100,
   "id": "32c658eb-d11c-4ad1-9786-86f2816358cf",
   "metadata": {
    "tags": []
   },
   "outputs": [
    {
     "name": "stdout",
     "output_type": "stream",
     "text": [
      "dict_values([17, 114, 247])\n",
      "방법 1의 결과: 378\n",
      "방법 2의 결과: 378\n",
      "방법 3의 결과: [378]\n"
     ]
    }
   ],
   "source": [
    "#아래와 같은 Dict 구조에서 모든 value 값의 합을 구하기\n",
    "\n",
    "D = {'a': 17, 'b': 114, 'c':247}\n",
    "\n",
    "#방법 1\n",
    "a = D.values()\n",
    "print(a)\n",
    "\n",
    "s = 0\n",
    "for i in a :\n",
    "    s += i\n",
    "print(f'방법 1의 결과: {s}')\n",
    "\n",
    "#방법 2\n",
    "g_values = lambda key: sum(D.values())\n",
    "print(f'방법 2의 결과: {g_values(D)}')\n",
    "\n",
    "#방법 3\n",
    "d1 = [sum(D.values())]\n",
    "print(f'방법 3의 결과: {d1}')"
   ]
  },
  {
   "cell_type": "code",
   "execution_count": 67,
   "id": "98983295-cbfa-46a3-9b68-84c97cde7c2c",
   "metadata": {
    "tags": []
   },
   "outputs": [
    {
     "name": "stdout",
     "output_type": "stream",
     "text": [
      "===============\n",
      "title\n",
      "===============\n"
     ]
    }
   ],
   "source": [
    "# print('='*15)\n",
    "lst = ['='*15 + '\\n' + 'title' + '\\n' + '='*15]\n",
    "print(''.join(lst))"
   ]
  },
  {
   "cell_type": "code",
   "execution_count": 72,
   "id": "52ca1a62-0b61-4869-8a5d-0f5a91b48cec",
   "metadata": {
    "tags": []
   },
   "outputs": [
    {
     "name": "stdout",
     "output_type": "stream",
     "text": [
      "===============\n",
      "title\n",
      "===============\n"
     ]
    }
   ],
   "source": [
    "lst2 = [\n",
    "    '='*15,\n",
    "    'title',\n",
    "    '='*15\n",
    "]\n",
    "print('\\n'.join(lst2))"
   ]
  },
  {
   "cell_type": "code",
   "execution_count": 75,
   "id": "9c7e0055-5a9a-4579-a477-6c838c120a5a",
   "metadata": {
    "tags": []
   },
   "outputs": [
    {
     "name": "stdout",
     "output_type": "stream",
     "text": [
      "===============\n",
      "title\n",
      "===============\n"
     ]
    }
   ],
   "source": [
    "print(f\"{'='*15}\\ntitle\\n{'='*15}\")"
   ]
  },
  {
   "cell_type": "code",
   "execution_count": 105,
   "id": "aafecbda-ea90-4981-81cd-94e54b60da75",
   "metadata": {
    "tags": []
   },
   "outputs": [],
   "source": [
    "# 딕셔너리에 {'c': 'banana', 'd': 'kiwi'}를 추가하라\n",
    "\n",
    "Dic = {'a': 'apple', 'b': 'grape'}"
   ]
  },
  {
   "cell_type": "code",
   "execution_count": 106,
   "id": "cb92029f-0f9f-4fea-bb80-e5f8dbd56b8d",
   "metadata": {
    "tags": []
   },
   "outputs": [
    {
     "data": {
      "text/plain": [
       "{'a': 'apple', 'b': 'grape', 'c': 'banana', 'd': 'kiwi'}"
      ]
     },
     "execution_count": 106,
     "metadata": {},
     "output_type": "execute_result"
    }
   ],
   "source": [
    "#방법 1\n",
    "\n",
    "Dic.update({'c': 'banana', 'd': 'kiwi'})\n",
    "Dic"
   ]
  },
  {
   "cell_type": "code",
   "execution_count": 107,
   "id": "356acbf7-c5aa-4567-83f2-ecc6dd0a2cd1",
   "metadata": {
    "tags": []
   },
   "outputs": [
    {
     "data": {
      "text/plain": [
       "{'a': 'apple', 'b': 'grape', 'c': 'banana', 'd': 'kiwi', 'e': 'orange'}"
      ]
     },
     "execution_count": 107,
     "metadata": {},
     "output_type": "execute_result"
    }
   ],
   "source": [
    "#방법 2\n",
    "Dic['e'] = 'orange'\n",
    "Dic"
   ]
  },
  {
   "cell_type": "code",
   "execution_count": 108,
   "id": "12d0e340-e19d-445d-9a28-e79b54b30f4d",
   "metadata": {
    "tags": []
   },
   "outputs": [],
   "source": [
    "#아래와 같은 딕셔너리 구조에서 Value 값이 1 이상인 것을 필터링 후 출력\n",
    "#{조건 만족 시 출력값 if 조건 else 조건 불만족 시 출력 값 for i in dict}\n",
    "\n",
    "Dic1 = {'a': 1, 'b': 2, 'c': 3, 'd': -1}"
   ]
  },
  {
   "cell_type": "code",
   "execution_count": 114,
   "id": "ba97b858-5e25-4174-b949-55caed505d90",
   "metadata": {
    "tags": []
   },
   "outputs": [
    {
     "data": {
      "text/plain": [
       "[1, 2, 3]"
      ]
     },
     "execution_count": 114,
     "metadata": {},
     "output_type": "execute_result"
    }
   ],
   "source": [
    "Dic1.values()\n",
    "\n",
    "[d for d in Dic1.values() if d >= 0]"
   ]
  },
  {
   "cell_type": "code",
   "execution_count": 115,
   "id": "44e13b88-cae0-4ab1-98a2-f47b6daf7fa3",
   "metadata": {
    "tags": []
   },
   "outputs": [],
   "source": [
    "from urllib import request"
   ]
  },
  {
   "cell_type": "code",
   "execution_count": 116,
   "id": "34276d45-068f-4e3f-9b77-dc32e71a49e4",
   "metadata": {
    "tags": []
   },
   "outputs": [],
   "source": [
    "import json"
   ]
  },
  {
   "cell_type": "code",
   "execution_count": 119,
   "id": "71ebedad-faf6-4237-86d6-baa8bef67f1b",
   "metadata": {
    "tags": []
   },
   "outputs": [],
   "source": [
    "# d = dict(one = list(range(1,11)), two = list(range(11,23)), three = list(range(23,37)))"
   ]
  },
  {
   "cell_type": "code",
   "execution_count": 120,
   "id": "fe1c6174-d5d4-47f4-93b0-37f37faacf62",
   "metadata": {
    "tags": []
   },
   "outputs": [],
   "source": [
    "a = \"Life is too short, You need Python\""
   ]
  },
  {
   "cell_type": "code",
   "execution_count": 122,
   "id": "57937405-9458-4451-9cdd-b5037597d180",
   "metadata": {
    "tags": []
   },
   "outputs": [
    {
     "data": {
      "text/plain": [
       "'too'"
      ]
     },
     "execution_count": 122,
     "metadata": {},
     "output_type": "execute_result"
    }
   ],
   "source": [
    "a[8:11]"
   ]
  },
  {
   "cell_type": "code",
   "execution_count": 134,
   "id": "01458348-6149-42a7-9758-49ea17bf5e03",
   "metadata": {
    "tags": []
   },
   "outputs": [
    {
     "name": "stdin",
     "output_type": "stream",
     "text": [
      "숫자를 입력하세요:  70\n"
     ]
    },
    {
     "name": "stdout",
     "output_type": "stream",
     "text": [
      "70까지의 합: 2485\n"
     ]
    }
   ],
   "source": [
    "# N까지의 합(Sigma)을 구하는 공식을 함수 형태로 작성 후 출력\n",
    "\n",
    "say = int(input('숫자를 입력하세요: '))\n",
    "def sigmaSay(n):\n",
    "    a = 0\n",
    "    for i in range(say+1) :\n",
    "        a += i\n",
    "    return a\n",
    "\n",
    "print(f'{say}까지의 합: {sigmaSay(say)}')"
   ]
  },
  {
   "cell_type": "code",
   "execution_count": 136,
   "id": "02886b29-a54c-46d4-9655-af822985c8f1",
   "metadata": {
    "tags": []
   },
   "outputs": [
    {
     "data": {
      "text/plain": [
       "10"
      ]
     },
     "execution_count": 136,
     "metadata": {},
     "output_type": "execute_result"
    }
   ],
   "source": [
    "str = \"Suppose we have few words that are separated by spaces.\"\n",
    "a = str.split(' ')\n",
    "len(a)"
   ]
  },
  {
   "cell_type": "code",
   "execution_count": 143,
   "id": "5f2ddec9-f0db-40d7-b6b6-2695d95c912d",
   "metadata": {
    "tags": []
   },
   "outputs": [],
   "source": [
    "today = \"20250203오늘은화창하다\""
   ]
  },
  {
   "cell_type": "code",
   "execution_count": 144,
   "id": "fc4f91ab-1cb6-469c-b913-543f591db6fb",
   "metadata": {
    "tags": []
   },
   "outputs": [],
   "source": [
    "today = today[:4]+'년 '+today[4:6]+'월 '+today[6:8]+'일 '+today[8:11]+' '+today[11:]+'!'"
   ]
  },
  {
   "cell_type": "code",
   "execution_count": 145,
   "id": "b0f9e72c-1c86-4e27-b2a7-98e2af48243a",
   "metadata": {
    "tags": []
   },
   "outputs": [
    {
     "data": {
      "text/plain": [
       "'2025년 02월 03일 오늘은 화창하다!'"
      ]
     },
     "execution_count": 145,
     "metadata": {},
     "output_type": "execute_result"
    }
   ],
   "source": [
    "today"
   ]
  },
  {
   "cell_type": "code",
   "execution_count": 151,
   "id": "243739cd-1667-447e-9959-f437297a63fa",
   "metadata": {
    "tags": []
   },
   "outputs": [
    {
     "data": {
      "text/plain": [
       "'2025년 02월 03일 오늘은 화창하다!!'"
      ]
     },
     "execution_count": 151,
     "metadata": {},
     "output_type": "execute_result"
    }
   ],
   "source": [
    "today.replace('2025', '2025년 ')\n",
    "today.replace('02', '02월 ')\n",
    "today.replace('03', '03월 ')\n",
    "today.replace('오늘은', '오늘은 ')\n",
    "today.replace('화창하다', '화창하다!')"
   ]
  },
  {
   "cell_type": "code",
   "execution_count": 152,
   "id": "7055ff98-40a8-423d-b8a7-56f3039702d3",
   "metadata": {
    "tags": []
   },
   "outputs": [],
   "source": [
    "# 세 개의 리스트를 딕셔너리 구조로 변경.\n",
    "\n",
    "a = [\"one\", \"two\", \"three\", \"four\"]\n",
    "b = [30, 20, 15, 75]\n",
    "c = [5.2, 7.4, 3.6, 4.2]"
   ]
  },
  {
   "cell_type": "code",
   "execution_count": 161,
   "id": "0934eba1-3fed-4dd2-9a2d-c465eadecdaf",
   "metadata": {
    "tags": []
   },
   "outputs": [],
   "source": [
    "all = []\n",
    "for b1 in b :\n",
    "    for c1 in c :\n",
    "        all.append(b1*c1)\n",
    "        \n",
    "d = dict(zip(a, all))"
   ]
  },
  {
   "cell_type": "code",
   "execution_count": 162,
   "id": "97933ff5-75cc-4e37-be4e-afdfbcfb6bcd",
   "metadata": {
    "tags": []
   },
   "outputs": [
    {
     "data": {
      "text/plain": [
       "{'one': 156.0, 'two': 222.0, 'three': 108.0, 'four': 126.0}"
      ]
     },
     "execution_count": 162,
     "metadata": {},
     "output_type": "execute_result"
    }
   ],
   "source": [
    "d"
   ]
  },
  {
   "cell_type": "code",
   "execution_count": 163,
   "id": "3f995cd1-a8a3-4dcf-ac34-42d063ca1af2",
   "metadata": {
    "tags": []
   },
   "outputs": [],
   "source": [
    "import requests"
   ]
  },
  {
   "cell_type": "code",
   "execution_count": 175,
   "id": "b043f466-dfa3-4d9d-8dd7-9d16ca7a3255",
   "metadata": {
    "tags": []
   },
   "outputs": [],
   "source": [
    "url = \"https://v.daum.net/v/20250203151815463\"\n",
    "res = requests.get(url).text"
   ]
  },
  {
   "cell_type": "code",
   "execution_count": 172,
   "id": "cd4b892b-4f73-432d-80e7-b4ec503f316a",
   "metadata": {
    "tags": []
   },
   "outputs": [
    {
     "name": "stdout",
     "output_type": "stream",
     "text": [
      "<!doctype html>\n",
      "<html class=\"os_window\"> \n",
      " <head data-cloud-area=\"head\"> \n",
      "  <meta charset=\"utf-8\"> \n",
      "  <meta http-equiv=\"X-UA-Compatible\" content=\"IE=edge\"> \n",
      "  <meta name=\"viewport\" content=\"width=device-width,initial-scale=1,maximum-scale=1,user-scalable=no\"> \n",
      "  <meta name=\"format-detection\" content=\"telephone=no\"> \n",
      "  <meta name=\"referrer\" content=\"unsafe-url\"> \n",
      "  <title>한국서 돈벌고 '나 몰라라' 코스트코… 연회비 인상률은 미국의 2배</title> \n",
      "  <link rel=\"shortcut icon\" href=\"//t1.daumcdn.net/top/favicon/20241223/daum.ico\"> \n",
      "  <meta property=\"mccp:docId\" content=\"xC4H50yj3o\"> \n",
      "  <meta property=\"og:site_name\" content=\"다음 - 머니S\"> \n",
      "  <meta property=\"og:title\" content=\"한국서 돈벌고 '나 몰라라' 코스트코… 연회비 인상률은 미국의 2배\"> \n",
      "  <meta property=\"og:regDate\" content=\"20250203151815\"> \n",
      "  <meta property=\"og:type\" content=\"article\"> \n",
      "  <meta property=\"og:article:author\" content=\"머니S\"> \n",
      "  <meta property=\"og:url\" content=\"https://v.daum.net/v/20250203151815463\"> \n",
      "  <meta property=\"og:image\" content=\"https://img1.daumcdn.net/thumb/S1200x630/?fname=https://t1.daumcdn.net/news/202502/03/moneyweek/20250203151817231xbsh.jpg\"> \n",
      "  <meta property=\"og:image:width\" content=\"1200\"> \n",
      "  <meta property=\"og:image:height\" content=\"630\"> \n",
      "  <meta property=\"og:description\" content=\"7년 만에 국내 코스트코 연회비가 오른다. 인상폭은 미국·캐나다보다 높은 최대 15.2%다. 사진은 경기 고양 코스트코에서 쇼핑하는 시민들의 모습. /사진=뉴스1오는 5월부로 7년 만에 국내 코스트코 연회비가 최대 15% 오른다. 이번 인상률은 지난해 7년 만에 연회비를 올린 미국·캐나다의 두배가량이다. 코스트코 코리아는 그동안 미국 본사로 향하는 배당금엔\"> \n",
      "  <meta property=\"al:android:url\" content=\"daumapps://web?url=https%3A%2F%2Fv.daum.net/v/20250203151815463\"> \n",
      "  <meta property=\"al:android:package\" content=\"net.daum.android.daum\"> \n",
      "  <meta property=\"al:android:app_name\" content=\"다음앱\"> \n",
      "  <meta property=\"al:ios:url\" content=\"daumapps://web?url=https%3A%2F%2Fv.daum.net/v/20250203151815463\"> \n",
      "  <meta property=\"al:ios:app_store_id\" content=\"365494029\"> \n",
      "  <meta property=\"al:ios:app_name\" content=\"다음앱\"> \n",
      "  <meta property=\"twitter:card\" content=\"summary_large_image\"> \n",
      "  <meta property=\"twitter:app:url:googleplay\" content=\"daumapps://web?url=https%3A%2F%2Fv.daum.net/v/20250203151815463\"> \n",
      "  <meta property=\"twitter:app:id:googleplay\" content=\"net.daum.android.daum\"> \n",
      "  <meta property=\"twitter:app:name:googleplay\" content=\"다음앱\"> \n",
      "  <meta property=\"twitter:app:country\" content=\"KR\"> \n",
      "  <meta property=\"twitter:app:url:iphone\" content=\"daumapps://web?url=https%3A%2F%2Fv.daum.net/v/20250203151815463\"> \n",
      "  <meta property=\"twitter:app:id:iphone\" content=\"365494029\"> \n",
      "  <meta property=\"twitter:app:name:iphone\" content=\"다음앱\"> \n",
      "  <meta property=\"twitter:app:url:ipad\" content=\"daumapps://web?url=https%3A%2F%2Fv.daum.net/v/20250203151815463\"> \n",
      "  <meta property=\"twitter:app:id:ipad\" content=\"365494029\"> \n",
      "  <meta property=\"twitter:app:name:ipad\" content=\"다음앱\">  \n",
      " </head> \n",
      " <body> \n",
      "  <link rel=\"preload\" href=\"https://t1.daumcdn.net/harmony_static/font/SF-UI-Display-Regular.woff\" as=\"font\" type=\"font/woff\" crossorigin> \n",
      "  <link rel=\"preload\" href=\"https://t1.daumcdn.net/harmony_static/font/SF-UI-Display-Medium.woff\" as=\"font\" type=\"font/woff\" crossorigin> \n",
      "  <link rel=\"preload\" href=\"https://t1.daumcdn.net/harmony_static/font/SF-UI-Display-Bold.woff\" as=\"font\" type=\"font/woff\" crossorigin> \n",
      "  <link rel=\"stylesheet\" type=\"text/css\" href=\"//t1.daumcdn.net/harmony_static/cloud/2024/07/25/common.b50fbd0462cc98d05ac7.css\">  \n",
      "  <link rel=\"stylesheet\" type=\"text/css\" href=\"//t1.daumcdn.net/harmony_static/cloud/page/0004458045935db94f9c2fa5f87ad3a9a2131d0b1736744504265.css\">  \n",
      "  <link rel=\"preconnect\" href=\"https://hades-cerberus.v.daum.net\"> \n",
      "  <link rel=\"preconnect\" href=\"https://hades-proxy.v.daum.net\">           \n",
      "  <div id=\"kakaoWrap\" class=\"container-doc wrap_view\" data-tiara-layer=\"pc_news\"> \n",
      "   <header id=\"kakaoHead\" class=\"doc-header\" data-cloud-area=\"header\"> \n",
      "    <div class=\"head_top\" data-tiara-layer=\"news_header_gnb\" data-cloud=\"newsview_pc_gnb\"> \n",
      "     <h1 class=\"doc-title\"> <a href=\"//daum.net\" class=\"link_daum\" data-tiara=\"로고\" data-tiara-action-name=\"GNB다음로고_클릭\"> \n",
      "       <svg width=\"24\" height=\"24\" viewbox=\"0 0 24 24\" fill=\"none\" xmlns=\"http://www.w3.org/2000/svg\"> <g clip-path=\"url(#clip0_46_14927)\"> \n",
      "         <path d=\"M12 6.36C15.1152 6.36 17.6352 9.072 17.5152 12.2136C17.4024 15.2016 14.8536 17.64 11.8632 17.64H7.91756C7.65356 17.64 7.43756 17.424 7.43756 17.16V6.84C7.43756 6.576 7.65356 6.36 7.91756 6.36H11.9976M12 0H2.39996C1.60556 0 0.959961 0.6456 0.959961 1.44V22.56C0.959961 23.3544 1.60556 24 2.39996 24H12C18.6264 24 24 18.6264 24 12C24 5.3736 18.6264 0 12 0Z\"></path> \n",
      "        </g> <defs> \n",
      "         <clippath id=\"clip0_46_14927\"> \n",
      "          <rect width=\"24\" height=\"24\" fill=\"white\"></rect> \n",
      "         </clippath> \n",
      "        </defs> \n",
      "       </svg> </a> <a href=\"https://v.daum.net/channel/157/home\" id=\"kakaoServiceLogo\" data-tiara=\"언론사명\" data-tiara-action-name=\"GNB언론사명_클릭\">머니S</a> </h1> \n",
      "     <div class=\"alarm_util\"></div> \n",
      "    </div>   \n",
      "   </header> \n",
      "   <main id=\"kakaoContent\" class=\"doc-main\"> \n",
      "    <section class=\"inner-main\"> \n",
      "     <h2 class=\"screen_out\">경제</h2> \n",
      "     <div class=\"main-content\" data-cloud-area=\"addition\"> \n",
      "      <article id=\"mArticle\" class=\"box_view\" data-cloud-area=\"article\"> \n",
      "       <div class=\"head_view\" data-tiara-layer=\"article_head\" data-cloud=\"newsview_pc_article_head\"> \n",
      "        <h3 class=\"tit_view\" data-translation=\"true\">한국서 돈벌고 '나 몰라라' 코스트코… 연회비 인상률은 미국의 2배</h3> \n",
      "        <div class=\"info_view\"> <span class=\"txt_info\">유찬우 기자</span> <span class=\"txt_info\"><span class=\"num_date\">2025. 2. 3. 15:18</span></span> \n",
      "        </div>  \n",
      "        <div class=\"util_wrap\">  \n",
      "         <div class=\"util_view\"> \n",
      "          <div class=\"item_util\" data-tiara-action-name=\"헤드요약_클릭\"> <button type=\"button\" class=\"btn_util btn_synop\" data-tiara=\"요약보기\"> <span class=\"ico_view\">요약보기</span> </button>  \n",
      "           <div id=\"digestViewLayer\" class=\"view_layer\"> \n",
      "            <div class=\"inner_view_layer inner_synop_layer\"> \n",
      "             <div class=\"layer_head\"> <strong class=\"tit_layer\" data-translation=\"true\">자동요약</strong> <span class=\"info_layer\" data-translation=\"true\">기사 제목과 주요 문장을 기반으로 자동요약한 결과입니다.<br> 전체 맥락을 이해하기 위해서는 본문 보기를 권장합니다.</span> \n",
      "             </div> \n",
      "             <div class=\"layer_body\" data-translation=\"true\"> \n",
      "              <p>오는 5월부로 7년 만에 국내 코스트코 연회비가 최대 15% 오른다.</p>\n",
      "              <p>이번 인상률은 지난해 7년 만에 연회비를 올린 미국·캐나다의 두배가량이다.</p>\n",
      "              <p>코스트코 코리아는 그동안 미국 본사로 향하는 배당금엔 후하면서도 국내 기부와 근로환경 개선 등엔 박하다는 지적을 받아왔다.</p>\n",
      "              <p>앞서 지난해 9월 코스트코는 7년 만에 미국과 캐나다 연회비를 각각 8.3% 올렸다.</p> \n",
      "             </div> \n",
      "             <div class=\"layer_foot\"> <a href=\"#none\" class=\"link_close\" data-tiara=\"요약닫기\"> <span class=\"ico_view\">닫기</span> </a> \n",
      "             </div> \n",
      "            </div> \n",
      "           </div>  \n",
      "          </div> \n",
      "          <div class=\"item_util\" data-tiara-action-name=\"헤드음성_클릭\"> <button type=\"button\" class=\"btn_util btn_tts\" data-tiara=\"음성버튼\"> <span class=\"ico_view\">음성으로 듣기</span> </button>  \n",
      "           <div id=\"ttsViewLayer\" class=\"view_layer\"> \n",
      "            <div class=\"inner_view_layer inner_tts_layer\"> \n",
      "             <div class=\"layer_head\"> <strong class=\"tit_layer\">음성재생 설정</strong> \n",
      "             </div> \n",
      "             <div class=\"layer_body\"> \n",
      "              <ul class=\"list_tts\"> \n",
      "               <li> <input type=\"radio\" id=\"inpMale\" name=\"inpGender\" class=\"inp_tts\" value=\"Male\"> <label class=\"lab_tts\" for=\"inpMale\"> <span class=\"ico_view\"></span>남성 </label> </li> \n",
      "               <li> <input type=\"radio\" id=\"inpFemale\" name=\"inpGender\" class=\"inp_tts\" value=\"Female\"> <label class=\"lab_tts\" for=\"inpFemale\"> <span class=\"ico_view\"></span>여성 </label> </li> \n",
      "              </ul> \n",
      "              <ul class=\"list_tts\"> \n",
      "               <li> <input type=\"radio\" id=\"inpSlow\" name=\"inpSpeed\" class=\"inp_tts\" value=\"slow\"> <label class=\"lab_tts\" for=\"inpSlow\"> <span class=\"ico_view\"></span>느림 </label> </li> \n",
      "               <li> <input type=\"radio\" id=\"inpNormal\" name=\"inpSpeed\" class=\"inp_tts\" value=\"normal\"> <label class=\"lab_tts\" for=\"inpNormal\"> <span class=\"ico_view\"></span>보통 </label> </li> \n",
      "               <li> <input type=\"radio\" id=\"inpFast\" name=\"inpSpeed\" class=\"inp_tts\" value=\"fast\"> <label class=\"lab_tts\" for=\"inpFast\"> <span class=\"ico_view\"></span>빠름 </label> </li> \n",
      "              </ul> <button type=\"button\" class=\"btn_play\" data-tiara=\"음성_재생하기\">음성 재생하기</button> \n",
      "             </div> \n",
      "             <div class=\"layer_foot\"> <a href=\"#none\" class=\"link_close\" data-tiara=\"음성_재생중지\"> <span class=\"ico_view\">닫기</span> </a> \n",
      "             </div> \n",
      "            </div> \n",
      "           </div> <button type=\"button\" class=\"btn_soundplay\" data-tiara=\"음성_재생중지\">  <span class=\"ico_sound\"></span>음성 재생 <span class=\"ico_view ico_close\">중지</span> </button> \n",
      "           <audio style=\"display:none\" preload=\"none\" id=\"ttsPlayer\"></audio>  \n",
      "          </div>  \n",
      "          <div class=\"item_util\" data-tiara-action-name=\"헤드번역_클릭\"> <button id=\"btnTranslate\" type=\"button\" class=\"btn_util btn_translate\" data-tiara=\"번역설정\"> <span class=\"ico_view\">번역 설정</span> </button> \n",
      "           <div id=\"layerTranslate\" class=\"view_layer\"> \n",
      "            <div class=\"inner_view_layer inner_translate_layer\"> \n",
      "             <div class=\"layer_head\"> <strong class=\"tit_layer\">번역<em class=\"ico_view\">beta</em></strong> <span class=\"info_translate ico_view\">Translated by <a href=\"https://kakao.ai/\" class=\"link_kakaoi\">kaka i</a></span> \n",
      "             </div> \n",
      "             <div class=\"layer_body\"> \n",
      "              <ul class=\"list_lang\"> \n",
      "               <li> <button type=\"button\" class=\"btn_lang btn_translate_target_lang\" name=\"kr\" data-tiara=\"한국어\"> <strong class=\"tit_lang tit_selected\">한국어</strong> <span class=\"txt_lang\">-</span> </button> </li> \n",
      "               <li> <button type=\"button\" class=\"btn_lang btn_translate_target_lang\" name=\"en\" data-tiara=\"영어\"> <strong class=\"tit_lang\">English</strong> <span class=\"txt_lang\">영어</span> </button> </li> \n",
      "               <li> <button type=\"button\" class=\"btn_lang btn_translate_target_lang\" name=\"jp\" data-tiara=\"일본어\"> <strong class=\"tit_lang\">日本語</strong> <span class=\"txt_lang\">일본어</span> </button> </li> \n",
      "               <li> <button type=\"button\" class=\"btn_lang btn_translate_target_lang\" name=\"cn\" data-tiara=\"중국어\"> <strong class=\"tit_lang\">简体中文</strong> <span class=\"txt_lang\">중국어</span> </button> </li> \n",
      "               <li> <button type=\"button\" class=\"btn_lang btn_translate_target_lang\" name=\"nl\" data-tiara=\"네덜란드어\"> <strong class=\"tit_lang\">Nederlands</strong> <span class=\"txt_lang\">네델란드어</span> </button> </li> \n",
      "               <li> <button type=\"button\" class=\"btn_lang btn_translate_target_lang\" name=\"de\" data-tiara=\"독일어\"> <strong class=\"tit_lang\">Deutsch</strong> <span class=\"txt_lang\">독일어</span> </button> </li> \n",
      "               <li> <button type=\"button\" class=\"btn_lang btn_translate_target_lang\" name=\"ru\" data-tiara=\"러시아어\"> <strong class=\"tit_lang\">Русский</strong> <span class=\"txt_lang\">러시아어</span> </button> </li> \n",
      "               <li> <button type=\"button\" class=\"btn_lang btn_translate_target_lang\" name=\"ms\" data-tiara=\"말레이시아어\"> <strong class=\"tit_lang\">Malaysia</strong> <span class=\"txt_lang\">말레이시아어</span> </button> </li> \n",
      "               <li> <button type=\"button\" class=\"btn_lang btn_translate_target_lang\" name=\"bn\" data-tiara=\"벵골어\"> <strong class=\"tit_lang\">বাঙ্গোল ভাষা</strong> <span class=\"txt_lang\">벵골어</span> </button> </li> \n",
      "               <li> <button type=\"button\" class=\"btn_lang btn_translate_target_lang\" name=\"vi\" data-tiara=\"베트남어\"> <strong class=\"tit_lang\">tiếng Việt</strong> <span class=\"txt_lang\">베트남어</span> </button> </li> \n",
      "               <li> <button type=\"button\" class=\"btn_lang btn_translate_target_lang\" name=\"es\" data-tiara=\"스페인어\"> <strong class=\"tit_lang\">Español</strong> <span class=\"txt_lang\">스페인어</span> </button> </li> \n",
      "               <li> <button type=\"button\" class=\"btn_lang btn_translate_target_lang\" name=\"ar\" data-tiara=\"아랍어\"> <strong class=\"tit_lang\">اللغة العربية</strong> <span class=\"txt_lang\">아랍어</span> </button> </li> \n",
      "               <li> <button type=\"button\" class=\"btn_lang btn_translate_target_lang\" name=\"it\" data-tiara=\"이탈리아어\"> <strong class=\"tit_lang\">Italiano</strong> <span class=\"txt_lang\">이탈리아어</span> </button> </li> \n",
      "               <li> <button type=\"button\" class=\"btn_lang btn_translate_target_lang\" name=\"id\" data-tiara=\"인도네시아어\"> <strong class=\"tit_lang\">bahasa Indonesia</strong> <span class=\"txt_lang\">인도네시아어</span> </button> </li> \n",
      "               <li> <button type=\"button\" class=\"btn_lang btn_translate_target_lang\" name=\"th\" data-tiara=\"태국어\"> <strong class=\"tit_lang\">ภาษาไทย</strong> <span class=\"txt_lang\">태국어</span> </button> </li> \n",
      "               <li> <button type=\"button\" class=\"btn_lang btn_translate_target_lang\" name=\"tr\" data-tiara=\"튀르키에어\"> <strong class=\"tit_lang\">Türkçe</strong> <span class=\"txt_lang\">튀르키에어</span> </button> </li> \n",
      "               <li> <button type=\"button\" class=\"btn_lang btn_translate_target_lang\" name=\"pt\" data-tiara=\"포르투갈어\"> <strong class=\"tit_lang\">Português</strong> <span class=\"txt_lang\">포르투갈어</span> </button> </li> \n",
      "               <li> <button type=\"button\" class=\"btn_lang btn_translate_target_lang\" name=\"fr\" data-tiara=\"프랑스어\"> <strong class=\"tit_lang\">Français</strong> <span class=\"txt_lang\">프랑스어</span> </button> </li> \n",
      "               <li> <button type=\"button\" class=\"btn_lang btn_translate_target_lang\" name=\"hi\" data-tiara=\"힌디어\"> <strong class=\"tit_lang\">हिन्दी</strong> <span class=\"txt_lang\">힌디어</span> </button> </li> \n",
      "              </ul> \n",
      "             </div> \n",
      "             <div class=\"layer_foot\"> <a id=\"btnTranslateClose\" href=\"#none\" class=\"link_close\" data-tiara=\"번역닫기\"> <span class=\"ico_view\">닫기</span> </a> \n",
      "             </div> \n",
      "            </div> \n",
      "           </div> \n",
      "           <div id=\"layerTranslating\" class=\"loading_layer\" style=\"display:none\"> \n",
      "            <div class=\"inner_loading_layer\"> <span class=\"ico_view ico_loading\"></span> <strong class=\"tit_translate\">번역중</strong> <span class=\"ico_view txt_translate\">Now in translation</span> \n",
      "            </div> \n",
      "           </div> \n",
      "          </div>   \n",
      "          <div class=\"item_util\" data-tiara-action-name=\"헤드글씨크기_클릭\"> <button type=\"button\" class=\"btn_util btn_font\" data-tiara=\"글씨크기_조절하기\"> <span class=\"ico_view\">글씨크기 조절하기</span> </button> \n",
      "           <div class=\"view_layer\"> \n",
      "            <div class=\"inner_view_layer inner_fs_layer\"> \n",
      "             <div class=\"layer_head\"> <strong class=\"tit_layer\">글자크기 설정</strong> <span class=\"info_layer\">파란원을 좌우로 움직이시면 글자크기가 변경 됩니다.</span> \n",
      "             </div> \n",
      "             <div class=\"layer_body\"> \n",
      "              <div class=\"set_fs\"> <span class=\"txt_fs txt_small\" aria-hidden=\"true\">가</span> \n",
      "               <ul class=\"list_fs\">  \n",
      "                <li> <input type=\"radio\" id=\"inpFont1\" name=\"inpFont\" class=\"inp_fs\" value=\"17\" checked> <label class=\"lab_fs\" for=\"inpFont1\">매우 작은 폰트</label> </li> \n",
      "                <li> <input type=\"radio\" id=\"inpFont2\" name=\"inpFont\" class=\"inp_fs\" value=\"18\"> <label class=\"lab_fs\" for=\"inpFont2\">작은 폰트</label> </li> \n",
      "                <li> <input type=\"radio\" id=\"inpFont3\" name=\"inpFont\" class=\"inp_fs\" value=\"19\"> <label class=\"lab_fs\" for=\"inpFont3\">보통 폰트</label> </li> \n",
      "                <li> <input type=\"radio\" id=\"inpFont4\" name=\"inpFont\" class=\"inp_fs\" value=\"21\"> <label class=\"lab_fs\" for=\"inpFont4\">큰 폰트</label> </li> \n",
      "                <li> <input type=\"radio\" id=\"inpFont5\" name=\"inpFont\" class=\"inp_fs\" value=\"23\"> <label class=\"lab_fs\" for=\"inpFont5\">매우 큰 폰트</label> </li> \n",
      "               </ul> <span class=\"txt_fs txt_big\" aria-hidden=\"true\">가</span> \n",
      "              </div> \n",
      "              <div class=\"set_view fs_type1\"> \n",
      "               <p>이 글자크기로 변경됩니다.</p> \n",
      "               <p>(예시) 가장 빠른 뉴스가 있고 다양한 정보, 쌍방향 소통이 숨쉬는 다음뉴스를 만나보세요. 다음뉴스는 국내외 주요이슈와 실시간 속보, 문화생활 및 다양한 분야의 뉴스를 입체적으로 전달하고 있습니다.</p> \n",
      "              </div> \n",
      "             </div> \n",
      "             <div class=\"layer_foot\"> <a href=\"#none\" class=\"link_close\" data-tiara=\"글씨크기_닫기\"> <span class=\"ico_view\">닫기</span> </a> \n",
      "             </div> \n",
      "            </div> \n",
      "           </div> \n",
      "          </div> \n",
      "          <div class=\"item_util\"> <button type=\"button\" class=\"btn_util btn_print\" data-tiara-action-name=\"헤드인쇄_클릭\" data-tiara=\"인쇄하기\"> <span class=\"ico_view\">인쇄하기</span> </button> \n",
      "          </div> \n",
      "         </div>  \n",
      "        </div>  \n",
      "       </div>       \n",
      "       <div class=\"news_view fs_type1\" data-cloud=\"article_body\">      \n",
      "        <div id=\"layerTranslateNotice\" style=\"display:none;\"></div>  <strong class=\"summary_view\" data-translation=\"true\">7년 만에 15%↑… 미국·캐나다는 8.3% 인상</strong> \n",
      "        <div class=\"article_view\" data-translation-body=\"true\" data-tiara-layer=\"article_body\" data-tiara-action-name=\"본문이미지확대_클릭\"> \n",
      "         <section dmcf-sid=\"pCwKVPzT34\">\n",
      "          <figure class=\"figure_frm origin_fig\" contents-hash=\"5b2013aea8a24c7353dc0c99f1d3f246441ed1f1e73f00681d382721ffc13360\" dmcf-pid=\"Uhr9fQqyuf\" dmcf-ptype=\"figure\">\n",
      "           <p class=\"link_figure\"><img alt=\"7년 만에 국내 코스트코 연회비가 오른다. 인상폭은 미국·캐나다보다 높은 최대 15.2%다. 사진은 경기 고양 코스트코에서 쇼핑하는 시민들의 모습. /사진=뉴스1\" class=\"thumb_g_article\" data-org-src=\"https://t1.daumcdn.net/news/202502/03/moneyweek/20250203151817231xbsh.jpg\" data-org-width=\"680\" dmcf-mid=\"0N9IlWrRp8\" dmcf-mtype=\"image\" height=\"auto\" src=\"https://img3.daumcdn.net/thumb/R658x0.q70/?fname=https://t1.daumcdn.net/news/202502/03/moneyweek/20250203151817231xbsh.jpg\" width=\"658\"></p>\n",
      "           <figcaption class=\"txt_caption default_figure\">\n",
      "            7년 만에 국내 코스트코 연회비가 오른다. 인상폭은 미국·캐나다보다 높은 최대 15.2%다. 사진은 경기 고양 코스트코에서 쇼핑하는 시민들의 모습. /사진=뉴스1\n",
      "           </figcaption>\n",
      "          </figure>\n",
      "          <div contents-hash=\"5ebca4b4e6887876c2e1f4e7590fa998a14cfe541dcfc34cbe04c971baa8abcb\" dmcf-pid=\"ulm24xBW0V\" dmcf-ptype=\"general\">\n",
      "           오는 5월부로 7년 만에 국내 코스트코 연회비가 최대 15% 오른다. 이번 인상률은 지난해 7년 만에 연회비를 올린 미국·캐나다의 두배가량이다. 코스트코 코리아는 그동안 미국 본사로 향하는 배당금엔 후하면서도 국내 기부와 근로환경 개선 등엔 박하다는 지적을 받아왔다.\n",
      "          </div>\n",
      "          <p contents-hash=\"9dc0dec07a9ac69e2cf7d112ccf49413f71e122c3b9b84880d9d72d86eeaa962\" dmcf-pid=\"7YlPMif5U2\" dmcf-ptype=\"general\">3일 업계에 따르면 코스트코 코리아는 연회비 3종(골드스타·비즈니스·이그제큐티브) 회원권 가격을 오는 5월1일부로 인상한다고 공지했다. 비즈니스 회원권은 3만3000원에서 3만8000원으로 15.2%, 골드스타는 3만8500원에서 4만3000원으로 11.7%, 이그제큐티브는 8만원에서 8만6000원으로 7.5% 인상된다. 연회비 인상 배경으론 급변하는 경영환경과 비용 상승 등을 꼽았다.</p>\n",
      "          <p contents-hash=\"0e18d49a9c3a4db4aed451006ee90c3312a0501449e466f8d4aab75febbb6202\" dmcf-pid=\"zGSQRn4179\" dmcf-ptype=\"general\">앞서 지난해 9월 코스트코는 7년 만에 미국과 캐나다 연회비를 각각 8.3% 올렸다. 한국 멤버십 인상률은 최대 15.2%로 두 배가량 더 높게 책정됐다.</p>\n",
      "          <p contents-hash=\"0d00ca509ba19822b649a8f1a2ad69a2eb405f609d3248475ee96e8174818ba2\" dmcf-pid=\"qHvxeL8tFK\" dmcf-ptype=\"general\">코스트코 코리아의 지난해 회계연도(2023년 8월~2024년 9월) 매출은 6조5301억원으로 전년 대비 7.6% 증가했다. 영업이익은 2186억원으로 같은 기간 15.8% 증가했다. 이중 절반가량은 멤버십 회비로 충당된다. 당기순이익은 2240억원으로 58.1% 늘었다.</p>\n",
      "          <p contents-hash=\"4aea5f3807124be03cde861ab7bc6091ec6a1077ec18485a7ac9e90de1ae7cf3\" dmcf-pid=\"BXTMdo6F0b\" dmcf-ptype=\"general\">수익이 증가했지만 국내 사회적 기여엔 인색하다는 지적이다. 지난해 회계연도 기부금은 12억2139만원으로 당기순이익의 0.5% 수준에 그쳤다. 최근 5년간 기부금은 ▲2020년 10억7978만원 ▲2021년 10억2657만원 ▲2022년 12억8456만원 ▲2023년 11억8040만원 ▲2024년 12억2139만원 등 총 57억9270만원으로 전체 배당액 대비 기부금은 0.9% 미만이다.</p>\n",
      "          <p contents-hash=\"7c76f8f653e289abcdb979c19929e9017d9e30326f86cf86ab376b099b26bee5\" dmcf-pid=\"bZyRJgP33B\" dmcf-ptype=\"general\">반면 미국 본사에 대한 고배당 기조는 계속 이어가고 있다. 배당금은 100% 지분을 지닌 미국 코스트코홀세일이 수령하고 있다. 이 과정에서 지난 회계연도 당기순이익의 67%에 달하는 1500억원 정도가 미국으로 빠져 나갔다. 최근 5년간 배당액은 ▲2020년 1900억원 ▲2021년 673억원 ▲2022년 회계연도 709억원 ▲2023년 2000억원 ▲2024년 1500억원 등 총 6782억원이다.</p>\n",
      "          <p contents-hash=\"e8f4f9f55c78d50300f0192a6d82784c05c9cfb687c4c01b7bc9413199f2f4b9\" dmcf-pid=\"K5WeiaQ07q\" dmcf-ptype=\"general\">유찬우 기자 threeyu3@mt.co.kr</p>\n",
      "         </section> \n",
      "        </div> \n",
      "        <p class=\"\" data-translation=\"true\">Copyright © 머니S &amp; moneys.co.kr, 무단 전재 및 재배포 금지</p> \n",
      "       </div>   \n",
      "       <div class=\"emotion_wrap\" data-cloud=\"newsview_alex_action_emotion\"> \n",
      "        <div class=\"emotion_tit\"> <strong class=\"tit_emotion\">이 기사에 대해 어떻게 생각하시나요?</strong> \n",
      "        </div> \n",
      "        <div class=\"emotion_list\" data-tiara-layer=\"alex_action_emotion\"> \n",
      "         <div id=\"alex_action_emotion\" class=\"alex-actions\" data-client-id=\"26BXAvKny5WF5Z09lr5k77Y8\" data-item-key=\"20250203151815463\" data-action-mode=\"REACTION\" data-message-channel=\"alex-action-reactions\"> \n",
      "         </div> \n",
      "        </div> \n",
      "       </div>   \n",
      "       <div class=\"viewrelate_wrap\" data-cloud=\"newsview_pc_related_news\"> \n",
      "        <div class=\"viewrelate_tit\"> <strong class=\"tit_viewrelate\">머니S에서 직접 확인하세요.</strong> <span class=\"txt_viewrelate\">해당 언론사로 이동합니다.</span> \n",
      "        </div> \n",
      "        <ul class=\"list_viewrelate\" data-tiara-ordnum-layer data-tiara-layer=\"media_related_news\" data-tiara-action-name=\"본문아웃링크_클릭\" data-tiara-action-kind=\"ClickContent\"> \n",
      "         <li> <a href=\"https://www.moneys.co.kr/article/2025012210053623095?type=1&amp;outlink=2&amp;DMBE\" class=\"link_txt\" target=\"_blank\" data-type=\"related\" data-tiara=\"리스트\"> \"설 연휴 벌써 끝?\"… 다음 '황금연휴'는 언제? - 머니S </a> </li> \n",
      "         <li> <a href=\"https://www.moneys.co.kr/article/2025020308452548286?type=1&amp;outlink=2&amp;DMBE\" class=\"link_txt\" target=\"_blank\" data-type=\"related\" data-tiara=\"리스트\"> \"그 기캐 때문에 너무 고통\" 오요안나 녹취록… 관계자에 피해 호소 - 머니S </a> </li> \n",
      "         <li> <a href=\"https://www.moneys.co.kr/article/2025020313045670232?type=1&amp;outlink=2&amp;DMBE\" class=\"link_txt\" target=\"_blank\" data-type=\"related\" data-tiara=\"리스트\"> \"더욱 신중하겠다\"… 김성철, 걸그룹 성희롱 투표 논란 사과 - 머니S </a> </li> \n",
      "         <li> <a href=\"https://www.moneys.co.kr/article/2025020310353459897?type=1&amp;outlink=2&amp;DMBE\" class=\"link_txt\" target=\"_blank\" data-type=\"related\" data-tiara=\"리스트\"> '칸예 웨스트♥' 비앙카 센소리, 레드카펫서 파격 올누드 패션 - 머니S </a> </li> \n",
      "         <li> <a href=\"https://www.moneys.co.kr/article/2025020307481417469?type=1&amp;outlink=2&amp;DMBE\" class=\"link_txt\" target=\"_blank\" data-type=\"related\" data-tiara=\"리스트\"> 도올 \"윤 대통령 계엄 소식에 하나님께 감사했다\"… 이유는? - 머니S </a> </li> \n",
      "         <li> <a href=\"https://www.moneys.co.kr/article/2025020313315095484?type=1&amp;outlink=2&amp;DMBA\" class=\"link_txt\" target=\"_blank\" data-type=\"related\" data-tiara=\"리스트\"> 갤럭시 S25 사전예약 3일 마감… 삼성전자 역대급 혜택 - 머니S </a> </li> \n",
      "         <li> <a href=\"https://www.moneys.co.kr/article/2025020307552284119?type=1&amp;outlink=2&amp;DMBA\" class=\"link_txt\" target=\"_blank\" data-type=\"related\" data-tiara=\"리스트\"> \"♥홍주연과 사귄지 한 달\"… 전현무 이러다 진짜 결혼? - 머니S </a> </li> \n",
      "         <li> <a href=\"https://www.moneys.co.kr/article/2025020309194720250?type=1&amp;outlink=2&amp;DMBA\" class=\"link_txt\" target=\"_blank\" data-type=\"related\" data-tiara=\"리스트\"> 동해에 51억 배럴 추가 유전 발견?… 석유 공사 \"추가 검증 필요\" - 머니S </a> </li> \n",
      "         <li> <a href=\"https://www.moneys.co.kr/article/2025020311031953810?type=1&amp;outlink=2&amp;DMBA\" class=\"link_txt\" target=\"_blank\" data-type=\"related\" data-tiara=\"리스트\"> 코스트코, 연회비 최대 15% 인상… 5월부터 적용 - 머니S </a> </li> \n",
      "         <li> <a href=\"https://www.moneys.co.kr/news/mwView.php?no=2023123122123311901&amp;DMBA\" class=\"link_txt\" target=\"_blank\" data-type=\"rss\" data-tiara=\"리스트\"> 태영 이어 '건설 부실 리스트' 예고… 시공능력 상위업체 포함 - 머니S </a> </li> \n",
      "        </ul> \n",
      "       </div> \n",
      "       <div class=\"ad_wrap\" data-cloud=\"pc_dynamic_article_bottom_ad\"> \n",
      "        <ins class=\"kakao_ad_area recomm_ad\" style=\"display: block; text-decoration: none; height: 120px; max-height: inherit; min-height: 120px; min-width: 655px; width: 655px;\" data-ad-unit=\"DAN-28ewRUAQYNwThl1H\" data-ad-param-channel=\"harmony\" data-ad-param-cp=\"157_pc_media_news\" data-ad-width=\"655\" data-ad-height=\"120\" data-ad-onfail=\"removeParentElement\" data-ad-onload=\"sendAbBucketLog\" data-ab-bucket=\"pc_article_bottom_ad\" data-ab-bucket-type=\"adfit\"></ins> \n",
      "       </div> \n",
      "      </article> \n",
      "      <div id=\"related_post_by_news\" class=\"box_cluster box_news_post fold\" style=\"display:none;\" data-cloud=\"newsview_related_post\"></div>  \n",
      "      <div class=\"box_cluster box_bnr\" data-tiara-action-name=\"이벤트배너2_클릭\" data-tiara-layer=\"event_banner2\" data-cloud=\"newsview_pc_event_banner\"> <a href=\"https://magazine.daum.net/daumnews_notice/67806ab3f8cd1456677fcdcf\" class=\"link_bnr\"> <img src=\"https://t1.daumcdn.net/media/timetalk_bnr_icon.png\" class=\"thumb_bnr\" alt=\"\"> 더 나은 타임톡을 위한 소중한 의견을 기다립니다 </a> \n",
      "      </div> \n",
      "      <div class=\"ttalk_view\" style=\"display:none;\" data-cloud=\"newsview_pc_timetalk\"> \n",
      "       <div class=\"inner_ttalk\"> \n",
      "        <div class=\"ttalk_tit\"> <strong class=\"tit_ttalk\">타임톡<span class=\"ico_view ico_beta\">beta</span></strong> <span class=\"txt_info\"></span> \n",
      "        </div> \n",
      "        <p class=\"txt_ttalk\"> 이 뉴스에 대해 의견을 나눠보세요. <br> 톡방 종료까지 <em class=\"num_ttalk\"><span class=\"txt_g\">00</span>:<span class=\"txt_g\">00</span>:<span class=\"txt_g\">00</span></em> 남았습니다. </p> <a href=\"\" class=\"link_ttalkgo\" data-tiara-layer=\"timetalk\" data-tiara-action-name=\"타임톡\" data-tiara-action-kind=\"ClickContent\"> <span class=\"ico_view ico_ttalk\">타임톡 </span>참여하기 </a> \n",
      "       </div> \n",
      "      </div>   \n",
      "     </div> \n",
      "     <aside class=\"main-etc\" data-cloud-area=\"aside\"> \n",
      "      <div class=\"box_cluster box_ad\" data-cloud=\"pc_dynamic_aside_top_ad\"> \n",
      "       <ins style=\"display: block; width: 300px; height: 250px; text-decoration: none; max-height: inherit; min-height: 250px; min-width: 300px;\" class=\"kakao_ad_area aside_g aside_ad\" data-ad-unit=\"05d24\" data-ad-param-channel=\"harmony\" data-ad-param-cp=\"157_pc_media_news\" data-ad-width=\"300\" data-ad-height=\"250\" data-ad-onfail=\"removeParentElement\" data-ad-onload=\"sendAbBucketLog\" data-ab-bucket=\"pc_aside_top_ad\" data-ab-bucket-type=\"adfit\"></ins> \n",
      "      </div> \n",
      "      <div id=\"news_related_query_comp\" class=\"box_cluster box_search_keyword\" data-tiara-action-kind=\"ClickContent\" data-tiara-action-name=\"검색어_클릭\" data-tiara-layer=\"search_keyword\" data-cloud=\"pc_news_related_query\"></div>  \n",
      "      <div class=\"box_cluster box_news_recomm\" data-cloud=\"newsview_realtime_news\"> \n",
      "       <div class=\"box_tit\"> \n",
      "        <h3 class=\"tit_box\">이 시각 추천뉴스</h3> \n",
      "       </div> \n",
      "       <ul class=\"list_column\" data-tiara-ordnum-layer data-tiara-layer=\"toros_recommend_one_column\" data-tiara-action-name=\"하단추천리스트_클릭\" data-tiara-action-kind=\"ClickContent\"> \n",
      "        <li class=\"item_toros\"></li> \n",
      "        <li class=\"item_toros\"></li> \n",
      "        <li class=\"item_ad\"></li> \n",
      "        <li class=\"item_toros\"></li> \n",
      "        <li class=\"item_toros\"></li> \n",
      "        <li class=\"item_nachu\"></li> \n",
      "        <li class=\"item_nachu\"></li> \n",
      "        <li class=\"item_nachu\"></li> \n",
      "        <li class=\"item_toros\"></li> \n",
      "        <li class=\"item_nachu\"></li> \n",
      "        <li class=\"item_ad\"></li> \n",
      "        <li class=\"item_nachu\"></li> \n",
      "        <li class=\"item_toros\"></li> \n",
      "        <li class=\"item_nachu\"></li> \n",
      "        <li class=\"item_nachu\"></li> \n",
      "        <li class=\"item_toros\"></li> \n",
      "        <li class=\"item_nachu\"></li> \n",
      "        <li class=\"item_toros\"></li> \n",
      "        <li class=\"item_toros\"></li> \n",
      "        <li class=\"item_nachu\"></li> \n",
      "        <li class=\"item_toros\"></li> \n",
      "       </ul> \n",
      "      </div> \n",
      "      <div id=\"special_series_list\" class=\"box_cluster box_news_pick\" data-cloud=\"newsview_special_series\"></div>  \n",
      "      <div id=\"rankingNewsContainer\" class=\"box_cluster box_news_rank\" style=\"display: none;\" data-cloud=\"newsview_pc_ranking_news\"> \n",
      "       <div>  \n",
      "       </div> \n",
      "      </div> \n",
      "      <div id=\"keyword_news_list\" class=\"box_cluster box_news_keyword\" data-tiara-action-kind=\"ClickContent\" data-tiara-action-name=\"관련키워드_클릭\" data-tiara-layer=\"related_keyword\" data-cloud=\"newsview_pc_keyword_news\"></div>  \n",
      "      <div class=\"box_cluster box_shortcut\" data-tiara-action-kind=\"ClickContent\" data-tiara-action-name=\"서비스바로가기_클릭\" data-tiara-layer=\"service_directlink\" data-cloud=\"service_direct_link_v2\"> \n",
      "       <div class=\"box_tit\"> \n",
      "        <h3 class=\"tit_box\">서비스 바로가기</h3> \n",
      "       </div> \n",
      "       <ul id=\"serviceDirect\" class=\"tab_shortcut\" role=\"tablist\"> \n",
      "        <li role=\"presentation\"> <a class=\"link_tab\" role=\"tab\" data-tiara=\"뉴스\">뉴스</a></li> \n",
      "        <li role=\"presentation\"> <a class=\"link_tab\" role=\"tab\" data-tiara=\"연예\">연예</a> </li> \n",
      "        <li role=\"presentation\"> <a class=\"link_tab\" role=\"tab\" data-tiara=\"스포츠\">스포츠</a> </li> \n",
      "       </ul> \n",
      "       <div> \n",
      "        <div class=\"tabcont_service\" style=\"display: none\"> <strong class=\"screen_out\">뉴스</strong> \n",
      "         <ul class=\"list_linkservice\" data-tiara=\"뉴스\"> \n",
      "          <li><a href=\"//news.daum.net/home\" class=\"link_linkservice\">뉴스 홈</a></li> \n",
      "          <li><a href=\"//news.daum.net/climate\" class=\"link_linkservice\">기후/환경</a></li> \n",
      "          <li><a href=\"//news.daum.net/society\" class=\"link_linkservice\">사회</a></li> \n",
      "          <li><a href=\"//news.daum.net/economy\" class=\"link_linkservice\">경제</a></li> \n",
      "          <li><a href=\"//news.daum.net/politics\" class=\"link_linkservice\">정치</a></li> \n",
      "          <li><a href=\"//news.daum.net/world\" class=\"link_linkservice\">국제</a></li> \n",
      "          <li><a href=\"//news.daum.net/culture\" class=\"link_linkservice\">문화</a></li> \n",
      "          <li><a href=\"//news.daum.net/tech\" class=\"link_linkservice\">IT/과학</a></li> \n",
      "          <li><a href=\"//news.daum.net/people\" class=\"link_linkservice\">인물</a></li> \n",
      "          <li><a href=\"//news.daum.net/understanding\" class=\"link_linkservice\">지식/칼럼</a></li> \n",
      "          <li><a href=\"//news.daum.net/series\" class=\"link_linkservice\">연재</a></li> \n",
      "          <li><a href=\"//focus.daum.net/daum/m/algorithm\" class=\"link_linkservice\">배열설명서</a></li> \n",
      "         </ul> \n",
      "        </div> \n",
      "        <div class=\"tabcont_service\" style=\"display: none\"> <strong class=\"screen_out\">연예</strong> \n",
      "         <ul class=\"list_linkservice\" data-tiara=\"연예\"> \n",
      "          <li><a href=\"//entertain.daum.net\" class=\"link_linkservice\">연예 홈</a></li> \n",
      "          <li><a href=\"//entertain.daum.net/news\" class=\"link_linkservice\">최신뉴스</a></li> \n",
      "          <li><a href=\"//entertain.daum.net/tv\" class=\"link_linkservice\">TV</a></li> \n",
      "          <li><a href=\"//entertain.daum.net/photo\" class=\"link_linkservice\">포토</a></li> \n",
      "          <li><a href=\"//entertain.daum.net/ranking/popular\" class=\"link_linkservice\">많이 본 뉴스</a></li> \n",
      "          <li><a href=\"//entertain.daum.net/ranking/keyword\" class=\"link_linkservice\">TOP 키워드</a></li> \n",
      "          <li><a href=\"//entertain.daum.net/news/series\" class=\"link_linkservice\">연재</a></li> \n",
      "          <li><a href=\"//entertain.daum.net/poll\" class=\"link_linkservice\">투표</a></li> \n",
      "          <li><a href=\"//entertain.daum.net/news/movie\" class=\"link_linkservice\">영화</a></li> \n",
      "         </ul> \n",
      "        </div> \n",
      "        <div class=\"tabcont_service\" style=\"display: none\"> <strong class=\"screen_out\">스포츠</strong> \n",
      "         <ul class=\"list_linkservice\" data-tiara=\"스포츠\"> \n",
      "          <li><a href=\"//sports.daum.net/\" class=\"link_linkservice\">스포츠 홈</a></li> \n",
      "          <li><a href=\"//sports.daum.net/soccer/\" class=\"link_linkservice\">축구</a></li> \n",
      "          <li><a href=\"//sports.daum.net/worldsoccer/\" class=\"link_linkservice\">해외축구</a></li> \n",
      "          <li><a href=\"//sports.daum.net/baseball/\" class=\"link_linkservice\">야구</a></li> \n",
      "          <li><a href=\"//sports.daum.net/worldbaseball/\" class=\"link_linkservice\">해외야구</a></li> \n",
      "          <li><a href=\"//sports.daum.net/golf/\" class=\"link_linkservice\">골프</a></li> \n",
      "          <li><a href=\"//sports.daum.net/basketball/\" class=\"link_linkservice\">농구</a></li> \n",
      "          <li><a href=\"//sports.daum.net/volleyball/\" class=\"link_linkservice\">배구</a></li> \n",
      "          <li><a href=\"//sports.daum.net/general/\" class=\"link_linkservice\">일반</a></li> \n",
      "          <li><a href=\"//sports.daum.net/esports/\" class=\"link_linkservice\">e-스포츠</a></li> \n",
      "          <li><a href=\"//sports.daum.net/cartoon/\" class=\"link_linkservice\">카툰</a></li> \n",
      "          <li><a href=\"//sports.daum.net/video/\" class=\"link_linkservice\">영상 홈</a></li> \n",
      "         </ul> \n",
      "        </div> \n",
      "       </div> \n",
      "      </div>   \n",
      "      <div id=\"service_notice\" class=\"box_cluster box_notice\" data-tiara-action-name=\"공지사항_클릭\" data-tiara-layer=\"notice\" data-cloud=\"newsview_service_notice\"></div>  \n",
      "      <div class=\"box_cluster box_ad\" data-cloud=\"pc_dynamic_aside_bottom_ad\"> \n",
      "       <ins style=\"display: block; width: 300px; height: 250px; text-decoration: none; max-height: inherit; min-height: 250px; min-width: 300px;\" class=\"kakao_ad_area aside_g aside_ad\" data-ad-unit=\"0QH44\" data-ad-param-channel=\"harmony\" data-ad-param-cp=\"157_pc_media_news\" data-ad-width=\"300\" data-ad-height=\"250\" data-ad-onfail=\"removeParentElement\" data-ad-onload=\"sendAbBucketLog\" data-ab-bucket=\"pc_aside_bottom_ad\" data-ab-bucket-type=\"adfit\"></ins> \n",
      "      </div> \n",
      "     </aside> \n",
      "    </section> \n",
      "   </main> \n",
      "   <footer id=\"kakaoFoot\" class=\"doc-footer\" data-cloud-area=\"footer\"> \n",
      "    <footer class=\"doc-footer\" data-tiara-layer=\"footer\" data-tiara-action-name=\"푸터_클릭\" data-cloud=\"newsview_pc_footer\"> \n",
      "     <div class=\"inner_foot\"> \n",
      "      <ul class=\"list_foot\"> \n",
      "       <li><a href=\"https://news.daum.net/edit\" class=\"btn_foot\">다음뉴스 서비스안내</a></li> \n",
      "       <li><a href=\"https://news.daum.net/newscenter24\" class=\"btn_foot\">24시간 뉴스센터</a></li> \n",
      "       <li><a href=\"https://magazine.daum.net/daumnews_notice\" class=\"btn_foot\">공지사항</a></li> \n",
      "       <li><a href=\"https://policy.daum.net/info/info\" class=\"btn_foot\">서비스 약관/정책</a></li> \n",
      "      </ul> <span class=\"info_service\">기사배열책임자: 임광욱<span class=\"txt_dot\"></span>청소년보호책임자: 손성희</span> <span class=\"info_service\">뉴스 기사에 대한 저작권 및 법적 책임은 자료제공사 또는 글쓴이에 있으며, Kakao의 입장과 다를 수 있습니다.</span> <small> <a href=\"https://www.kakaocorp.com/\" class=\"link_kakao\" target=\"_blank\">© Kakao Corp.</a> </small> \n",
      "     </div> \n",
      "    </footer> \n",
      "   </footer> \n",
      "  </div> \n",
      "  <div data-cloud-area=\"util\"> \n",
      "   <svg class=\"svg_source\" aria-hidden=\"true\" focusable=\"false\" data-cloud=\"circle_svg_resource\"> <defs> \n",
      "     <path id=\"squircleBorder\" d=\"M18,0 L18.7848444,0.005730084 C18.9139617,0.00764511171 19.0422365,0.0100426461 19.1696724,0.0129264371 L19.9242526,0.0360942589 C20.792923,0.0700009714 21.6208598,0.128101731 22.4093497,0.211682715 L23.0755677,0.289593612 C30.9549774,1.30012499 34.6999425,5.04523784 35.7104226,12.9245322 L35.7883295,13.5907399 C35.8719061,14.3792171 35.9300034,15.2071387 35.963908,16.0757909 L35.9870744,16.8303548 C35.989958,16.9577879 35.9923554,17.0860598 35.9942703,17.2151741 L36,18 L35.9942703,18.7848444 C35.9923554,18.9139617 35.989958,19.0422365 35.9870744,19.1696724 L35.963908,19.9242526 C35.9300034,20.792923 35.8719061,21.6208598 35.7883295,22.4093497 L35.7104226,23.0755677 C35.6542849,23.5133126 35.5897073,23.938297 35.5164499,24.3507608 L35.400024,24.960096 L35.2703983,25.5508304 C33.9983996,30.9781075 30.9781075,33.9983996 25.5508304,35.2703983 L24.960096,35.400024 L24.3507608,35.5164499 C23.938297,35.5897073 23.5133126,35.6542849 23.0755677,35.7104226 L22.4093497,35.7883295 C21.6208598,35.8719061 20.792923,35.9300034 19.9242526,35.963908 L19.1696724,35.9870744 C19.0422365,35.989958 18.9139617,35.9923554 18.7848444,35.9942703 L18,36 L17.2151741,35.9942703 C17.0860598,35.9923554 16.9577879,35.989958 16.8303548,35.9870744 L16.0757909,35.963908 C15.2071387,35.9300034 14.3792171,35.8719061 13.5907399,35.7883295 L12.9245322,35.7104226 C5.04523784,34.6999425 1.30012499,30.9549774 0.289593612,23.0755677 L0.211682715,22.4093497 C0.128101731,21.6208598 0.0700009714,20.792923 0.0360942589,19.9242526 L0.0129264371,19.1696724 C0.0100426461,19.0422365 0.00764511171,18.9139617 0.005730084,18.7848444 L0,18 L0.00584673708,17.2364307 L0.0235106145,16.491116 C0.0274496612,16.368412 0.031888818,16.2464639 0.0368319493,16.1252694 L0.0725693482,15.4071281 L0.120587636,14.7069631 C0.834491736,5.60597993 4.79017605,1.15065404 13.8930229,0.197527337 L14.5943061,0.131853333 L15.3155684,0.0795358451 C16.1687677,0.026246786 17.0631364,0 18,0 Z M18,0.75 L17.2362123,0.755914959 L16.4923098,0.773765633 L15.7681182,0.803710715 L15.0634634,0.845908898 C14.6001671,0.878160652 14.1497792,0.918686936 13.7120674,0.96769934 L13.0649777,1.04760899 C6.36975139,1.95404391 2.79018958,4.9918111 1.41886033,10.987594 L1.29490495,11.5675907 C1.27534879,11.6657562 1.25634173,11.7646736 1.23788016,11.8643462 L1.13362749,12.4714706 C1.06845086,12.882297 1.01188582,13.3053124 0.96370013,13.7407284 L0.897677059,14.4031792 C0.887710953,14.5151465 0.878261299,14.6278955 0.869324465,14.7414295 L0.821828289,15.4320791 C0.801128098,15.7821401 0.784977976,16.1393251 0.773279941,16.5037235 L0.755790953,17.2421646 L0.75,18 L0.755329047,18.7600803 L0.771444428,19.5001406 C0.778635318,19.7435121 0.787655991,19.983579 0.798538506,20.2203733 L0.836803642,20.9209708 L0.886432197,21.6021254 C1.62475734,30.5554225 5.44462413,34.3752528 14.3978898,35.1135695 L15.0790419,35.1631975 L15.7796366,35.2014621 C16.01643,35.2123445 16.2564959,35.2213651 16.4998663,35.2285559 L17.2399233,35.244671 L18,35.25 L18.7600878,35.2446712 L19.5001549,35.2285565 C19.7435286,35.2213659 19.9835976,35.2123455 20.2203939,35.2014634 L20.9209971,35.1631997 L21.6021569,35.113573 C22.7213271,35.0212856 23.7602848,34.8808505 24.723038,34.6882595 L25.2915774,34.5664141 C30.5131949,33.3701777 33.3701777,30.5131949 34.5664141,25.2915774 L34.6882595,24.723038 C34.8808505,23.7602848 35.0212856,22.7213271 35.113573,21.6021569 L35.1631997,20.9209971 L35.2014634,20.2203939 C35.2123455,19.9835976 35.2213659,19.7435286 35.2285565,19.5001549 L35.2446712,18.7600878 L35.25,18 L35.244671,17.2399233 L35.2285559,16.4998663 C35.2213651,16.2564959 35.2123445,16.01643 35.2014621,15.7796366 L35.1631975,15.0790419 L35.1135695,14.3978898 C34.3752528,5.44462413 30.5554225,1.62475734 21.6021254,0.886432197 L20.9209708,0.836803642 L20.2203733,0.798538506 C19.983579,0.787655991 19.7435121,0.778635318 19.5001406,0.771444428 L18.7600803,0.755329047 L18,0.75 Z\"></path> \n",
      "     <path id=\"shapeSquircle\" d=\"M18,36 C4.75007143,36 0,31.25025 0,18 C0,5.24989286 4.75007143,0 18,0 C31.25025,0 36,4.75007143 36,18 C36,31.25025 31.25025,36 18,36 Z\"></path> \n",
      "    </defs> <clippath id=\"clipThumb\"> \n",
      "     <use xlink:href=\"#shapeSquircle\"></use> \n",
      "    </clippath> \n",
      "   </svg>        \n",
      "  </div>  \n",
      "  <script src=\"https://t1.kakaocdn.net/kakao_js_sdk/v1/kakao.min.js\"></script>\n",
      "  <script src=\"//t1.daumcdn.net/harmony_static/cloud/2024/07/25/vendor.bfdd228a902e86c605c9.js\"></script>\n",
      "  <script src=\"//t1.daumcdn.net/harmony_static/cloud/2024/07/25/common.b50fbd0462cc98d05ac7.js\"></script>\n",
      "  <script src=\"//t1.daumcdn.net/kas/static/ba.min.js\"></script>\n",
      "  <script src=\"//t1.daumcdn.net/kas/static/na.min.js\"></script>\n",
      "  <script src=\"//m1.daumcdn.net/svc/original/U03/cssjs/userAgent/userAgent-1.0.12.min.js\"></script>\n",
      "  <script src=\"//t1.daumcdn.net/harmony_static/cloud/page/c57b5760116eaadc11dc8b5bb819ef0c84c27836.js\"></script>\n",
      "  <script src=\"//t1.daumcdn.net/harmony_static/cloud/page/a382c76ef42d4a927645a92f4f83b1a53ff6d98b.js\"></script>\n",
      "  <script src=\"//t1.daumcdn.net/harmony_static/cloud/page/29568def0f3afb9e2b3d910352d0b09032e68bf51733990462222.js\"></script>\n",
      "  <script>\"use strict\";window.initPcScrollUtil=function(){new PcScrollUtil.StickyScroll({callbacks:{onInlineFixed:function(t,c){c=\"top:\".concat(c,\"px; position:absolute; width:\").concat(t.offsetWidth,\"px;\");t.classList.contains('main-etc')&&(c+=' left:calc(50% + 207px);'),t.setAttribute('style',c)}}})};</script>\n",
      "  <script src=\"//t1.daumcdn.net/harmony_static/cloud/page/fb9c837115ad2986002a9e54835431bd2cf6e5e8.js\" onload=\"initPcScrollUtil();\"></script>\n",
      "  <script>\"use strict\";!(function(){var e=Number('157'),a={layer2:'settings_newschannel',layer_subscribeBtn:{layer3:\"\".concat(c='pc_news',\" news_header_gnb 구독\"),actionName:'gnb구독_클릭'},layer_alarmFeedBtn:{layer3:\"\".concat(c,\" news_header_gnb 알림피드\"),actionName:'gnb알림피드_클릭'},layer_notiAll:{layer3:\"\".concat(c,\" settings_newschannel layer_전체알림\"),actionName:'언론사채널_설정팝업_전체알림_클릭',actionKind:'ClickContent'},layer_notiCustom:{layer3:\"\".concat(c,\" settings_newschannel layer_맞춤알림\"),actionName:'언론사채널_설정팝업_맞춤알림_클릭',actionKind:'ClickContent'},layer_notiCustom_news:{layer3:\"\".concat(c,\" settings_newschannel layer_맞춤알림뉴스\"),actionName:'언론사채널_설정팝업_맞춤알림_뉴스_클릭',actionKind:'ClickContent'},layer_notiCustom_shorts:{layer3:\"\".concat(c,\" settings_newschannel layer_맞춤알림오늘의숏\"),actionName:'언론사채널_설정팝업_맞춤알림_오늘의숏_클릭',actionKind:'ClickContent'},layer_notiCustom_post:{layer3:\"\".concat(c,\" settings_newschannel layer_맞춤알림포스트\"),actionName:'언론사채널_설정팝업_맞춤알림_포스트_클릭',actionKind:'ClickContent'},layer_notiCustom_mainnews:{layer3:\"\".concat(c,\" settings_newschannel layer_맞춤알림언론사픽\"),actionName:'언론사채널_설정팝업_맞춤알림_언론사픽_클릭',actionKind:'ClickContent'},layer_notiOff:{layer3:\"\".concat(c,\" settings_newschannel layer_알림없음\"),actionName:'언론사채널_설정팝업_알림없음_클릭',actionKind:'ClickContent'},layer_unsubscribe:{layer3:\"\".concat(c,\" settings_newschannel layer_구독취소\"),actionName:'언론사채널_설정팝업_구독취소_클릭',actionKind:'ClickContent'},layer_notiSave:{layer3:\"\".concat(c,\" settings_newschannel layer_알림설정적용\"),actionName:'언론사채널_설정팝업_설정적용_클릭',actionKind:'ClickContent'},layer_notiCancel:{layer3:\"\".concat(c,\" settings_newschannel layer_알림설정취소\"),actionName:'언론사채널_설정팝업_적용취소_클릭',actionKind:'ClickContent'}},t={doOnOpenSearchLayer:function(){document.querySelector('.area_btn').classList.add('hide'),document.querySelector('.area_feed').classList.add('hide')},doOnCloseSearchLayer:function(){document.querySelector('.area_btn').classList.remove('hide'),document.querySelector('.area_feed').classList.remove('hide')}},n=\"\".concat('https://v.daum.net',\"/v/\").concat('20250203151815463'),c=\"\".concat(n,\"?f=m\"),c={link:n,prefix:'\\uD55C\\uAD6D\\uC11C \\uB3C8\\uBC8C\\uACE0 \\'\\uB098 \\uBAB0\\uB77C\\uB77C\\' \\uCF54\\uC2A4\\uD2B8\\uCF54\\u2026 \\uC5F0\\uD68C\\uBE44 \\uC778\\uC0C1\\uB960\\uC740 \\uBBF8\\uAD6D\\uC758 2\\uBC30',service_name:'다음 - 머니S',kakaoLinkData:{shareType:'sendCustom',shareData:{templateId:Number('6928'),installTalk:!0,templateArgs:{'${title}':'\\uD55C\\uAD6D\\uC11C \\uB3C8\\uBC8C\\uACE0 \\'\\uB098 \\uBAB0\\uB77C\\uB77C\\' \\uCF54\\uC2A4\\uD2B8\\uCF54\\u2026 \\uC5F0\\uD68C\\uBE44 \\uC778\\uC0C1\\uB960\\uC740 \\uBBF8\\uAD6D\\uC758 2\\uBC30','${description}':'7\\uB144 \\uB9CC\\uC5D0 \\uAD6D\\uB0B4 \\uCF54\\uC2A4\\uD2B8\\uCF54 \\uC5F0\\uD68C\\uBE44\\uAC00 \\uC624\\uB978\\uB2E4. \\uC778\\uC0C1\\uD3ED\\uC740 \\uBBF8\\uAD6D\\u00B7\\uCE90\\uB098\\uB2E4\\uBCF4\\uB2E4 \\uB192\\uC740 \\uCD5C\\uB300 15.2%\\uB2E4. \\uC0AC\\uC9C4\\uC740 \\uACBD\\uAE30 \\uACE0\\uC591 \\uCF54\\uC2A4\\uD2B8\\uCF54\\uC5D0\\uC11C \\uC1FC\\uD551\\uD558\\uB294 \\uC2DC\\uBBFC\\uB4E4\\uC758 \\uBAA8\\uC2B5. \\/\\uC0AC\\uC9C4=\\uB274\\uC2A41\\uC624\\uB294 5\\uC6D4\\uBD80\\uB85C 7\\uB144 \\uB9CC\\uC5D0 \\uAD6D\\uB0B4 \\uCF54\\uC2A4\\uD2B8\\uCF54 \\uC5F0\\uD68C\\uBE44\\uAC00 \\uCD5C\\uB300 15% \\uC624\\uB978\\uB2E4. \\uC774\\uBC88 \\uC778\\uC0C1\\uB960\\uC740 \\uC9C0\\uB09C\\uD574 7\\uB144 \\uB9CC\\uC5D0 \\uC5F0\\uD68C\\uBE44\\uB97C \\uC62C\\uB9B0 \\uBBF8\\uAD6D\\u00B7\\uCE90\\uB098\\uB2E4\\uC758 \\uB450\\uBC30\\uAC00\\uB7C9\\uC774\\uB2E4. \\uCF54\\uC2A4\\uD2B8\\uCF54 \\uCF54\\uB9AC\\uC544\\uB294 \\uADF8\\uB3D9\\uC548 \\uBBF8\\uAD6D \\uBCF8\\uC0AC\\uB85C \\uD5A5\\uD558\\uB294 \\uBC30\\uB2F9\\uAE08\\uC5D4','${imageUrl}':'https://t1.daumcdn.net/news/202502/03/moneyweek/20250203151817231xbsh.jpg','${EncodingUrl}':encodeURIComponent(c),'${webUrl}':n,'${mobileWebUrl}':c}}}};ReactDOM.render(React.createElement(React.Fragment,null,React.createElement(SubscriptionAndAlarmUtil.Component,{channelId:e,utilClassType:\"ico_view\",disableSubscription:\"true\"==\"false\",isHideAlarmButton:!0,tiaraConst:a}),React.createElement(\"div\",{className:\"area_feed\"},React.createElement(MobileSocialShareUtil.Component,{template:c},function(e,a){return React.createElement(\"a\",{ref:a,href:\"#\",className:\"link_share\",\"data-tiara\":\"SNS공유하기\",\"data-tiara-action-name\":\"gnb공유_클릭\",\"data-tiara-action-kind\":\"Share\",onClick:function(e){e.preventDefault()}},React.createElement(\"span\",{className:\"ico_view ico_share\"},\"공유하기\"))})),React.createElement(\"div\",{class:\"user_service\"},React.createElement(\"h2\",{class:\"screen_out\"},\"검색\"),React.createElement(\"a\",{href:\"#none\",class:\"link_search\",\"data-tiara\":\"검색\",\"data-tiara-action-name\":\"GNB검색_클릭\",\"data-tiara-action-kind\":\"Search\"},React.createElement(\"span\",{class:\"ico_view ico_search\"},\"검색\")),React.createElement(\"div\",{id:\"daumTotalSearchLayer\",class:\"search_wrap\"})),React.createElement(PcSuggestUtil.Component,{todayBubble:{enabled:!0,count:10,DA:'TRG'},suggestItem:{maxCount:10,params:{w:'tot',nil_profile:'search',nil_src:'media',rtmaxcoll:'DNS,NNS',DA:'23B'}},submit:{params:{w:'tot',nil_profile:'search',nil_src:'media',rtmaxcoll:'DNS,NNS',DA:'23A'}},callback:t})),document.querySelector('.alarm_util'))})();</script>\n",
      "  <script>\"use strict\";!(function(){var e=document.querySelector('.doc-header'),n=document.querySelector('.container-doc'),o=null;window.addEventListener('scroll',function(){o&&window.cancelAnimationFrame(o),o=window.requestAnimationFrame(function(){(window.scrollY||window.pageYOffset)>e.offsetHeight?n.classList.add('head_fixed'):n.classList.remove('head_fixed')})})})();</script>\n",
      "  <script>\"use strict\";!(function(){var e,n=document.getElementById('digestViewLayer');n&&(null!==(e=document.querySelector('.btn_synop'))&&void 0!==e&&e.addEventListener('click',function(){n.style.display='block'}),null!==(e=n.querySelector('.link_close'))&&void 0!==e&&e.addEventListener('click',function(e){e.preventDefault(),n.style.display='none'}))})();</script>\n",
      "  <script>\"use strict\";!(function(){var e,n,t,a,c,l,s=\"VIEW_TTS\",o={slow_Male:\"https://k-v1.kakaocdn.net/dn/znuHh/btsL6qRGXIp/K9BCg7EK5z4A7v7h1nniO1/original.m4a\",normal_Male:\"https://k-v1.kakaocdn.net/dn/BAV68/btsL4NN7O6c/paKRd7VVcTaNmndJ8vqmrK/original.m4a\",fast_Male:\"https://k-v1.kakaocdn.net/dn/kR4h2/btsL4oH57aW/LDZCBpa7dLqa4RVlTMKnuK/original.m4a\",slow_Female:\"https://k-v1.kakaocdn.net/dn/BxsbM/btsL6kYtxxB/Dkk7LOy5Ck6z8lFfFVRpS1/original.m4a\",normal_Female:\"https://k-v1.kakaocdn.net/dn/bQG3JZ/btsL4eyRgTd/ivK9SYKy0zKKSAU7RWSKx1/original.m4a\",fast_Female:\"https://k-v1.kakaocdn.net/dn/0GVJy/btsL6BlbZW6/tfDixGAN9o2h6AYYOh6C41/original.m4a\"},d=document.querySelector('.btn_tts'),i=document.getElementById('ttsViewLayer');d&&i&&(c=d.parentElement,e=i.querySelector('.link_close'),d.addEventListener('click',function(){i.style.display='block'}),e.addEventListener('click',function(e){e.preventDefault(),i.style.display='none'}),(n=c.querySelector('#ttsPlayer'))&&(document.querySelectorAll('.inp_tts').forEach(function(e){return e.addEventListener('change',function(){var e=i.querySelector('input[name=inpSpeed]:checked'),t=i.querySelector('input[name=inpGender]:checked');e&&t&&(t=\"\".concat(e.value,\"_\").concat(t.value),n.setAttribute('src',o[t]),_Cookies.set(s,'',{domain:'.v.daum.net',expires:-1}),_Cookies.set(s,t,{domain:'.v.daum.net',expires:365}))})}),c=i.querySelector('.btn_play'),t=document.querySelector('.btn_soundplay'),c&&t&&(c.addEventListener('click',function(){i.style.display='none',d.disabled=!0,t.className+=' play_on',n.play()}),t.addEventListener('click',function(){n.pause(),n.currentTime=0,t.classList.remove('play_on'),d.disabled=!1,d.classList.remove('on')}),n.addEventListener('ended',function(){t.classList.remove('play_on'),d.disabled=!1}),c=(c=_Cookies.get(s))?(a='undefined'===(l=c.split('_'))[0]?'normal':l[0],'undefined'===l[1]?'Male':l[1]):(a='normal','Male'),(l=document.getElementById(\"inp\".concat(a.charAt(0).toUpperCase()).concat(a.substring(1))))&&(l.checked=\"checked\"),(l=document.getElementById(\"inp\".concat(c)))&&(l.checked=\"checked\"),n.setAttribute('src',o[\"\".concat(a,\"_\").concat(c)]))))})();</script>\n",
      "  <script>\"use strict\";!(function(){var e,a,s,l=document.getElementById('btnTranslate'),t=document.getElementById('btnTranslateClose'),n=document.querySelectorAll('.btn_translate_target_lang'),i=document.getElementById('layerTranslate'),r=document.getElementById('layerTranslating'),c=document.getElementById('layerTranslateNotice');i&&r&&(e={en:'<span class=\"inner_status\"><p class=\"txt_status\">The copyright belongs to the original writer of the content, and there may be errors in machine translation results.</p></span>',cn:'<span class=\"inner_status\"><p class=\"txt_status\">版权归内容原作者所有。机器翻译结果可能存在错误。</p></span>',jp:'<span class=\"inner_status\"><p class=\"txt_status\">原文の著作権は原著著作者にあり、機械翻訳の結果にエラーが含まれることがあります。</p></span>',id:'<span class=\"inner_status\"><p class=\"txt_status\">Hak cipta milik penulis asli dari konten, dan mungkin ditemukan kesalahan dalam hasil terjemahan mesin.</p></span>',vi:'<span class=\"inner_status\"><p class=\"txt_status\">Bản quyền thuộc về tác giả gốc của nội dung và có thể có lỗi trong kết quả dịch bằng máy.</p></span>'},a=function(n){setTimeout(function(){var t;i.style.display='none',r.style.display='none',c&&(n&&'kr'===n.targetLang?(c.classList.remove('status_view'),c.style.display='none',c.innerHTML='',null!==(t=document.getElementById('kakaoWrap'))&&void 0!==t&&t.classList.remove('en')):(c.classList.add('status_view'),c.style.display='block',c.innerHTML=e.hasOwnProperty(n.targetLang)?e[n.targetLang]:e['en'],['cn, jp'].includes(n.targetLang)||null!==(t=document.getElementById('kakaoWrap'))&&void 0!==t&&t.classList.add('en')),l.classList.remove('on'))},500)},s=function(){a()},null!=l&&l.addEventListener('click',function(){i.style.display='block'}),null!=t&&t.addEventListener('click',function(t){t.preventDefault(),i.style.display='none'}),null!=n&&n.forEach(function(t){t.addEventListener('click',function(t){var n=t.currentTarget.name;i.querySelectorAll('.tit_lang').forEach(function(t){return t.classList.remove('tit_selected')}),null!==(t=this.querySelector('.tit_lang'))&&void 0!==t&&t.classList.add('tit_selected'),r.style.display='block',HarmonyTranslator.translate(\"kr\",n,a,s)})}))})();</script>\n",
      "  <script>\"use strict\";!(function(){var e,t,n,i=(t=!(e=['inpFont1','inpFont2','inpFont3','inpFont4','inpFont5']),n=[],function(e){var t,n,i,o,r=c();if(r){for(o in r){if(!(r[o].x<e)){if(r[o].x>e){n=r[o];break}i=r[o];break}t=r[o]}return(i||(t&&(!n||n.x-e>e-t.x)?t:n)).element}});function c(){return t&&n[0].x==n[0].element.getBoundingClientRect().x?n:(n=(function(e){var n=[];if(!e.some(function(e){var t=document.getElementById(e).getBoundingClientRect();return!(0<t.x)||(n.push({id:e,element:document.getElementById(e),x:t.x}),!1)}))return n.sort(function(e,t){return e.x<t.x?-1:e.x>t.x?1:0})})(e))?(t=!0,n):void 0}var o=document.querySelector('.btn_font');if(o){var r=o.parentElement.querySelector('.view_layer');if(r){var s,a=r.querySelector('.link_close');o.addEventListener('click',function(){r.style.display='block'}),null!=a&&a.addEventListener('click',function(e){e.preventDefault(),r.style.display='none'}),null!==(a=r.querySelector('.list_fs'))&&void 0!==a&&a.addEventListener('touchmove',function(e){e=e.touches[0].clientX,e=i(e);e&&s!=e&&(s=e).click()});for(var u=['mobile_font_size','GS_font_size'],l='font_size_type',f=r.querySelector('.set_view'),d=document.querySelector('.news_view'),v=r.querySelectorAll('.inp_fs'),m=function(){return v.forEach(function(e){return e.removeAttribute('checked')})},p=function(e,t){_Cookies.set(e,'',{domain:'.v.daum.net',expires:-1}),_Cookies.set(e,t,{domain:'.v.daum.net',expires:365})},_=0;_<v.length;_++)!(function(e){e+1=='1'?v[e].setAttribute('checked',''):v[e].removeAttribute('checked'),v[e].addEventListener('change',function(){var t=this;m(),this.setAttribute('checked',''),f.className=\"set_view fs_type\".concat(e+1),d.className=\"news_view fs_type\".concat(e+1),u.forEach(function(e){return p(e,t.value)}),p(l,e+1)})})(_);window.addEventListener(\"pageshow\",function(e){var t;(e.persisted||window.performance&&2===window.performance.navigation.type)&&(t=_Cookies.get(l)||1,isNaN(Number(t))||t<1||v.length<t||(m(),v[t-1].setAttribute('checked',''),f.className=\"set_view fs_type\".concat(t),d.className=\"news_view fs_type\".concat(t)))})}}})();</script>\n",
      "  <script>\"use strict\";document.body.querySelector(\".btn_print\").parentNode.addEventListener(\"click\",function(e){e.preventDefault(),window.open('https://v.daum.net/v/20250203151815463?s=print_news','newsPrint','width=750,height=550,scrollbars=yes')});</script>\n",
      "  <script>\"use strict\";document.querySelectorAll('.head_view .item_util').forEach(function(e){var t,r=e.querySelector('.btn_util');null!=r&&(r.addEventListener('click',function(){r.classList.add('on');var t=e.querySelector('.view_layer');Array.from(document.querySelectorAll('.head_view .item_util .btn_util')).filter(function(e){return e!=r}).forEach(function(e){return e.classList.remove('on')}),Array.from(document.querySelectorAll('.head_view .item_util .view_layer')).filter(function(e){return e!=t}).forEach(function(e){return e.style.display='none'})}),null!==(t=e.querySelector('.view_layer .link_close'))&&void 0!==t&&t.addEventListener('click',function(){r.classList.remove('on')}))});</script>\n",
      "  <script>\"use strict\";!(function(){var d,o,c,i,t,e,r,l,s,u=document.querySelector('section[dmcf-sid]');function g(t){return e=t,n=['TABLE','FIGURE','IMG','IFRAME','VIDEO','AUDIO'],Array.prototype.find.call(e.querySelectorAll('*'),function(e){return n.find(function(t){return t===e.tagName})})?'media':'general'===t.getAttribute('dmcf-ptype')?'text':'other';var e,n}function f(){var t=Array.prototype.map.call(document.querySelectorAll('section[dmcf-sid] [dmcf-pid]'),function(t,e){return{element:t,index:e,type:g(t),height:(function(t,e){if(!e)return t.offsetHeight;var n=window.getComputedStyle(t),e=parseInt(n.marginTop),n=parseInt(n.marginBottom);return t.offsetHeight+e+n})(t,!0)}}),n=0;t.forEach(function(t,e){t.top=n,n+=t.height});var a=0;return t.slice().reverse().forEach(function(t,e){t.bottom=a,a+=t.height}),t}!u||u.offsetHeight<600||0!=(d=(function(){var n=f(),t=n.reduce(function(t,e){return'media'===e.type||(t[t.length-1].push(e),e.index<n.length-1&&'media'===n[e.index+1].type&&t.push([])),t},[[]]).filter(function(t){return 1<t.length}),a=240,d=240,i='text',o=Math.max(.7*(document.documentElement.clientHeight||document.body.clientHeight),600),c=[];return t.forEach(function(t){var e=0,n=t[0].height+t[0].bottom-t[t.length-1].bottom;t.forEach(function(t){e+=t.height,n-=t.height,t.type===i&&a<=e&&d<=n&&(0===c.length||0<c.length&&c[c.length-1].bottom-t.bottom>=o)&&(c.push(t),e=0)})}),c})()).length&&(o=function(t,e,n){var a=\"true\"==\"true\"?\"pc_article_middle_ad_\".concat(e+1):'',e=document.createElement(\"div\");return e.classList.add(\"ad_body2\"),e.innerHTML=\"\\n            <ins\\n                class=\\\"kakao_ad_area\\\"\\n                data-ad-unit=\\\"\".concat(t,\"\\\"\\n                data-ad-param-cp=\\\"\").concat(\"157_pc_media_news\",\"\\\"\\n                data-ad-param-channel=\\\"\").concat(\"harmony\",\"\\\"\\n                data-ad-onfail=\\\"removeParentElement\\\"\\n                data-ad-width=\\\"100%\\\"\\n                data-ad-onload=\\\"sendAbBucketLog\\\"\\n                data-ab-bucket=\\\"\").concat(a,\"\\\"\\n                data-ab-bucket-type=\\\"\").concat(n,\"\\\"\\n            />\"),e},c=function(t){return\"bodyAd_\".concat(t)},i=function(t,e,n,a){var d=c(t),i=(function(t,e){var n=document.createElement(\"div\");n.setAttribute(\"id\",c(t)),n.classList.add(\"ad_body2\"),n.style.cssText=\"text-align:center;vertical-align:middle;line-height: 0;padding: 0 0px; border: 0px; width:100%; height: 90px;\",n.innerHTML=\"\\n            <ins class=\\\"adsbygoogle\\\" \\n                style=\\\"display:inline-block;width:678px;height:84px;border:1px solid #e5e5e5\\\" \\n                data-ad-client=\\\"\".concat(\"ca-pub-1682288257759598\",\"\\\" \\n                data-ad-slot=\\\"\").concat(t,\"\\\"\\n                data-adtest=\\\"\").concat(\"off\",\"\\\"\\n            />\");return\"true\"==\"true\"&&0<=e&&(n.setAttribute(\"data-ab-bucket\",\"pc_article_middle_ad_\".concat(e+1)),n.setAttribute(\"data-ab-bucket-type\",\"google\")),n})(t,a);u.insertBefore(i,e);e=n?function(t){var e=o(n,a,'replaced_by_adfit');removeGoogleAdElementAndReplaceWithAdfitElement(t,e)}:removeAdElement;document.addEventListener('DOMContentLoaded',GoogleAdsUtils.addCallback(d,{doOnFilled:function(){return sendAbBucketLog(i)},doOnUnfilled:e}))},e=(t=function(t,e){return _.isEmpty(t)?e:t})(JSON.parse(\"[\\\"adfit\\\",\\\"adfit\\\"]\"),[]),r=t(JSON.parse(\"[\\\"DAN-LMhCax710HKR6iRC\\\",\\\"DAN-N84ROaaJI7rOx7GZ\\\"]\"),[]),l=t(JSON.parse(\"[\\\"7935113225\\\",\\\"7613652782\\\"]\"),[]),s=t(JSON.parse(\"[\\\"DAN-LMhCax710HKR6iRC\\\",\\\"DAN-N84ROaaJI7rOx7GZ\\\"]\"),[]),e.forEach(function(t,e){var n,a;e!=d.length&&(\"adfit\"===t&&e<r.length?(a=r[e],n=d[e].element.nextSibling,a=o(a,a=e,'adfit'),u.insertBefore(a,n),0<(a=(null==a?void 0:a.getElementsByTagName(\"ins\"))||[]).length&&adfit.render(a[0])):\"google\"===t&&e<l.length&&i(l[e],d[e].element.nextSibling,e<s.length?s[e]:void 0,e))}))})();</script>\n",
      "  <script type=\"text/javascript\">\n",
      "    \n",
      "    \n",
      "    \n",
      "    var alex = document.getElementById('alex_action_emotion');\n",
      "    alex.setAttribute('data-selections','[{\"type\":\"RECOMMEND\",\"animation\":\"SLIDE\",\"image\":\"https://t1.daumcdn.net/harmony_static/alex_emotion/SLIDE_RECOMMEND_1x.png\",\"highResImage\":\"https://t1.daumcdn.net/harmony_static/alex_emotion/SLIDE_RECOMMEND_2x.png\"},{\"type\":\"LIKE\",\"animation\":\"SLIDE\",\"image\":\"https://t1.daumcdn.net/harmony_static/alex_emotion/SLIDE_LIKE_1x.png\",\"highResImage\":\"https://t1.daumcdn.net/harmony_static/alex_emotion/SLIDE_LIKE_2x.png\"},{\"type\":\"IMPRESS\",\"animation\":\"SLIDE\",\"image\":\"https://t1.daumcdn.net/harmony_static/alex_emotion/SLIDE_IMPRESS_1x.png\",\"highResImage\":\"https://t1.daumcdn.net/harmony_static/alex_emotion/SLIDE_IMPRESS_2x.png\"},{\"type\":\"ANGRY\",\"animation\":\"SLIDE\",\"image\":\"https://t1.daumcdn.net/harmony_static/alex_emotion/SLIDE_ANGRY_1x.png\",\"highResImage\":\"https://t1.daumcdn.net/harmony_static/alex_emotion/SLIDE_ANGRY_2x.png\"},{\"type\":\"SAD\",\"animation\":\"SLIDE\",\"image\":\"https://t1.daumcdn.net/harmony_static/alex_emotion/SLIDE_SAD_1x.png\",\"highResImage\":\"https://t1.daumcdn.net/harmony_static/alex_emotion/SLIDE_SAD_2x.png\"}]');\n",
      "\n",
      "    var itemKey = alex.getAttribute('data-item-key');\n",
      "    if (isNumber(itemKey))\n",
      "        alex.setAttribute('data-item-key', '@' + itemKey);\n",
      "\n",
      "    function isNumber(x) {\n",
      "        return !isNaN(Number(x));\n",
      "    }\n",
      "</script>\n",
      "  <script type=\"text/javascript\" src=\"//action.kakao.com/latest/alex.actions.js\"></script>\n",
      "  <script>\"use strict\";function _slicedToArray(e,t){return _arrayWithHoles(e)||_iterableToArrayLimit(e,t)||_unsupportedIterableToArray(e,t)||_nonIterableRest()}function _nonIterableRest(){throw new TypeError(\"Invalid attempt to destructure non-iterable instance.\\nIn order to be iterable, non-array objects must have a [Symbol.iterator]() method.\")}function _unsupportedIterableToArray(e,t){if(e){if(\"string\"==typeof e)return _arrayLikeToArray(e,t);var a=Object.prototype.toString.call(e).slice(8,-1);return\"Object\"===a&&e.constructor&&(a=e.constructor.name),\"Map\"===a||\"Set\"===a?Array.from(e):\"Arguments\"===a||/^(?:Ui|I)nt(?:8|16|32)(?:Clamped)?Array$/.test(a)?_arrayLikeToArray(e,t):void 0}}function _arrayLikeToArray(e,t){(null==t||t>e.length)&&(t=e.length);for(var a=0,n=new Array(t);a<t;a++)n[a]=e[a];return n}function _iterableToArrayLimit(e,t){if(\"undefined\"!=typeof Symbol&&Symbol.iterator in Object(e)){var a=[],n=!0,r=!1,c=void 0;try{for(var l,i=e[Symbol.iterator]();!(n=(l=i.next()).done)&&(a.push(l.value),!t||a.length!==t);n=!0);}catch(e){r=!0,c=e}finally{try{n||null==i[\"return\"]||i[\"return\"]()}finally{if(r)throw c}}return a}}function _arrayWithHoles(e){if(Array.isArray(e))return e}!(function(){var e,t,i=document.getElementById('related_post_by_news'),s='false'=='true';function o(a){var n=React.useRef(null);return React.useEffect(function(){function e(e){var t;null!==(t=n.current)&&void 0!==t&&t.contains(e.target)||a(e)}return document.addEventListener('mousedown',e),function(){document.removeEventListener('mousedown',e)}},[a]),{ref:n}}function a(e){var t=e.postList,a=_slicedToArray(React.useState(!1),2),n=a[0],r=a[1],e=_slicedToArray(React.useState(!1),2),c=e[0],l=e[1],a=o(function(){return l(!1)}).ref,e=s?3:4;return React.createElement(React.Fragment,null,React.createElement(\"div\",{class:\"box_tit\"},React.createElement(\"h3\",{class:\"tit_box\"},React.createElement(\"span\",{class:\"ico_view ico_post\"}),'이 뉴스의 포스트 ',React.createElement(\"span\",{class:\"ico_beta\"},\"beta\")),s&&React.createElement(\"div\",{class:\"wrap_help\",ref:a},React.createElement(\"button\",{type:\"button\",class:\"btn_help\",\"aria-expanded\":c,onClick:function(){return l(!c)}},React.createElement(\"span\",{class:\"ico_view ico_help\"},\"도움말\")),React.createElement(\"div\",{class:\"layer_tooltip\"},\" \",React.createElement(\"span\",{class:\"ico_view ico_tooltip\"}),React.createElement(\"p\",{class:\"txt_tooltip\"},\"기자가 직접 남긴 뉴스 리뷰를 확인해\",React.createElement(\"br\",null),\"보세요. 포스트는 beta 기간입니다.\"),React.createElement(\"button\",{type:\"button\",class:\"btn_close\",onClick:function(){return l(!1)}},React.createElement(\"span\",{class:\"ico_view ico_close\"},\"도움말 팝업 닫기\"))))),React.createElement(m,{postList:t,isMore:n,basePostLength:e}),t.length>e&&React.createElement(\"div\",{class:\"btnmore_group\"},React.createElement(\"a\",{href:\"#\",class:\"link_morewide\",onClick:function(e){e.preventDefault(),r(!n),n?(i.classList.remove('unfold'),i.classList.add('fold')):(i.classList.remove('fold'),i.classList.add('unfold'))},\"data-tiara-layer\":\"post\",\"data-tiara\":\"more\",\"data-tiara-action-name\":\"포스트펼치기_클릭\"},React.createElement(\"span\",{class:\"tit_more\"},\"포스트 \"),n?'접어보기':'펼쳐보기',React.createElement(\"span\",{class:\"ico_view ico_more2\"}))))}function m(e){var t=e.postList,a=e.isMore,n=e.basePostLength;return React.createElement(\"ul\",{class:\"list_post\",\"data-tiara-ordnum-layer\":!0},t.map(function(e,t){return React.createElement(r,{post:e,index:t,isInvisible:n<=t&&!a})}))}function r(e){var t=e.post,a=e.index,n=e.isInvisible,r=_slicedToArray(React.useState(!1),2),c=r[0],l=r[1],e=o(function(e){return l(!1)}).ref,r=t.viewUrl,r={link:r,prefix:t.content.description.split('\\n')[0],service_name:'포스트 뷰',kakaoLinkData:{shareType:'sendScrap',shareData:{templateId:7952,installTalk:!0,requestUrl:r,templateArgs:{'${mobileWebUrl}':r+'?f=m','${webUrl}':r,'${EncodingUrl}':r}}}},n={display:n?'none':'block'};return React.createElement(\"li\",{key:\"related_post_by_news_\".concat(a),\"data-tiara-ordnum\":a+1,style:n},React.createElement(\"div\",{class:\"item_post\"},React.createElement(\"div\",{class:\"post_desc\"},React.createElement(\"p\",{class:\"txt_post\"},t.content.description)),React.createElement(\"div\",{class:\"post_info\"},React.createElement(\"span\",{class:\"thumb_profile\"},React.createElement(\"span\",{class:\"squircle_thumb\"},React.createElement(\"svg\",{viewBox:\"0 0 36 36\",class:\"svg_squircle\",\"aria-label\":\"프로필 사진\"},React.createElement(\"g\",null,React.createElement(\"use\",{xlinkHref:\"#shapeSquircle\",class:\"thumb_bg\"}),t.cp.iconImageUrl?React.createElement(\"image\",{\"clip-path\":\"url(#clipThumb)\",height:\"100%\",width:\"100%\",xlinkHref:\"https://img1.daumcdn.net/thumb/C110x110a/?fname=\".concat(t.cp.iconImageUrl),preserveAspectRatio:\"xMidYMid slice\"}):React.createElement(React.Fragment,null,React.createElement(\"image\",{class:\"light\",\"clip-path\":\"url(#clipThumb)\",height:\"100%\",width:\"100%\",xlinkHref:\"https://t1.daumcdn.net/media/common/noimage/bg_noimage_24.png\",preserveAspectRatio:\"xMidYMid slice\"}),s&&React.createElement(\"image\",{class:\"dark\",\"clip-path\":\"url(#clipThumb)\",height:\"100%\",width:\"100%\",xlinkHref:\"https://t1.daumcdn.net/media/common/noimage/bg_noimage_24_dark.png\",preserveAspectRatio:\"xMidYMid slice\"})),React.createElement(\"use\",{xlinkHref:\"#squircleBorder\",class:\"thumb_stroke\"}))))),React.createElement(\"div\",{class:\"info_thumb\"},React.createElement(\"span\",{class:\"thumb_date\"},StringUtil.makeViewTime(t.createdDate)),React.createElement(\"span\",{class:\"thumb_name\"},t.cp.cpName))),React.createElement(\"a\",{href:\"https://channel.daum.net/post/\".concat(t.id),class:\"link_post\",\"data-tiara-layer\":\"post\",\"data-tiara\":\"리스트\",\"data-tiara-action-kind\":\"ClickContent\",\"data-tiara-action-name\":\"포스트_클릭\"}),React.createElement(\"div\",{class:\"post_menu \".concat(c&&'open'),ref:e,\"data-tiara-action-name\":\"포스트쓰리닷_클릭\",\"data-tiara-layer\":\"post_more\"},React.createElement(\"a\",{href:\"#\",class:\"btn_menu\",onClick:function(e){e.preventDefault(),l(!c)}},React.createElement(\"span\",{class:\"ico_view\"},\"메뉴보기\")),React.createElement(\"div\",{class:\"layer_menu\"},React.createElement(\"div\",{class:\"list_menu\"},React.createElement(MobileSocialShareUtil.Component,{template:r},function(e,t){return React.createElement(\"a\",{ref:t,href:\"#\",class:\"link_menu\",onClick:function(e){e.preventDefault()},\"data-tiara\":\"share\"},\"공유하기\",React.createElement(\"span\",{class:\"ico_view ico_share\"}))}),React.createElement(\"a\",{target:\"_blank\",href:\"https://channel.daum.net/report/\".concat(t.id),class:\"link_menu\",\"data-tiara\":\"report\"},\"신고하기\",React.createElement(\"span\",{class:\"ico_view ico_report\"})))))))}e='xC4H50yj3o',t=s?5:6,axios.get(\"\".concat(Conf.api.hadesRest,\"/post_related_target/data\"),{params:{targetId:e,targetType:'NEWS',size:6}}).then(function(e){return(e.data||[]).splice(0,t)}).then(function(e){0<e.length?(i.style.display='block',ReactDOM.render(React.createElement(a,{postList:e}),i)):i.parentElement.removeChild(i)}).catch(function(e){console.error(e),i.parentElement.removeChild(i)})})();</script>\n",
      "  <script src=\"https://comment.kakao.com/latest/comment.sdk.loader.v2.js\"></script>\n",
      "  <script>\"use strict\";function asyncGeneratorStep(e,t,n,a,r,i,o){try{var c=e[i](o),s=c.value}catch(e){return void n(e)}c.done?t(s):Promise.resolve(s).then(a,r)}function _asyncToGenerator(c){return function(){var e=this,o=arguments;return new Promise(function(t,n){var a=c.apply(e,o);function r(e){asyncGeneratorStep(a,t,n,r,i,\"next\",e)}function i(e){asyncGeneratorStep(a,t,n,r,i,\"throw\",e)}r(void 0)})}}!(function(){function o(){var e;null==s||null!==(e=s.querySelector('a.btn_ttalk'))&&void 0!==e&&e.remove(),null!=l&&l.remove()}var c,n,a,e,r=Number('1738563495690')+60*60*24*1e3,t=r<=(new Date).getTime(),s=document.querySelector('div.util_wrap'),l=document.querySelector('div.ttalk_view'),i=l.querySelector('em.num_ttalk');function d(){var e=document.createElement('div');e.setAttribute('id','timetalkDimmed'),e.style.cssText='position:fixed;width:100%;height:100%;z-index:9000;background-color:rgba(0,0,0,0.4);',e.addEventListener('click',function(){var e=document.getElementById('timetalkFrame'),t=document.getElementById('timetalkDimmed');null!=e&&e.classList.remove('open'),setTimeout(function(){null!=e&&e.remove(),null!=t&&t.remove(),document.body.style.overflow='visible'},3*100)});var t=document.createElement('iframe');t.setAttribute('id','timetalkFrame'),t.setAttribute('src','/timetalk/xC4H50yj3o'),t.style.cssText='position:fixed;right:0;width:400px;height:100%;z-index:9001;border:none;',t.addEventListener('load',function(e){e.currentTarget.classList.add('open');e=window.parent;a(e.location)&&e.history.replaceState({},document.title,e.location.href.replace(new RegExp(\"\\\\??\".concat(n)),''))}),document.body.style.overflow='hidden',document.body.prepend(t),document.body.prepend(e)}t?o():(l.style.display='block',c=setInterval(function(){var e=(new Date).getTime();if(r<=e||!i)return clearInterval(c),void o();var t=r-e,n=Math.floor(t/1e3),e=Math.floor(n/60),t=Math.floor(e/60),n=(n%60).toString().padStart(2,'0'),e=(e%60).toString().padStart(2,'0'),t=(t%24).toString().padStart(2,'0');i.innerHTML=\"<span class=\\\"txt_g\\\">\".concat(t,\"</span>:<span class=\\\"txt_g\\\">\").concat(e,\"</span>:<span class=\\\"txt_g\\\">\").concat(n,\"</span>\")},100),n='isOpenTimetalk=true',e=function(e){e.preventDefault(),d()},(a=function(e){return e.search.includes(n)})(window.location)&&d(),(t=document.createElement('a')).setAttribute('href',''),t.setAttribute('target','_blank'),t.setAttribute('data-tiara','타임톡버튼'),t.setAttribute('data-tiara-action-name','헤드타임톡_클릭'),t.classList.add('btn_ttalk'),t.innerHTML=\"<span class=\\\"ico_view ico_ttalk\\\">타임톡</span>\",t.addEventListener('click',e),s.insertBefore(t,s.querySelector('div.util_view')),l.querySelector('a.link_ttalkgo').addEventListener('click',e),window.addEventListener('alex-comment-sdk',(function(){var t=_asyncToGenerator(regeneratorRuntime.mark(function e(t){var n,a,r,i;return regeneratorRuntime.wrap(function(e){for(;1;)switch(e.prev=e.next){case 0:return e.prev=0,n=t.detail,a=\"xC4H50yj3o\",r={phase:\"production\",clientId:\"Y6z3VwK78FOFN59061b64xYu@timetalk\"},e.next=6,n(r);case 6:return i=e.sent,e.next=9,i.getPostsCommentCount([a]);case 9:i=e.sent,i=StringUtil.numberWithCommas(i[a]||0),s.querySelector('a.btn_ttalk').innerHTML=\"<span class=\\\"ico_view ico_ttalk\\\">타임톡</span>\".concat(i,\"<span class=\\\"screen_out\\\">개</span>\"),l.querySelector('span.txt_info').innerHTML=\"<span class=\\\"screen_out\\\">현재 톡 갯수</span><em class=\\\"txt_num\\\">\".concat(i,\"</em>개\"),e.next=19;break;case 15:e.prev=15,e.t0=e[\"catch\"](0),o(),clearInterval(c);case 19:case\"end\":return e.stop()}},e,null,[[0,15]])}));return function(e){return t.apply(this,arguments)}})()))})();</script>\n",
      "  <script>\"use strict\";function asyncGeneratorStep(e,n,t,r,a,c,o){try{var s=e[c](o),i=s.value}catch(e){return void t(e)}s.done?n(i):Promise.resolve(i).then(r,a)}function _asyncToGenerator(s){return function(){var e=this,o=arguments;return new Promise(function(n,t){var r=s.apply(e,o);function a(e){asyncGeneratorStep(r,n,t,a,c,\"next\",e)}function c(e){asyncGeneratorStep(r,n,t,a,c,\"throw\",e)}a(void 0)})}}_asyncToGenerator(regeneratorRuntime.mark(function e(){var n,t,r,a,c,o,s;return regeneratorRuntime.wrap(function(e){for(;1;)switch(e.prev=e.next){case 0:return n=document.getElementById('news_related_query_comp'),e.prev=1,t='20250203151815463',e.next=5,axios.get(\"\".concat(Conf.api.hadesRest,\"/news_related_query/data?size=6&maxTextLen=12&newsId=\")+t);case 5:if(s=e.sent,0==(r=s.data).length)return n.parentElement.removeChild(n),e.abrupt(\"return\");e.next=10;break;case 10:a=10,c=s=2,o=3,s=_.flatten(r.reduce(function(e,n){var t=e[e.length-1];return t.length<c||t.reduce(function(e,n){return e+n.length},0)+n.length<=a&&t.length<o?t.push(n):e.push([n]),e},[[]]).slice(0,s)),n.innerHTML=\"\\n            <div class=\\\"box_tit\\\">\\n                <h3 class=\\\"tit_box\\\">함께 찾은 검색어</h3>\\n            </div>\\n            <ul class=\\\"list_keyword\\\" data-tiara=\\\"검색어\\\">\\n                \".concat(s.map(function(e){return\"<li> <a href=\\\"https://search.daum.net/search?w=tot&DA=NDT&rtmaxcoll=DNS,NNS&q=\".concat(encodeURIComponent(e),\"\\\" class=\\\"link_keyword\\\" title=\\\"\").concat(_.escape(e),\"\\\"><span class=\\\"ico_view ico_keyword\\\"></span>\").concat(_.escape(e),\"</a> </li>\")}).join(''),\"\\n            </ul>\\n        \"),e.next=21;break;case 18:e.prev=18,e.t0=e[\"catch\"](1),n.parentElement.removeChild(n);case 21:case\"end\":return e.stop()}},e,null,[[1,18]])}))();</script>\n",
      "  <script>\"use strict\";function _slicedToArray(e,t){return _arrayWithHoles(e)||_iterableToArrayLimit(e,t)||_unsupportedIterableToArray(e,t)||_nonIterableRest()}function _nonIterableRest(){throw new TypeError(\"Invalid attempt to destructure non-iterable instance.\\nIn order to be iterable, non-array objects must have a [Symbol.iterator]() method.\")}function _unsupportedIterableToArray(e,t){if(e){if(\"string\"==typeof e)return _arrayLikeToArray(e,t);var a=Object.prototype.toString.call(e).slice(8,-1);return\"Object\"===a&&e.constructor&&(a=e.constructor.name),\"Map\"===a||\"Set\"===a?Array.from(e):\"Arguments\"===a||/^(?:Ui|I)nt(?:8|16|32)(?:Clamped)?Array$/.test(a)?_arrayLikeToArray(e,t):void 0}}function _arrayLikeToArray(e,t){(null==t||t>e.length)&&(t=e.length);for(var a=0,r=new Array(t);a<t;a++)r[a]=e[a];return r}function _iterableToArrayLimit(e,t){if(\"undefined\"!=typeof Symbol&&Symbol.iterator in Object(e)){var a=[],r=!0,n=!1,i=void 0;try{for(var c,o=e[Symbol.iterator]();!(r=(c=o.next()).done)&&(a.push(c.value),!t||a.length!==t);r=!0);}catch(e){n=!0,i=e}finally{try{r||null==o[\"return\"]||o[\"return\"]()}finally{if(n)throw i}}return a}}function _arrayWithHoles(e){if(Array.isArray(e))return e}function ownKeys(t,e){var a,r=Object.keys(t);return Object.getOwnPropertySymbols&&(a=Object.getOwnPropertySymbols(t),e&&(a=a.filter(function(e){return Object.getOwnPropertyDescriptor(t,e).enumerable})),r.push.apply(r,a)),r}function _objectSpread(t){for(var e=1;e<arguments.length;e++){var a=null!=arguments[e]?arguments[e]:{};e%2?ownKeys(Object(a),!0).forEach(function(e){_defineProperty(t,e,a[e])}):Object.getOwnPropertyDescriptors?Object.defineProperties(t,Object.getOwnPropertyDescriptors(a)):ownKeys(Object(a)).forEach(function(e){Object.defineProperty(t,e,Object.getOwnPropertyDescriptor(a,e))})}return t}function _defineProperty(e,t,a){return t in e?Object.defineProperty(e,t,{value:a,enumerable:!0,configurable:!0,writable:!0}):e[t]=a,e}!(function(){var e,r='true'=='false',t=document.getElementById('special_series_list'),u='S200x132';function a(e){var t=e.seriesList,e=_slicedToArray(React.useState(t[0]),2),d=e[0],a=e[1];return React.createElement(React.Fragment,null,React.createElement(\"div\",{className:\"box_tit\"},React.createElement(\"h3\",{className:\"tit_box\"},\"머니S\",\" PICK\")),r&&React.createElement(\"div\",{className:\"tabg_wrap\"},React.createElement(\"div\",{className:\"inner_wrap\"},React.createElement(\"ul\",{className:\"tab_g\",role:\"tablist\",\"data-tiara-layer\":\"media_pick_news\",\"data-tiara-action-name\":\"본문기획뉴스_클릭\"},t.map(function(t){return React.createElement(\"li\",{key:t.id,role:\"presentation\"},React.createElement(\"a\",{href:\"#none\",role:\"tab\",\"data-tiara\":\"탭\",\"aria-selected\":t.id==d.id?\"true\":\"false\",className:\"link_tab\",onClick:function(e){t.id!=d.id&&a(t),e.preventDefault()}},t.title))})))),!r&&React.createElement(\"ul\",{role:\"tablist\",className:\"tab_g\",\"data-tiara-layer\":\"media_pick_news\",\"data-tiara-action-name\":\"본문기획뉴스_클릭\"},t.map(function(t){return React.createElement(\"li\",{key:t.id,role:\"presentation\"},React.createElement(\"a\",{href:\"#none\",role:\"tab\",\"data-tiara\":\"탭\",\"aria-selected\":t.id==d.id?\"true\":\"false\",className:\"link_tab\",onClick:function(e){t.id!=d.id&&a(t),e.preventDefault()}},t.title))})),React.createElement(\"ul\",{className:\"list_column\",\"data-tiara-ordnum-layer\":!0,\"data-tiara-layer\":\"media_pick_news\",\"data-tiara-action-name\":\"본문기획뉴스_클릭\",\"data-tiara-action-kind\":\"ClickContent\"},d.contents.map(function(e){var t=e.contentId,a=e.newsId,r=e.title,n=e.thumbnail,i=e.createDt,c=e.mobileLink,o=e.category,l=e.categoryId,s=e.cpId,m=e.cpName,e=e.writers,a=\"hamny-\".concat(a||t);return React.createElement(\"li\",{key:t},React.createElement(\"div\",{className:\"item_column\"},React.createElement(\"a\",{href:c,className:\"link_thumb\",\"data-tiara\":\"탭\".concat(d.index+1,\"_리스트\"),\"data-tiara-id\":a,\"data-tiara-name\":r,\"data-tiara-category\":o,\"data-tiara-category_id\":l,\"data-tiara-provider\":m,\"data-tiara-provider_id\":s,\"data-tiara-author\":null==e?void 0:e.map(function(e){return e.name}).join(' ')},React.createElement(\"div\",{className:\"wrap_thumb\"},React.createElement(\"img\",{src:StringUtil.makeThumbnail(n,u,'70'),className:\"thumb_g\",alt:\"\"})),React.createElement(\"div\",{className:\"cont_thumb\"},React.createElement(\"div\",{className:\"inner_cont\"},React.createElement(\"div\",{className:\"thumb_wrap\"},React.createElement(\"strong\",{className:\"tit_txt\"},r),\" \",React.createElement(\"span\",{className:\"info_thumb\"},StringUtil.makeViewTime(i))))))))})),React.createElement(\"div\",{className:\"btnmore_group\",\"data-tiara-layer\":\"media_pick_news\",\"data-tiara-action-name\":\"본문기획뉴스_클릭\",\"data-tiara-action-kind\":\"ClickContent\"},React.createElement(\"a\",{href:d.link,className:\"link_morewide\",\"data-tiara\":\"더보기\"},React.createElement(\"span\",{className:\"tit_more\"},d.title,\" \"),\"더보기\",React.createElement(\"span\",{className:\"ico_view ico_more\"}))))}e={cpId:'157',group:'special',size:10,sort:'favorite:desc,lastModifiedDate:desc',minContentCount:4},axios.get(\"\".concat(Conf.api.hadesRest,\"/series_sorted_favorite_list\"),{params:e}).then(function(e){return e.data.body.data}).then(function(e){0<e.length?(e=e.map(function(e,t){return _objectSpread(_objectSpread({},e),{},{index:t})}),ReactDOM.render(React.createElement(a,{seriesList:e}),t)):t.parentNode.removeChild(t)}).catch(function(e){return t.parentNode.removeChild(t)})})();</script>\n",
      "  <script>\"use strict\";function _defineProperty(e,t,a){return t in e?Object.defineProperty(e,t,{value:a,enumerable:!0,configurable:!0,writable:!0}):e[t]=a,e}function _slicedToArray(e,t){return _arrayWithHoles(e)||_iterableToArrayLimit(e,t)||_unsupportedIterableToArray(e,t)||_nonIterableRest()}function _nonIterableRest(){throw new TypeError(\"Invalid attempt to destructure non-iterable instance.\\nIn order to be iterable, non-array objects must have a [Symbol.iterator]() method.\")}function _unsupportedIterableToArray(e,t){if(e){if(\"string\"==typeof e)return _arrayLikeToArray(e,t);var a=Object.prototype.toString.call(e).slice(8,-1);return\"Object\"===a&&e.constructor&&(a=e.constructor.name),\"Map\"===a||\"Set\"===a?Array.from(e):\"Arguments\"===a||/^(?:Ui|I)nt(?:8|16|32)(?:Clamped)?Array$/.test(a)?_arrayLikeToArray(e,t):void 0}}function _arrayLikeToArray(e,t){(null==t||t>e.length)&&(t=e.length);for(var a=0,r=new Array(t);a<t;a++)r[a]=e[a];return r}function _iterableToArrayLimit(e,t){if(\"undefined\"!=typeof Symbol&&Symbol.iterator in Object(e)){var a=[],r=!0,n=!1,i=void 0;try{for(var c,o=e[Symbol.iterator]();!(r=(c=o.next()).done)&&(a.push(c.value),!t||a.length!==t);r=!0);}catch(e){n=!0,i=e}finally{try{r||null==o[\"return\"]||o[\"return\"]()}finally{if(n)throw i}}return a}}function _arrayWithHoles(e){if(Array.isArray(e))return e}function asyncGeneratorStep(e,t,a,r,n,i,c){try{var o=e[i](c),l=o.value}catch(e){return void a(e)}o.done?t(l):Promise.resolve(l).then(r,n)}function _asyncToGenerator(o){return function(){var e=this,c=arguments;return new Promise(function(t,a){var r=o.apply(e,c);function n(e){asyncGeneratorStep(r,t,a,n,i,\"next\",e)}function i(e){asyncGeneratorStep(r,t,a,n,i,\"throw\",e)}n(void 0)})}}_asyncToGenerator(regeneratorRuntime.mark(function e(){var t,a,r,n,i,c,o,l,s,m;return regeneratorRuntime.wrap(function(e){for(;1;)switch(e.prev=e.next){case 0:return m=function(e){e=e.contents;return React.createElement(React.Fragment,null,e.map(function(e){var t=e.contentId,a=e.pcLink,r=e.thumbnail,n=e.index,i=e.title,c=e.createDt,o=e.contentUniqueKey,l=e.trommCategory,s=e.cpId,m=e.cpKorName,e=e.writers;return React.createElement(\"li\",null,React.createElement(\"div\",{className:\"item_column\"},React.createElement(\"a\",(_defineProperty(a={href:a,className:\"link_thumb\",\"data-tiara\":\"리스트\",\"data-itemid\":t},\"data-itemid\",t),_defineProperty(a,\"data-tiara-id\",o),_defineProperty(a,\"data-tiara-name\",i),_defineProperty(a,\"data-tiara-category\",null==l?void 0:l.category),_defineProperty(a,\"data-tiara-category_id\",null==l?void 0:l.categoryId),_defineProperty(a,\"data-tiara-provider\",m),_defineProperty(a,\"data-tiara-provider_id\",s),_defineProperty(a,\"data-tiara-author\",null==e?void 0:e.map(function(e){return e.name}).join(' ')),a),React.createElement(\"div\",{className:\"wrap_thumb\"},React.createElement(\"img\",{src:StringUtil.makeThumbnail(r,'S200x132','70'),className:\"thumb_g\"})),React.createElement(\"div\",{className:\"cont_thumb\"},React.createElement(\"div\",{className:\"inner_cont\"},React.createElement(\"div\",{className:\"thumb_wrap\"},React.createElement(\"strong\",{className:\"tit_txt\"},React.createElement(\"span\",{className:\"rank_num\"},n,React.createElement(\"span\",{className:\"screen_out\"},\"위\")),i),React.createElement(\"span\",{className:\"info_thumb\"},StringUtil.makeViewTime(c))))))))}))},s=function(e){var t=e.title,a=e.isVisible,r=e.tabIdx,n=e.activeTabIdx,i=e.setActiveTabIdx;return React.createElement(React.Fragment,null,a&&React.createElement(\"li\",{role:\"presentation\"},React.createElement(\"a\",{onClick:function(){i(r)},id:\"popularNews\",href:\"javascript:void(0)\",role:\"tab\",\"aria-selected\":n===r,className:\"link_tab\"},t)))},l=function(e){var t=e.tabInfos,a=e.popularNews,r=e.driNews,e=_slicedToArray(React.useState(5===a.length?0:1),2),n=e[0],i=e[1];return React.createElement(React.Fragment,null,React.createElement(\"div\",{className:\"box_tit\"},React.createElement(\"h3\",{className:\"tit_box\"},\"머니S 랭킹 뉴스\"),React.createElement(\"p\",{className:\"txt_box\"},t[n].title)),React.createElement(\"ul\",{className:\"tab_g tablist2\",role:\"tablist\"},t.map(function(e,t){return React.createElement(s,{isVisible:e.isVisible,title:e.tabTitle,tabIdx:t,activeTabIdx:n,setActiveTabIdx:i})})),React.createElement(\"ol\",{className:\"list_rank_news\",\"data-tiara-action-name\":t[n].tiaraActionName,\"data-tiara-layer\":t[n].tiaraSecondLayer,\"data-tiara-action-kind\":\"ClickContent\",\"data-tiara-ordnum-layer\":!0},React.createElement(m,{contents:0===n?a:r})))},o=function(){return(o=_asyncToGenerator(regeneratorRuntime.mark(function e(t){var a,r;return regeneratorRuntime.wrap(function(e){for(;1;)switch(e.prev=e.next){case 0:return a=t.key,r=t.params,e.next=3,axios.get(\"\".concat(Conf.api.hadesRest,\"/\").concat(a),{params:r}).then(function(e){return e.data.body.data||[]});case 3:return e.abrupt(\"return\",e.sent);case 4:case\"end\":return e.stop()}},e)}))).apply(this,arguments)},c=function(){return o.apply(this,arguments)},t=document.getElementById('rankingNewsContainer'),a=[{key:\"channel_home_ranking_latest\",params:{size:5,consumerId:\"media\",cpId:\"157\",hours:3}},{key:\"dri_ranking_news\",params:{size:5,hours:168,from:\"media\",cpId:\"157\"}}],e.next=9,c(a[0]);case 9:return r=e.sent,e.next=12,c(a[1]);case 12:n=e.sent,(i=[{isVisible:5===r.length,title:'최근 3시간 집계 결과입니다.',tabTitle:'많이 본 뉴스',tiaraActionName:'하단많이본랭킹_클릭',tiaraSecondLayer:'media_ranking_news_popular'},{isVisible:5===n.length,title:'이용자의 본문 주목도 높은 뉴스입니다.',tabTitle:'탐독한 뉴스',tiaraActionName:'하단열독률랭킹_클릭',tiaraSecondLayer:'media_ranking_news_duration'}])[0].isVisible||i[1].isVisible?(t.style.display='block',ReactDOM.render(React.createElement(l,{tabInfos:i,popularNews:r,driNews:n}),t)):t.parentElement.removeChild(t);case 15:case\"end\":return e.stop()}},e)}))();</script>\n",
      "  <script>\"use strict\";function _slicedToArray(e,t){return _arrayWithHoles(e)||_iterableToArrayLimit(e,t)||_unsupportedIterableToArray(e,t)||_nonIterableRest()}function _nonIterableRest(){throw new TypeError(\"Invalid attempt to destructure non-iterable instance.\\nIn order to be iterable, non-array objects must have a [Symbol.iterator]() method.\")}function _unsupportedIterableToArray(e,t){if(e){if(\"string\"==typeof e)return _arrayLikeToArray(e,t);var r=Object.prototype.toString.call(e).slice(8,-1);return\"Object\"===r&&e.constructor&&(r=e.constructor.name),\"Map\"===r||\"Set\"===r?Array.from(e):\"Arguments\"===r||/^(?:Ui|I)nt(?:8|16|32)(?:Clamped)?Array$/.test(r)?_arrayLikeToArray(e,t):void 0}}function _arrayLikeToArray(e,t){(null==t||t>e.length)&&(t=e.length);for(var r=0,a=new Array(t);r<t;r++)a[r]=e[r];return a}function _iterableToArrayLimit(e,t){if(\"undefined\"!=typeof Symbol&&Symbol.iterator in Object(e)){var r=[],a=!0,n=!1,c=void 0;try{for(var o,i=e[Symbol.iterator]();!(a=(o=i.next()).done)&&(r.push(o.value),!t||r.length!==t);a=!0);}catch(e){n=!0,c=e}finally{try{a||null==i[\"return\"]||i[\"return\"]()}finally{if(n)throw c}}return r}}function _arrayWithHoles(e){if(Array.isArray(e))return e}function ownKeys(t,e){var r,a=Object.keys(t);return Object.getOwnPropertySymbols&&(r=Object.getOwnPropertySymbols(t),e&&(r=r.filter(function(e){return Object.getOwnPropertyDescriptor(t,e).enumerable})),a.push.apply(a,r)),a}function _objectSpread(t){for(var e=1;e<arguments.length;e++){var r=null!=arguments[e]?arguments[e]:{};e%2?ownKeys(Object(r),!0).forEach(function(e){_defineProperty(t,e,r[e])}):Object.getOwnPropertyDescriptors?Object.defineProperties(t,Object.getOwnPropertyDescriptors(r)):ownKeys(Object(r)).forEach(function(e){Object.defineProperty(t,e,Object.getOwnPropertyDescriptor(r,e))})}return t}function _defineProperty(e,t,r){return t in e?Object.defineProperty(e,t,{value:r,enumerable:!0,configurable:!0,writable:!0}):e[t]=r,e}!(function(){var r=document.getElementById('keyword_news_list'),o=window.matchMedia('(prefers-color-scheme: dark)').matches;axios.get(\"\".concat(Conf.api.hadesRest,\"/newsview_keyword_news\"),{params:{contentId:\"20250203151815463\"}}).then(function(e){return e.data.body.data}).then(function(e){function t(e){return(e=new URL(e)).searchParams.set(\"t_src\",\"daum\"),e.searchParams.set(\"t_ch\",\"view\"),e.searchParams.set(\"t_obj\",\"news\"),e.toString()}var r=e.keywordHomeUrl,e=e.keywordList;return{keywordHomeUrl:t(r),keywordList:e.map(function(e){return _objectSpread(_objectSpread({},e),{},{moreLink:t(e.moreLink)})})}}).then(function(e){var t=e.keywordHomeUrl,e=e.keywordList;_.isEmpty(e)?null!=r&&r.parentNode.removeChild(r):ReactDOM.render(React.createElement(a,{keywordHomeUrl:t,keywordList:e}),r)}).catch(function(){null!=r&&r.parentNode.removeChild(r)});var a=function(e){var t=e.keywordHomeUrl,r=e.keywordList,e=_slicedToArray(React.useState(r[0]),2),a=e[0],n=e[1],c=\"clusterId=\".concat(a.clusterId,\"&clusterTitle=\").concat(a.keyword,\"&keywordType=\").concat(a.keywordType);return React.createElement(React.Fragment,null,React.createElement(\"div\",{class:\"box_tit\"},React.createElement(\"h3\",{class:\"tit_box\"},\"이 뉴스와 관련된 키워드\"),React.createElement(\"a\",{href:t,class:\"btn_viewgo\",\"data-tiara-custom\":c},\"키워드 탐색\",React.createElement(\"span\",{class:\"ico_view\"}))),React.createElement(\"ul\",{class:\"tab_g\",role:\"tablist\",\"data-tiara\":\"탭\"},r.map(function(t){var e=t.color?o?t.color.dark:t.color.light:void 0;return React.createElement(\"li\",{role:\"presentation\"},React.createElement(\"a\",{href:\"#none\",class:\"link_tab\",role:\"tab\",\"aria-selected\":t.keyword==a.keyword?\"true\":\"false\",onClick:function(e){e.preventDefault(),n(t)},style:t.keyword==a.keyword&&e?{backgroundColor:e,borderColor:e}:{},\"data-tiara-custom\":\"clusterId=\".concat(t.clusterId,\"&clusterTitle=\").concat(t.keyword,\"&keywordType=\").concat(t.keywordType)},t.thumbnail&&React.createElement(\"span\",{class:\"thumb_img\"},React.createElement(\"img\",{src:StringUtil.makeThumbnail(t.thumbnail,28==t.clusterTypeId?'P80x80':'S80x80'),class:\"thumb_g\",alt:\"\"})),t.keyword))})),React.createElement(\"ul\",{class:\"list_column\",\"data-tiara\":\"리스트\"},a.subContents.map(function(e){return React.createElement(\"li\",null,React.createElement(\"div\",{class:\"item_column\"},React.createElement(\"a\",{href:e.pcLink,class:\"link_thumb\",\"data-tiara-custom\":c},React.createElement(\"div\",{class:\"wrap_thumb\"},React.createElement(\"img\",{src:StringUtil.makeThumbnail(e.thumbnail,'S200x132','70'),class:\"thumb_g\",alt:\"\"})),React.createElement(\"div\",{class:\"cont_thumb\"},React.createElement(\"div\",{class:\"inner_cont\"},React.createElement(\"div\",{class:\"thumb_wrap\"},React.createElement(\"strong\",{class:\"tit_txt\"},e.title),React.createElement(\"span\",{class:\"info_thumb\"},\"\".concat(e.mediaName,\" · \").concat(StringUtil.makeViewTime(e.createdAt)))))))))})),React.createElement(\"div\",{class:\"btnmore_group\"},React.createElement(\"a\",{href:a.moreLink,class:\"link_morewide\",\"data-tiara-custom\":c},React.createElement(\"span\",{class:\"tit_more\"},a.keyword,\" \"),\"더보기\",React.createElement(\"span\",{class:\"ico_view ico_more\"}))))}})();</script>\n",
      "  <script>\"use strict\";!(function(){var e=0,t='1006'||'media',s=document.querySelectorAll('.tabcont_service');function a(e,t,c){t=0===t?'뉴스':1===t?'연예':'스포츠',e.innerHTML=c?\"\".concat(t,\" <span class=\\\"screen_out\\\">선택됨</span>\"):t}'1005'===t?e=1:'1004'!==t&&'sports'!==t||(e=2),(t=document.querySelectorAll('#serviceDirect li a'))[e].classList.add('on'),s[e].style.display=\"block\",t.forEach(function(e,r){return e.addEventListener('click',function(){Array.from(document.getElementById('serviceDirect').children).forEach(function(e,t){var c=e.querySelector('.link_tab');t===r?(e.setAttribute('aria-selected',\"true\"),c.classList.add('on'),a(c,t,!0),s[t].style.display=\"block\"):(e.setAttribute('aria-selected',\"false\"),c.classList.remove('on'),a(c,t,!1),s[t].style.display=\"none\")})})})})();</script>\n",
      "  <script>\"use strict\";!(function(){var n=document.getElementById('service_notice');axios.get(\"\".concat(Conf.api.hadesRest,\"/service_notice_v2/data?category=\").concat(\"daumnews_notice\",\"&tag=\").concat(\"notice\")).then(function(t){t=t.data;t.noticeTitle&&t.noticeUrl?n.innerHTML=\"\\n                    <a href=\\\"\".concat(t.noticeUrl,\"\\\" class=\\\"link_cont\\\" data-tiara=\\\"공지사항\\\">\\n                        <strong class=\\\"tit_notice\\\">공지</strong>\\n                        <span class=\\\"txt_notice\\\">\").concat(t.noticeTitle,\"</span>\\n                    </a>\\n                \"):n.parentNode.removeChild(n)}).catch(function(t){n.parentNode.removeChild(n)})})();</script>\n",
      "  <script src=\"//search1.daumcdn.net/search/statics/common/js/g/search_dragselection.min.js\"></script>\n",
      "  <script>\"use strict\";function _slicedToArray(t,n){return _arrayWithHoles(t)||_iterableToArrayLimit(t,n)||_unsupportedIterableToArray(t,n)||_nonIterableRest()}function _nonIterableRest(){throw new TypeError(\"Invalid attempt to destructure non-iterable instance.\\nIn order to be iterable, non-array objects must have a [Symbol.iterator]() method.\")}function _unsupportedIterableToArray(t,n){if(t){if(\"string\"==typeof t)return _arrayLikeToArray(t,n);var a=Object.prototype.toString.call(t).slice(8,-1);return\"Object\"===a&&t.constructor&&(a=t.constructor.name),\"Map\"===a||\"Set\"===a?Array.from(t):\"Arguments\"===a||/^(?:Ui|I)nt(?:8|16|32)(?:Clamped)?Array$/.test(a)?_arrayLikeToArray(t,n):void 0}}function _arrayLikeToArray(t,n){(null==n||n>t.length)&&(n=t.length);for(var a=0,e=new Array(n);a<n;a++)e[a]=t[a];return e}function _iterableToArrayLimit(t,n){if(\"undefined\"!=typeof Symbol&&Symbol.iterator in Object(t)){var a=[],e=!0,i=!1,r=void 0;try{for(var o,s=t[Symbol.iterator]();!(e=(o=s.next()).done)&&(a.push(o.value),!n||a.length!==n);e=!0);}catch(t){i=!0,r=t}finally{try{e||null==s[\"return\"]||s[\"return\"]()}finally{if(i)throw r}}return a}}function _arrayWithHoles(t){if(Array.isArray(t))return t}!(function(){function t(t){var n=t.newsid,a=t.cp_id,e=t.cp_name,i=t.title,r=t.image,t=t.moddt;return{contentUniqueKey:\"hamny-\".concat(n),newsid:n,cp_id:a,cp_name:e,title:(i=i,\"enter\"===c?i.replace(/\\[.*?]+/gi,''):i),url:\"https://v.daum.net/v/\".concat(n),thumbnail:StringUtil.makeThumbnail(r,o,s),update_dt:StringUtil.makeViewTime((function(t){try{if('string'!=typeof t||14!==t.length)throw new Error(\"[IllegalArgumentException] 유효하지 않은 날짜형식입니다. | \".concat(t));var n=t.slice(0,4),a=t.slice(4,6),e=t.slice(6,8),i=t.slice(8,10),r=t.slice(10,12),o=t.slice(12);return dateUtil.addMinutes(new Date(n,a-1,e,i,r,o),-540-(new Date).getTimezoneOffset())}catch(t){console.error(t)}})(t))}}var n=20,o=\"S200x132\",s='70',a=\"20250203151815463\",c=(function(){switch(\"1006\"){case\"1004\":return\"sports\";case\"1005\":return\"enter\";default:return\"news\"}})(),e=encodeURIComponent(JSON.stringify({itemid:a,category:c})),i={source:a},r=\"\\n        <div class=\\\"item_column\\\">\\n            <a\\n                href=\\\"<%=obj.url%>\\\"\\n                class=\\\"link_thumb\\\"\\n                data-itemid=\\\"<%=obj.newsid%>\\\"\\n                data-pos=\\\"<%=obj.pos%>\\\"\\n                data-tiara=\\\"리스트\\\"\\n                data-tiara-id=\\\"<%=obj.contentUniqueKey%>\\\"\\n                data-tiara-name=\\\"<%=obj.title%>\\\"\\n                data-tiara-provider=\\\"<%=obj.cp_name%>\\\"\\n                data-tiara-provider_id=\\\"<%=obj.cp_id%>\\\"\\n            >\\n                <div class=\\\"wrap_thumb\\\">\\n                    <img src=\\\"<%=obj.thumbnail%>\\\" class=\\\"thumb_g\\\">\\n                </div>\\n                <div class=\\\"cont_thumb\\\">\\n                    <div class=\\\"inner_cont\\\">\\n                        <div class=\\\"thumb_wrap\\\">\\n                            <strong class=\\\"tit_txt\\\"><%=obj.title%></strong>\\n                            <span class=\\\"info_thumb\\\"><%=obj.cp_name%> · <%=obj.update_dt%></span>\\n                        </div>\\n                    </div>\\n                </div>\\n            </a>\\n        </div>\\n    \",d=new Set;(a=new Toros.Connector({url:'mediadaum/most_similar',queryParams:e,slice:16,filter:function(t){t=t._id;return d.add(t),!0},map:t,targetClass:'item_toros',template:r,svc:'mediadaum_sim',impLabel:'toros_mediadaum_sim_imp',impProps:i,viewLabel:'toros_mediadaum_sim_vimp',viewProps:i,clickLabel:'toros_mediadaum_sim_click',clickProps:i})).render(),a.fetchPromise.then(function(){0<n&&new Toros.Connector({url:'mediadaum/soonsal_v2',queryParams:e,slice:n,filter:function(t){t=t._id;return!d.has(t)},map:t,targetClass:'item_nachu',template:r,svc:'mediadaum_personal',impLabel:'toros_mediadaum_personal_imp',impProps:i,viewLabel:'toros_mediadaum_personal_vimp',viewProps:i,clickLabel:'toros_mediadaum_personal_click',clickProps:i}).render()});var l,a=\"false\"==\"false\",m=\"\\n        <li adfit-unit-id=\\\"{0}\\\" adfit-param-cp=\\\"\".concat(\"157_pc_media_news\",\"\\\" adfit-param-channel=\\\"\").concat(\"harmony\",\"\\\" adfit-unit-idx=\\\"{1}\\\">\\n            <div class=\\\"item_column item_ad\\\">\\n                <a href=\\\"#none\\\" class=\\\"link_thumb\\\" adfit-landing-url adfit-action-url adfit-land-type=\\\"right\\\">\\n                    <div class=\\\"wrap_thumb\\\">\\n                        <img class=\\\"thumb_g\\\" adfit-main-img-url adfit-image-width=\\\"\").concat(a?'200':'224',\"\\\" adfit-image-height=\\\"\").concat(a?'132':'144',\"\\\">\\n                    </div>\\n                    <div class=\\\"cont_thumb\\\">\\n                        <div class=\\\"inner_cont\\\">\\n                            <div class=\\\"thumb_wrap\\\">\\n                                <strong class=\\\"tit_txt\\\" adfit-title></strong>\\n                                <span class=\\\"info_ad\\\">\\n                                    <span class=\\\"\").concat(a?'ico_view ico_ad':'ico_ad',\"\\\" adfit-ad-info>AD</span>\\n                                    <span class=\\\"txt_adname\\\" adfit-profile-name></span>\\n                                </span>\\n                            </div>\\n                        </div>\\n                    </div>\\n                </a>\\n            </div>\\n        </li>\\n    \"),u=document.querySelectorAll('.item_ad');(a='[\"DAN-DKlQvio8ceI9FgFm\",\"DAN-DKlQvio8ceI9FgFm\"]')&&(a=JSON.parse(a),l={},a.forEach(function(t,n){l[t]?l[t].push(n):l[t]=[n]}),a=l,Object.entries(a).forEach(function(t){var n=_slicedToArray(t,2),a=n[0],e=n[1].filter(function(t){return t<u.length}),t=e.length,n=new Array(t).fill(0).map(function(t,n){return StringUtil.format(m,a,n)}).join(''),i=e.map(function(t){return u[t]});new AdfitNativeAds({unitId:a,adCount:t}).renderAs(n,function(t){t.forEach(function(t,n){n=i[n];t?n.appendChild(t):n.parentNode.removeChild(n)})}).renderFail(function(){return i.forEach(function(t){return removeAdElement(t)})}).init()}))})();</script>\n",
      "  <script>\"use strict\";var removeParentElement=function(e){var n=null==e?void 0:e.parentElement;null==n||null!==(e=n.parentElement)&&void 0!==e&&e.removeChild(n)},removeAdElement=function(e){var n;null==e||null!==(n=e.parentElement)&&void 0!==n&&n.removeChild(e)},removeGoogleAdElementAndReplaceWithAdfitElement=function(e,n){null!=e&&e.insertAdjacentElement('beforebegin',n),null!=e&&e.remove();n=(null==n?void 0:n.getElementsByTagName(\"ins\"))||[];window.adfit&&0<n.length&&window.adfit.render(n[0])};</script>\n",
      "  <script type=\"text/javascript\" src=\"//t1.daumcdn.net/tiara/js/v1/tiara.min.js\"></script>\n",
      "  <script>\"use strict\";function ownKeys(t,e){var a,o=Object.keys(t);return Object.getOwnPropertySymbols&&(a=Object.getOwnPropertySymbols(t),e&&(a=a.filter(function(e){return Object.getOwnPropertyDescriptor(t,e).enumerable})),o.push.apply(o,a)),o}function _objectSpread(t){for(var e=1;e<arguments.length;e++){var a=null!=arguments[e]?arguments[e]:{};e%2?ownKeys(Object(a),!0).forEach(function(e){_defineProperty(t,e,a[e])}):Object.getOwnPropertyDescriptors?Object.defineProperties(t,Object.getOwnPropertyDescriptors(a)):ownKeys(Object(a)).forEach(function(e){Object.defineProperty(t,e,Object.getOwnPropertyDescriptor(a,e))})}return t}function _defineProperty(e,t,a){return t in e?Object.defineProperty(e,t,{value:a,enumerable:!0,configurable:!0,writable:!0}):e[t]=a,e}!(function(){if(window.TiaraTracker){var d=!1,u=new Date,s=window.scrollY||document.documentElement.scrollTop,e=\"\",t=e&&\"false\"==\"true\",l=null;try{l=_Cookies.get('DAUMTOP')||_Cookies.get('HARMONY_TOROS_IMP')&&window.atob(_Cookies.get('HARMONY_TOROS_IMP'))}catch(e){l=_Cookies.get('DAUMTOP')}var m=TiaraTracker.getInstance().setSvcDomain(\"media.daum.net\").setPage(\"newsview\").setDeployment(\"production\").trackPage(\"newsview\").setSection(\"economic\").setEnableAlwaysImage(!0),g={id:\"20250203151815463\",type:\"article\",name:\"\\uD55C\\uAD6D\\uC11C \\uB3C8\\uBC8C\\uACE0 \\'\\uB098 \\uBAB0\\uB77C\\uB77C\\' \\uCF54\\uC2A4\\uD2B8\\uCF54\\u2026 \\uC5F0\\uD68C\\uBE44 \\uC778\\uC0C1\\uB960\\uC740 \\uBBF8\\uAD6D\\uC758 2\\uBC30\",category_id:\"100020\",category:\"economic\",author:\"\\uC720\\uCC2C\\uC6B0 \\uAE30\\uC790\",author_id:\"threeyu3@mt.co.kr\",provider:\"\\uBA38\\uB2C8S\",provider_id:\"157\",regdate:\"2025-02-03 15:18:15\",plink:\"https://v.daum.net/v/20250203151815463\",image:\"https://t1.daumcdn.net/news/202502/03/moneyweek/20250203151817231xbsh.jpg\",harmony_consumer_id:\"media\",media:\"pcweb\"};t&&(g[\"series\"]=\"mainnews\",g[\"series_id\"]=e);var a,p={contentUniqueKey:\"hamny-\".concat(g.id),docId:\"xC4H50yj3o\",harmony_consumer_id:\"media\",media:\"pcweb\",reg_dt:\"2025-02-03 15:18:15\",reg_timestamp:\"1738563495690\",tromm_sub_category:\"economy\"},y=(a=!1,window.addEventListener(\"pageshow\",function(e){(e.persisted||window.performance&&2===window.performance.navigation.type)&&(a=!0)}),function(){return a}),f=(function(){try{var o='article_body',e=document.querySelector('.article_view'),t=(d=c=0,document.querySelectorAll('[dmcf-ptype=\"general\"]').forEach(function(e){var t=(null===(e=e.innerText)||void 0===e||null===(t=e.trim())||void 0===t?void 0:t.length)||0;0<t&&c++,d+=t}),{paragraphCount:c,textLength:d}),n={article_scroll_height_ratio:(e.getBoundingClientRect().height/1200).toFixed(2),article_text_length:t.textLength,article_paragraph_count:t.paragraphCount,'media_count:video':e.querySelectorAll('[dmcf-mtype^=\"video\"]').length,'media_count:image':e.querySelectorAll('[dmcf-mtype=\"image\"]').length,'media_count:audio':e.querySelectorAll('[dmcf-mtype^=\"audio\"]').length,article_out_height_pct:0};n['media_count']=n['media_count:video']+n['media_count:image']+n['media_count:audio'];var a=function(e){var t=e.name,a=(e.element,e.elementRect),e=e.intersectionRect;t==o&&(n['article_out_height_pct']=Math.max(n['article_out_height_pct']||0,Math.round(e.bottom/a.bottom*100)))},r=[];document.querySelectorAll('[data-cloud]').forEach(function(e){var t=e.querySelector('[data-tiara-layer'),t=e.getAttribute('data-tiara-layer')||(null==t?void 0:t.getAttribute('data-tiara-layer'))||e.getAttribute('data-cloud');r.push({name:t,element:e,config:{inRatio:.3,outRatio:.3,outCallback:a}})});var i=new ComponentViewDurationChecker({components:r,rootMargin:\"-\".concat(document.getElementById('kakaoHead').getBoundingClientRect().height,\"px 0px 0px 0px\"),interval:300}).start();return function(){try{i.stop();var t=_objectSpread({},n);return Object.keys(i.duration).forEach(function(e){t[\"duration:\".concat(e)]=i.duration[e].reduce(function(e,t){return e+t[1]-t[0]},0)}),t}catch(e){return{}}}}catch(e){return function(){return{}}}var c,d})(),o=function(){d||m.trackPage(\"p_newsview_보기\").actionKind(\"ViewContent\").pageMeta(g).customProps(p).track()},n=function(){if(!d){d=!0;var e=document.body.scrollHeight,t=window.scrollY,a=e-t,o=window.innerHeight,n=Math.round(t/(e-o)*100),r={},o={duration:(new Date).getTime()-u.getTime(),scroll_percent:n,scroll_height:e,scroll_top:t,scroll_bottom:a,scroll_inner_height:o};try{var i,c;!l||(c=JSON.parse(l)).contents_unique_key===p.contentUniqueKey&&(r={toros_imp_id:c.impression_id,toros_file_hash_key:c.toros_file_hash_key,toros_user_id_type:\"uuid\",toros_page_meta_id:p.contentUniqueKey,toros_event_meta_id:p.contentUniqueKey,toros_action_type:\"dwelltime\"},i=3<location.hostname.split('.').length?location.hostname.substring(location.hostname.indexOf('.')):location.hostname,(c=_Cookies.remove||_Cookies.expire)('HARMONY_TOROS_IMP',{path:'/',domain:i}),c('DAUMTOP',{path:'/',domain:'.daum.net'}),0)}catch(e){}m.trackUsage().actionKind(\"UsagePage\").pageMeta(g).usage(o).customProps(_.assignIn(p,r)).track(),m.trackEvent('UsagePageComponent').pageMeta(g).customProps(_objectSpread(_objectSpread({},f()),{},{start_scroll_top:s,bfcache:y(),duration:(new Date).getTime()-u.getTime()})).track()}};window.addEventListener(\"pageshow\",o,!1),window.addEventListener(\"pagehide\",n,!1),document.addEventListener(\"visibilitychange\",function(){(document[\"hidden\"]?n:o)()},!1),document.addEventListener(\"click\",function(e){var t,a,o,n,r,i,c,d,u=e.target,s=u.closest(\"[data-cloud]\"),l=u.closest(\"a\")||u.closest(\"button\")||u.closest('input[type=\"radio\"], input[type=\"checkbox\"]');l&&null!=s&&s.contains(l)&&((c=TiaraTracker.getClickInfo(e))&&(t=c.action,a=c.click,o=c.eventMeta,n=(null==t?void 0:t.name)||\"\",r=(null==t?void 0:t.kind)||\"\",i=_.assignIn(p,c.customProps),s=u.closest(\"[data-tiara]\"),c=l.querySelector(\"img\"),u=(function(e,t,a){e=e.closest('[data-tiara-ordnum-layer]');if(e&&!t.closest('[adfit-unit-id]')){if(!!e.querySelector('[data-tiara-ordnum]')&&!isNaN(Number(a)))return a;e=e.querySelectorAll('a, button');return Array.from(e).filter(function(e){return!e.closest('[adfit-unit-id]')}).findIndex(function(e){return e===t})+1}})(u,l,a.ordnum),e={layer1:a.layer1,layer2:a.layer2||\"\",layer3:(null==s?void 0:s.dataset.tiara)||a.layer3||\"\",click_url:l.href||\"\",ordnum:u,copy:(d=l.getAttribute('data-action-type'),['RECOMMEND','LIKE','IMPRESS','ANGRY','SAD'].includes(d)?null==t?void 0:t.name:a.copy),image:(null==c?void 0:c.src)||\"\",posX:e.clientX,posY:e.clientY},m.trackEvent(n).pageMeta(g).actionKind(r).customProps(i).eventMeta(o).click(e).track()))}),document.addEventListener('mainnews-viewimp',function(e){e=(null===(e=e.detail)||void 0===e?void 0:e.tiara).customProps;m.trackViewImp().customProps(e).track()}),window.sendAbBucketLog=function(e){try{var t=null==e?void 0:e.getAttribute('data-ab-bucket'),a=null==e?void 0:e.getAttribute('data-ab-bucket-type');t&&a&&m.trackEvent('NewsAbBucket').pageMeta(g).eventMeta({id:t,name:t,type:a}).track()}catch(e){}}}})();</script>\n",
      "  <script>\"use strict\";!(function(){var a='v.daum.net',o=_Cookies.remove||_Cookies.expire;o('_H_CT',{path:'/',domain:a}),o('_H_MN',{path:'/',domain:a}),o('_H_DOC_ID',{path:'/',domain:a}),o('v_from_area',{path:'/',domain:a})})();</script>\n",
      " </body>\n",
      "</html>\n"
     ]
    }
   ],
   "source": [
    "print(res.text)"
   ]
  },
  {
   "cell_type": "code",
   "execution_count": 179,
   "id": "f221d51a-8819-4b74-a7d6-02e534d06d35",
   "metadata": {
    "tags": []
   },
   "outputs": [],
   "source": [
    "title = res[381:440]"
   ]
  },
  {
   "cell_type": "code",
   "execution_count": 182,
   "id": "4e07104c-51c5-4e0f-a95b-340f9d0e1ae5",
   "metadata": {
    "tags": []
   },
   "outputs": [],
   "source": [
    "title = title.replace('2', '3')"
   ]
  },
  {
   "cell_type": "code",
   "execution_count": 184,
   "id": "641a9681-3ea4-43fc-a9d7-2ff116a0d7ab",
   "metadata": {
    "tags": []
   },
   "outputs": [
    {
     "name": "stdout",
     "output_type": "stream",
     "text": [
      " '나 몰라라' 코스트코… 연회비 인상률은 미국의 3배</title> \n",
      "  <link rel=\"shortc\n"
     ]
    }
   ],
   "source": [
    "print(title)"
   ]
  },
  {
   "cell_type": "code",
   "execution_count": 186,
   "id": "54c8e4c0-9f8d-4224-90b4-5b8114118e86",
   "metadata": {
    "tags": []
   },
   "outputs": [
    {
     "name": "stdin",
     "output_type": "stream",
     "text": [
      "첫번째 숫자를 입력하세요:  15\n",
      "두번째 숫자를 입력하세요:  25\n",
      "세번째 숫자를 입력하세요:  45\n"
     ]
    },
    {
     "name": "stdout",
     "output_type": "stream",
     "text": [
      "28.333333333333332\n"
     ]
    }
   ],
   "source": [
    "x = int(input('첫번째 숫자를 입력하세요: '))\n",
    "y = int(input('두번째 숫자를 입력하세요: '))\n",
    "z = int(input('세번째 숫자를 입력하세요: '))\n",
    "        \n",
    "print((x+y+z)/3)"
   ]
  },
  {
   "cell_type": "code",
   "execution_count": 189,
   "id": "bd6f036c-0d62-4934-9a54-081ea162c7b8",
   "metadata": {
    "tags": []
   },
   "outputs": [
    {
     "name": "stdin",
     "output_type": "stream",
     "text": [
      "숫자를 3개 입력하세요:  15 25 45\n"
     ]
    },
    {
     "name": "stdout",
     "output_type": "stream",
     "text": [
      "28.333333333333332\n"
     ]
    }
   ],
   "source": [
    "x, y, z = map(int, input('숫자를 3개 입력하세요: ').split())\n",
    "print((x+y+z)/3)"
   ]
  },
  {
   "cell_type": "code",
   "execution_count": 191,
   "id": "433dc1e2-4ae2-41af-8c08-ea70262f1d1d",
   "metadata": {
    "tags": []
   },
   "outputs": [
    {
     "name": "stdout",
     "output_type": "stream",
     "text": [
      "I eat 17 apples\n"
     ]
    }
   ],
   "source": [
    "print('I eat %d apples' %17)"
   ]
  },
  {
   "cell_type": "markdown",
   "id": "2f1b0f30-e85d-4c9e-aade-5acfad923698",
   "metadata": {},
   "source": [
    "<table>\n",
    "<thead>\n",
    "<tr>\n",
    "<th>코드</th>\n",
    "<th>설명</th>\n",
    "</tr>\n",
    "</thead>\n",
    "<tbody>\n",
    "<tr>\n",
    "<td>%s</td>\n",
    "<td>문자열(String)</td>\n",
    "</tr>\n",
    "<tr>\n",
    "<td>%c</td>\n",
    "<td>문자 1개(character)</td>\n",
    "</tr>\n",
    "<tr>\n",
    "<td>%d</td>\n",
    "<td>정수(Integer)</td>\n",
    "</tr>\n",
    "<tr>\n",
    "<td>%f</td>\n",
    "<td>부동소수(floating-point)</td>\n",
    "</tr>\n",
    "<tr>\n",
    "<td>%o</td>\n",
    "<td>8진수</td>\n",
    "</tr>\n",
    "<tr>\n",
    "<td>%x</td>\n",
    "<td>16진수</td>\n",
    "</tr>\n",
    "<tr>\n",
    "<td>%%</td>\n",
    "<td>Literal % (문자 <code>%</code> 자체)</td>\n",
    "</tr>\n",
    "</tbody>\n",
    "</table>"
   ]
  },
  {
   "cell_type": "code",
   "execution_count": 192,
   "id": "a91a6c46-5eee-4135-b40c-81e2fd41f408",
   "metadata": {
    "tags": []
   },
   "outputs": [
    {
     "name": "stdout",
     "output_type": "stream",
     "text": [
      "사람 몸의 수분은 60%이다\n"
     ]
    }
   ],
   "source": [
    "print('사람 몸의 수분은 %d%%이다' %60)"
   ]
  },
  {
   "cell_type": "code",
   "execution_count": 193,
   "id": "6e58b978-1461-4d22-a3e7-4d1dac32a853",
   "metadata": {
    "tags": []
   },
   "outputs": [
    {
     "name": "stdout",
     "output_type": "stream",
     "text": [
      "10진수로 123는 77이다\n"
     ]
    }
   ],
   "source": [
    "print('10진수로 %d는 %d이다' %(123, 77))"
   ]
  },
  {
   "cell_type": "code",
   "execution_count": 197,
   "id": "33677dd8-4b24-49ec-9923-16d7ceb1e854",
   "metadata": {
    "tags": []
   },
   "outputs": [
    {
     "name": "stdout",
     "output_type": "stream",
     "text": [
      "십진수로 123는 16진수로 7b이고 8진수로는 173이다\n"
     ]
    }
   ],
   "source": [
    "print('십진수로 %d는 16진수로 %x이고 8진수로는 %o이다' %(123, 123, 123))"
   ]
  },
  {
   "cell_type": "code",
   "execution_count": 198,
   "id": "778ccfbe-e20d-48b7-a34e-f8f18c869536",
   "metadata": {
    "tags": []
   },
   "outputs": [
    {
     "name": "stdout",
     "output_type": "stream",
     "text": [
      "        hi\n"
     ]
    }
   ],
   "source": [
    "#정렬과 공백(오른쪽 정렬)\n",
    "print(\"%10s\" %\"hi\")"
   ]
  },
  {
   "cell_type": "markdown",
   "id": "09ce218c-0c9c-44e5-9e18-bd3e05ffba68",
   "metadata": {},
   "source": [
    "<img src=\"\">"
   ]
  },
  {
   "cell_type": "code",
   "execution_count": 199,
   "id": "75c56517-0073-4feb-99b1-1f8160442d37",
   "metadata": {
    "tags": []
   },
   "outputs": [
    {
     "name": "stdout",
     "output_type": "stream",
     "text": [
      "hi        young\n"
     ]
    }
   ],
   "source": [
    "#정렬과 공백(음수일 때 왼쪽 정렬)\n",
    "print(\"%-10syoung\" %\"hi\")"
   ]
  },
  {
   "cell_type": "code",
   "execution_count": 204,
   "id": "1b65b8c3-ebef-45f1-a487-290bf4000863",
   "metadata": {
    "tags": []
   },
   "outputs": [
    {
     "name": "stdout",
     "output_type": "stream",
     "text": [
      "3.141592\n",
      "3.141592\n",
      "3\n"
     ]
    }
   ],
   "source": [
    "#소숫점 표현하기\n",
    "print(\"%f\" %3.141592)\n",
    "print(\"%s\" %3.141592)\n",
    "print(\"%d\" %3.141592)"
   ]
  },
  {
   "cell_type": "code",
   "execution_count": 205,
   "id": "a3466a5d-778a-4e29-8d8d-10d076ce05c8",
   "metadata": {
    "tags": []
   },
   "outputs": [
    {
     "name": "stdout",
     "output_type": "stream",
     "text": [
      "I eat 3 of 10 apples\n"
     ]
    }
   ],
   "source": [
    "#바로 대입하기\n",
    "print(\"I eat {0} of {1} apples\".format(3,10))"
   ]
  },
  {
   "cell_type": "code",
   "execution_count": 206,
   "id": "d69dac7e-5a6c-4ab3-af00-6eb9cd6c8538",
   "metadata": {
    "tags": []
   },
   "outputs": [
    {
     "name": "stdout",
     "output_type": "stream",
     "text": [
      "I eat three of 10 apples\n"
     ]
    }
   ],
   "source": [
    "#변수로 대입하기\n",
    "total = 10\n",
    "eat = \"three\"\n",
    "\n",
    "print(\"I eat {0} of {1} apples\".format(eat,total))"
   ]
  },
  {
   "cell_type": "code",
   "execution_count": 207,
   "id": "aaef8319-4c55-4b06-b4ed-9d5d941e682c",
   "metadata": {
    "tags": []
   },
   "outputs": [
    {
     "name": "stdout",
     "output_type": "stream",
     "text": [
      "I ate 10 apples. so I was sick for 3 days.\n"
     ]
    }
   ],
   "source": [
    "#인덱스와 이름을 혼용해서 넣기\n",
    "print(\"I ate {0} apples. so I was sick for {day} days.\".format(10, day=3))"
   ]
  },
  {
   "cell_type": "code",
   "execution_count": 209,
   "id": "390b60bb-3938-4e23-93cb-d50dbf7099c7",
   "metadata": {
    "tags": []
   },
   "outputs": [
    {
     "name": "stdout",
     "output_type": "stream",
     "text": [
      "hi\n"
     ]
    }
   ],
   "source": [
    "print(\"{0}\".format(\"hi\"))"
   ]
  },
  {
   "cell_type": "code",
   "execution_count": 211,
   "id": "95291809-248b-4a80-8fa8-66b23844e547",
   "metadata": {
    "tags": []
   },
   "outputs": [
    {
     "name": "stdout",
     "output_type": "stream",
     "text": [
      "        hi\n"
     ]
    }
   ],
   "source": [
    "#우측 정렬\n",
    "print(\"{0:>10}\".format(\"hi\"))"
   ]
  },
  {
   "cell_type": "code",
   "execution_count": 212,
   "id": "8174d441-fbfe-4e60-b4d0-618bd5375c79",
   "metadata": {
    "tags": []
   },
   "outputs": [
    {
     "name": "stdout",
     "output_type": "stream",
     "text": [
      "    hi    \n"
     ]
    }
   ],
   "source": [
    "#가운데 정렬\n",
    "print(\"{0:^10}\".format(\"hi\"))"
   ]
  },
  {
   "cell_type": "code",
   "execution_count": 213,
   "id": "d3646afb-a598-45f8-a8f8-82b452df2233",
   "metadata": {
    "tags": []
   },
   "outputs": [
    {
     "name": "stdout",
     "output_type": "stream",
     "text": [
      "====hi====\n"
     ]
    }
   ],
   "source": [
    "#가운데 정렬 및 글자 채우기\n",
    "print(\"{0:=^10}\".format(\"hi\"))"
   ]
  },
  {
   "cell_type": "code",
   "execution_count": 214,
   "id": "c159243d-ec08-48b4-af6d-b2c31df254a8",
   "metadata": {
    "tags": []
   },
   "outputs": [
    {
     "name": "stdout",
     "output_type": "stream",
     "text": [
      "3.1416\n"
     ]
    }
   ],
   "source": [
    "#소숫점 표현하기\n",
    "pi = 3.141592\n",
    "print(\"{0:0.4f}\".format(pi))"
   ]
  },
  {
   "cell_type": "code",
   "execution_count": 215,
   "id": "94877e97-d048-4704-bab7-9e98645081b4",
   "metadata": {
    "tags": []
   },
   "outputs": [
    {
     "name": "stdout",
     "output_type": "stream",
     "text": [
      "중괄호는 {과} 입니다.\n"
     ]
    }
   ],
   "source": [
    "#이스케이프 처리\n",
    "print(\"{0}는 {{ 과 }} 입니다.\".format(\"중괄호\"))"
   ]
  },
  {
   "cell_type": "code",
   "execution_count": 216,
   "id": "7091603c-4a51-4aaf-a47a-57dbd19df99a",
   "metadata": {
    "tags": []
   },
   "outputs": [
    {
     "name": "stdout",
     "output_type": "stream",
     "text": [
      "1111011\n"
     ]
    }
   ],
   "source": [
    "#2진수 처리\n",
    "print(\"{0:b}\".format(123))"
   ]
  },
  {
   "cell_type": "code",
   "execution_count": 227,
   "id": "03323124-cdd8-4ba4-aec9-035e06ae92de",
   "metadata": {
    "tags": []
   },
   "outputs": [
    {
     "name": "stdout",
     "output_type": "stream",
     "text": [
      "01111011\n"
     ]
    }
   ],
   "source": [
    "print(\"{0:0>8b}\".format(123))"
   ]
  },
  {
   "cell_type": "code",
   "execution_count": 228,
   "id": "7605ec97-70ba-4df5-b2cf-c85221747836",
   "metadata": {
    "tags": []
   },
   "outputs": [],
   "source": [
    "d = {'name':'홍길동','age':30}"
   ]
  },
  {
   "cell_type": "code",
   "execution_count": 231,
   "id": "2105f70f-6680-40cb-98f1-f690d7e678d2",
   "metadata": {
    "tags": []
   },
   "outputs": [
    {
     "name": "stdout",
     "output_type": "stream",
     "text": [
      "나의 이름은 홍길동입니다. 나이는 30입니다.\n"
     ]
    }
   ],
   "source": [
    "print(f'나의 이름은 {d[\"name\"]}입니다. 나이는 {d[\"age\"]}입니다.')"
   ]
  },
  {
   "cell_type": "code",
   "execution_count": 232,
   "id": "dda623bd-2290-4ba5-bfc3-14b6a1c97b94",
   "metadata": {
    "tags": []
   },
   "outputs": [
    {
     "data": {
      "text/plain": [
       "2"
      ]
     },
     "execution_count": 232,
     "metadata": {},
     "output_type": "execute_result"
    }
   ],
   "source": [
    "#문자 개수 세기 count\n",
    "\"hobby\".count(\"b\")"
   ]
  },
  {
   "cell_type": "code",
   "execution_count": 238,
   "id": "9a5557af-0b00-4752-ae2d-ba35c822c898",
   "metadata": {
    "tags": []
   },
   "outputs": [
    {
     "name": "stdout",
     "output_type": "stream",
     "text": [
      "9\n"
     ]
    }
   ],
   "source": [
    "#위치 알려주기1. find\n",
    "\n",
    "title\n",
    "print(title.find('코'))"
   ]
  },
  {
   "cell_type": "code",
   "execution_count": 239,
   "id": "fab105d3-eb7b-448d-90d8-6e687e08fa49",
   "metadata": {
    "tags": []
   },
   "outputs": [],
   "source": [
    "# url = \"https://www.melon.com/chart/index.htm\"\n",
    "# res = requests.get(url).text\n",
    "# print(res)"
   ]
  },
  {
   "cell_type": "code",
   "execution_count": 240,
   "id": "fa81f4d9-2469-4135-aaf4-a716594e8987",
   "metadata": {
    "tags": []
   },
   "outputs": [
    {
     "data": {
      "text/plain": [
       "['__add__', '__class__', '__contains__', '__delattr__', '__dir__', '__doc__', '__eq__', '__format__', '__ge__', '__getattribute__', '__getitem__', '__getnewargs__', '__getstate__', '__gt__', '__hash__', '__init__', '__init_subclass__', '__iter__', '__le__', '__len__', '__lt__', '__mod__', '__mul__', '__ne__', '__new__', '__reduce__', '__reduce_ex__', '__repr__', '__rmod__', '__rmul__', '__setattr__', '__sizeof__', '__str__', '__subclasshook__', 'capitalize', 'casefold', 'center', 'count', 'encode', 'endswith', 'expandtabs', 'find', 'format', 'format_map', 'index', 'isalnum', 'isalpha', 'isascii', 'isdecimal', 'isdigit', 'isidentifier', 'islower', 'isnumeric', 'isprintable', 'isspace', 'istitle', 'isupper', 'join', 'ljust', 'lower', 'lstrip', 'maketrans', 'partition', 'removeprefix', 'removesuffix', 'replace', 'rfind', 'rindex', 'rjust', 'rpartition', 'rsplit', 'rstrip', 'split', 'splitlines', 'startswith', 'strip', 'swapcase', 'title', 'translate', 'upper', 'zfill']"
      ]
     },
     "execution_count": 240,
     "metadata": {},
     "output_type": "execute_result"
    }
   ],
   "source": [
    "dir(str)"
   ]
  },
  {
   "cell_type": "code",
   "execution_count": 243,
   "id": "4c9d24ac-ae6e-462c-a36b-57c65e1b1062",
   "metadata": {
    "tags": []
   },
   "outputs": [
    {
     "name": "stdout",
     "output_type": "stream",
     "text": [
      "a--b--c--d--e--f--g\n",
      "a--b\n"
     ]
    }
   ],
   "source": [
    "#문자열 삽입 join *\n",
    "print(\"--\".join('abcdefg'))\n",
    "\n",
    "print(\"--\".join(['a', 'b']))"
   ]
  },
  {
   "cell_type": "code",
   "execution_count": 245,
   "id": "9846c931-f8d1-4d94-b631-2741dd281039",
   "metadata": {
    "tags": []
   },
   "outputs": [
    {
     "name": "stdout",
     "output_type": "stream",
     "text": [
      "goooooood\n"
     ]
    }
   ],
   "source": [
    "print('goooooood')"
   ]
  },
  {
   "cell_type": "code",
   "execution_count": null,
   "id": "379eab7f-2781-47f8-a63a-f556d345538b",
   "metadata": {},
   "outputs": [],
   "source": []
  }
 ],
 "metadata": {
  "kernelspec": {
   "display_name": "Python 3 (ipykernel)",
   "language": "python",
   "name": "python3"
  },
  "language_info": {
   "codemirror_mode": {
    "name": "ipython",
    "version": 3
   },
   "file_extension": ".py",
   "mimetype": "text/x-python",
   "name": "python",
   "nbconvert_exporter": "python",
   "pygments_lexer": "ipython3",
   "version": "3.11.5"
  }
 },
 "nbformat": 4,
 "nbformat_minor": 5
}
