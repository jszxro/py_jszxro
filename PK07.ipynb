{
 "cells": [
  {
   "cell_type": "code",
   "execution_count": 4,
   "id": "dd3d2d34-8052-44cf-abf7-d390abc7d007",
   "metadata": {
    "tags": []
   },
   "outputs": [
    {
     "name": "stdout",
     "output_type": "stream",
     "text": [
      "A B C D E F G H I J K L M N O P Q R S T U V W X Y Z \n"
     ]
    }
   ],
   "source": [
    "for i in range(65,91) :\n",
    "    print(chr(i), end=' ')\n",
    "print()"
   ]
  },
  {
   "cell_type": "code",
   "execution_count": 11,
   "id": "0a6b4e06-3665-4800-8607-95f5d9a70d30",
   "metadata": {
    "tags": []
   },
   "outputs": [
    {
     "name": "stdout",
     "output_type": "stream",
     "text": [
      "Z Y X W V U T S R Q P O N M L K J I H G F E D C B A "
     ]
    }
   ],
   "source": [
    "for i in range(90,64,-1) :\n",
    "    print(chr(i), end=' ')"
   ]
  },
  {
   "cell_type": "code",
   "execution_count": 12,
   "id": "dfd69830-565a-4910-bc9b-1d2a610d4f27",
   "metadata": {
    "tags": []
   },
   "outputs": [
    {
     "name": "stdout",
     "output_type": "stream",
     "text": [
      "a1 a2 a3 a4 a5 a6 a7 a8 a9 a10 \n",
      "b1 b2 b3 b4 b5 b6 b7 b8 b9 b10 \n",
      "c1 c2 c3 c4 c5 c6 c7 c8 c9 c10 \n"
     ]
    }
   ],
   "source": [
    "for letter in ['a', 'b', 'c']:\n",
    "    for num in range(1, 11): \n",
    "        print(f\"{letter}{num}\", end=' ')\n",
    "    print()\n"
   ]
  },
  {
   "cell_type": "code",
   "execution_count": 18,
   "id": "a1de9c4e-0208-4769-8d84-d69a39b87e95",
   "metadata": {
    "tags": []
   },
   "outputs": [
    {
     "name": "stdin",
     "output_type": "stream",
     "text": [
      "숫자를 입력하세요:  15 40 90 88\n"
     ]
    },
    {
     "name": "stdout",
     "output_type": "stream",
     "text": [
      "짝수: [40, 90, 88]\n",
      "홀수: [15]\n"
     ]
    }
   ],
   "source": [
    "class team2 : \n",
    "    def ex2(lst):\n",
    "        lst1 = []\n",
    "        lst2 = []\n",
    "        for i in lst :\n",
    "            if i % 2 == 0 :\n",
    "                lst1.append(i)\n",
    "            else:\n",
    "                lst2.append(i)\n",
    "        return lst1, lst2\n",
    "\n",
    "    lst = list(map(int, input(\"숫자를 입력하세요: \").split()))\n",
    "    num1, num2 = ex2(lst)\n",
    "\n",
    "    print(\"짝수:\", num1)\n",
    "    print(\"홀수:\", num2)"
   ]
  },
  {
   "cell_type": "code",
   "execution_count": 19,
   "id": "0a2102fd-0f1f-44d3-b271-9ea18614b5ee",
   "metadata": {
    "tags": []
   },
   "outputs": [
    {
     "name": "stdin",
     "output_type": "stream",
     "text": [
      "단어를 입력하세요:  wow\n",
      "숫자를 입력하세요:  10 54 97 85\n"
     ]
    },
    {
     "name": "stdout",
     "output_type": "stream",
     "text": [
      "똑같다\n",
      "짝수: [10, 54]\n",
      "홀수: [97, 85]\n"
     ]
    }
   ],
   "source": [
    "class Team2:\n",
    "    def __init__(self):\n",
    "        self.word = input(\"단어를 입력하세요: \")  # 단어 입력 받음\n",
    "        self.lst = list(map(int, input(\"숫자를 입력하세요: \").split()))  # 숫자 리스트 입력 받음\n",
    "\n",
    "    def compare(self):\n",
    "        \"\"\"입력한 단어가 회문인지 검사\"\"\"\n",
    "        if self.word == self.word[::-1]:\n",
    "            print(\"똑같다\")\n",
    "        else:\n",
    "            print(\"다르다\")\n",
    "\n",
    "    def ex2(self):\n",
    "        lst1 = [i for i in self.lst if i % 2 == 0]\n",
    "        lst2 = [i for i in self.lst if i % 2 != 0]\n",
    "        return lst1, lst2\n",
    "\n",
    "    def display_numbers(self):\n",
    "        num1, num2 = self.ex2()\n",
    "        print(\"짝수:\", num1)\n",
    "        print(\"홀수:\", num2)"
   ]
  },
  {
   "cell_type": "code",
   "execution_count": 32,
   "id": "a3a96bf2-9028-4efa-bc5b-b196cce02b09",
   "metadata": {
    "tags": []
   },
   "outputs": [
    {
     "ename": "TabError",
     "evalue": "inconsistent use of tabs and spaces in indentation (2654429117.py, line 3)",
     "output_type": "error",
     "traceback": [
      "\u001b[1;36m  Cell \u001b[1;32mIn[32], line 3\u001b[1;36m\u001b[0m\n\u001b[1;33m    self.cont=\"\"\u001b[0m\n\u001b[1;37m    ^\u001b[0m\n\u001b[1;31mTabError\u001b[0m\u001b[1;31m:\u001b[0m inconsistent use of tabs and spaces in indentation\n"
     ]
    }
   ],
   "source": [
    "class Team2:\n",
    "    def __init__(self):\n",
    "\tself.cont=\"\"\n",
    "\tself.res=[]\n",
    "        self.word = input(\"단어를 입력하세요: \")\n",
    "\tself.lst = list(map(int, input(\"숫자를 입력하세요: \").split()))\n",
    "    def compare(self):\n",
    "        if self.word==self.word[::-1]:\n",
    "            print(\"똑같다\")\n",
    "        else: \n",
    "            print(\"다르다\")\n",
    "\n",
    "    def ex2(self):\n",
    "        lst1 = [i for i in self.lst if i % 2 == 0]\n",
    "        lst2 = [i for i in self.lst if i % 2 != 0]\n",
    "        return lst1, lst2\n",
    "    def display_numbers(self):\n",
    "        num1, num2 = self.ex2()\n",
    "        print(\"짝수:\", num1)\n",
    "        print(\"홀수:\", num2)\n",
    "\n",
    "\n",
    "    def longest_words():\n",
    "        long_result = []\n",
    "    \n",
    "        words = input(\"문장을 입력하세요: \").split()\n",
    "        max_len = len(max(words, key=len))\n",
    "    \n",
    "        for word in words:\n",
    "            if len(word) == max_len:\n",
    "                long_result.append(word)\n",
    "    \n",
    "        print(\"가장 긴 단어는:\", long_result)\n",
    "longest_words()\n",
    "\n",
    "\n",
    "    def face(self):\n",
    "        self.pw = []\n",
    "        self.nw = []\n",
    "        self.status = input(\"당신의 기분을 한 문장으로 표현해주세요: \").split()\n",
    "        \n",
    "    def p4(self):\n",
    "        positive_words = [\"좋아\", \"행복\", \"멋져\", \"최고\", \"사랑해\"]\n",
    "        negative_words = [\"싫어\", \"화나\", \"짜증\", \"별로\", \"나빠\"]\n",
    "\n",
    "        print(\"입력된 단어:\", self.status)\n",
    "        \n",
    "        for i in self.status:\n",
    "            if i in positive_words:\n",
    "                self.pw.append(i)\n",
    "            elif i in negative_words:\n",
    "                self.nw.append(i)\n",
    "                \n",
    "        print(\"긍정적인 단어:\", self.pw)\n",
    "        print(\"부정적인 단어:\", self.nw)\n",
    "\n",
    "        if len(self.pw) > len(self.nw):\n",
    "            print(\"기분이 좋아 보이네요!\")\n",
    "        elif len(self.nw) > len(self.pw):\n",
    "            print(\"기분이 나빠 보이네요.\")\n",
    "        else:\n",
    "            print(\"평범한 하루네요.\")\n",
    "\n",
    "    def p5(self):\n",
    "        self.cont=input(\"원하시는 문장을 입력하세요\")\n",
    "        ls=self.cont.split(\" \")\n",
    "        a=ord('a')\n",
    "        z=ord('z')\n",
    "        for n in ls:\n",
    "            up=ord(n[0])\n",
    "            if a<=up and up<=z :\n",
    "                word=n[0].upper()+n[1:]\n",
    "                self.res.append(word)\n",
    "        print(\" \".join(self.res))\n"
   ]
  },
  {
   "cell_type": "code",
   "execution_count": 31,
   "id": "73ae98cb-be00-43da-a316-0f6536d2f241",
   "metadata": {
    "tags": []
   },
   "outputs": [],
   "source": [
    "# class Team2:\n",
    "#     def __init__(self):\n",
    "#         self.word = input(\"단어를 입력하세요: \")\n",
    "#         self.lst = list(map(int, input(\"숫자를 입력하세요: \").split()))\n",
    "#     def compare(self):\n",
    "#         if self.word==self.word[::-1]:\n",
    "#             print(\"똑같다\")\n",
    "#         else: \n",
    "#             print(\"다르다\")\n",
    "\n",
    "#     def ex2(self):\n",
    "#         lst1 = [i for i in self.lst if i % 2 == 0]\n",
    "#         lst2 = [i for i in self.lst if i % 2 != 0]\n",
    "#         return lst1, lst2\n",
    "#     def display_numbers(self):\n",
    "#         num1, num2 = self.ex2()\n",
    "#         print(\"짝수:\", num1)\n",
    "#         print(\"홀수:\", num2)\n",
    "\n",
    "\n",
    "#     def longest_words():\n",
    "#         long_result = []\n",
    "    \n",
    "#         words = input(\"문장을 입력하세요: \").split()\n",
    "#         max_len = len(max(words, key=len))\n",
    "    \n",
    "#         for word in words:\n",
    "#             if len(word) == max_len:\n",
    "#                 long_result.append(word)\n",
    "    \n",
    "#         print(\"가장 긴 단어는:\", long_result)\n",
    "# longest_words()\n",
    "# obj = Team2()\n",
    "# obj.compare()\n",
    "# obj.display_numbers()"
   ]
  },
  {
   "cell_type": "code",
   "execution_count": 30,
   "id": "f1226628-c924-4177-aa90-b8492a6b13dc",
   "metadata": {
    "tags": []
   },
   "outputs": [],
   "source": [
    "# class Team2:\n",
    "#     def __init__(self):\n",
    "#          self.word = input(\"단어를 입력하세요: \")\n",
    "#          self.lst = list(map(int, input(\"숫자를 입력하세요: \").split()))\n",
    "#     def compare(self):\n",
    "#         if self.word==self.word[::-1]:\n",
    "#             print(\"똑같다\")\n",
    "#         else: \n",
    "#             print(\"다르다\")\n",
    "# obj = Team2()\n",
    "# obj.compare()\n",
    "\n",
    "#     def ex2(self):\n",
    "#         lst1 = [i for i in self.lst if i % 2 == 0]\n",
    "#         lst2 = [i for i in self.lst if i % 2 != 0]\n",
    "#         return lst1, lst2\n",
    "#     def display_numbers(self):\n",
    "#         num1, num2 = self.ex2()\n",
    "#         print(\"짝수:\", num1)\n",
    "#         print(\"홀수:\", num2)\n",
    "\n",
    "# obj.display_numbers()\n",
    "\n",
    "#     def longest_words():\n",
    "#         long_result = []\n",
    "    \n",
    "#         words = input(\"문장을 입력하세요: \").split()\n",
    "#         max_len = len(max(words, key=len))\n",
    "    \n",
    "#         for word in words:\n",
    "#             if len(word) == max_len:\n",
    "#                 long_result.append(word)\n",
    "    \n",
    "#         print(\"가장 긴 단어는:\", long_result)\n",
    "# longest_words()\n",
    "\n",
    "\n",
    "#     def face(self):\n",
    "#         self.pw = []\n",
    "#         self.nw = []\n",
    "#         self.status = input(\"당신의 기분을 한 문장으로 표현해주세요: \").split()\n",
    "        \n",
    "#     def p4(self):\n",
    "#         positive_words = [\"좋아\", \"행복\", \"멋져\", \"최고\", \"사랑해\"]\n",
    "#         negative_words = [\"싫어\", \"화나\", \"짜증\", \"별로\", \"나빠\"]\n",
    "\n",
    "#         print(\"입력된 단어:\", self.status)\n",
    "        \n",
    "#         for i in self.status:\n",
    "#             if i in positive_words:\n",
    "#                 self.pw.append(i)\n",
    "#             elif i in negative_words:\n",
    "#                 self.nw.append(i)\n",
    "                \n",
    "#         print(\"긍정적인 단어:\", self.pw)\n",
    "#         print(\"부정적인 단어:\", self.nw)\n",
    "\n",
    "#         if len(self.pw) > len(self.nw):\n",
    "#             print(\"기분이 좋아 보이네요!\")\n",
    "#         elif len(self.nw) > len(self.pw):\n",
    "#             print(\"기분이 나빠 보이네요.\")\n",
    "#         else:\n",
    "#             print(\"평범한 하루네요.\")\n"
   ]
  },
  {
   "cell_type": "code",
   "execution_count": 44,
   "id": "81c1c5a8-a98e-4803-9501-337f9bc34880",
   "metadata": {},
   "outputs": [
    {
     "name": "stdin",
     "output_type": "stream",
     "text": [
      "단어를 입력하세요:  wow\n",
      "숫자를 입력하세요:  1234 45\n"
     ]
    },
    {
     "name": "stdout",
     "output_type": "stream",
     "text": [
      "똑같다\n",
      "짝수: [1234]\n",
      "홀수: [45]\n",
      "입력된 단어: []\n",
      "긍정적인 단어: []\n",
      "부정적인 단어: []\n",
      "평범한 하루네요.\n"
     ]
    },
    {
     "name": "stdin",
     "output_type": "stream",
     "text": [
      "원하시는 문장을 입력하세요 hi fam\n"
     ]
    },
    {
     "name": "stdout",
     "output_type": "stream",
     "text": [
      "Hi Fam\n"
     ]
    }
   ],
   "source": [
    "class Team2:\n",
    "    def __init__(self):\n",
    "        self.cont=\"\"\n",
    "        self.res=[]\n",
    "        self.word = input(\"단어를 입력하세요: \")\n",
    "        self.lst = list(map(int, input(\"숫자를 입력하세요: \").split()))\n",
    "        self.pw = []\n",
    "        self.nw = []\n",
    "        self.status = []\n",
    "    def compare(self):\n",
    "        if self.word==self.word[::-1]:\n",
    "            print(\"똑같다\")\n",
    "        else: \n",
    "            print(\"다르다\")\n",
    "\n",
    "    def ex2(self):\n",
    "        lst1 = [i for i in self.lst if i % 2 == 0]\n",
    "        lst2 = [i for i in self.lst if i % 2 != 0]\n",
    "        return lst1, lst2\n",
    "    def display_numbers(self):\n",
    "        num1, num2 = self.ex2()\n",
    "        print(\"짝수:\", num1)\n",
    "        print(\"홀수:\", num2)\n",
    "\n",
    "\n",
    "    def longest_words(self):\n",
    "        long_result = []\n",
    "    \n",
    "        words = input(\"문장을 입력하세요: \").split()\n",
    "        max_len = len(max(words, key=len))\n",
    "    \n",
    "        for word in words:\n",
    "            if len(word) == max_len:\n",
    "                long_result.append(word)\n",
    "    \n",
    "        print(\"가장 긴 단어는:\", long_result)\n",
    "\n",
    "\n",
    "    def face(self):\n",
    "        self.status = input(\"당신의 기분을 한 문장으로 표현해주세요: \").split()\n",
    "        \n",
    "    def p4(self):\n",
    "        positive_words = [\"좋아\", \"행복\", \"멋져\", \"최고\", \"사랑해\"]\n",
    "        negative_words = [\"싫어\", \"화나\", \"짜증\", \"별로\", \"나빠\"]\n",
    "\n",
    "        print(\"입력된 단어:\", self.status)\n",
    "        \n",
    "        for i in self.status:\n",
    "            if i in positive_words:\n",
    "                self.pw.append(i)\n",
    "            elif i in negative_words:\n",
    "                self.nw.append(i)\n",
    "                \n",
    "        print(\"긍정적인 단어:\", self.pw)\n",
    "        print(\"부정적인 단어:\", self.nw)\n",
    "\n",
    "        if len(self.pw) > len(self.nw):\n",
    "            print(\"기분이 좋아 보이네요!\")\n",
    "        elif len(self.nw) > len(self.pw):\n",
    "            print(\"기분이 나빠 보이네요.\")\n",
    "        else:\n",
    "            print(\"평범한 하루네요.\")\n",
    "\n",
    "    def p5(self):\n",
    "        self.cont=input(\"원하시는 문장을 입력하세요\")\n",
    "        ls=self.cont.split(\" \")\n",
    "        a=ord('a')\n",
    "        z=ord('z')\n",
    "        for n in ls:\n",
    "            up=ord(n[0])\n",
    "            if a<=up and up<=z :\n",
    "                word=n[0].upper()+n[1:]\n",
    "                self.res.append(word)\n",
    "        print(\" \".join(self.res))\n",
    "\n",
    "obj = Team2()\n",
    "obj.compare()\n",
    "obj.display_numbers()\n",
    "obj.p4()\n",
    "obj.p5()"
   ]
  },
  {
   "cell_type": "code",
   "execution_count": null,
   "id": "89fc8aab-4969-4106-9e1f-82dd33df07aa",
   "metadata": {
    "tags": []
   },
   "outputs": [
    {
     "name": "stdin",
     "output_type": "stream",
     "text": [
      "단어를 입력하세요:  wow\n",
      "숫자를 입력하세요:  12 45 46\n"
     ]
    },
    {
     "name": "stdout",
     "output_type": "stream",
     "text": [
      "똑같다\n",
      "짝수: [12, 46]\n",
      "홀수: [45]\n",
      "입력된 단어: []\n",
      "긍정적인 단어: []\n",
      "부정적인 단어: []\n",
      "평범한 하루네요.\n"
     ]
    }
   ],
   "source": [
    "class Team2:\n",
    "    def __init__(self):\n",
    "        self.cont=\"\"\n",
    "        self.res=[]\n",
    "        self.word = input(\"단어를 입력하세요: \")\n",
    "        self.lst = list(map(int, input(\"숫자를 입력하세요: \").split()))\n",
    "        self.pw = []\n",
    "        self.nw = []\n",
    "        self.status = []\n",
    "    def compare(self):\n",
    "        if self.word==self.word[::-1]:\n",
    "            print(\"똑같다\")\n",
    "        else: \n",
    "            print(\"다르다\")\n",
    "\n",
    "    def ex2(self):\n",
    "        lst1 = [i for i in self.lst if i % 2 == 0]\n",
    "        lst2 = [i for i in self.lst if i % 2 != 0]\n",
    "        return lst1, lst2\n",
    "    def display_numbers(self):\n",
    "        num1, num2 = self.ex2()\n",
    "        print(\"짝수:\", num1)\n",
    "        print(\"홀수:\", num2)\n",
    "\n",
    "\n",
    "    def longest_words(self):\n",
    "        long_result = []\n",
    "    \n",
    "        words = input(\"문장을 입력하세요: \").split()\n",
    "        max_len = len(max(words, key=len))\n",
    "    \n",
    "        for word in words:\n",
    "            if len(word) == max_len:\n",
    "                long_result.append(word)\n",
    "    \n",
    "        print(\"가장 긴 단어는:\", long_result)\n",
    "\n",
    "\n",
    "    def face(self):\n",
    "        self.status = input(\"당신의 기분을 한 문장으로 표현해주세요: \").split()\n",
    "        \n",
    "    def p4(self):\n",
    "        positive_words = [\"좋아\", \"행복\", \"멋져\", \"최고\", \"사랑해\"]\n",
    "        negative_words = [\"싫어\", \"화나\", \"짜증\", \"별로\", \"나빠\"]\n",
    "\n",
    "        print(\"입력된 단어:\", self.status)\n",
    "        \n",
    "        for i in self.status:\n",
    "            if i in positive_words:\n",
    "                self.pw.append(i)\n",
    "            elif i in negative_words:\n",
    "                self.nw.append(i)\n",
    "                \n",
    "        print(\"긍정적인 단어:\", self.pw)\n",
    "        print(\"부정적인 단어:\", self.nw)\n",
    "\n",
    "        if len(self.pw) > len(self.nw):\n",
    "            print(\"기분이 좋아 보이네요!\")\n",
    "        elif len(self.nw) > len(self.pw):\n",
    "            print(\"기분이 나빠 보이네요.\")\n",
    "        else:\n",
    "            print(\"평범한 하루네요.\")\n",
    "\n",
    "    def p5(self):\n",
    "        self.cont=input(\"원하시는 문장을 입력하세요\")\n",
    "        ls=self.cont.split(\" \")\n",
    "        a=ord('a')\n",
    "        z=ord('z')\n",
    "        for n in ls:\n",
    "            up=ord(n[0])\n",
    "            if a<=up and up<=z :\n",
    "                word=n[0].upper()+n[1:]\n",
    "                self.res.append(word)\n",
    "        print(\" \".join(self.res))\n",
    "\n",
    "obj = Team2()\n",
    "obj.compare()\n",
    "obj.display_numbers()\n",
    "obj.p4()\n",
    "obj.p5()"
   ]
  },
  {
   "cell_type": "code",
   "execution_count": 2,
   "id": "43c83be4-25c1-4ffc-9a9c-eaaf687a7d09",
   "metadata": {},
   "outputs": [
    {
     "name": "stdin",
     "output_type": "stream",
     "text": [
      "기분 입력:  기분 좋아 좋은데 나빠\n"
     ]
    },
    {
     "name": "stdout",
     "output_type": "stream",
     "text": [
      "['기분', '좋다', '좋다', '나쁘다']\n"
     ]
    }
   ],
   "source": [
    "from konlpy.tag import Okt\n",
    "\n",
    "#한글 형태소 분석기\n",
    "okt = Okt()\n",
    "\n",
    "positive_words = [\"좋아\", \"행복\", \"멋져\", \"최고\", \"사랑해\"]\n",
    "negative_words = [\"싫어\", \"화나\", \"짜증\", \"별로\", \"나빠\"]\n",
    "text = input(\"기분 입력: \")\n",
    "\n",
    "words = okt.morphs(text,stem=True)\n",
    "print(words)"
   ]
  },
  {
   "cell_type": "code",
   "execution_count": 3,
   "id": "8abc717b-00f4-480e-81ee-2331204aeb61",
   "metadata": {
    "tags": []
   },
   "outputs": [
    {
     "name": "stderr",
     "output_type": "stream",
     "text": [
      "java version \"1.8.0_441\"\n",
      "Java(TM) SE Runtime Environment (build 1.8.0_441-b07)\n",
      "Java HotSpot(TM) 64-Bit Server VM (build 25.441-b07, mixed mode)\n"
     ]
    }
   ],
   "source": [
    "!java -version"
   ]
  },
  {
   "cell_type": "code",
   "execution_count": 1,
   "id": "af82d63e-eb27-44ba-98eb-c850306fc313",
   "metadata": {},
   "outputs": [
    {
     "name": "stdout",
     "output_type": "stream",
     "text": [
      "(4, 1)\n"
     ]
    }
   ],
   "source": [
    "print(divmod(13,3))"
   ]
  },
  {
   "cell_type": "code",
   "execution_count": 4,
   "id": "932efa65-11c5-4c18-910b-928ef63164a6",
   "metadata": {
    "tags": []
   },
   "outputs": [
    {
     "name": "stdout",
     "output_type": "stream",
     "text": [
      "1번째 과일은 apple입니다.\n",
      "2번째 과일은 banana입니다.\n"
     ]
    }
   ],
   "source": [
    "fruit = ['apple', 'banana']\n",
    "for idx, fru in enumerate(fruit, start = 1) :\n",
    "    print(f'{idx}번째 과일은 {fru}입니다.')"
   ]
  },
  {
   "cell_type": "code",
   "execution_count": 8,
   "id": "b6dbcbff-2e0e-44b3-834b-5f23b2e759be",
   "metadata": {
    "tags": []
   },
   "outputs": [
    {
     "data": {
      "text/plain": [
       "'A1'"
      ]
     },
     "execution_count": 8,
     "metadata": {},
     "output_type": "execute_result"
    }
   ],
   "source": [
    "eval(\"'A'+'1'\")"
   ]
  },
  {
   "cell_type": "code",
   "execution_count": 17,
   "id": "f952f390-3820-4a15-8d92-8087c08321b9",
   "metadata": {
    "tags": []
   },
   "outputs": [
    {
     "name": "stdin",
     "output_type": "stream",
     "text": [
      "숫자 입력:  -1\n"
     ]
    },
    {
     "name": "stdout",
     "output_type": "stream",
     "text": [
      "양수가 아닙니다\n"
     ]
    }
   ],
   "source": [
    "def ex1(inp):\n",
    "    if inp >= 0 :\n",
    "        return f'숫자 {inp}는 양수입니다.'\n",
    "    else :\n",
    "        return f'양수가 아닙니다'\n",
    "\n",
    "inp = int(input('숫자 입력: '))\n",
    "print(ex1(inp))"
   ]
  },
  {
   "cell_type": "code",
   "execution_count": 18,
   "id": "99aec836-63a2-4f60-b820-dc8a2c9f7388",
   "metadata": {
    "tags": []
   },
   "outputs": [
    {
     "name": "stdout",
     "output_type": "stream",
     "text": [
      "[1, 2]\n"
     ]
    }
   ],
   "source": [
    "def pos(l):\n",
    "    return [i for i in l if i > 0]\n",
    "print(pos([1, -3, 2, 0, -188]))"
   ]
  },
  {
   "cell_type": "code",
   "execution_count": 24,
   "id": "146bf67b-db90-4fea-b616-24aad167f645",
   "metadata": {
    "tags": []
   },
   "outputs": [
    {
     "data": {
      "text/plain": [
       "[1, 2]"
      ]
     },
     "execution_count": 24,
     "metadata": {},
     "output_type": "execute_result"
    }
   ],
   "source": [
    "def positive(x):\n",
    "    return x > 0\n",
    "l = [1, -3, 2, 0, -188]\n",
    "list(filter(positive,l))\n",
    "# print(positive(3))"
   ]
  },
  {
   "cell_type": "code",
   "execution_count": 25,
   "id": "080c5c96-d12c-4381-9aa0-bc63379d9437",
   "metadata": {
    "tags": []
   },
   "outputs": [
    {
     "name": "stdout",
     "output_type": "stream",
     "text": [
      "[1, 2]\n"
     ]
    }
   ],
   "source": [
    "print(list(filter(lambda x: x>0 ,l)))"
   ]
  },
  {
   "cell_type": "code",
   "execution_count": 27,
   "id": "764fa8a3-01a5-4314-8aba-71d0b66707c6",
   "metadata": {
    "tags": []
   },
   "outputs": [],
   "source": [
    "# for n in filter(lambda x:x>0, 1) :\n",
    "#     print(n)"
   ]
  },
  {
   "cell_type": "code",
   "execution_count": 28,
   "id": "2160e849-1a67-4ce5-83f1-cd8cbd2c8a4c",
   "metadata": {
    "tags": []
   },
   "outputs": [
    {
     "data": {
      "text/plain": [
       "'0xea'"
      ]
     },
     "execution_count": 28,
     "metadata": {},
     "output_type": "execute_result"
    }
   ],
   "source": [
    "hex(234)"
   ]
  },
  {
   "cell_type": "code",
   "execution_count": 29,
   "id": "c68134fc-9421-4659-843f-2af97e1e8404",
   "metadata": {
    "tags": []
   },
   "outputs": [
    {
     "data": {
      "text/plain": [
       "'0o11'"
      ]
     },
     "execution_count": 29,
     "metadata": {},
     "output_type": "execute_result"
    }
   ],
   "source": [
    "oct(9)"
   ]
  },
  {
   "cell_type": "code",
   "execution_count": 30,
   "id": "60bf0b4d-7f53-4280-ab70-cc5e40bd29a1",
   "metadata": {
    "tags": []
   },
   "outputs": [
    {
     "data": {
      "text/plain": [
       "'0b1001'"
      ]
     },
     "execution_count": 30,
     "metadata": {},
     "output_type": "execute_result"
    }
   ],
   "source": [
    "bin(9)"
   ]
  },
  {
   "cell_type": "code",
   "execution_count": 31,
   "id": "263a9230-603f-4228-9771-1ecc34990c3a",
   "metadata": {
    "tags": []
   },
   "outputs": [
    {
     "name": "stdout",
     "output_type": "stream",
     "text": [
      "\u001e",
      "\n"
     ]
    }
   ],
   "source": [
    "print(chr(int(hex(30)[2:],16)))"
   ]
  },
  {
   "cell_type": "code",
   "execution_count": 36,
   "id": "fc92821b-8fc6-4423-ab34-83b28c427954",
   "metadata": {
    "tags": []
   },
   "outputs": [
    {
     "name": "stdout",
     "output_type": "stream",
     "text": [
      "140723449926504\n",
      "140723449926504\n",
      "140723449926504\n",
      "True\n"
     ]
    }
   ],
   "source": [
    "#id 고유 주솟값을 리턴\n",
    "\n",
    "a = 3\n",
    "print(id(3))\n",
    "print(id(a))\n",
    "\n",
    "b = a\n",
    "print(id(b))\n",
    "print(all([id(3)==id(a), id(a)==id(b)]))"
   ]
  },
  {
   "cell_type": "code",
   "execution_count": 37,
   "id": "1b64c1c6-33d9-49ef-a82f-97f4b6c3cdc7",
   "metadata": {
    "tags": []
   },
   "outputs": [],
   "source": [
    "#input *\n",
    "#input은 스트링으로 값을 전달받는다. 그러므로 계산시 int나 float로 변경할 것"
   ]
  },
  {
   "cell_type": "code",
   "execution_count": 38,
   "id": "ad8d2e52-883c-47c4-86fc-e55a7de06945",
   "metadata": {
    "tags": []
   },
   "outputs": [],
   "source": [
    "#int *\n",
    "#문자를 숫자로 변환, 정수로 변환, 소수점이 사라짐"
   ]
  },
  {
   "cell_type": "code",
   "execution_count": 40,
   "id": "5685bb27-de24-4a64-8a33-e31a90129257",
   "metadata": {
    "tags": []
   },
   "outputs": [
    {
     "name": "stdout",
     "output_type": "stream",
     "text": [
      "사람입니다\n",
      "사람입니다\n"
     ]
    },
    {
     "data": {
      "text/plain": [
       "False"
      ]
     },
     "execution_count": 40,
     "metadata": {},
     "output_type": "execute_result"
    }
   ],
   "source": [
    "#isinstance(object, class) 인스턴스 확인용\n",
    "class Person: \n",
    "    def p(self) :\n",
    "        return ('사람입니다')\n",
    "class Animal:pass\n",
    "\n",
    "a = Person()\n",
    "b = Person()\n",
    "c = Animal()\n",
    "\n",
    "print(a.p())\n",
    "print(b.p())\n",
    "\n",
    "isinstance(a,Person)\n",
    "isinstance(b,Person)\n",
    "isinstance(c,Person)"
   ]
  },
  {
   "cell_type": "code",
   "execution_count": 46,
   "id": "c9b5e08d-691b-4e74-b194-647ba6e2f4a9",
   "metadata": {
    "tags": []
   },
   "outputs": [
    {
     "name": "stdout",
     "output_type": "stream",
     "text": [
      "6\n",
      "4\n",
      "2\n"
     ]
    }
   ],
   "source": [
    "# len **\n",
    "print(len(\"python\"))\n",
    "print(len([1,2,3,4]))\n",
    "print(len((1,'a')))"
   ]
  },
  {
   "cell_type": "code",
   "execution_count": 48,
   "id": "bd11d122-a528-4c5b-8463-b39d77d498f0",
   "metadata": {
    "tags": []
   },
   "outputs": [
    {
     "name": "stdout",
     "output_type": "stream",
     "text": [
      "[2, 4, 6, 8]\n"
     ]
    }
   ],
   "source": [
    "# map *\n",
    "def two_items(nl):\n",
    "    result = []\n",
    "    for n in nl:\n",
    "        result.append(n*2)\n",
    "    return result\n",
    "result = two_items([1,2,3,4])\n",
    "print(result)"
   ]
  },
  {
   "cell_type": "code",
   "execution_count": 50,
   "id": "bd94b3c3-9704-469f-8c06-4f5582ad6610",
   "metadata": {
    "tags": []
   },
   "outputs": [
    {
     "data": {
      "text/plain": [
       "[2, 4, 6, 8]"
      ]
     },
     "execution_count": 50,
     "metadata": {},
     "output_type": "execute_result"
    }
   ],
   "source": [
    "def two_times(x) :\n",
    "    return x*2\n",
    "list(map(two_times, [1,2,3,4]))"
   ]
  },
  {
   "cell_type": "code",
   "execution_count": 51,
   "id": "5fda3a61-7390-496f-8f97-e3ec59e2f2f2",
   "metadata": {
    "tags": []
   },
   "outputs": [
    {
     "data": {
      "text/plain": [
       "[2, 4, 6, 8]"
      ]
     },
     "execution_count": 51,
     "metadata": {},
     "output_type": "execute_result"
    }
   ],
   "source": [
    "list(map(lambda x: x*2, [1,2,3,4]))"
   ]
  },
  {
   "cell_type": "code",
   "execution_count": 55,
   "id": "2d28b2d2-9023-4765-862e-77153baab8a4",
   "metadata": {
    "tags": []
   },
   "outputs": [
    {
     "data": {
      "text/plain": [
       "[2, 4, 6, 8]"
      ]
     },
     "execution_count": 55,
     "metadata": {},
     "output_type": "execute_result"
    }
   ],
   "source": [
    "list(map(lambda x: x//10, [20, 40, 60, 80]))"
   ]
  },
  {
   "cell_type": "code",
   "execution_count": 62,
   "id": "ab0ec320-40dd-4aeb-b921-6f97d4630fa9",
   "metadata": {
    "tags": []
   },
   "outputs": [
    {
     "name": "stdout",
     "output_type": "stream",
     "text": [
      "13\n",
      "9\n",
      "39\n",
      "[1, 3, 5]\n",
      "[1, 2, 3, 4, 5, 6]\n",
      "[11, 12, 13, 14, 15, 16]\n"
     ]
    }
   ],
   "source": [
    "#테스트\n",
    "li = [1,2,3,4,5,6]\n",
    "def odd(x) :\n",
    "    return x%2 != 0\n",
    "def add(x) :\n",
    "    return x + 10\n",
    "def mul(x) :\n",
    "    return x*x\n",
    "def addmul(x):\n",
    "    return (x+10)*x\n",
    "\n",
    "print(add(3))\n",
    "print(mul(3))\n",
    "print(addmul(3))\n",
    "print(list(filter(odd,li)))\n",
    "print(list(filter(add,li)))\n",
    "print(list(map(add,li)))"
   ]
  },
  {
   "cell_type": "code",
   "execution_count": 65,
   "id": "6c9ce9b4-8ffe-41a5-80d5-3733cc3dae6b",
   "metadata": {
    "tags": []
   },
   "outputs": [
    {
     "data": {
      "text/plain": [
       "'y'"
      ]
     },
     "execution_count": 65,
     "metadata": {},
     "output_type": "execute_result"
    }
   ],
   "source": [
    "#max*, min*\n",
    "max([1, 10, 15])\n",
    "max('python') #문자일 경우 유니코드 값으로 판단"
   ]
  },
  {
   "cell_type": "code",
   "execution_count": 68,
   "id": "ea287f2a-1a28-4547-82aa-af44dcb2f67a",
   "metadata": {
    "tags": []
   },
   "outputs": [],
   "source": [
    "#open *\n",
    "# f = open('README.md', 'r', encoding = 'utf-8')\n",
    "# f.read()"
   ]
  },
  {
   "cell_type": "code",
   "execution_count": 72,
   "id": "28625cbb-4dc8-4f99-9b2c-e0cbd8913306",
   "metadata": {
    "tags": []
   },
   "outputs": [
    {
     "data": {
      "text/plain": [
       "8"
      ]
     },
     "execution_count": 72,
     "metadata": {},
     "output_type": "execute_result"
    }
   ],
   "source": [
    "# pow * x를 y 제곱한 결과값을 리턴\n",
    "pow(2,3)"
   ]
  },
  {
   "cell_type": "code",
   "execution_count": 74,
   "id": "62c00caa-53eb-43d4-acf3-4ad670e8de22",
   "metadata": {
    "tags": []
   },
   "outputs": [
    {
     "data": {
      "text/plain": [
       "[15, 14, 13, 12, 11]"
      ]
     },
     "execution_count": 74,
     "metadata": {},
     "output_type": "execute_result"
    }
   ],
   "source": [
    "# range **\n",
    "# 인수가 하나\n",
    "list(range(5))\n",
    "# 인수가 두개\n",
    "list(range(5,10))\n",
    "# 인수가 세개\n",
    "list(range(5,10,2))\n",
    "# 역순(스탭조절)\n",
    "list(range(15,10,-1))"
   ]
  },
  {
   "cell_type": "code",
   "execution_count": 76,
   "id": "384a98ee-92c9-47d1-a797-b26260ff1cc4",
   "metadata": {
    "tags": []
   },
   "outputs": [
    {
     "name": "stdout",
     "output_type": "stream",
     "text": [
      "3.46\n"
     ]
    }
   ],
   "source": [
    "# round *\n",
    "print(round(3.4567, 2))"
   ]
  },
  {
   "cell_type": "code",
   "execution_count": 82,
   "id": "0e4ec46c-92dc-4efd-afcf-13b58c960382",
   "metadata": {
    "tags": []
   },
   "outputs": [
    {
     "name": "stdout",
     "output_type": "stream",
     "text": [
      "[1, 2, 3, 7, 8]\n",
      "[8, 7, 3, 2, 1]\n",
      "[3, 2, 1, 8, 7]\n"
     ]
    }
   ],
   "source": [
    "# sorted(iterable)\n",
    "s0 = [3, 2, 1, 8, 7]\n",
    "s1 = sorted(s0, reverse = True)\n",
    "ss = sorted([3, 2, 1, 8, 7])\n",
    "print(ss)\n",
    "print(s1)\n",
    "print(s0)"
   ]
  },
  {
   "cell_type": "code",
   "execution_count": 83,
   "id": "27ebc34c-e8e0-4af2-aa88-c86015354f80",
   "metadata": {
    "tags": []
   },
   "outputs": [
    {
     "name": "stdout",
     "output_type": "stream",
     "text": [
      "23 <class 'int'>\n",
      "23 <class 'str'>\n"
     ]
    }
   ],
   "source": [
    "# str 문자열로 변환\n",
    "num = 23\n",
    "st = str(num)\n",
    "print(num, type(num))\n",
    "print(st, type(st))"
   ]
  },
  {
   "cell_type": "code",
   "execution_count": 85,
   "id": "15ecafff-cb75-42ec-95f9-0ef9faf1c6b5",
   "metadata": {
    "tags": []
   },
   "outputs": [
    {
     "name": "stdout",
     "output_type": "stream",
     "text": [
      "15\n"
     ]
    }
   ],
   "source": [
    "# sum * 이터러블데이터의 합을 리턴\n",
    "print(sum([1,2,3,4,5]))"
   ]
  },
  {
   "cell_type": "code",
   "execution_count": 86,
   "id": "b516bb89-145f-451c-ba89-d718e23a94f2",
   "metadata": {
    "tags": []
   },
   "outputs": [
    {
     "name": "stdout",
     "output_type": "stream",
     "text": [
      "('a', 'b', 'c')\n",
      "(1, 2, 3, 4, 5, 6)\n"
     ]
    }
   ],
   "source": [
    "# tuple * 튜플로 바꾸기\n",
    "print(tuple('abc'))\n",
    "print(tuple([1,2,3,4,5,6]))"
   ]
  },
  {
   "cell_type": "code",
   "execution_count": 87,
   "id": "8e283d41-67c5-4416-be41-bcb71f9e75cf",
   "metadata": {
    "tags": []
   },
   "outputs": [],
   "source": [
    "#type ** 자료형 확인"
   ]
  },
  {
   "cell_type": "code",
   "execution_count": 93,
   "id": "3c8dae69-952b-4662-8659-21bc46b76420",
   "metadata": {
    "tags": []
   },
   "outputs": [
    {
     "name": "stdout",
     "output_type": "stream",
     "text": [
      "1 : apple => cat\n",
      "2 : banana => dog\n",
      "3 : kiwi => ham\n"
     ]
    }
   ],
   "source": [
    "#zip ** 묶어서 리턴\n",
    "fruit = ['apple', 'banana', 'kiwi']\n",
    "animal = ['cat', 'dog', 'ham']\n",
    "num = [1, 2, 3]\n",
    "for f,a,n in zip(fruit, animal, num):\n",
    "    print(n,':', f, '=>', a)"
   ]
  },
  {
   "cell_type": "markdown",
   "id": "f831e965-4fc7-4eb2-9e04-d8cbc6be6a04",
   "metadata": {},
   "source": [
    "# 표준 라이브러리"
   ]
  },
  {
   "cell_type": "markdown",
   "id": "643f43dc-0e9f-4a00-943e-84192218ccd1",
   "metadata": {},
   "source": [
    "## datetime"
   ]
  },
  {
   "cell_type": "raw",
   "id": "aad8d265-5443-49f8-82ea-7b062b3b1aa4",
   "metadata": {
    "tags": []
   },
   "source": [
    "import datetime\n",
    "day1 = datetime.date(2025,2,3)\n",
    "day2 = datetime.date(2025,7,25)\n",
    "diff = day2 - day1\n",
    "print('전체 수업기간: ', diff.days, '일')\n",
    "diff.days - 15\n",
    "diff2 = day2 - datetime.datetime.now().date()\n",
    "print('남은 수업기간: ', diff2.days, '일')\n",
    "print('지난 수업기간: ', diff.days - diff2.days, '일')"
   ]
  },
  {
   "cell_type": "code",
   "execution_count": 101,
   "id": "a8186244-c5c6-42e1-8d2f-9109fcb58e43",
   "metadata": {
    "tags": []
   },
   "outputs": [
    {
     "data": {
      "text/plain": [
       "<function datetime.date>"
      ]
     },
     "execution_count": 101,
     "metadata": {},
     "output_type": "execute_result"
    }
   ],
   "source": [
    "datetime.datetime.now()\n",
    "datetime.datetime.now().date"
   ]
  },
  {
   "cell_type": "code",
   "execution_count": 100,
   "id": "d4a6f8df-60ec-4bbb-8c81-0af4991a9065",
   "metadata": {
    "tags": []
   },
   "outputs": [
    {
     "name": "stdout",
     "output_type": "stream",
     "text": [
      "2025-02-03\n"
     ]
    }
   ],
   "source": [
    "print(day1)"
   ]
  },
  {
   "cell_type": "code",
   "execution_count": 103,
   "id": "706ac44d-6fb7-4586-ad5e-67ae6c59e02e",
   "metadata": {
    "tags": []
   },
   "outputs": [
    {
     "data": {
      "text/plain": [
       "6"
      ]
     },
     "execution_count": 103,
     "metadata": {},
     "output_type": "execute_result"
    }
   ],
   "source": [
    "day = datetime.date(2020, 2, 2)\n",
    "day.weekday()"
   ]
  },
  {
   "cell_type": "code",
   "execution_count": 108,
   "id": "3fada2b0-56f0-454a-b838-a6d97ea7602b",
   "metadata": {
    "tags": []
   },
   "outputs": [
    {
     "data": {
      "text/plain": [
       "7"
      ]
     },
     "execution_count": 108,
     "metadata": {},
     "output_type": "execute_result"
    }
   ],
   "source": [
    "day.isoweekday() #1부터 시작"
   ]
  },
  {
   "cell_type": "code",
   "execution_count": 109,
   "id": "a8093244-480c-42ea-80fc-bd402538e7e7",
   "metadata": {
    "tags": []
   },
   "outputs": [
    {
     "name": "stdout",
     "output_type": "stream",
     "text": [
      "그날은 일요일 입니다.\n"
     ]
    }
   ],
   "source": [
    "days = ['월', '화', '수', '목', '금', '토', '일']\n",
    "day = datetime.date(2020, 2, 2)\n",
    "print(\"그날은 \" + days[day.weekday()] + \"요일 입니다.\")"
   ]
  },
  {
   "cell_type": "markdown",
   "id": "e024b7b5-4981-466e-b11e-67eeb109f77f",
   "metadata": {},
   "source": [
    "생일을 입력 받으면 몇일이 지났는지 계산하도록"
   ]
  },
  {
   "cell_type": "code",
   "execution_count": 113,
   "id": "05b7a36e-2614-4e2a-bb3b-e48d2f82b848",
   "metadata": {
    "tags": []
   },
   "outputs": [
    {
     "name": "stdout",
     "output_type": "stream",
     "text": [
      "2025-02-18\n"
     ]
    }
   ],
   "source": [
    "today = (datetime.datetime.now()).date()\n",
    "print(today)"
   ]
  },
  {
   "cell_type": "code",
   "execution_count": 112,
   "id": "afcbd70a-9e16-43e0-9047-b21632894f3a",
   "metadata": {
    "tags": []
   },
   "outputs": [
    {
     "name": "stdout",
     "output_type": "stream",
     "text": [
      "2025-02-18\n"
     ]
    }
   ],
   "source": [
    "today = datetime.datetime.now()\n",
    "print(today.date())"
   ]
  },
  {
   "cell_type": "code",
   "execution_count": 123,
   "id": "b5b0f7d2-dc3e-4c47-9b70-2cfbaced6342",
   "metadata": {
    "tags": []
   },
   "outputs": [
    {
     "name": "stdout",
     "output_type": "stream",
     "text": [
      "76 days, 0:00:00\n"
     ]
    },
    {
     "data": {
      "text/plain": [
       "2025"
      ]
     },
     "execution_count": 123,
     "metadata": {},
     "output_type": "execute_result"
    }
   ],
   "source": [
    "today = (datetime.datetime.now()).date()\n",
    "c_day = datetime.date(2025, 5, 5)\n",
    "k_day = c_day - today\n",
    "print(k_day)\n",
    "today.year\n",
    "days = ['월', '화', '수', '목', '금', '토', '일']\n",
    "k_day[]"
   ]
  },
  {
   "cell_type": "code",
   "execution_count": 132,
   "id": "9ff6a561-05e4-4a6b-9e02-9f27d35aa6da",
   "metadata": {
    "tags": []
   },
   "outputs": [
    {
     "name": "stdout",
     "output_type": "stream",
     "text": [
      "오늘은 2025년 2월 18일입니다. 올해 어린이날까지 76일 남았습니다 이날은 월요일입니다.\n"
     ]
    }
   ],
   "source": [
    "import datetime\n",
    "\n",
    "def ChildrensDay(today):\n",
    "    c_day = datetime.date(2025, 5, 5)\n",
    "    k_day = c_day - today\n",
    "    days = ['월', '화', '수', '목', '금', '토', '일']\n",
    "    w_day = days[c_day.weekday()]\n",
    "    return f'오늘은 {today.year}년 {today.month}월 {today.day}일입니다. 올해 어린이날까지 {k_day.days}일 남았습니다 이날은 {w_day}요일입니다.'\n",
    "\n",
    "if __name__==\"__main__\" :\n",
    "    today = datetime.datetime.now().date()\n",
    "    print(ChildrensDay(today))"
   ]
  },
  {
   "cell_type": "markdown",
   "id": "113f1cc8-a65a-4058-9a34-d37500d53e9b",
   "metadata": {
    "tags": []
   },
   "source": [
    "## time"
   ]
  },
  {
   "cell_type": "code",
   "execution_count": 133,
   "id": "bf8b85f4-1bb3-4f28-8d6f-bbe680a9b183",
   "metadata": {
    "tags": []
   },
   "outputs": [
    {
     "data": {
      "text/plain": [
       "1739855460.6371555"
      ]
     },
     "execution_count": 133,
     "metadata": {},
     "output_type": "execute_result"
    }
   ],
   "source": [
    "import time\n",
    "time.time()"
   ]
  },
  {
   "cell_type": "code",
   "execution_count": 135,
   "id": "2cf994ac-739e-4cf1-a547-44c15ba703e8",
   "metadata": {},
   "outputs": [
    {
     "data": {
      "text/plain": [
       "time.struct_time(tm_year=2025, tm_mon=2, tm_mday=18, tm_hour=14, tm_min=14, tm_sec=2, tm_wday=1, tm_yday=49, tm_isdst=0)"
      ]
     },
     "execution_count": 135,
     "metadata": {},
     "output_type": "execute_result"
    }
   ],
   "source": [
    "tt = time.localtime(time.time())"
   ]
  },
  {
   "cell_type": "code",
   "execution_count": 136,
   "id": "08a533b7-9089-4705-930a-a64edc56fe73",
   "metadata": {
    "tags": []
   },
   "outputs": [
    {
     "data": {
      "text/plain": [
       "'Tue Feb 18 14:17:16 2025'"
      ]
     },
     "execution_count": 136,
     "metadata": {},
     "output_type": "execute_result"
    }
   ],
   "source": [
    "time.asctime(time.localtime(time.time()))"
   ]
  },
  {
   "cell_type": "code",
   "execution_count": 137,
   "id": "f3ee67f4-9c4b-4f4f-86b7-9295d068ee35",
   "metadata": {
    "tags": []
   },
   "outputs": [
    {
     "data": {
      "text/plain": [
       "'Tue Feb 18 14:17:48 2025'"
      ]
     },
     "execution_count": 137,
     "metadata": {},
     "output_type": "execute_result"
    }
   ],
   "source": [
    "time.ctime()"
   ]
  },
  {
   "cell_type": "code",
   "execution_count": 138,
   "id": "7beeff67-98e0-42c5-9080-bb2e4819b7cc",
   "metadata": {
    "tags": []
   },
   "outputs": [
    {
     "data": {
      "text/plain": [
       "'02/18/25'"
      ]
     },
     "execution_count": 138,
     "metadata": {},
     "output_type": "execute_result"
    }
   ],
   "source": [
    "time.strftime('%x', time.localtime(time.time()))"
   ]
  },
  {
   "cell_type": "code",
   "execution_count": 139,
   "id": "84dc8810-a37b-4067-9baa-c7e210e0d74a",
   "metadata": {
    "tags": []
   },
   "outputs": [
    {
     "data": {
      "text/plain": [
       "'Tue Feb 18 14:18:31 2025'"
      ]
     },
     "execution_count": 139,
     "metadata": {},
     "output_type": "execute_result"
    }
   ],
   "source": [
    "time.strftime('%c', time.localtime(time.time()))"
   ]
  },
  {
   "cell_type": "code",
   "execution_count": 140,
   "id": "73750e3e-f0bb-4999-8b4e-7f32ae2b43a9",
   "metadata": {
    "tags": []
   },
   "outputs": [
    {
     "data": {
      "text/plain": [
       "'14:18:36'"
      ]
     },
     "execution_count": 140,
     "metadata": {},
     "output_type": "execute_result"
    }
   ],
   "source": [
    "time.strftime('%X', time.localtime(time.time()))"
   ]
  },
  {
   "cell_type": "code",
   "execution_count": 142,
   "id": "2e56e084-93aa-43a8-8270-5171f630f836",
   "metadata": {
    "tags": []
   },
   "outputs": [
    {
     "name": "stdout",
     "output_type": "stream",
     "text": [
      "10\r"
     ]
    }
   ],
   "source": [
    "for i in range(1, 11):\n",
    "    print(i, end='\\r')\n",
    "    time.sleep(1)"
   ]
  },
  {
   "cell_type": "markdown",
   "id": "e3e6710a-d527-4437-988e-2f3bbed7001f",
   "metadata": {
    "tags": []
   },
   "source": [
    "## math.gcdm math.lcm"
   ]
  },
  {
   "cell_type": "code",
   "execution_count": 145,
   "id": "4580c191-3bf3-4ba3-b0d0-278f39af3a22",
   "metadata": {
    "tags": []
   },
   "outputs": [],
   "source": [
    "import math"
   ]
  },
  {
   "cell_type": "code",
   "execution_count": 147,
   "id": "6f1ad0e1-8218-4979-91e0-124ddbc39a1f",
   "metadata": {
    "tags": []
   },
   "outputs": [
    {
     "name": "stdout",
     "output_type": "stream",
     "text": [
      "3.141592653589793\n",
      "20\n",
      "75\n"
     ]
    }
   ],
   "source": [
    "print(math.pi) #파이값\n",
    "print(math.gcd(60,100,80)) #최대공약수 값\n",
    "print(math.lcm(15,25)) #최소공배수 값"
   ]
  },
  {
   "cell_type": "markdown",
   "id": "df0490bb-87aa-4b54-b698-b6994ae14d4f",
   "metadata": {},
   "source": [
    "## random"
   ]
  },
  {
   "cell_type": "code",
   "execution_count": 148,
   "id": "975eaac8-3214-49af-840e-f3f6021c6c2b",
   "metadata": {
    "tags": []
   },
   "outputs": [
    {
     "name": "stdout",
     "output_type": "stream",
     "text": [
      "0.004084605883149739\n"
     ]
    }
   ],
   "source": [
    "import random as r\n",
    "print(r.random()) #0.0에서 1.0 사이의 난수\n",
    "print(r.randint(1,10)) #a에서 b까지의 난수"
   ]
  },
  {
   "cell_type": "code",
   "execution_count": 150,
   "id": "12c53c80-bc62-4c34-a576-47c180f47437",
   "metadata": {
    "tags": []
   },
   "outputs": [
    {
     "name": "stdout",
     "output_type": "stream",
     "text": [
      "22\n",
      "22\n",
      "11\n",
      "66\n",
      "33\n",
      "33\n"
     ]
    }
   ],
   "source": [
    "data = [11,22,33,44,55,66]\n",
    "for n in range(6):\n",
    "    print(r.choice(data))"
   ]
  },
  {
   "cell_type": "code",
   "execution_count": 159,
   "id": "3fbc3b7b-338d-452d-8cdc-c6a620791df4",
   "metadata": {
    "tags": []
   },
   "outputs": [
    {
     "name": "stdout",
     "output_type": "stream",
     "text": [
      "[3, 18, 13, 10, 8, 5, 9, 16, 7, 14, 6, 19, 12, 11, 17, 20, 1, 2, 4, 15] 20\n",
      "{1, 2, 3, 4, 5, 6, 7, 8, 9, 10, 11, 12, 13, 14, 15, 16, 17, 18, 19, 20} 20\n"
     ]
    }
   ],
   "source": [
    "li = list(range(1,21))\n",
    "arr = []\n",
    "for n in r.sample(li,len(li)):\n",
    "    arr.append(n)\n",
    "print(arr, len(arr))\n",
    "s_arr = set(arr)\n",
    "print(s_arr, len(s_arr))"
   ]
  },
  {
   "cell_type": "code",
   "execution_count": 7,
   "id": "eeb16021-5995-4de1-acc2-8344fe94f79c",
   "metadata": {},
   "outputs": [
    {
     "name": "stdout",
     "output_type": "stream",
     "text": [
      "233168\n"
     ]
    }
   ],
   "source": [
    "def ex2() :\n",
    "    result = 0\n",
    "    for i in range(1, 1000):\n",
    "        if i % 3 == 0 or i % 5 == 0 :\n",
    "            result += i\n",
    "    return result\n",
    "print(ex2())"
   ]
  },
  {
   "cell_type": "code",
   "execution_count": 9,
   "id": "3063fdd6-25fa-469b-9c49-457eb5074dba",
   "metadata": {
    "tags": []
   },
   "outputs": [
    {
     "name": "stdout",
     "output_type": "stream",
     "text": [
      "[('한민서', '사탕'), ('황지민', '초콜릿'), ('이영철', '젤리'), ('이광수', '새우깡'), ('이철민', '새우깡')]\n"
     ]
    }
   ],
   "source": [
    "import itertools\n",
    "students= ['한민서', '황지민', '이영철', '이광수', '이철민']\n",
    "snacks = ['사탕', '초콜릿', '젤리']\n",
    "\n",
    "result = itertools.zip_longest(students, snacks, fillvalue='새우깡')\n",
    "print(list(result))"
   ]
  },
  {
   "cell_type": "code",
   "execution_count": 11,
   "id": "f5739194-f785-4925-a6ec-4b8149f5539f",
   "metadata": {
    "tags": []
   },
   "outputs": [
    {
     "name": "stdout",
     "output_type": "stream",
     "text": [
      "[('1', '2'), ('1', '3'), ('2', '3')]\n"
     ]
    }
   ],
   "source": [
    "import itertools\n",
    "print(list(itertools.combinations(['1','2','3'], 2)))"
   ]
  },
  {
   "cell_type": "code",
   "execution_count": 12,
   "id": "0d8b4de0-d6bd-4e6c-b1b3-8ba29418d0c0",
   "metadata": {
    "tags": []
   },
   "outputs": [
    {
     "data": {
      "text/plain": [
       "8145060"
      ]
     },
     "execution_count": 12,
     "metadata": {},
     "output_type": "execute_result"
    }
   ],
   "source": [
    "lotto = itertools.combinations(range(1,46),6)\n",
    "lst = list(lotto)\n",
    "# for num in ls[:48] :\n",
    "#     print(num)\n",
    "len(lst)"
   ]
  },
  {
   "cell_type": "code",
   "execution_count": 13,
   "id": "467e9a01-aa64-48d8-a297-095a12103f7c",
   "metadata": {
    "tags": []
   },
   "outputs": [
    {
     "name": "stdout",
     "output_type": "stream",
     "text": [
      "15\n"
     ]
    }
   ],
   "source": [
    "import functools\n",
    "data = [1,2,3,4,5]\n",
    "result = functools.reduce(lambda x, y: x+y, data)\n",
    "print(result)"
   ]
  },
  {
   "cell_type": "markdown",
   "id": "7bcac2bd-2d55-4659-b26c-860ba1f798b4",
   "metadata": {},
   "source": [
    "filter, mapping, reduce 기억하기"
   ]
  },
  {
   "cell_type": "code",
   "execution_count": 17,
   "id": "639ddfeb-b8dd-497f-be41-42e36c146c3b",
   "metadata": {
    "tags": []
   },
   "outputs": [
    {
     "name": "stdout",
     "output_type": "stream",
     "text": [
      "[('sally', 17, 'B'), ('jane', 22, 'A'), ('dave', 32, 'B')]\n"
     ]
    }
   ],
   "source": [
    "from operator import itemgetter\n",
    "\n",
    "student = [\n",
    "    ('jane', 22, 'A'),\n",
    "    ('dave', 32, 'B'),\n",
    "    ('sally', 17, 'B'),\n",
    "]\n",
    "\n",
    "result = sorted(student, key = itemgetter(1))\n",
    "print(result)"
   ]
  },
  {
   "cell_type": "code",
   "execution_count": 18,
   "id": "36a36516-215c-4059-a702-335b90504984",
   "metadata": {
    "tags": []
   },
   "outputs": [
    {
     "ename": "FileNotFoundError",
     "evalue": "[Errno 2] No such file or directory: 'README.md'",
     "output_type": "error",
     "traceback": [
      "\u001b[1;31m---------------------------------------------------------------------------\u001b[0m",
      "\u001b[1;31mFileNotFoundError\u001b[0m                         Traceback (most recent call last)",
      "Cell \u001b[1;32mIn[18], line 3\u001b[0m\n\u001b[0;32m      1\u001b[0m \u001b[38;5;28;01mimport\u001b[39;00m \u001b[38;5;21;01mshutil\u001b[39;00m\n\u001b[1;32m----> 3\u001b[0m shutil\u001b[38;5;241m.\u001b[39mcopy(\u001b[38;5;124m\"\u001b[39m\u001b[38;5;124mREADME.md\u001b[39m\u001b[38;5;124m\"\u001b[39m, \u001b[38;5;124m\"\u001b[39m\u001b[38;5;124mREADME.md.bak\u001b[39m\u001b[38;5;124m\"\u001b[39m)\n",
      "File \u001b[1;32m~\\anaconda3\\Lib\\shutil.py:419\u001b[0m, in \u001b[0;36mcopy\u001b[1;34m(src, dst, follow_symlinks)\u001b[0m\n\u001b[0;32m    417\u001b[0m \u001b[38;5;28;01mif\u001b[39;00m os\u001b[38;5;241m.\u001b[39mpath\u001b[38;5;241m.\u001b[39misdir(dst):\n\u001b[0;32m    418\u001b[0m     dst \u001b[38;5;241m=\u001b[39m os\u001b[38;5;241m.\u001b[39mpath\u001b[38;5;241m.\u001b[39mjoin(dst, os\u001b[38;5;241m.\u001b[39mpath\u001b[38;5;241m.\u001b[39mbasename(src))\n\u001b[1;32m--> 419\u001b[0m copyfile(src, dst, follow_symlinks\u001b[38;5;241m=\u001b[39mfollow_symlinks)\n\u001b[0;32m    420\u001b[0m copymode(src, dst, follow_symlinks\u001b[38;5;241m=\u001b[39mfollow_symlinks)\n\u001b[0;32m    421\u001b[0m \u001b[38;5;28;01mreturn\u001b[39;00m dst\n",
      "File \u001b[1;32m~\\anaconda3\\Lib\\shutil.py:256\u001b[0m, in \u001b[0;36mcopyfile\u001b[1;34m(src, dst, follow_symlinks)\u001b[0m\n\u001b[0;32m    254\u001b[0m     os\u001b[38;5;241m.\u001b[39msymlink(os\u001b[38;5;241m.\u001b[39mreadlink(src), dst)\n\u001b[0;32m    255\u001b[0m \u001b[38;5;28;01melse\u001b[39;00m:\n\u001b[1;32m--> 256\u001b[0m     \u001b[38;5;28;01mwith\u001b[39;00m \u001b[38;5;28mopen\u001b[39m(src, \u001b[38;5;124m'\u001b[39m\u001b[38;5;124mrb\u001b[39m\u001b[38;5;124m'\u001b[39m) \u001b[38;5;28;01mas\u001b[39;00m fsrc:\n\u001b[0;32m    257\u001b[0m         \u001b[38;5;28;01mtry\u001b[39;00m:\n\u001b[0;32m    258\u001b[0m             \u001b[38;5;28;01mwith\u001b[39;00m \u001b[38;5;28mopen\u001b[39m(dst, \u001b[38;5;124m'\u001b[39m\u001b[38;5;124mwb\u001b[39m\u001b[38;5;124m'\u001b[39m) \u001b[38;5;28;01mas\u001b[39;00m fdst:\n\u001b[0;32m    259\u001b[0m                 \u001b[38;5;66;03m# macOS\u001b[39;00m\n",
      "\u001b[1;31mFileNotFoundError\u001b[0m: [Errno 2] No such file or directory: 'README.md'"
     ]
    }
   ],
   "source": [
    "import shutil, time\n",
    "\n",
    "for n in range(5):\n",
    "    tstamp = str(round(t.time()))[-5:]\n",
    "    # print(tstamp)\n",
    "    shutil.copy(\"README.md\", f\"/backup/README_{tstamp}.md.bak\")#복구할 때는 .bak 삭제\n",
    "    t.sleep(5)"
   ]
  },
  {
   "cell_type": "code",
   "execution_count": 19,
   "id": "6b3fe3ed-2cd3-4eaf-881e-01d12dfc7f8c",
   "metadata": {
    "tags": []
   },
   "outputs": [],
   "source": [
    "#절대 중복이 안되는 시간 time.time"
   ]
  },
  {
   "cell_type": "code",
   "execution_count": 20,
   "id": "f40d445e-9f4e-4b5a-9c06-74755029ad46",
   "metadata": {
    "tags": []
   },
   "outputs": [],
   "source": [
    "#glob\n",
    "\n",
    "import glob\n",
    "for file in glob.glob(\"./backup/*.md\") :\n",
    "    print(file)"
   ]
  },
  {
   "cell_type": "code",
   "execution_count": 21,
   "id": "e7c4cfff-a935-40da-bf46-bbe5d5d9a896",
   "metadata": {
    "tags": []
   },
   "outputs": [],
   "source": [
    "# #import pickle\n",
    "\n",
    "# import pickle\n",
    "# f = open('test.txt', 'rb')\n",
    "# # daya = pickle.load()"
   ]
  },
  {
   "cell_type": "code",
   "execution_count": 22,
   "id": "496d94d1-62ab-4809-8d02-7541c7374510",
   "metadata": {
    "tags": []
   },
   "outputs": [
    {
     "data": {
      "text/plain": [
       "'C:\\\\Program Files (x86)\\\\Common Files\\\\Oracle\\\\Java\\\\java8path;C:\\\\Program Files (x86)\\\\Common Files\\\\Oracle\\\\Java\\\\javapath;C:\\\\oraclexe\\\\app\\\\oracle\\\\product\\\\11.2.0\\\\server\\\\bin;C:\\\\WINDOWS\\\\system32;C:\\\\WINDOWS;C:\\\\WINDOWS\\\\System32\\\\Wbem;C:\\\\WINDOWS\\\\System32\\\\WindowsPowerShell\\\\v1.0\\\\;C:\\\\WINDOWS\\\\System32\\\\OpenSSH\\\\;C:\\\\Program Files\\\\Java\\\\jdk1.8.0_121\\\\bin;C:\\\\Program Files\\\\Tesseract-OCR;C:\\\\Program Files\\\\MariaDB 11.3\\\\bin;C:\\\\Program Files (x86)\\\\Windows Kits\\\\10\\\\Windows Performance Toolkit\\\\;C:\\\\Program Files\\\\Git\\\\cmd;C:\\\\Users\\\\jszxr\\\\anaconda3\\\\;C:\\\\Users\\\\jszxr\\\\anaconda3\\\\Scripts\\\\;C:\\\\Users\\\\jszxr\\\\flutter\\\\bin;C:\\\\Program Files\\\\JetBrains\\\\PyCharm Community Edition 2023.2.2\\\\bin;;C:\\\\Users\\\\jszxr\\\\AppData\\\\Local\\\\Programs\\\\Microsoft VS Code\\\\bin;C:\\\\Users\\\\jszxr\\\\AppData\\\\Local\\\\Microsoft\\\\WindowsApps;C:\\\\Program Files (x86)\\\\Brackets\\\\;'"
      ]
     },
     "execution_count": 22,
     "metadata": {},
     "output_type": "execute_result"
    }
   ],
   "source": [
    "import os\n",
    "os.environ['PATH']"
   ]
  },
  {
   "cell_type": "code",
   "execution_count": 1,
   "id": "53f6c3fc-1c44-4f3d-ae43-3e26b5814653",
   "metadata": {},
   "outputs": [],
   "source": [
    "# def what(what):\n",
    "#     if not os.system(what):\n",
    "#         f = os.popen(f\"{what} -V\")"
   ]
  },
  {
   "cell_type": "code",
   "execution_count": 3,
   "id": "f38ef24f-9c86-4a78-9599-da2f9c7575ff",
   "metadata": {
    "tags": []
   },
   "outputs": [],
   "source": [
    "import time\n",
    "def long_tesk():\n",
    "    for i in range(5):\n",
    "        time.sleep(1)\n",
    "        print(f'일하는 중...{i}')"
   ]
  },
  {
   "cell_type": "markdown",
   "id": "781880c5-3d59-4e74-9e9b-dfada8f77338",
   "metadata": {},
   "source": [
    "## json"
   ]
  },
  {
   "cell_type": "code",
   "execution_count": null,
   "id": "7420c873-9417-4320-8240-846c7e13bdae",
   "metadata": {},
   "outputs": [],
   "source": [
    "{\n",
    "    \"name\": \"홍길동\",\n",
    "    \"birth\": \"0525\",\n",
    "    \"age\": 30\n",
    "}\n"
   ]
  },
  {
   "cell_type": "code",
   "execution_count": 10,
   "id": "9c592c51-be40-44cb-89be-cc11b3cd5c7a",
   "metadata": {
    "tags": []
   },
   "outputs": [],
   "source": [
    "import requests\n",
    "import json\n",
    "url = 'https://jsonplaceholder.typicode.com/todos'\n",
    "res = requests.get(url)\n",
    "# for n in res.json():\n",
    "#     print(n)\n",
    "data = res.json()[0]\n",
    "with open('todo.json', 'w')as f :\n",
    "    json.dump(data,f)"
   ]
  },
  {
   "cell_type": "code",
   "execution_count": 12,
   "id": "31f02d4b-f4ca-4007-9516-4f166e2cd710",
   "metadata": {
    "tags": []
   },
   "outputs": [
    {
     "ename": "TypeError",
     "evalue": "dump() missing 1 required positional argument: 'fp'",
     "output_type": "error",
     "traceback": [
      "\u001b[1;31m---------------------------------------------------------------------------\u001b[0m",
      "\u001b[1;31mTypeError\u001b[0m                                 Traceback (most recent call last)",
      "Cell \u001b[1;32mIn[12], line 8\u001b[0m\n\u001b[0;32m      6\u001b[0m \u001b[38;5;28;01mwith\u001b[39;00m \u001b[38;5;28mopen\u001b[39m(\u001b[38;5;124m'\u001b[39m\u001b[38;5;124mtodo.json\u001b[39m\u001b[38;5;124m'\u001b[39m, \u001b[38;5;124m'\u001b[39m\u001b[38;5;124mw\u001b[39m\u001b[38;5;124m'\u001b[39m)\u001b[38;5;28;01mas\u001b[39;00m f :\n\u001b[0;32m      7\u001b[0m     json\u001b[38;5;241m.\u001b[39mdump(data,f)\n\u001b[1;32m----> 8\u001b[0m datas\u001b[38;5;241m=\u001b[39mjson\u001b[38;5;241m.\u001b[39mdump(data)\n\u001b[0;32m      9\u001b[0m \u001b[38;5;28mprint\u001b[39m(datas)\n",
      "\u001b[1;31mTypeError\u001b[0m: dump() missing 1 required positional argument: 'fp'"
     ]
    }
   ],
   "source": [
    "import requests\n",
    "import json\n",
    "url = 'https://jsonplaceholder.typicode.com/todos'\n",
    "data = requests.get(url).json()[0]\n",
    "data['test'] = '한글도 되나보자'\n",
    "with open('todo.json', 'w')as f :\n",
    "    json.dump(data,f)\n",
    "datas=json.dump(data)\n",
    "print(datas)"
   ]
  },
  {
   "cell_type": "code",
   "execution_count": 15,
   "id": "639aa9c9-e2f9-41d7-8624-5c1ca8f4b8d3",
   "metadata": {
    "tags": []
   },
   "outputs": [
    {
     "ename": "HTTPError",
     "evalue": "HTTP Error 404: Not Found",
     "output_type": "error",
     "traceback": [
      "\u001b[1;31m---------------------------------------------------------------------------\u001b[0m",
      "\u001b[1;31mHTTPError\u001b[0m                                 Traceback (most recent call last)",
      "Cell \u001b[1;32mIn[15], line 9\u001b[0m\n\u001b[0;32m      7\u001b[0m             f\u001b[38;5;241m.\u001b[39mwrite(s\u001b[38;5;241m.\u001b[39mread())\n\u001b[0;32m      8\u001b[0m \u001b[38;5;28;01mfor\u001b[39;00m n \u001b[38;5;129;01min\u001b[39;00m \u001b[38;5;28mrange\u001b[39m(\u001b[38;5;241m20\u001b[39m) :\n\u001b[1;32m----> 9\u001b[0m     get_posts(n)\n\u001b[0;32m     10\u001b[0m     t\u001b[38;5;241m.\u001b[39msleep(\u001b[38;5;241m0.1\u001b[39m)\n",
      "Cell \u001b[1;32mIn[15], line 5\u001b[0m, in \u001b[0;36mget_posts\u001b[1;34m(page)\u001b[0m\n\u001b[0;32m      3\u001b[0m \u001b[38;5;28;01mdef\u001b[39;00m \u001b[38;5;21mget_posts\u001b[39m(page):\n\u001b[0;32m      4\u001b[0m     resource \u001b[38;5;241m=\u001b[39m \u001b[38;5;124mf\u001b[39m\u001b[38;5;124m'\u001b[39m\u001b[38;5;124mhttps://jsonplaceholder.typicode.com/posts/\u001b[39m\u001b[38;5;132;01m{\u001b[39;00mpage\u001b[38;5;132;01m}\u001b[39;00m\u001b[38;5;124m'\u001b[39m\n\u001b[1;32m----> 5\u001b[0m     \u001b[38;5;28;01mwith\u001b[39;00m urllib\u001b[38;5;241m.\u001b[39mrequest\u001b[38;5;241m.\u001b[39murlopen(resource) \u001b[38;5;28;01mas\u001b[39;00m s:\n\u001b[0;32m      6\u001b[0m         \u001b[38;5;28;01mwith\u001b[39;00m \u001b[38;5;28mopen\u001b[39m(\u001b[38;5;124mf\u001b[39m\u001b[38;5;124m'\u001b[39m\u001b[38;5;124mposts_\u001b[39m\u001b[38;5;132;01m{\u001b[39;00mpage\u001b[38;5;132;01m}\u001b[39;00m\u001b[38;5;124m.html\u001b[39m\u001b[38;5;124m'\u001b[39m, \u001b[38;5;124m'\u001b[39m\u001b[38;5;124mwb\u001b[39m\u001b[38;5;124m'\u001b[39m) \u001b[38;5;28;01mas\u001b[39;00m f:\n\u001b[0;32m      7\u001b[0m             f\u001b[38;5;241m.\u001b[39mwrite(s\u001b[38;5;241m.\u001b[39mread())\n",
      "File \u001b[1;32m~\\anaconda3\\Lib\\urllib\\request.py:216\u001b[0m, in \u001b[0;36murlopen\u001b[1;34m(url, data, timeout, cafile, capath, cadefault, context)\u001b[0m\n\u001b[0;32m    214\u001b[0m \u001b[38;5;28;01melse\u001b[39;00m:\n\u001b[0;32m    215\u001b[0m     opener \u001b[38;5;241m=\u001b[39m _opener\n\u001b[1;32m--> 216\u001b[0m \u001b[38;5;28;01mreturn\u001b[39;00m opener\u001b[38;5;241m.\u001b[39mopen(url, data, timeout)\n",
      "File \u001b[1;32m~\\anaconda3\\Lib\\urllib\\request.py:525\u001b[0m, in \u001b[0;36mOpenerDirector.open\u001b[1;34m(self, fullurl, data, timeout)\u001b[0m\n\u001b[0;32m    523\u001b[0m \u001b[38;5;28;01mfor\u001b[39;00m processor \u001b[38;5;129;01min\u001b[39;00m \u001b[38;5;28mself\u001b[39m\u001b[38;5;241m.\u001b[39mprocess_response\u001b[38;5;241m.\u001b[39mget(protocol, []):\n\u001b[0;32m    524\u001b[0m     meth \u001b[38;5;241m=\u001b[39m \u001b[38;5;28mgetattr\u001b[39m(processor, meth_name)\n\u001b[1;32m--> 525\u001b[0m     response \u001b[38;5;241m=\u001b[39m meth(req, response)\n\u001b[0;32m    527\u001b[0m \u001b[38;5;28;01mreturn\u001b[39;00m response\n",
      "File \u001b[1;32m~\\anaconda3\\Lib\\urllib\\request.py:634\u001b[0m, in \u001b[0;36mHTTPErrorProcessor.http_response\u001b[1;34m(self, request, response)\u001b[0m\n\u001b[0;32m    631\u001b[0m \u001b[38;5;66;03m# According to RFC 2616, \"2xx\" code indicates that the client's\u001b[39;00m\n\u001b[0;32m    632\u001b[0m \u001b[38;5;66;03m# request was successfully received, understood, and accepted.\u001b[39;00m\n\u001b[0;32m    633\u001b[0m \u001b[38;5;28;01mif\u001b[39;00m \u001b[38;5;129;01mnot\u001b[39;00m (\u001b[38;5;241m200\u001b[39m \u001b[38;5;241m<\u001b[39m\u001b[38;5;241m=\u001b[39m code \u001b[38;5;241m<\u001b[39m \u001b[38;5;241m300\u001b[39m):\n\u001b[1;32m--> 634\u001b[0m     response \u001b[38;5;241m=\u001b[39m \u001b[38;5;28mself\u001b[39m\u001b[38;5;241m.\u001b[39mparent\u001b[38;5;241m.\u001b[39merror(\n\u001b[0;32m    635\u001b[0m         \u001b[38;5;124m'\u001b[39m\u001b[38;5;124mhttp\u001b[39m\u001b[38;5;124m'\u001b[39m, request, response, code, msg, hdrs)\n\u001b[0;32m    637\u001b[0m \u001b[38;5;28;01mreturn\u001b[39;00m response\n",
      "File \u001b[1;32m~\\anaconda3\\Lib\\urllib\\request.py:563\u001b[0m, in \u001b[0;36mOpenerDirector.error\u001b[1;34m(self, proto, *args)\u001b[0m\n\u001b[0;32m    561\u001b[0m \u001b[38;5;28;01mif\u001b[39;00m http_err:\n\u001b[0;32m    562\u001b[0m     args \u001b[38;5;241m=\u001b[39m (\u001b[38;5;28mdict\u001b[39m, \u001b[38;5;124m'\u001b[39m\u001b[38;5;124mdefault\u001b[39m\u001b[38;5;124m'\u001b[39m, \u001b[38;5;124m'\u001b[39m\u001b[38;5;124mhttp_error_default\u001b[39m\u001b[38;5;124m'\u001b[39m) \u001b[38;5;241m+\u001b[39m orig_args\n\u001b[1;32m--> 563\u001b[0m     \u001b[38;5;28;01mreturn\u001b[39;00m \u001b[38;5;28mself\u001b[39m\u001b[38;5;241m.\u001b[39m_call_chain(\u001b[38;5;241m*\u001b[39margs)\n",
      "File \u001b[1;32m~\\anaconda3\\Lib\\urllib\\request.py:496\u001b[0m, in \u001b[0;36mOpenerDirector._call_chain\u001b[1;34m(self, chain, kind, meth_name, *args)\u001b[0m\n\u001b[0;32m    494\u001b[0m \u001b[38;5;28;01mfor\u001b[39;00m handler \u001b[38;5;129;01min\u001b[39;00m handlers:\n\u001b[0;32m    495\u001b[0m     func \u001b[38;5;241m=\u001b[39m \u001b[38;5;28mgetattr\u001b[39m(handler, meth_name)\n\u001b[1;32m--> 496\u001b[0m     result \u001b[38;5;241m=\u001b[39m func(\u001b[38;5;241m*\u001b[39margs)\n\u001b[0;32m    497\u001b[0m     \u001b[38;5;28;01mif\u001b[39;00m result \u001b[38;5;129;01mis\u001b[39;00m \u001b[38;5;129;01mnot\u001b[39;00m \u001b[38;5;28;01mNone\u001b[39;00m:\n\u001b[0;32m    498\u001b[0m         \u001b[38;5;28;01mreturn\u001b[39;00m result\n",
      "File \u001b[1;32m~\\anaconda3\\Lib\\urllib\\request.py:643\u001b[0m, in \u001b[0;36mHTTPDefaultErrorHandler.http_error_default\u001b[1;34m(self, req, fp, code, msg, hdrs)\u001b[0m\n\u001b[0;32m    642\u001b[0m \u001b[38;5;28;01mdef\u001b[39;00m \u001b[38;5;21mhttp_error_default\u001b[39m(\u001b[38;5;28mself\u001b[39m, req, fp, code, msg, hdrs):\n\u001b[1;32m--> 643\u001b[0m     \u001b[38;5;28;01mraise\u001b[39;00m HTTPError(req\u001b[38;5;241m.\u001b[39mfull_url, code, msg, hdrs, fp)\n",
      "\u001b[1;31mHTTPError\u001b[0m: HTTP Error 404: Not Found"
     ]
    }
   ],
   "source": [
    "import urllib.request\n",
    "import time as t\n",
    "def get_posts(page):\n",
    "    resource = f'https://jsonplaceholder.typicode.com/posts/{page}'\n",
    "    with urllib.request.urlopen(resource) as s:\n",
    "        with open(f'posts_{page}.html', 'wb') as f:\n",
    "            f.write(s.read())\n",
    "for n in range(20) :\n",
    "    get_posts(n)\n",
    "    t.sleep(0.1)  "
   ]
  },
  {
   "cell_type": "code",
   "execution_count": null,
   "id": "fdd947ce-593c-485d-82b3-6ac89439529c",
   "metadata": {},
   "outputs": [],
   "source": []
  }
 ],
 "metadata": {
  "kernelspec": {
   "display_name": "Python 3 (ipykernel)",
   "language": "python",
   "name": "python3"
  },
  "language_info": {
   "codemirror_mode": {
    "name": "ipython",
    "version": 3
   },
   "file_extension": ".py",
   "mimetype": "text/x-python",
   "name": "python",
   "nbconvert_exporter": "python",
   "pygments_lexer": "ipython3",
   "version": "3.11.5"
  },
  "toc-autonumbering": true
 },
 "nbformat": 4,
 "nbformat_minor": 5
}
