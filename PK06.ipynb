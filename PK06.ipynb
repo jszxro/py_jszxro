{
 "cells": [
  {
   "cell_type": "markdown",
   "id": "a091f0e0-81b3-4b5c-b826-2349e01c7306",
   "metadata": {
    "tags": []
   },
   "source": [
    "## 모듈 만들기"
   ]
  },
  {
   "cell_type": "code",
   "execution_count": 3,
   "id": "95462d39-9b78-4cb6-ac58-36b59d44a6d2",
   "metadata": {
    "tags": []
   },
   "outputs": [],
   "source": [
    "# 모듈 만들기\n",
    "# def add(a,b):\n",
    "#     return a+b\n",
    "# def sub(a,b):\n",
    "#     return a-b"
   ]
  },
  {
   "cell_type": "code",
   "execution_count": 5,
   "id": "e51cd28a-b66b-4c50-b887-b7f39896246a",
   "metadata": {
    "tags": []
   },
   "outputs": [
    {
     "name": "stdout",
     "output_type": "stream",
     "text": [
      "33\n",
      "11\n"
     ]
    }
   ],
   "source": [
    "import mod1\n",
    "print(mod1.add(11,22))\n",
    "print(mod1.sub(33,22))"
   ]
  },
  {
   "cell_type": "code",
   "execution_count": 6,
   "id": "8a6d1cf4-2e09-4191-8fd4-0c88450058b2",
   "metadata": {
    "tags": []
   },
   "outputs": [],
   "source": [
    "with open(\"mod2.py\", \"w\") as f :\n",
    "    data = \"\"\"def mul(a,b):\n",
    "    return a*b\n",
    "def div(a,b):\n",
    "    return a/b\n",
    "    \"\"\"\n",
    "    f.write(data)"
   ]
  },
  {
   "cell_type": "code",
   "execution_count": 7,
   "id": "adb814b8-10f8-413c-a7cb-749580370f75",
   "metadata": {
    "tags": []
   },
   "outputs": [
    {
     "data": {
      "text/plain": [
       "12"
      ]
     },
     "execution_count": 7,
     "metadata": {},
     "output_type": "execute_result"
    }
   ],
   "source": [
    "import mod2\n",
    "mod2.mul(3,4)"
   ]
  },
  {
   "cell_type": "code",
   "execution_count": 8,
   "id": "51b7857f-d702-48e7-9127-c9d46165f108",
   "metadata": {
    "tags": []
   },
   "outputs": [],
   "source": [
    "# import mod1 as m1, mod2 as m2"
   ]
  },
  {
   "cell_type": "code",
   "execution_count": 9,
   "id": "e6e3d754-c094-4319-9005-ab739581701e",
   "metadata": {
    "tags": []
   },
   "outputs": [
    {
     "name": "stdout",
     "output_type": "stream",
     "text": [
      "77\n"
     ]
    }
   ],
   "source": [
    "from mod1 import add, sub\n",
    "print(add(33,44))"
   ]
  },
  {
   "cell_type": "code",
   "execution_count": 10,
   "id": "f99ee766-de54-4d41-b063-26de76a2feb3",
   "metadata": {
    "tags": []
   },
   "outputs": [],
   "source": [
    "# from mod2 import"
   ]
  },
  {
   "cell_type": "markdown",
   "id": "42b261ef-948e-4988-8283-c5aabbeece94",
   "metadata": {
    "tags": []
   },
   "source": [
    "## `__main__`의 의미"
   ]
  },
  {
   "cell_type": "code",
   "execution_count": 16,
   "id": "5d7142dc-d883-4ca9-bb57-43a0519b94b5",
   "metadata": {},
   "outputs": [],
   "source": [
    "with open('mod1.py', 'a') as f:\n",
    "    test = \"\"\"\\nprint(add(1,4))\\nprint(sub(4,2))\"\"\"\n",
    "    f.write(text)"
   ]
  },
  {
   "cell_type": "code",
   "execution_count": 18,
   "id": "a20dc207-0de9-4e5d-b6af-a374bfc97a47",
   "metadata": {},
   "outputs": [
    {
     "name": "stdout",
     "output_type": "stream",
     "text": [
      "Microsoft Windows [Version 10.0.26100.2894]\n",
      "(c) Microsoft Corporation. All rights reserved.\n",
      "\n",
      "C:\\Users\\jszxr\\MyJupyter\\code_PK>python mod1.py\n",
      "5\n",
      "2\n",
      "\n",
      "C:\\Users\\jszxr\\MyJupyter\\code_PK>"
     ]
    }
   ],
   "source": [
    "%%cmd\n",
    "# %%bash: 우분투\n",
    "python mod1.py"
   ]
  },
  {
   "cell_type": "code",
   "execution_count": 2,
   "id": "2c6baf2e-ce61-4ffc-8da1-8ef644929af2",
   "metadata": {
    "tags": []
   },
   "outputs": [
    {
     "name": "stdout",
     "output_type": "stream",
     "text": [
      "mod1\n"
     ]
    },
    {
     "data": {
      "text/plain": [
       "['__builtins__',\n",
       " '__cached__',\n",
       " '__doc__',\n",
       " '__file__',\n",
       " '__loader__',\n",
       " '__name__',\n",
       " '__package__',\n",
       " '__spec__',\n",
       " 'add',\n",
       " 'sub']"
      ]
     },
     "execution_count": 2,
     "metadata": {},
     "output_type": "execute_result"
    }
   ],
   "source": [
    "import mod1\n",
    "print(mod1.__name__)\n",
    "dir(mod1)"
   ]
  },
  {
   "cell_type": "code",
   "execution_count": 3,
   "id": "9cd9e43e-e037-42c5-a38e-af4d4f917b4d",
   "metadata": {
    "tags": []
   },
   "outputs": [],
   "source": [
    "with open('mod1.py', 'a') as f:\n",
    "    content = '\\nprint(__name__)'\n",
    "    f.write(content)"
   ]
  },
  {
   "cell_type": "code",
   "execution_count": 12,
   "id": "bbddef5b-3d81-4c09-a386-ee3ef93195b8",
   "metadata": {},
   "outputs": [],
   "source": [
    "# import requests\n",
    "# url = \"https://m.stock.naver.com/domestic/stock/005930/total\"\n",
    "# res = requests.get(url).text"
   ]
  },
  {
   "cell_type": "code",
   "execution_count": 13,
   "id": "b28b24a5-2417-43c8-8457-342385b2186c",
   "metadata": {
    "tags": []
   },
   "outputs": [],
   "source": [
    "# print(res)"
   ]
  },
  {
   "cell_type": "code",
   "execution_count": 16,
   "id": "32673329-663c-49b2-9399-2ffd2a18e9a8",
   "metadata": {
    "tags": []
   },
   "outputs": [],
   "source": [
    "with open('mod3.py', 'w') as f:\n",
    "    text = \"\"\"PI = 3.141592\\n\\nclass Math:\\n\\tdef solve(self, r):\\n\\t\\treturn PI * (r**2)\\n\\ndef add(a,b):\\n\\treturn a+b\"\"\"\n",
    "    f.write(text)"
   ]
  },
  {
   "cell_type": "code",
   "execution_count": 1,
   "id": "7f3b9265-4737-4668-80e1-2b5ef5ff87e3",
   "metadata": {
    "tags": []
   },
   "outputs": [
    {
     "ename": "ModuleNotFoundError",
     "evalue": "No module named 'mod3'",
     "output_type": "error",
     "traceback": [
      "\u001b[1;31m---------------------------------------------------------------------------\u001b[0m",
      "\u001b[1;31mModuleNotFoundError\u001b[0m                       Traceback (most recent call last)",
      "Cell \u001b[1;32mIn[1], line 1\u001b[0m\n\u001b[1;32m----> 1\u001b[0m \u001b[38;5;28;01mimport\u001b[39;00m \u001b[38;5;21;01mmod3\u001b[39;00m\n\u001b[0;32m      2\u001b[0m \u001b[38;5;66;03m# 변수\u001b[39;00m\n\u001b[0;32m      3\u001b[0m \u001b[38;5;28mprint\u001b[39m(mod3\u001b[38;5;241m.\u001b[39mPI)\n",
      "\u001b[1;31mModuleNotFoundError\u001b[0m: No module named 'mod3'"
     ]
    }
   ],
   "source": [
    "import mod3\n",
    "# 변수\n",
    "print(mod3.PI)\n",
    "\n",
    "# class\n",
    "a = mod3.Math()\n",
    "print(a.solve(10))\n",
    "\n",
    "#함수\n",
    "print(mod3.add(mod3.PI, 4.4))\n",
    "\n"
   ]
  },
  {
   "cell_type": "markdown",
   "id": "d806358e-43a6-4ed7-be3d-d8cbf1923d4f",
   "metadata": {},
   "source": [
    "## 다른 디렉토리에 있는 모듈 불러오는 방법"
   ]
  },
  {
   "cell_type": "code",
   "execution_count": 2,
   "id": "e61a6297-4f9c-4995-8ee6-016f7a2cc038",
   "metadata": {
    "tags": []
   },
   "outputs": [
    {
     "data": {
      "text/plain": [
       "['C:\\\\Users\\\\jszxr\\\\MyJupyter\\\\code_PK',\n",
       " 'C:\\\\Users\\\\jszxr\\\\anaconda3\\\\python311.zip',\n",
       " 'C:\\\\Users\\\\jszxr\\\\anaconda3\\\\DLLs',\n",
       " 'C:\\\\Users\\\\jszxr\\\\anaconda3\\\\Lib',\n",
       " 'C:\\\\Users\\\\jszxr\\\\anaconda3',\n",
       " '',\n",
       " 'C:\\\\Users\\\\jszxr\\\\anaconda3\\\\Lib\\\\site-packages',\n",
       " 'C:\\\\Users\\\\jszxr\\\\anaconda3\\\\Lib\\\\site-packages\\\\win32',\n",
       " 'C:\\\\Users\\\\jszxr\\\\anaconda3\\\\Lib\\\\site-packages\\\\win32\\\\lib',\n",
       " 'C:\\\\Users\\\\jszxr\\\\anaconda3\\\\Lib\\\\site-packages\\\\Pythonwin']"
      ]
     },
     "execution_count": 2,
     "metadata": {},
     "output_type": "execute_result"
    }
   ],
   "source": [
    "import sys\n",
    "sys.path\n"
   ]
  },
  {
   "cell_type": "code",
   "execution_count": 4,
   "id": "6022a09b-8b11-406e-bc52-6827a110b4cc",
   "metadata": {
    "tags": []
   },
   "outputs": [
    {
     "data": {
      "text/plain": [
       "['C:\\\\Users\\\\jszxr\\\\MyJupyter\\\\code_PK',\n",
       " 'C:\\\\Users\\\\jszxr\\\\anaconda3\\\\python311.zip',\n",
       " 'C:\\\\Users\\\\jszxr\\\\anaconda3\\\\DLLs',\n",
       " 'C:\\\\Users\\\\jszxr\\\\anaconda3\\\\Lib',\n",
       " 'C:\\\\Users\\\\jszxr\\\\anaconda3',\n",
       " '',\n",
       " 'C:\\\\Users\\\\jszxr\\\\anaconda3\\\\Lib\\\\site-packages',\n",
       " 'C:\\\\Users\\\\jszxr\\\\anaconda3\\\\Lib\\\\site-packages\\\\win32',\n",
       " 'C:\\\\Users\\\\jszxr\\\\anaconda3\\\\Lib\\\\site-packages\\\\win32\\\\lib',\n",
       " 'C:\\\\Users\\\\jszxr\\\\anaconda3\\\\Lib\\\\site-packages\\\\Pythonwin',\n",
       " 'C:\\\\Users\\\\jszxr\\\\MyJupyter\\\\code_PK\\\\mymod']"
      ]
     },
     "execution_count": 4,
     "metadata": {},
     "output_type": "execute_result"
    }
   ],
   "source": [
    "#초기화하면 사라짐\n",
    "sys.path.append('C:\\\\Users\\\\jszxr\\\\MyJupyter\\\\code_PK\\\\mymod')\n",
    "sys.path"
   ]
  },
  {
   "cell_type": "code",
   "execution_count": 2,
   "id": "7a0e9da2-dc8f-406e-aa50-32495005f284",
   "metadata": {
    "tags": []
   },
   "outputs": [
    {
     "data": {
      "text/plain": [
       "['C:\\\\Users\\\\jszxr\\\\MyJupyter\\\\code_PK',\n",
       " 'C:\\\\Users\\\\jszxr\\\\anaconda3\\\\python311.zip',\n",
       " 'C:\\\\Users\\\\jszxr\\\\anaconda3\\\\DLLs',\n",
       " 'C:\\\\Users\\\\jszxr\\\\anaconda3\\\\Lib',\n",
       " 'C:\\\\Users\\\\jszxr\\\\anaconda3',\n",
       " '',\n",
       " 'C:\\\\Users\\\\jszxr\\\\anaconda3\\\\Lib\\\\site-packages',\n",
       " 'C:\\\\Users\\\\jszxr\\\\anaconda3\\\\Lib\\\\site-packages\\\\win32',\n",
       " 'C:\\\\Users\\\\jszxr\\\\anaconda3\\\\Lib\\\\site-packages\\\\win32\\\\lib',\n",
       " 'C:\\\\Users\\\\jszxr\\\\anaconda3\\\\Lib\\\\site-packages\\\\Pythonwin']"
      ]
     },
     "execution_count": 2,
     "metadata": {},
     "output_type": "execute_result"
    }
   ],
   "source": [
    "import sys\n",
    "sys.path"
   ]
  },
  {
   "cell_type": "code",
   "execution_count": 3,
   "id": "d6f4e7fd-42db-4156-9656-5260fec98576",
   "metadata": {
    "tags": []
   },
   "outputs": [
    {
     "name": "stdout",
     "output_type": "stream",
     "text": [
      "Requirement already satisfied: python-dotenv in c:\\users\\jszxr\\anaconda3\\lib\\site-packages (0.21.0)"
     ]
    },
    {
     "name": "stderr",
     "output_type": "stream",
     "text": [
      "\n",
      "[notice] A new release of pip is available: 25.0 -> 25.0.1\n",
      "[notice] To update, run: python.exe -m pip install --upgrade pip\n"
     ]
    },
    {
     "name": "stdout",
     "output_type": "stream",
     "text": [
      "\n"
     ]
    }
   ],
   "source": [
    "!pip install python-dotenv"
   ]
  },
  {
   "cell_type": "code",
   "execution_count": 5,
   "id": "a9ea1c1e-dd02-4881-9cbc-db5e9d699326",
   "metadata": {
    "tags": []
   },
   "outputs": [
    {
     "name": "stdout",
     "output_type": "stream",
     "text": [
      "Requirement already satisfied: pip in c:\\users\\jszxr\\anaconda3\\lib\\site-packages (25.0)\n",
      "Collecting pip\n",
      "  Downloading pip-25.0.1-py3-none-any.whl.metadata (3.7 kB)\n",
      "Downloading pip-25.0.1-py3-none-any.whl (1.8 MB)\n",
      "   ---------------------------------------- 0.0/1.8 MB ? eta -:--:--\n",
      "   ---------------------------------------- 1.8/1.8 MB 16.8 MB/s eta 0:00:00\n",
      "Installing collected packages: pip\n",
      "  Attempting uninstall: pip\n",
      "    Found existing installation: pip 25.0\n",
      "    Uninstalling pip-25.0:\n",
      "      Successfully uninstalled pip-25.0\n",
      "Successfully installed pip-25.0.1\n"
     ]
    }
   ],
   "source": [
    "!python.exe -m pip install --upgrade pip"
   ]
  },
  {
   "cell_type": "code",
   "execution_count": 9,
   "id": "281b2585-17b4-4165-98ce-2242cadcf106",
   "metadata": {
    "tags": []
   },
   "outputs": [
    {
     "name": "stdout",
     "output_type": "stream",
     "text": [
      "myphone01077777777\n",
      "https://www.google.com\n",
      "이게 될까? 모르겠어요.!\n"
     ]
    }
   ],
   "source": [
    "from dotenv import load_dotenv\n",
    "import os\n",
    "\n",
    "# .env 파일 로드\n",
    "load_dotenv()\n",
    "\n",
    "SKEY = os.getenv(\"SECRET_KEY\")\n",
    "print(SKEY)\n",
    "DBUG = os.getenv(\"DEBUG\")\n",
    "print(DBUG)\n",
    "TEST = os.getenv(\"TEST\")\n",
    "print(TEST)"
   ]
  },
  {
   "cell_type": "code",
   "execution_count": 16,
   "id": "63b47e4c-1461-4f14-ac39-6e79072e9417",
   "metadata": {
    "tags": []
   },
   "outputs": [
    {
     "name": "stdout",
     "output_type": "stream",
     "text": [
      "[속보]국민의힘 윤리위, 尹 징계 않기로\n",
      "국민의힘 윤리위, 尹 징계 않기로 ※CBS노컷뉴스는 여러분의 제보로 함께 세상을 바꿉니다. 각종 비리와 부당대우, 사건사고와 미담 등 모든 얘깃거리를 알려주세요.이메일 : 카카오톡 : @노컷뉴스사이트 : https... \n",
      "https://www.nocutnews.co.kr/news/6292989?utm_source=naver&utm_medium=article&utm_campaign=20250213035336\n",
      "[속보] KT, 올해 2500억 규모 자사주 소각\n",
      "KT는 올해 약 2500억원 규모의 자사주를 소각한다고 13일 밝혔다. 소각할 주식은 보통주 553만7099주다. KT는 지난해 11월 발표한 기업가치 제고 계획(밸류업 프로그램)을 발표하며 연결 자기자본이익률(ROE) 목표를 9... \n",
      "https://www.newsis.com/view/NISX20250213_0003064022\n",
      "[속보]박지원, 홍장원 인사청탁 부정 “청탁자는 주영대사 역임 前 간부...\n",
      "박지원 더불어민주당 의원이 13일 “홍장원 전 국가정보원 1차장은 정보위 회의에서 첫 대면했다”라면서 홍 전 차장이 자신에게 인사 청탁을 했다는 의혹을 전면 부인했다. 박 의원은 이날 자신의 페이스북에 글을 올려... \n",
      "https://www.munhwa.com/news/view.html?no=2025021301039910289018\n",
      "[속보] '이재명 습격' 60대 남성 징역 15년 확정\n",
      "지난해 1월 이재명 더불어민주당 대표를 흉기로 살해하려고 시도한 60대 남성에게 징역 15년이 확정됐다. 13일 대법원 2부(오경미 대법관)는 살인미수와 공직선거법 위반 혐의로 기소된 김모(68)씨에게 징역 15년을... \n",
      "https://www.hankyung.com/article/2025021327947\n",
      "[속보] ‘이재명 습격’ 60대 남성 징역 15년 확정\n",
      "이재명 더불어민주당 대표를 흉기로 살해하려고 시도했던 60대 남성에게 징역 15년이 확정됐다. 13일 법조계에 따르면 대법원 2부(주심 오경미 대법관)는 이날 살인미수와 공직선거법 위반 혐의로 기소된 김모(68) 씨에게... \n",
      "https://www.mk.co.kr/article/11239884\n",
      "{\n",
      "\t\"lastBuildDate\":\"Thu, 13 Feb 2025 16:23:35 +0900\",\n",
      "\t\"total\":2094105,\n",
      "\t\"start\":1,\n",
      "\t\"display\":5,\n",
      "\t\"items\":[\n",
      "\t\t{\n",
      "\t\t\t\"title\":\"[<b>속보<\\/b>]국민의힘 윤리위, 尹 징계 않기로\",\n",
      "\t\t\t\"originallink\":\"https:\\/\\/www.nocutnews.co.kr\\/news\\/6292989?utm_source=naver&utm_medium=article&utm_campaign=20250213035336\",\n",
      "\t\t\t\"link\":\"https:\\/\\/n.news.naver.com\\/mnews\\/article\\/079\\/0003991802?sid=100\",\n",
      "\t\t\t\"description\":\"국민의힘 윤리위, 尹 징계 않기로 ※CBS노컷뉴스는 여러분의 제보로 함께 세상을 바꿉니다. 각종 비리와 부당대우, 사건사고와 미담 등 모든 얘깃거리를 알려주세요.이메일 : 카카오톡 : @노컷뉴스사이트 : https... \",\n",
      "\t\t\t\"pubDate\":\"Thu, 13 Feb 2025 15:54:00 +0900\"\n",
      "\t\t},\n",
      "\t\t{\n",
      "\t\t\t\"title\":\"[<b>속보<\\/b>] KT, 올해 2500억 규모 자사주 소각\",\n",
      "\t\t\t\"originallink\":\"https:\\/\\/www.newsis.com\\/view\\/NISX20250213_0003064022\",\n",
      "\t\t\t\"link\":\"https:\\/\\/n.news.naver.com\\/mnews\\/article\\/003\\/0013065187?sid=105\",\n",
      "\t\t\t\"description\":\"KT는 올해 약 2500억원 규모의 자사주를 소각한다고 13일 밝혔다. 소각할 주식은 보통주 553만7099주다. KT는 지난해 11월 발표한 기업가치 제고 계획(밸류업 프로그램)을 발표하며 연결 자기자본이익률(ROE) 목표를 9... \",\n",
      "\t\t\t\"pubDate\":\"Thu, 13 Feb 2025 13:50:00 +0900\"\n",
      "\t\t},\n",
      "\t\t{\n",
      "\t\t\t\"title\":\"[<b>속보<\\/b>]박지원, 홍장원 인사청탁 부정 “청탁자는 주영대사 역임 前 간부...\",\n",
      "\t\t\t\"originallink\":\"https:\\/\\/www.munhwa.com\\/news\\/view.html?no=2025021301039910289018\",\n",
      "\t\t\t\"link\":\"https:\\/\\/n.news.naver.com\\/mnews\\/article\\/021\\/0002689986?sid=100\",\n",
      "\t\t\t\"description\":\"박지원 더불어민주당 의원이 13일 “홍장원 전 국가정보원 1차장은 정보위 회의에서 첫 대면했다”라면서 홍 전 차장이 자신에게 인사 청탁을 했다는 의혹을 전면 부인했다. 박 의원은 이날 자신의 페이스북에 글을 올려... \",\n",
      "\t\t\t\"pubDate\":\"Thu, 13 Feb 2025 15:55:00 +0900\"\n",
      "\t\t},\n",
      "\t\t{\n",
      "\t\t\t\"title\":\"[<b>속보<\\/b>] '이재명 습격' 60대 남성 징역 15년 확정\",\n",
      "\t\t\t\"originallink\":\"https:\\/\\/www.hankyung.com\\/article\\/2025021327947\",\n",
      "\t\t\t\"link\":\"https:\\/\\/n.news.naver.com\\/mnews\\/article\\/015\\/0005093692?sid=102\",\n",
      "\t\t\t\"description\":\"지난해 1월 이재명 더불어민주당 대표를 흉기로 살해하려고 시도한 60대 남성에게 징역 15년이 확정됐다. 13일 대법원 2부(오경미 대법관)는 살인미수와 공직선거법 위반 혐의로 기소된 김모(68)씨에게 징역 15년을... \",\n",
      "\t\t\t\"pubDate\":\"Thu, 13 Feb 2025 10:26:00 +0900\"\n",
      "\t\t},\n",
      "\t\t{\n",
      "\t\t\t\"title\":\"[<b>속보<\\/b>] ‘이재명 습격’ 60대 남성 징역 15년 확정\",\n",
      "\t\t\t\"originallink\":\"https:\\/\\/www.mk.co.kr\\/article\\/11239884\",\n",
      "\t\t\t\"link\":\"https:\\/\\/n.news.naver.com\\/mnews\\/article\\/009\\/0005443086?sid=100\",\n",
      "\t\t\t\"description\":\"이재명 더불어민주당 대표를 흉기로 살해하려고 시도했던 60대 남성에게 징역 15년이 확정됐다. 13일 법조계에 따르면 대법원 2부(주심 오경미 대법관)는 이날 살인미수와 공직선거법 위반 혐의로 기소된 김모(68) 씨에게... \",\n",
      "\t\t\t\"pubDate\":\"Thu, 13 Feb 2025 10:27:00 +0900\"\n",
      "\t\t}\n",
      "\t]\n",
      "}\n"
     ]
    }
   ],
   "source": [
    "# 네이버 검색 API 예제 - 블로그 검색\n",
    "import os\n",
    "import sys\n",
    "import json\n",
    "import urllib.request\n",
    "from dotenv import load_dotenv\n",
    "\n",
    "load_dotenv()\n",
    "client_id = os.environ.get(\"MY_ID\")\n",
    "client_secret = os.environ.get(\"MY_SECRET\")\n",
    "\n",
    "encText = urllib.parse.quote(\"속보\")\n",
    "url = \"https://openapi.naver.com/v1/search/news.json?query=\" + encText + '&display=5&start=1&sort=sim'\n",
    "# url = \"https://openapi.naver.com/v1/search/blog.xml?query=\" + encText # XML 결과\n",
    "request = urllib.request.Request(url)\n",
    "request.add_header(\"X-Naver-Client-Id\",client_id)\n",
    "request.add_header(\"X-Naver-Client-Secret\",client_secret)\n",
    "response = urllib.request.urlopen(request)\n",
    "rescode = response.getcode()\n",
    "if(rescode==200):\n",
    "    response_body = response.read()\n",
    "    result = response_body.decode('utf-8')\n",
    "    data = json.loads(result)\n",
    "    ldata = data['items']\n",
    "    for n in ldata:\n",
    "        print(n['title'].replace('<b>', '').replace('</b>',''))\n",
    "        print(n['description'])\n",
    "        print(n['originallink'])\n",
    "    print(response_body.decode('utf-8'))\n",
    "else:\n",
    "    print(\"Error Code:\" + rescode)"
   ]
  },
  {
   "cell_type": "code",
   "execution_count": 5,
   "id": "e9c46f9f-110a-4b15-ac81-546777cdd584",
   "metadata": {},
   "outputs": [
    {
     "name": "stdin",
     "output_type": "stream",
     "text": [
      "단어를 입력하세요:  파이썬\n"
     ]
    },
    {
     "name": "stdout",
     "output_type": "stream",
     "text": [
      "파이썬는 회문이 아닙니다.\n"
     ]
    }
   ],
   "source": [
    "def git_PK_2(word):\n",
    "    return word == word[::-1]\n",
    "word = input('단어를 입력하세요: ')\n",
    "\n",
    "if git_PK_2(word):\n",
    "    print(f'{word}(은)는 회문입니다.')\n",
    "else:\n",
    "    print(f'{word}(은)는 회문이 아닙니다.')"
   ]
  },
  {
   "cell_type": "code",
   "execution_count": 7,
   "id": "d99a4050-27c8-425c-a182-4c99c380cf10",
   "metadata": {
    "tags": []
   },
   "outputs": [
    {
     "name": "stdin",
     "output_type": "stream",
     "text": [
      " 1 3 2 5 9 7 8\n"
     ]
    },
    {
     "name": "stdout",
     "output_type": "stream",
     "text": [
      "[2, 8]\n",
      "[1, 3, 5, 9, 7]\n"
     ]
    }
   ],
   "source": [
    "lst = list(map(int, input().split()))\n",
    "lst1 = []\n",
    "lst2 = []\n",
    "for i in lst :\n",
    "    if i % 2 == 0 :\n",
    "        lst1.append(i)\n",
    "    else:\n",
    "        lst2.append(i)\n",
    "print(lst1)\n",
    "print(lst2)"
   ]
  },
  {
   "cell_type": "code",
   "execution_count": 9,
   "id": "aecd1cd3-632c-4f6d-becb-d2e3bebf7c85",
   "metadata": {
    "tags": []
   },
   "outputs": [
    {
     "name": "stdin",
     "output_type": "stream",
     "text": [
      " I Love you koo\n"
     ]
    },
    {
     "name": "stdout",
     "output_type": "stream",
     "text": [
      "Love\n"
     ]
    }
   ],
   "source": [
    "lst0 = input().split()\n",
    "word1 = max(lst0, key=len)\n",
    "print(word1)"
   ]
  },
  {
   "cell_type": "code",
   "execution_count": 10,
   "id": "8baf5e3c-4dad-4c28-9ef0-25248772eff5",
   "metadata": {
    "tags": []
   },
   "outputs": [
    {
     "name": "stdout",
     "output_type": "stream",
     "text": [
      "Collecting qrcode\n",
      "  Downloading qrcode-8.0-py3-none-any.whl.metadata (17 kB)\n",
      "Requirement already satisfied: colorama in c:\\users\\jszxr\\anaconda3\\lib\\site-packages (from qrcode) (0.4.6)\n",
      "Downloading qrcode-8.0-py3-none-any.whl (45 kB)\n",
      "Installing collected packages: qrcode\n",
      "Successfully installed qrcode-8.0\n"
     ]
    }
   ],
   "source": [
    "!pip install qrcode"
   ]
  },
  {
   "cell_type": "code",
   "execution_count": 11,
   "id": "0d4a44c6-0f98-41b5-90a6-26ba2e046888",
   "metadata": {
    "tags": []
   },
   "outputs": [],
   "source": [
    "import qrcode"
   ]
  },
  {
   "cell_type": "code",
   "execution_count": 16,
   "id": "631094de-2a91-4d99-8ec3-ed2314af7c6b",
   "metadata": {
    "tags": []
   },
   "outputs": [],
   "source": [
    "def qrcode_maker(text, filename='young.png'):\n",
    "    qr = qrcode.make(text)\n",
    "    qr.save(filename)\n",
    "\n",
    "qrcode_maker('')"
   ]
  },
  {
   "cell_type": "code",
   "execution_count": 18,
   "id": "819a2684-d02c-4ac4-b199-47a38ba87162",
   "metadata": {},
   "outputs": [
    {
     "data": {
      "text/plain": [
       "'img'"
      ]
     },
     "metadata": {},
     "output_type": "display_data"
    }
   ],
   "source": [
    "from IPython.display import display\n",
    "from PIL import Image\n",
    "\n",
    "image_path = 'qr.png'\n",
    "img = Image.open(image_path)\n",
    "\n",
    "display('img')"
   ]
  },
  {
   "cell_type": "code",
   "execution_count": 40,
   "id": "059eddfd-dad3-406c-bebd-71535adfa287",
   "metadata": {
    "tags": []
   },
   "outputs": [
    {
     "name": "stdout",
     "output_type": "stream",
     "text": [
      "Requirement already satisfied: konlpy in c:\\users\\jszxr\\anaconda3\\lib\\site-packages (0.6.0)\n",
      "Requirement already satisfied: JPype1>=0.7.0 in c:\\users\\jszxr\\anaconda3\\lib\\site-packages (from konlpy) (1.5.0)\n",
      "Requirement already satisfied: lxml>=4.1.0 in c:\\users\\jszxr\\anaconda3\\lib\\site-packages (from konlpy) (4.9.3)\n",
      "Requirement already satisfied: numpy>=1.6 in c:\\users\\jszxr\\anaconda3\\lib\\site-packages (from konlpy) (1.25.2)\n",
      "Requirement already satisfied: packaging in c:\\users\\jszxr\\anaconda3\\lib\\site-packages (from JPype1>=0.7.0->konlpy) (23.1)\n"
     ]
    }
   ],
   "source": [
    "!pip install konlpy"
   ]
  },
  {
   "cell_type": "code",
   "execution_count": 42,
   "id": "923e4755-8e47-48f3-b592-faa6e315f4d8",
   "metadata": {
    "tags": []
   },
   "outputs": [],
   "source": [
    "# from konlpy.tag import Okt\n",
    "\n",
    "# okt = Okt()\n",
    "\n",
    "# positive_words = [\"좋아\", \"행복\", \"멋져\", \"최고\", \"사랑해\", \"사랑\",\"기쁘다\", \"신난다\"]\n",
    "# negative_words = [\"싫어\", \"화나\", \"짜증\", \"별로\", \"나빠\", \"우울\", \"지루하다\", \"답답하다\"]\n",
    "\n",
    "# a1 = input('기분을 한 문장으로 입력하세요: ')\n",
    "# positive = 0\n",
    "# negative = 0\n",
    "\n",
    "# words = okt.morphs(a1)\n",
    "\n",
    "# for word in a1 :\n",
    "#     if word in positive_words :\n",
    "#         positive+=1\n",
    "        \n",
    "# for words in a1 :\n",
    "#     if words in negative_words :\n",
    "#         negative+=1\n",
    "        \n",
    "# if positive > negative :\n",
    "#     print('기분이 좋아보이네요.')\n",
    "# elif positive < negative :\n",
    "#     print('기분이 나빠보이네요.')\n",
    "# else :\n",
    "#     print('평범한 하루네요.')"
   ]
  },
  {
   "cell_type": "code",
   "execution_count": 51,
   "id": "a13baf60-1616-4832-906c-3586dd56b874",
   "metadata": {
    "tags": []
   },
   "outputs": [
    {
     "name": "stdin",
     "output_type": "stream",
     "text": [
      "문장을 소문자로 입력하시오:  hi my friend\n"
     ]
    },
    {
     "name": "stdout",
     "output_type": "stream",
     "text": [
      "Hi My Friend.\n"
     ]
    }
   ],
   "source": [
    "u = input('문장을 소문자로 입력하시오: ').split()\n",
    "lst = []\n",
    "for word in u:\n",
    "    lst.append(word.capitalize())\n",
    "print(\" \".join(lst) + \".\")"
   ]
  },
  {
   "cell_type": "code",
   "execution_count": 7,
   "id": "48efc242-98b6-4962-8f64-0e80beb63c04",
   "metadata": {},
   "outputs": [],
   "source": [
    "import json\n",
    "import os\n",
    "from dotenv import load_dotenv\n",
    "import requests\n",
    "\n",
    "load_dotenv()\n",
    "\n",
    "MKEY = os.getenv(\"MOVIE_KEY\")"
   ]
  },
  {
   "cell_type": "code",
   "execution_count": 9,
   "id": "73687341-cdfc-4453-8f46-86a652a520cb",
   "metadata": {
    "tags": []
   },
   "outputs": [
    {
     "name": "stdout",
     "output_type": "stream",
     "text": [
      "{'boxOfficeResult': {'boxofficeType': '주말 박스오피스', 'showRange': '20250207~20250209', 'yearWeekTime': '202506', 'weeklyBoxOfficeList': [{'rnum': '1', 'rank': '1', 'rankInten': '0', 'rankOldAndNew': 'OLD', 'movieCd': '20233006', 'movieNm': '히트맨2', 'openDt': '2025-01-22', 'salesAmt': '1930422960', 'salesShare': '27.8', 'salesInten': '-2169209720', 'salesChange': '-52.9', 'salesAcc': '21811983140', 'audiCnt': '201550', 'audiInten': '-249193', 'audiChange': '-55.3', 'audiAcc': '2316090', 'scrnCnt': '1142', 'showCnt': '12032'}, {'rnum': '2', 'rank': '2', 'rankInten': '1', 'rankOldAndNew': 'OLD', 'movieCd': '20223819', 'movieNm': '말할 수 없는 비밀', 'openDt': '2025-01-27', 'salesAmt': '1357842140', 'salesShare': '19.6', 'salesInten': '-146590420', 'salesChange': '-9.7', 'salesAcc': '5482453140', 'audiCnt': '138241', 'audiInten': '-22620', 'audiChange': '-14.1', 'audiAcc': '574482', 'scrnCnt': '986', 'showCnt': '9178'}, {'rnum': '3', 'rank': '3', 'rankInten': '0', 'rankOldAndNew': 'NEW', 'movieCd': '20216476', 'movieNm': '브로큰', 'openDt': '2025-02-05', 'salesAmt': '902966000', 'salesShare': '13.0', 'salesInten': '902966000', 'salesChange': '100.0', 'salesAcc': '1497145820', 'audiCnt': '94265', 'audiInten': '94265', 'audiChange': '100.0', 'audiAcc': '161000', 'scrnCnt': '818', 'showCnt': '7940'}, {'rnum': '4', 'rank': '4', 'rankInten': '-2', 'rankOldAndNew': 'OLD', 'movieCd': '20247450', 'movieNm': '검은 수녀들', 'openDt': '2025-01-24', 'salesAmt': '813703960', 'salesShare': '11.7', 'salesInten': '-1461402900', 'salesChange': '-64.2', 'salesAcc': '15471405880', 'audiCnt': '83538', 'audiInten': '-160348', 'audiChange': '-65.7', 'audiAcc': '1600308', 'scrnCnt': '840', 'showCnt': '7326'}, {'rnum': '5', 'rank': '5', 'rankInten': '0', 'rankOldAndNew': 'OLD', 'movieCd': '20244762', 'movieNm': '서브스턴스', 'openDt': '2024-12-11', 'salesAmt': '302111920', 'salesShare': '4.4', 'salesInten': '-54071540', 'salesChange': '-15.2', 'salesAcc': '4216240480', 'audiCnt': '30573', 'audiInten': '-7440', 'audiChange': '-19.6', 'audiAcc': '432545', 'scrnCnt': '327', 'showCnt': '1627'}, {'rnum': '6', 'rank': '6', 'rankInten': '-2', 'rankOldAndNew': 'OLD', 'movieCd': '20228796', 'movieNm': '하얼빈', 'openDt': '2024-12-24', 'salesAmt': '152744860', 'salesShare': '2.2', 'salesInten': '-407530820', 'salesChange': '-72.7', 'salesAcc': '46824043480', 'audiCnt': '16004', 'audiInten': '-45234', 'audiChange': '-73.9', 'audiAcc': '4896233', 'scrnCnt': '431', 'showCnt': '1756'}, {'rnum': '7', 'rank': '7', 'rankInten': '-1', 'rankOldAndNew': 'OLD', 'movieCd': '20051060', 'movieNm': '극장판 포켓몬스터 AG: 뮤와 파동의 용사 루카리오', 'openDt': '2025-01-22', 'salesAmt': '128643120', 'salesShare': '1.9', 'salesInten': '-135534180', 'salesChange': '-51.3', 'salesAcc': '1475884740', 'audiCnt': '14349', 'audiInten': '-15855', 'audiChange': '-52.5', 'audiAcc': '166668', 'scrnCnt': '388', 'showCnt': '1208'}, {'rnum': '8', 'rank': '8', 'rankInten': '3', 'rankOldAndNew': 'OLD', 'movieCd': '20246777', 'movieNm': '더 폴: 디렉터스 컷', 'openDt': '2024-12-25', 'salesAmt': '135289900', 'salesShare': '1.9', 'salesInten': '58340000', 'salesChange': '75.8', 'salesAcc': '1211702100', 'audiCnt': '12222', 'audiInten': '4330', 'audiChange': '54.9', 'audiAcc': '116729', 'scrnCnt': '67', 'showCnt': '276'}, {'rnum': '9', 'rank': '9', 'rankInten': '-2', 'rankOldAndNew': 'OLD', 'movieCd': '20246361', 'movieNm': '뽀로로 극장판 바닷속 대모험', 'openDt': '2025-01-01', 'salesAmt': '86322000', 'salesShare': '1.2', 'salesInten': '-41029220', 'salesChange': '-32.2', 'salesAcc': '3470494790', 'audiCnt': '9681', 'audiInten': '-4598', 'audiChange': '-32.2', 'audiAcc': '403244', 'scrnCnt': '216', 'showCnt': '615'}, {'rnum': '10', 'rank': '10', 'rankInten': '-1', 'rankOldAndNew': 'OLD', 'movieCd': '20240855', 'movieNm': '바다 탐험대 옥토넛 어보브 앤 비욘드 : 극지방 대작전', 'openDt': '2025-01-27', 'salesAmt': '64619800', 'salesShare': '0.9', 'salesInten': '-33070300', 'salesChange': '-33.9', 'salesAcc': '369724700', 'audiCnt': '7335', 'audiInten': '-3145', 'audiChange': '-30.0', 'audiAcc': '40070', 'scrnCnt': '185', 'showCnt': '570'}]}}\n"
     ]
    }
   ],
   "source": [
    "MDate = \"20250216\"\n",
    "url = F'http://kobis.or.kr/kobisopenapi/webservice/rest/boxoffice/searchWeeklyBoxOfficeList.json?key={MKEY}&targetDt=20250209'\n",
    "response = requests.get(url)\n",
    "data = response.json()\n",
    "print(data)"
   ]
  },
  {
   "cell_type": "code",
   "execution_count": 12,
   "id": "5d5e28c3-9b3d-499b-bfa2-330dcf8787cb",
   "metadata": {
    "tags": []
   },
   "outputs": [
    {
     "name": "stdout",
     "output_type": "stream",
     "text": [
      "1. 히트맨2 - 관객수: 201550명\n",
      "2. 말할 수 없는 비밀 - 관객수: 138241명\n",
      "3. 브로큰 - 관객수: 94265명\n",
      "4. 검은 수녀들 - 관객수: 83538명\n",
      "5. 서브스턴스 - 관객수: 30573명\n",
      "6. 하얼빈 - 관객수: 16004명\n",
      "7. 극장판 포켓몬스터 AG: 뮤와 파동의 용사 루카리오 - 관객수: 14349명\n",
      "8. 더 폴: 디렉터스 컷 - 관객수: 12222명\n",
      "9. 뽀로로 극장판 바닷속 대모험 - 관객수: 9681명\n",
      "10. 바다 탐험대 옥토넛 어보브 앤 비욘드 : 극지방 대작전 - 관객수: 7335명\n"
     ]
    }
   ],
   "source": [
    "for i, movie in enumerate(data['boxOfficeResult']['weeklyBoxOfficeList'], 1):\n",
    "    print(f\"{i}. {movie['movieNm']} - 관객수: {movie['audiCnt']}명\")"
   ]
  },
  {
   "cell_type": "code",
   "execution_count": null,
   "id": "a1d542a6-bb4a-4782-8c2a-d9f4e3f207c8",
   "metadata": {},
   "outputs": [],
   "source": []
  }
 ],
 "metadata": {
  "kernelspec": {
   "display_name": "Python 3 (ipykernel)",
   "language": "python",
   "name": "python3"
  },
  "language_info": {
   "codemirror_mode": {
    "name": "ipython",
    "version": 3
   },
   "file_extension": ".py",
   "mimetype": "text/x-python",
   "name": "python",
   "nbconvert_exporter": "python",
   "pygments_lexer": "ipython3",
   "version": "3.11.5"
  },
  "toc-autonumbering": true
 },
 "nbformat": 4,
 "nbformat_minor": 5
}
