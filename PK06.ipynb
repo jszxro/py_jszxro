{
 "cells": [
  {
   "cell_type": "markdown",
   "id": "a091f0e0-81b3-4b5c-b826-2349e01c7306",
   "metadata": {
    "tags": []
   },
   "source": [
    "## 모듈 만들기"
   ]
  },
  {
   "cell_type": "code",
   "execution_count": 3,
   "id": "95462d39-9b78-4cb6-ac58-36b59d44a6d2",
   "metadata": {
    "tags": []
   },
   "outputs": [],
   "source": [
    "# 모듈 만들기\n",
    "# def add(a,b):\n",
    "#     return a+b\n",
    "# def sub(a,b):\n",
    "#     return a-b"
   ]
  },
  {
   "cell_type": "code",
   "execution_count": 5,
   "id": "e51cd28a-b66b-4c50-b887-b7f39896246a",
   "metadata": {
    "tags": []
   },
   "outputs": [
    {
     "name": "stdout",
     "output_type": "stream",
     "text": [
      "33\n",
      "11\n"
     ]
    }
   ],
   "source": [
    "import mod1\n",
    "print(mod1.add(11,22))\n",
    "print(mod1.sub(33,22))"
   ]
  },
  {
   "cell_type": "code",
   "execution_count": 6,
   "id": "8a6d1cf4-2e09-4191-8fd4-0c88450058b2",
   "metadata": {
    "tags": []
   },
   "outputs": [],
   "source": [
    "with open(\"mod2.py\", \"w\") as f :\n",
    "    data = \"\"\"def mul(a,b):\n",
    "    return a*b\n",
    "def div(a,b):\n",
    "    return a/b\n",
    "    \"\"\"\n",
    "    f.write(data)"
   ]
  },
  {
   "cell_type": "code",
   "execution_count": 7,
   "id": "adb814b8-10f8-413c-a7cb-749580370f75",
   "metadata": {
    "tags": []
   },
   "outputs": [
    {
     "data": {
      "text/plain": [
       "12"
      ]
     },
     "execution_count": 7,
     "metadata": {},
     "output_type": "execute_result"
    }
   ],
   "source": [
    "import mod2\n",
    "mod2.mul(3,4)"
   ]
  },
  {
   "cell_type": "code",
   "execution_count": 8,
   "id": "51b7857f-d702-48e7-9127-c9d46165f108",
   "metadata": {
    "tags": []
   },
   "outputs": [],
   "source": [
    "# import mod1 as m1, mod2 as m2"
   ]
  },
  {
   "cell_type": "code",
   "execution_count": 9,
   "id": "e6e3d754-c094-4319-9005-ab739581701e",
   "metadata": {
    "tags": []
   },
   "outputs": [
    {
     "name": "stdout",
     "output_type": "stream",
     "text": [
      "77\n"
     ]
    }
   ],
   "source": [
    "from mod1 import add, sub\n",
    "print(add(33,44))"
   ]
  },
  {
   "cell_type": "code",
   "execution_count": 10,
   "id": "f99ee766-de54-4d41-b063-26de76a2feb3",
   "metadata": {
    "tags": []
   },
   "outputs": [],
   "source": [
    "# from mod2 import"
   ]
  },
  {
   "cell_type": "markdown",
   "id": "42b261ef-948e-4988-8283-c5aabbeece94",
   "metadata": {
    "tags": []
   },
   "source": [
    "## `__main__`의 의미"
   ]
  },
  {
   "cell_type": "code",
   "execution_count": 16,
   "id": "5d7142dc-d883-4ca9-bb57-43a0519b94b5",
   "metadata": {},
   "outputs": [],
   "source": [
    "with open('mod1.py', 'a') as f:\n",
    "    test = \"\"\"\\nprint(add(1,4))\\nprint(sub(4,2))\"\"\"\n",
    "    f.write(text)"
   ]
  },
  {
   "cell_type": "code",
   "execution_count": 18,
   "id": "a20dc207-0de9-4e5d-b6af-a374bfc97a47",
   "metadata": {},
   "outputs": [
    {
     "name": "stdout",
     "output_type": "stream",
     "text": [
      "Microsoft Windows [Version 10.0.26100.2894]\n",
      "(c) Microsoft Corporation. All rights reserved.\n",
      "\n",
      "C:\\Users\\jszxr\\MyJupyter\\code_PK>python mod1.py\n",
      "5\n",
      "2\n",
      "\n",
      "C:\\Users\\jszxr\\MyJupyter\\code_PK>"
     ]
    }
   ],
   "source": [
    "%%cmd\n",
    "# %%bash: 우분투\n",
    "python mod1.py"
   ]
  },
  {
   "cell_type": "code",
   "execution_count": 2,
   "id": "2c6baf2e-ce61-4ffc-8da1-8ef644929af2",
   "metadata": {
    "tags": []
   },
   "outputs": [
    {
     "name": "stdout",
     "output_type": "stream",
     "text": [
      "mod1\n"
     ]
    },
    {
     "data": {
      "text/plain": [
       "['__builtins__',\n",
       " '__cached__',\n",
       " '__doc__',\n",
       " '__file__',\n",
       " '__loader__',\n",
       " '__name__',\n",
       " '__package__',\n",
       " '__spec__',\n",
       " 'add',\n",
       " 'sub']"
      ]
     },
     "execution_count": 2,
     "metadata": {},
     "output_type": "execute_result"
    }
   ],
   "source": [
    "import mod1\n",
    "print(mod1.__name__)\n",
    "dir(mod1)"
   ]
  },
  {
   "cell_type": "code",
   "execution_count": 3,
   "id": "9cd9e43e-e037-42c5-a38e-af4d4f917b4d",
   "metadata": {
    "tags": []
   },
   "outputs": [],
   "source": [
    "with open('mod1.py', 'a') as f:\n",
    "    content = '\\nprint(__name__)'\n",
    "    f.write(content)"
   ]
  },
  {
   "cell_type": "code",
   "execution_count": 12,
   "id": "bbddef5b-3d81-4c09-a386-ee3ef93195b8",
   "metadata": {},
   "outputs": [],
   "source": [
    "# import requests\n",
    "# url = \"https://m.stock.naver.com/domestic/stock/005930/total\"\n",
    "# res = requests.get(url).text"
   ]
  },
  {
   "cell_type": "code",
   "execution_count": 13,
   "id": "b28b24a5-2417-43c8-8457-342385b2186c",
   "metadata": {
    "tags": []
   },
   "outputs": [],
   "source": [
    "# print(res)"
   ]
  },
  {
   "cell_type": "code",
   "execution_count": 16,
   "id": "32673329-663c-49b2-9399-2ffd2a18e9a8",
   "metadata": {
    "tags": []
   },
   "outputs": [],
   "source": [
    "with open('mod3.py', 'w') as f:\n",
    "    text = \"\"\"PI = 3.141592\\n\\nclass Math:\\n\\tdef solve(self, r):\\n\\t\\treturn PI * (r**2)\\n\\ndef add(a,b):\\n\\treturn a+b\"\"\"\n",
    "    f.write(text)"
   ]
  },
  {
   "cell_type": "code",
   "execution_count": 1,
   "id": "7f3b9265-4737-4668-80e1-2b5ef5ff87e3",
   "metadata": {
    "tags": []
   },
   "outputs": [
    {
     "ename": "ModuleNotFoundError",
     "evalue": "No module named 'mod3'",
     "output_type": "error",
     "traceback": [
      "\u001b[1;31m---------------------------------------------------------------------------\u001b[0m",
      "\u001b[1;31mModuleNotFoundError\u001b[0m                       Traceback (most recent call last)",
      "Cell \u001b[1;32mIn[1], line 1\u001b[0m\n\u001b[1;32m----> 1\u001b[0m \u001b[38;5;28;01mimport\u001b[39;00m \u001b[38;5;21;01mmod3\u001b[39;00m\n\u001b[0;32m      2\u001b[0m \u001b[38;5;66;03m# 변수\u001b[39;00m\n\u001b[0;32m      3\u001b[0m \u001b[38;5;28mprint\u001b[39m(mod3\u001b[38;5;241m.\u001b[39mPI)\n",
      "\u001b[1;31mModuleNotFoundError\u001b[0m: No module named 'mod3'"
     ]
    }
   ],
   "source": [
    "import mod3\n",
    "# 변수\n",
    "print(mod3.PI)\n",
    "\n",
    "# class\n",
    "a = mod3.Math()\n",
    "print(a.solve(10))\n",
    "\n",
    "#함수\n",
    "print(mod3.add(mod3.PI, 4.4))\n",
    "\n"
   ]
  },
  {
   "cell_type": "markdown",
   "id": "d806358e-43a6-4ed7-be3d-d8cbf1923d4f",
   "metadata": {},
   "source": [
    "## 다른 디렉토리에 있는 모듈 불러오는 방법"
   ]
  },
  {
   "cell_type": "code",
   "execution_count": 2,
   "id": "e61a6297-4f9c-4995-8ee6-016f7a2cc038",
   "metadata": {
    "tags": []
   },
   "outputs": [
    {
     "data": {
      "text/plain": [
       "['C:\\\\Users\\\\jszxr\\\\MyJupyter\\\\code_PK',\n",
       " 'C:\\\\Users\\\\jszxr\\\\anaconda3\\\\python311.zip',\n",
       " 'C:\\\\Users\\\\jszxr\\\\anaconda3\\\\DLLs',\n",
       " 'C:\\\\Users\\\\jszxr\\\\anaconda3\\\\Lib',\n",
       " 'C:\\\\Users\\\\jszxr\\\\anaconda3',\n",
       " '',\n",
       " 'C:\\\\Users\\\\jszxr\\\\anaconda3\\\\Lib\\\\site-packages',\n",
       " 'C:\\\\Users\\\\jszxr\\\\anaconda3\\\\Lib\\\\site-packages\\\\win32',\n",
       " 'C:\\\\Users\\\\jszxr\\\\anaconda3\\\\Lib\\\\site-packages\\\\win32\\\\lib',\n",
       " 'C:\\\\Users\\\\jszxr\\\\anaconda3\\\\Lib\\\\site-packages\\\\Pythonwin']"
      ]
     },
     "execution_count": 2,
     "metadata": {},
     "output_type": "execute_result"
    }
   ],
   "source": [
    "import sys\n",
    "sys.path\n"
   ]
  },
  {
   "cell_type": "code",
   "execution_count": 4,
   "id": "6022a09b-8b11-406e-bc52-6827a110b4cc",
   "metadata": {
    "tags": []
   },
   "outputs": [
    {
     "data": {
      "text/plain": [
       "['C:\\\\Users\\\\jszxr\\\\MyJupyter\\\\code_PK',\n",
       " 'C:\\\\Users\\\\jszxr\\\\anaconda3\\\\python311.zip',\n",
       " 'C:\\\\Users\\\\jszxr\\\\anaconda3\\\\DLLs',\n",
       " 'C:\\\\Users\\\\jszxr\\\\anaconda3\\\\Lib',\n",
       " 'C:\\\\Users\\\\jszxr\\\\anaconda3',\n",
       " '',\n",
       " 'C:\\\\Users\\\\jszxr\\\\anaconda3\\\\Lib\\\\site-packages',\n",
       " 'C:\\\\Users\\\\jszxr\\\\anaconda3\\\\Lib\\\\site-packages\\\\win32',\n",
       " 'C:\\\\Users\\\\jszxr\\\\anaconda3\\\\Lib\\\\site-packages\\\\win32\\\\lib',\n",
       " 'C:\\\\Users\\\\jszxr\\\\anaconda3\\\\Lib\\\\site-packages\\\\Pythonwin',\n",
       " 'C:\\\\Users\\\\jszxr\\\\MyJupyter\\\\code_PK\\\\mymod']"
      ]
     },
     "execution_count": 4,
     "metadata": {},
     "output_type": "execute_result"
    }
   ],
   "source": [
    "#초기화하면 사라짐\n",
    "sys.path.append('C:\\\\Users\\\\jszxr\\\\MyJupyter\\\\code_PK\\\\mymod')\n",
    "sys.path"
   ]
  },
  {
   "cell_type": "code",
   "execution_count": 2,
   "id": "7a0e9da2-dc8f-406e-aa50-32495005f284",
   "metadata": {
    "tags": []
   },
   "outputs": [
    {
     "data": {
      "text/plain": [
       "['C:\\\\Users\\\\jszxr\\\\MyJupyter\\\\code_PK',\n",
       " 'C:\\\\Users\\\\jszxr\\\\anaconda3\\\\python311.zip',\n",
       " 'C:\\\\Users\\\\jszxr\\\\anaconda3\\\\DLLs',\n",
       " 'C:\\\\Users\\\\jszxr\\\\anaconda3\\\\Lib',\n",
       " 'C:\\\\Users\\\\jszxr\\\\anaconda3',\n",
       " '',\n",
       " 'C:\\\\Users\\\\jszxr\\\\anaconda3\\\\Lib\\\\site-packages',\n",
       " 'C:\\\\Users\\\\jszxr\\\\anaconda3\\\\Lib\\\\site-packages\\\\win32',\n",
       " 'C:\\\\Users\\\\jszxr\\\\anaconda3\\\\Lib\\\\site-packages\\\\win32\\\\lib',\n",
       " 'C:\\\\Users\\\\jszxr\\\\anaconda3\\\\Lib\\\\site-packages\\\\Pythonwin']"
      ]
     },
     "execution_count": 2,
     "metadata": {},
     "output_type": "execute_result"
    }
   ],
   "source": [
    "import sys\n",
    "sys.path"
   ]
  },
  {
   "cell_type": "code",
   "execution_count": 3,
   "id": "d6f4e7fd-42db-4156-9656-5260fec98576",
   "metadata": {
    "tags": []
   },
   "outputs": [
    {
     "name": "stdout",
     "output_type": "stream",
     "text": [
      "Requirement already satisfied: python-dotenv in c:\\users\\jszxr\\anaconda3\\lib\\site-packages (0.21.0)"
     ]
    },
    {
     "name": "stderr",
     "output_type": "stream",
     "text": [
      "\n",
      "[notice] A new release of pip is available: 25.0 -> 25.0.1\n",
      "[notice] To update, run: python.exe -m pip install --upgrade pip\n"
     ]
    },
    {
     "name": "stdout",
     "output_type": "stream",
     "text": [
      "\n"
     ]
    }
   ],
   "source": [
    "!pip install python-dotenv"
   ]
  },
  {
   "cell_type": "code",
   "execution_count": 5,
   "id": "a9ea1c1e-dd02-4881-9cbc-db5e9d699326",
   "metadata": {
    "tags": []
   },
   "outputs": [
    {
     "name": "stdout",
     "output_type": "stream",
     "text": [
      "Requirement already satisfied: pip in c:\\users\\jszxr\\anaconda3\\lib\\site-packages (25.0)\n",
      "Collecting pip\n",
      "  Downloading pip-25.0.1-py3-none-any.whl.metadata (3.7 kB)\n",
      "Downloading pip-25.0.1-py3-none-any.whl (1.8 MB)\n",
      "   ---------------------------------------- 0.0/1.8 MB ? eta -:--:--\n",
      "   ---------------------------------------- 1.8/1.8 MB 16.8 MB/s eta 0:00:00\n",
      "Installing collected packages: pip\n",
      "  Attempting uninstall: pip\n",
      "    Found existing installation: pip 25.0\n",
      "    Uninstalling pip-25.0:\n",
      "      Successfully uninstalled pip-25.0\n",
      "Successfully installed pip-25.0.1\n"
     ]
    }
   ],
   "source": [
    "!python.exe -m pip install --upgrade pip"
   ]
  },
  {
   "cell_type": "code",
   "execution_count": 8,
   "id": "281b2585-17b4-4165-98ce-2242cadcf106",
   "metadata": {
    "tags": []
   },
   "outputs": [
    {
     "name": "stdout",
     "output_type": "stream",
     "text": [
      "myphone01077777777\n",
      "https://www.google.com\n"
     ]
    }
   ],
   "source": [
    "from dotenv import load_dotenv\n",
    "import os\n",
    "\n",
    "# .env 파일 로드\n",
    "load_dotenv()\n",
    "\n",
    "SKEY = os.getenv(\"SECRET_KEY\")\n",
    "print(SKEY)\n",
    "DBUG = os.getenv(\"DEBUG\")\n",
    "print(DBUG)"
   ]
  },
  {
   "cell_type": "code",
   "execution_count": null,
   "id": "63b47e4c-1461-4f14-ac39-6e79072e9417",
   "metadata": {},
   "outputs": [],
   "source": []
  }
 ],
 "metadata": {
  "kernelspec": {
   "display_name": "Python 3 (ipykernel)",
   "language": "python",
   "name": "python3"
  },
  "language_info": {
   "codemirror_mode": {
    "name": "ipython",
    "version": 3
   },
   "file_extension": ".py",
   "mimetype": "text/x-python",
   "name": "python",
   "nbconvert_exporter": "python",
   "pygments_lexer": "ipython3",
   "version": "3.11.5"
  },
  "toc-autonumbering": true
 },
 "nbformat": 4,
 "nbformat_minor": 5
}
