{
 "cells": [
  {
   "cell_type": "markdown",
   "id": "957db43a-bf6d-4e5a-887d-ce999c54825b",
   "metadata": {},
   "source": [
    "## 03장 되새김 문제"
   ]
  },
  {
   "cell_type": "markdown",
   "id": "b9ae824e-7291-44a9-bdb7-252a4b4af5e8",
   "metadata": {
    "tags": []
   },
   "source": [
    "#### 조건문의 참과 거짓"
   ]
  },
  {
   "cell_type": "code",
   "execution_count": 8,
   "id": "50229cfc-f6c9-410e-bee0-a708462d3b5f",
   "metadata": {
    "tags": []
   },
   "outputs": [],
   "source": [
    "# shirt 출력"
   ]
  },
  {
   "cell_type": "markdown",
   "id": "0e948dcd-07fe-4ec1-81bb-ebcd492e6d91",
   "metadata": {},
   "source": [
    "#### 3의 배수의 합 구하기"
   ]
  },
  {
   "cell_type": "code",
   "execution_count": 1,
   "id": "1b1c81ff-6ca5-4306-a760-dfbd0628223d",
   "metadata": {
    "tags": []
   },
   "outputs": [
    {
     "name": "stdout",
     "output_type": "stream",
     "text": [
      "166833\n"
     ]
    }
   ],
   "source": [
    "result = 0\n",
    "i = 1\n",
    "while i <= 1000:\n",
    "    if i % 3 == 0 :\n",
    "        result += i\n",
    "    i += 1\n",
    "print(result)"
   ]
  },
  {
   "cell_type": "markdown",
   "id": "36577bed-e76a-4d9d-841b-7d4a67355683",
   "metadata": {},
   "source": [
    "#### 별 표시하기"
   ]
  },
  {
   "cell_type": "code",
   "execution_count": 2,
   "id": "12bffefb-0c9f-4571-a95b-9cb64b9c6b45",
   "metadata": {
    "tags": []
   },
   "outputs": [
    {
     "name": "stdout",
     "output_type": "stream",
     "text": [
      "*\n",
      "**\n",
      "***\n",
      "****\n",
      "*****\n"
     ]
    }
   ],
   "source": [
    "i = 0\n",
    "while True :\n",
    "    i += 1\n",
    "    if i > 5 : \n",
    "        break\n",
    "    print(\"*\"*i)"
   ]
  },
  {
   "cell_type": "markdown",
   "id": "7af4b88f-4789-4354-ae30-18790339e54b",
   "metadata": {},
   "source": [
    "#### 1부터 100까지 출력하기"
   ]
  },
  {
   "cell_type": "code",
   "execution_count": 3,
   "id": "a8ff59e5-90f8-48ca-a90c-589dbfef7782",
   "metadata": {
    "tags": []
   },
   "outputs": [
    {
     "name": "stdout",
     "output_type": "stream",
     "text": [
      "0\n",
      "1\n",
      "2\n",
      "3\n",
      "4\n",
      "5\n",
      "6\n",
      "7\n",
      "8\n",
      "9\n",
      "10\n",
      "11\n",
      "12\n",
      "13\n",
      "14\n",
      "15\n",
      "16\n",
      "17\n",
      "18\n",
      "19\n",
      "20\n",
      "21\n",
      "22\n",
      "23\n",
      "24\n",
      "25\n",
      "26\n",
      "27\n",
      "28\n",
      "29\n",
      "30\n",
      "31\n",
      "32\n",
      "33\n",
      "34\n",
      "35\n",
      "36\n",
      "37\n",
      "38\n",
      "39\n",
      "40\n",
      "41\n",
      "42\n",
      "43\n",
      "44\n",
      "45\n",
      "46\n",
      "47\n",
      "48\n",
      "49\n",
      "50\n",
      "51\n",
      "52\n",
      "53\n",
      "54\n",
      "55\n",
      "56\n",
      "57\n",
      "58\n",
      "59\n",
      "60\n",
      "61\n",
      "62\n",
      "63\n",
      "64\n",
      "65\n",
      "66\n",
      "67\n",
      "68\n",
      "69\n",
      "70\n",
      "71\n",
      "72\n",
      "73\n",
      "74\n",
      "75\n",
      "76\n",
      "77\n",
      "78\n",
      "79\n",
      "80\n",
      "81\n",
      "82\n",
      "83\n",
      "84\n",
      "85\n",
      "86\n",
      "87\n",
      "88\n",
      "89\n",
      "90\n",
      "91\n",
      "92\n",
      "93\n",
      "94\n",
      "95\n",
      "96\n",
      "97\n",
      "98\n",
      "99\n",
      "100\n"
     ]
    }
   ],
   "source": [
    "for i in range(101) :\n",
    "    print(i)"
   ]
  },
  {
   "cell_type": "markdown",
   "id": "132363dd-8ea9-4338-a747-3ca4d15c7dce",
   "metadata": {},
   "source": [
    "#### 평균 점수 구하기"
   ]
  },
  {
   "cell_type": "code",
   "execution_count": 4,
   "id": "d7402f67-4001-436d-8e5e-d18dbec1e149",
   "metadata": {
    "tags": []
   },
   "outputs": [
    {
     "name": "stdout",
     "output_type": "stream",
     "text": [
      "평균 점수는: 79.0점 입니다.\n"
     ]
    }
   ],
   "source": [
    "A = [70, 60, 55,75, 95, 90, 80, 80, 85, 100]\n",
    "total = 0\n",
    "for score in A :\n",
    "    total += score\n",
    "average = total/len(A)\n",
    "print(f'평균 점수는: {average}점 입니다.')"
   ]
  },
  {
   "cell_type": "markdown",
   "id": "a8c09c3a-c9c5-455a-98aa-fd6b932184d2",
   "metadata": {},
   "source": [
    "#### 리스트 컴프리헨션 사용하기"
   ]
  },
  {
   "cell_type": "code",
   "execution_count": 5,
   "id": "0b1f4f5b-a6f1-4c8f-a9e3-acaac43b96c2",
   "metadata": {
    "tags": []
   },
   "outputs": [
    {
     "name": "stdout",
     "output_type": "stream",
     "text": [
      "[2, 6, 10]\n"
     ]
    }
   ],
   "source": [
    "numbers = [1, 2, 3, 4, 5]\n",
    "result = []\n",
    "for n in numbers:\n",
    "    if n % 2 == 1 :\n",
    "        result.append(n*2)\n",
    "print(result)"
   ]
  },
  {
   "cell_type": "code",
   "execution_count": 6,
   "id": "65c69dca-2e31-422f-86df-dc2ba8289259",
   "metadata": {
    "tags": []
   },
   "outputs": [
    {
     "name": "stdout",
     "output_type": "stream",
     "text": [
      "[2, 6, 10]\n"
     ]
    }
   ],
   "source": [
    "numbers = [1, 2, 3, 4, 5]\n",
    "result = [n*2 for n in numbers if n % 2 == 1]\n",
    "print(result)"
   ]
  },
  {
   "cell_type": "markdown",
   "id": "a2e28dea-4a58-436f-9c96-d198cb132f0a",
   "metadata": {
    "tags": []
   },
   "source": [
    "#### 로또 생성기 만들기\n",
    "- 6가지 숫자 선택\n",
    "- 중복되면 안됨\n",
    "- 오름차순 정리\n",
    "- 10만회 생성"
   ]
  },
  {
   "cell_type": "code",
   "execution_count": 1,
   "id": "3686c5a9-ed6d-476a-bd8d-e9cf260d705f",
   "metadata": {
    "tags": []
   },
   "outputs": [],
   "source": [
    "import random"
   ]
  },
  {
   "cell_type": "code",
   "execution_count": 2,
   "id": "3fc4a657-3265-4698-826d-a5b98633c546",
   "metadata": {
    "tags": []
   },
   "outputs": [],
   "source": [
    "lst = []\n",
    "cnt = {}\n",
    "for i in range(100001) :\n",
    "    num = tuple(sorted(random.sample(range(1, 46), 6)))\n",
    "    lst.append(num)\n",
    "    \n",
    "    if num in cnt:\n",
    "        cnt[num] += 1\n",
    "    else:\n",
    "        cnt[num] = 1     \n",
    "        \n",
    "sorted_cnt = sorted(cnt.items(), reverse = True)"
   ]
  },
  {
   "cell_type": "code",
   "execution_count": 3,
   "id": "38212242-efb8-4008-b276-19e754603468",
   "metadata": {
    "tags": []
   },
   "outputs": [
    {
     "name": "stdout",
     "output_type": "stream",
     "text": [
      "가장 많이 나온 조합 추천: [((36, 39, 40, 41, 43, 45), 1), ((35, 38, 40, 41, 44, 45), 1), ((35, 36, 41, 43, 44, 45), 1)]\n"
     ]
    }
   ],
   "source": [
    "print(f'가장 많이 나온 조합 추천: {sorted_cnt[:3]}')"
   ]
  },
  {
   "cell_type": "code",
   "execution_count": 4,
   "id": "1434082f-ef3a-4dbb-bc20-f4fa0fab5863",
   "metadata": {
    "tags": []
   },
   "outputs": [
    {
     "name": "stdout",
     "output_type": "stream",
     "text": [
      "숫자 11: 13573번\n",
      "숫자 42: 13551번\n",
      "숫자 24: 13537번\n",
      "숫자 25: 13499번\n",
      "숫자 4: 13496번\n"
     ]
    }
   ],
   "source": [
    "lst1 = []\n",
    "cnt1 = {j: 0 for j in range(1, 46)}\n",
    "for j in range(100001) :\n",
    "    num1 = sorted(random.sample(range(1, 46), 6))\n",
    "    lst1.append(num1)\n",
    "    \n",
    "    for n in num1 :\n",
    "        cnt1[n] += 1\n",
    "\n",
    "cnt_all = sorted(cnt1.items(), key=lambda x: x[1], reverse = True)\n",
    "\n",
    "for num, count in cnt_all[:5]:\n",
    "    print(f\"숫자 {num}: {count}번\")"
   ]
  },
  {
   "cell_type": "code",
   "execution_count": 18,
   "id": "1c6a8a2a-8daa-4f3a-9f7e-3cbe037bbf31",
   "metadata": {},
   "outputs": [
    {
     "name": "stdin",
     "output_type": "stream",
     "text": [
      "상품의 가격과 투입할 돈을 적어주세요:  1330 5000\n"
     ]
    },
    {
     "name": "stdout",
     "output_type": "stream",
     "text": [
      "거스름돈 내역:\n",
      "1000원 X 3장\n",
      "500원 X 1개\n",
      "100원 X 1개\n",
      "50원 X 1개\n",
      "10원 X 2개\n",
      "================\n",
      "총 거스름돈: 3670원\n"
     ]
    }
   ],
   "source": [
    "# 3) 잔돈 계산 프로그램\n",
    "price, money = list(map(int, input('상품의 가격과 투입할 돈을 적어주세요: ').split()))\n",
    "\n",
    "def priceMymoney(price, money):\n",
    "    pm_all = money - price \n",
    "    pm = money - price \n",
    "    \n",
    "    if pm < 0 :\n",
    "        return '돈이 부족합니다'\n",
    "    \n",
    "    p_1000 = pm //1000\n",
    "    pm %= 1000\n",
    "    \n",
    "    p_500 = pm//500\n",
    "    pm %= 500\n",
    "    \n",
    "    p_100 = pm//100\n",
    "    pm %= 100\n",
    "    \n",
    "    p_50 = (pm)//50\n",
    "    pm %= 50\n",
    "    \n",
    "    p_10 = (pm)//10\n",
    "    pm %= 10\n",
    "    \n",
    "    return (\n",
    "        f'거스름돈 내역:\\n'\n",
    "        f'1000원 X {p_1000}장\\n'\n",
    "        f'500원 X {p_500}개\\n'\n",
    "        f'100원 X {p_100}개\\n'\n",
    "        f'50원 X {p_50}개\\n'\n",
    "        f'10원 X {p_10}개\\n'\n",
    "        f'================\\n'\n",
    "        f'총 거스름돈: {pm_all}원'\n",
    "    )\n",
    "\n",
    "print(priceMymoney(price, money))"
   ]
  },
  {
   "cell_type": "code",
   "execution_count": 26,
   "id": "0824d039-5028-40b2-8be7-c9abdfffd4a3",
   "metadata": {},
   "outputs": [
    {
     "name": "stdout",
     "output_type": "stream",
     "text": [
      "[11, 22, 33]\n",
      "[11, 22, 33, 44]\n",
      "33\n",
      "44\n"
     ]
    }
   ],
   "source": [
    "#배열 요소를 오름차순으로 나열 max, min, sort 안쓰고\n",
    "# 1 - 1) \n",
    "lst = [33, 11, 22]\n",
    "lst_new = []\n",
    "\n",
    "lst_new.append(lst[1])\n",
    "lst_new.append(lst[2])\n",
    "lst_new.append(lst[0])\n",
    "\n",
    "print(lst_new)\n",
    "\n",
    "# 1 - 2)\n",
    "lst1 = [33, 11, 22, 44]\n",
    "lst_new1 = []\n",
    "\n",
    "lst_new1.append(lst1[1])\n",
    "lst_new1.append(lst1[2])\n",
    "lst_new1.append(lst1[0])\n",
    "lst_new1.append(lst1[3])\n",
    "print(lst_new1)\n",
    "\n",
    "# 2 - 1)\n",
    "num1 = lst[0]\n",
    "num2 = lst[1]\n",
    "num3 = lst[2]\n",
    "\n",
    "value = num1\n",
    "\n",
    "if num2 > value :\n",
    "    value = num2\n",
    "\n",
    "if num3 > value :\n",
    "    value = num3\n",
    "    \n",
    "print(value)\n",
    "\n",
    "# 2 - 2)\n",
    "\n",
    "n1 = lst1[0]\n",
    "n2 = lst1[1]\n",
    "n3 = lst1[2]\n",
    "n4 = lst1[3]\n",
    "\n",
    "value1 = n1\n",
    "\n",
    "if n2 > value1 :\n",
    "    value1 = n2\n",
    "\n",
    "if n3 > value1 :\n",
    "    value1 = n3\n",
    "\n",
    "if n4 > value1 :\n",
    "    value1 = n4\n",
    "    \n",
    "print(value1)\n"
   ]
  },
  {
   "cell_type": "code",
   "execution_count": 35,
   "id": "d912e52b-994e-4473-a9ca-f30ae04432ec",
   "metadata": {
    "tags": []
   },
   "outputs": [
    {
     "name": "stdin",
     "output_type": "stream",
     "text": [
      "가위, 바위, 보 셋 중 하나를 선택하세요:  보\n"
     ]
    },
    {
     "name": "stdout",
     "output_type": "stream",
     "text": [
      "사용자는 보, 컴퓨터는 보, 결과: 비겼습니다\n"
     ]
    }
   ],
   "source": [
    "#4 가위바위보 프로그램\n",
    "import random\n",
    "pro = input(\"가위, 바위, 보 셋 중 하나를 선택하세요: \")\n",
    "\n",
    "ran = [\"가위\", \"바위\", '보']\n",
    "com = random.choice(ran)\n",
    "\n",
    "def game(pro, com) :\n",
    "    if pro == com :\n",
    "        return \"비겼습니다\"\n",
    "    elif (pro == '가위' and com == '보') or\\\n",
    "         (pro == '바위' and com == '가위') or\\\n",
    "         (pro == '보' and com == '바위'):\n",
    "                return '승리입니다'\n",
    "    else : \n",
    "        return '패배입니다'\n",
    "result = game(pro, com)\n",
    "print(f'사용자는 {pro}, 컴퓨터는 {com}, 결과: {result}')"
   ]
  },
  {
   "cell_type": "code",
   "execution_count": null,
   "id": "73be05ca-153f-4bee-924c-0ce037d54e9c",
   "metadata": {},
   "outputs": [],
   "source": []
  }
 ],
 "metadata": {
  "kernelspec": {
   "display_name": "Python 3 (ipykernel)",
   "language": "python",
   "name": "python3"
  },
  "language_info": {
   "codemirror_mode": {
    "name": "ipython",
    "version": 3
   },
   "file_extension": ".py",
   "mimetype": "text/x-python",
   "name": "python",
   "nbconvert_exporter": "python",
   "pygments_lexer": "ipython3",
   "version": "3.11.5"
  }
 },
 "nbformat": 4,
 "nbformat_minor": 5
}
