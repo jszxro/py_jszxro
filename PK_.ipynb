{
 "cells": [
  {
   "cell_type": "markdown",
   "id": "ddbe7e35-4ba3-4041-b4cb-f8403c334e40",
   "metadata": {},
   "source": [
    "## 둘째날(2025-01-21)"
   ]
  },
  {
   "cell_type": "code",
   "execution_count": 11,
   "id": "f9a6fdd7-1ef2-4630-801e-9f51287b3445",
   "metadata": {
    "tags": []
   },
   "outputs": [
    {
     "name": "stdout",
     "output_type": "stream",
     "text": [
      "_____________________\n",
      "---------------------\n",
      "할인 전 가격:  8000 원\n",
      "내야할 돈: 6400.0 원\n",
      "할인:  1600.0 원\n",
      "_____________________\n"
     ]
    }
   ],
   "source": [
    "print(\"_____________________\")\n",
    "print(\"---------------------\")\n",
    "print('할인 전 가격: ', 3000+5000, '원')\n",
    "print('내야할 돈:', (3000+5000)*0.8, '원')\n",
    "print('할인: ', (3000+5000)*0.2, '원')\n",
    "print(\"_____________________\")"
   ]
  },
  {
   "cell_type": "code",
   "execution_count": 18,
   "id": "167d6d4a-b7ae-4215-b289-82ebee7986fe",
   "metadata": {
    "tags": []
   },
   "outputs": [
    {
     "name": "stdin",
     "output_type": "stream",
     "text": [
      " 안녕\n"
     ]
    },
    {
     "name": "stdout",
     "output_type": "stream",
     "text": [
      "입력받은 값은 :  안녕안녕 입니다.\n"
     ]
    }
   ],
   "source": [
    "data = input()\n",
    "print('입력받은 값은 : ', data*2, '입니다.') "
   ]
  },
  {
   "cell_type": "code",
   "execution_count": 27,
   "id": "e7fe95d0-b8dd-4524-aa2d-e80509dd0127",
   "metadata": {
    "tags": []
   },
   "outputs": [
    {
     "name": "stdin",
     "output_type": "stream",
     "text": [
      " 8000 2000\n"
     ]
    },
    {
     "name": "stdout",
     "output_type": "stream",
     "text": [
      "원가는     : 8000 입니다.\n",
      "할인금액은 : 2000 입니다.\n",
      "제출금액은 : 6000 입니다.\n"
     ]
    }
   ],
   "source": [
    "price, sale = input().split()\n",
    "price = int(price)\n",
    "sale = int(sale)   \n",
    "\n",
    "print('원가는     :', price, '입니다.')\n",
    "print('할인금액은 :', sale, '입니다.')\n",
    "print('제출금액은 :', price - sale, '입니다.')"
   ]
  },
  {
   "cell_type": "code",
   "execution_count": 34,
   "id": "a9de8b10-7077-4b2c-8ca2-cbb216b175ca",
   "metadata": {},
   "outputs": [
    {
     "name": "stdin",
     "output_type": "stream",
     "text": [
      "나이를 입력하세요:  80\n"
     ]
    },
    {
     "name": "stdout",
     "output_type": "stream",
     "text": [
      "80 세입니다.\n"
     ]
    }
   ],
   "source": [
    "a = int(input('나이를 입력하세요: '))\n",
    "print(a, '세입니다.')"
   ]
  },
  {
   "cell_type": "code",
   "execution_count": 43,
   "id": "42dfef1e-7d8d-4e71-907f-bf23e6133eab",
   "metadata": {
    "tags": []
   },
   "outputs": [
    {
     "name": "stdin",
     "output_type": "stream",
     "text": [
      "성별을 입력하세요:  키키\n"
     ]
    },
    {
     "name": "stdout",
     "output_type": "stream",
     "text": [
      "다시 입력해주세요.\n"
     ]
    }
   ],
   "source": [
    "s = input('성별을 입력하세요: ')\n",
    "if s == ('남성') :\n",
    "    print('남성이시군요.')\n",
    "elif s == ('여성') :\n",
    "    print('여성이시군요.')\n",
    "else :\n",
    "    print('다시 입력해주세요.')"
   ]
  },
  {
   "attachments": {
    "2df64b03-f7c8-46c9-ace4-30d57a143659.png": {
     "image/png": "[encoded data removed]"
    }
   },
   "cell_type": "markdown",
   "id": "1247a6d0-48a9-4d4b-b462-affebd7faa77",
   "metadata": {},
   "source": [
    "<img src=\"!(attachment:2df64b03-f7c8-46c9-ace4-30d57a143659.png)\" width=400>"
   ]
  },
  {
   "cell_type": "code",
   "execution_count": 46,
   "id": "e318dc97-5d83-4266-9f07-f66032821a20",
   "metadata": {
    "tags": []
   },
   "outputs": [
    {
     "name": "stdin",
     "output_type": "stream",
     "text": [
      "나이를 입력하세요. :  13\n"
     ]
    },
    {
     "name": "stdout",
     "output_type": "stream",
     "text": [
      "예약이 가능합니다.\n"
     ]
    }
   ],
   "source": [
    "age = int(input('나이를 입력하세요. : '))\n",
    "if age > 12 :\n",
    "    print('예약이 가능합니다.')\n",
    "else :\n",
    "    print('예약이 불가능합니다.')"
   ]
  },
  {
   "cell_type": "code",
   "execution_count": 49,
   "id": "9added18-8d93-4238-a852-217d78625137",
   "metadata": {
    "tags": []
   },
   "outputs": [
    {
     "name": "stdin",
     "output_type": "stream",
     "text": [
      "숫자를 입력하세요:  100 10\n"
     ]
    },
    {
     "name": "stdout",
     "output_type": "stream",
     "text": [
      "100%10 = 몫: 10, 나머지: 0입니다.\n"
     ]
    }
   ],
   "source": [
    "full, num = map(int, input('숫자를 입력하세요: ').split())\n",
    "if num == 0 :\n",
    "    print('0으로 나눌 수 없습니다.')\n",
    "else:\n",
    "    q = full // num\n",
    "    r = full % num\n",
    "    print(f'{full}%{num} = 몫: {q}, 나머지: {r}입니다.')"
   ]
  },
  {
   "cell_type": "code",
   "execution_count": 57,
   "id": "02f83a97-1702-48e5-b6c4-12554aae2bfb",
   "metadata": {
    "tags": []
   },
   "outputs": [
    {
     "name": "stdin",
     "output_type": "stream",
     "text": [
      "숫자를 입력하세요:  13\n"
     ]
    },
    {
     "name": "stdout",
     "output_type": "stream",
     "text": [
      "홀수입니다.\n"
     ]
    }
   ],
   "source": [
    "num1 = int(input('숫자를 입력하세요: '))\n",
    "if num1 % 2 == 0 :\n",
    "    print('짝수입니다.')\n",
    "else:\n",
    "    print('홀수입니다.')"
   ]
  },
  {
   "cell_type": "code",
   "execution_count": 61,
   "id": "b9a66eeb-0501-45f7-9380-f4500e94812d",
   "metadata": {
    "tags": []
   },
   "outputs": [
    {
     "name": "stdin",
     "output_type": "stream",
     "text": [
      "나이를 입력하세요:  13\n"
     ]
    },
    {
     "name": "stdout",
     "output_type": "stream",
     "text": [
      "당신은 청소년입니다.\n"
     ]
    }
   ],
   "source": [
    "age1 = int(input('나이를 입력하세요: '))\n",
    "if age1 < 13 :\n",
    "    print('당신은 어린이입니다.')\n",
    "elif 13 <= age1 < 20 :\n",
    "    print('당신은 청소년입니다.')\n",
    "elif 20 <= age1 < 65 :\n",
    "    print('당신은 성인입니다.')\n",
    "else :\n",
    "    print('당신은 노인입니다.')"
   ]
  },
  {
   "cell_type": "code",
   "execution_count": 62,
   "id": "e434759a-cf83-498e-81c8-1b106d0516b9",
   "metadata": {
    "tags": []
   },
   "outputs": [],
   "source": [
    "arr = [1, 2, 3, 4, 5]"
   ]
  },
  {
   "cell_type": "code",
   "execution_count": 66,
   "id": "4b7da872-c9bb-4c3f-af22-a0cd6525f681",
   "metadata": {
    "tags": []
   },
   "outputs": [
    {
     "data": {
      "text/plain": [
       "'orange'"
      ]
     },
     "execution_count": 66,
     "metadata": {},
     "output_type": "execute_result"
    }
   ],
   "source": [
    "index = [0, 1, 2, 3, 4]\n",
    "fruit =  ['orange', 'kiwi', 'banana', 'apple', 'melon']\n",
    "fruit[2]\n",
    "fruit[0]"
   ]
  },
  {
   "cell_type": "code",
   "execution_count": 67,
   "id": "43a997fd-51dd-4ed3-a455-67be10e5fcc1",
   "metadata": {
    "tags": []
   },
   "outputs": [],
   "source": [
    "for i in range(5) :\n",
    "    pass"
   ]
  },
  {
   "cell_type": "code",
   "execution_count": 68,
   "id": "a42978fe-7ad9-49f1-bbca-1349f72029d6",
   "metadata": {
    "tags": []
   },
   "outputs": [],
   "source": [
    "box =  ['orange', 'kiwi', 'banana', 'apple', 'melon']"
   ]
  },
  {
   "cell_type": "code",
   "execution_count": null,
   "id": "2f3592e4-a270-4283-a238-7ab2859aaae8",
   "metadata": {},
   "outputs": [],
   "source": [
    "index = [0, 1, 2, 3, 4]\n",
    "for i in index"
   ]
  }
 ],
 "metadata": {
  "kernelspec": {
   "display_name": "Python 3 (ipykernel)",
   "language": "python",
   "name": "python3"
  },
  "language_info": {
   "codemirror_mode": {
    "name": "ipython",
    "version": 3
   },
   "file_extension": ".py",
   "mimetype": "text/x-python",
   "name": "python",
   "nbconvert_exporter": "python",
   "pygments_lexer": "ipython3",
   "version": "3.11.5"
  }
 },
 "nbformat": 4,
 "nbformat_minor": 5
}
