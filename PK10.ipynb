{
 "cells": [
  {
   "cell_type": "code",
   "execution_count": 1,
   "metadata": {
    "id": "vd37j-YAfUmE"
   },
   "outputs": [],
   "source": [
    "import pandas as pd\n",
    "import numpy as np"
   ]
  },
  {
   "cell_type": "markdown",
   "metadata": {
    "id": "oLYYvYvIjcpv"
   },
   "source": [
    "# 넘파이(numpy)"
   ]
  },
  {
   "cell_type": "markdown",
   "metadata": {
    "id": "f3jtCPHpjcC1"
   },
   "source": [
    "- ndim: 축의 개수\n",
    "- shape: 배열의 차원정보\n",
    "- size: 배열 안에 있는 원소의 총 개수\n",
    "- dtype: 배열 원소의 자료형\n",
    "\n"
   ]
  },
  {
   "cell_type": "code",
   "execution_count": 6,
   "metadata": {
    "colab": {
     "base_uri": "https://localhost:8080/"
    },
    "id": "er9jTuSFi_6i",
    "outputId": "35f74eb0-5c8e-4785-e496-67ae8773e8dd"
   },
   "outputs": [
    {
     "name": "stdout",
     "output_type": "stream",
     "text": [
      "[0 1 2 3 4] <class 'numpy.ndarray'>\n",
      "1\n",
      "(5,)\n",
      "5\n"
     ]
    }
   ],
   "source": [
    "narry = np.array(range(5))\n",
    "print(narry, type(narry))\n",
    "print(narry.ndim)\n",
    "print(narry.shape)\n",
    "print(narry.size)"
   ]
  },
  {
   "cell_type": "code",
   "execution_count": 10,
   "metadata": {
    "colab": {
     "base_uri": "https://localhost:8080/"
    },
    "id": "RkKqOg0mp78N",
    "outputId": "c954e284-c8b1-4032-fe6f-c39e9965edf2"
   },
   "outputs": [
    {
     "name": "stdout",
     "output_type": "stream",
     "text": [
      "[[0 0]\n",
      " [0 0]] 2 int64 (2, 2) 4 <class 'numpy.ndarray'>\n",
      "[[1. 1.]\n",
      " [1. 1.]] 2 float64 (2, 2) 4 <class 'numpy.ndarray'>\n",
      "[[3 3 3]\n",
      " [3 3 3]\n",
      " [3 3 3]] 2 int64 (3, 3) 9 <class 'numpy.ndarray'>\n",
      "[['number' 'number' 'number']\n",
      " ['number' 'number' 'number']\n",
      " ['number' 'number' 'number']] 2 <U6 (3, 3) 9 <class 'numpy.ndarray'>\n",
      "[[1. 0. 0.]\n",
      " [0. 1. 0.]\n",
      " [0. 0. 1.]] 2 float64 (3, 3) 9 <class 'numpy.ndarray'>\n"
     ]
    }
   ],
   "source": [
    "narr4 = np.zeros((2,2), dtype='int64')\n",
    "narr5 = np.ones((2,2))\n",
    "narr6 = np.full((3,3),3)\n",
    "narr7 = np.full((3,3), 'number')\n",
    "narr8 = np.eye(3)\n",
    "print(narr4, narr4.ndim, narr4.dtype, narr4.shape, narr4.size, type(narr4))\n",
    "print(narr5, narr5.ndim, narr5.dtype, narr5.shape, narr5.size, type(narr5))\n",
    "print(narr6, narr6.ndim, narr6.dtype, narr6.shape, narr6.size, type(narr6))\n",
    "print(narr7, narr7.ndim, narr7.dtype, narr7.shape, narr7.size, type(narr7))\n",
    "print(narr8, narr8.ndim, narr8.dtype, narr8.shape, narr8.size, type(narr8))"
   ]
  },
  {
   "cell_type": "markdown",
   "metadata": {
    "id": "bjZT2DUEudFM"
   },
   "source": [
    "## 2차원 배열"
   ]
  },
  {
   "cell_type": "code",
   "execution_count": 14,
   "metadata": {
    "colab": {
     "base_uri": "https://localhost:8080/"
    },
    "id": "TblyPA6EvhPr",
    "outputId": "e242e222-604a-49b1-aa3e-3e503ba5873f"
   },
   "outputs": [
    {
     "name": "stdout",
     "output_type": "stream",
     "text": [
      "[0, 1, 2, 3, 4, 5, 6, 7, 8, 9]\n",
      "[2 3 4 5 6 7 8 9]\n"
     ]
    }
   ],
   "source": [
    "print(list(range(10)))\n",
    "print(np.arange(2,10))"
   ]
  },
  {
   "cell_type": "code",
   "execution_count": 12,
   "metadata": {
    "colab": {
     "base_uri": "https://localhost:8080/"
    },
    "id": "RGAbG3YVjQjV",
    "outputId": "e6c11e6e-9305-4f14-a84e-4e95b1d90da4"
   },
   "outputs": [
    {
     "name": "stdout",
     "output_type": "stream",
     "text": [
      "[[0 0]\n",
      " [0 0]] int64 2 (2, 2) 4 <class 'numpy.ndarray'>\n"
     ]
    }
   ],
   "source": [
    "arr1 = np.array([[0,0],[0,0]])\n",
    "print(arr1, arr1.dtype, arr1.ndim, arr1.shape, arr1.size, type(arr1))"
   ]
  },
  {
   "cell_type": "code",
   "execution_count": 15,
   "metadata": {
    "colab": {
     "base_uri": "https://localhost:8080/"
    },
    "id": "hCBaMOzqucym",
    "outputId": "f8178d70-75d3-4418-9d2c-12eddf11bd6e"
   },
   "outputs": [
    {
     "name": "stdout",
     "output_type": "stream",
     "text": [
      "[[1 2 3]\n",
      " [4 5 6]\n",
      " [7 8 9]] int64 2 (3, 3) 9 <class 'numpy.ndarray'>\n",
      "[[1 2 3]\n",
      " [4 5 6]\n",
      " [7 8 9]] int64 2 (3, 3) 9 <class 'numpy.ndarray'>\n"
     ]
    }
   ],
   "source": [
    "arr2 = np.array([1,2,3,4,5,6,7,8,9]).reshape(3,3)\n",
    "arr3 = np.arange(1,10).reshape(3,3)\n",
    "print(arr2, arr2.dtype, arr2.ndim, arr2.shape, arr2.size, type(arr2))\n",
    "print(arr3, arr3.dtype, arr3.ndim, arr3.shape, arr3.size, type(arr3))"
   ]
  },
  {
   "cell_type": "code",
   "execution_count": 35,
   "metadata": {
    "colab": {
     "base_uri": "https://localhost:8080/"
    },
    "id": "NUeX8r1RpzMg",
    "outputId": "9246a0cc-498a-4b23-8a52-2138b9262894"
   },
   "outputs": [
    {
     "name": "stdout",
     "output_type": "stream",
     "text": [
      "[[ 1  2  3  4  5  6  7]\n",
      " [ 8  9 10 11 12 13 14]\n",
      " [15 16 17 18 19 20 21]]\n",
      "---------------------------\n",
      "[[1]\n",
      " [2]\n",
      " [3]\n",
      " [4]\n",
      " [5]\n",
      " [6]\n",
      " [7]]\n",
      "---------------------------\n",
      "[[ 1  2]\n",
      " [ 3  4]\n",
      " [ 5  6]\n",
      " [ 7  8]\n",
      " [ 9 10]]\n",
      "---------------------------\n",
      "[[ 1  2  3  4  5  6  7]\n",
      " [ 8  9 10 11 12 13 14]\n",
      " [15 16 17 18 19 20 21]]\n",
      "---------------------------\n",
      "[[[ 1]\n",
      "  [ 2]\n",
      "  [ 3]]\n",
      "\n",
      " [[ 4]\n",
      "  [ 5]\n",
      "  [ 6]]\n",
      "\n",
      " [[ 7]\n",
      "  [ 8]\n",
      "  [ 9]]\n",
      "\n",
      " [[10]\n",
      "  [11]\n",
      "  [12]]]\n"
     ]
    }
   ],
   "source": [
    "#1\n",
    "a = np.arange(1,22).reshape(3,7)\n",
    "print(a)\n",
    "print('---------------------------')\n",
    "#2\n",
    "b = np.array([1,2,3,4,5,6,7]).reshape(7,1)\n",
    "print(b)\n",
    "print('---------------------------')\n",
    "#3\n",
    "c = np.arange(1,11).reshape(5,2)\n",
    "print(c)\n",
    "print('---------------------------')\n",
    "#4\n",
    "d = np.arange(1,22).reshape(3,7)\n",
    "print(d)\n",
    "print('---------------------------')\n",
    "#5\n",
    "e = np.arange(1,13).reshape(4,3,1)\n",
    "print(e)"
   ]
  },
  {
   "cell_type": "code",
   "execution_count": 39,
   "metadata": {
    "colab": {
     "base_uri": "https://localhost:8080/"
    },
    "id": "rC11n_6b2v8q",
    "outputId": "7115ee7c-5f09-45f9-ea97-599d693fe570"
   },
   "outputs": [
    {
     "name": "stdout",
     "output_type": "stream",
     "text": [
      "[4 5 6 7]\n",
      "[11 12 13 14]\n",
      "[18 19 20 21]\n"
     ]
    }
   ],
   "source": [
    "print(d[0][3:])\n",
    "print(d[1][3:])\n",
    "print(d[2][3:])"
   ]
  },
  {
   "cell_type": "code",
   "execution_count": 42,
   "metadata": {
    "id": "m3CRtId2_GwK"
   },
   "outputs": [],
   "source": [
    "#  d[3:8, 3:8, 3:8]"
   ]
  },
  {
   "cell_type": "code",
   "execution_count": 44,
   "metadata": {
    "colab": {
     "base_uri": "https://localhost:8080/"
    },
    "id": "YChlCwhoBq6q",
    "outputId": "1b548a44-12a8-400e-b231-a8c0d1ac69d1"
   },
   "outputs": [
    {
     "name": "stdout",
     "output_type": "stream",
     "text": [
      "[16 17 18 19 20]\n"
     ]
    }
   ],
   "source": [
    "#브로드캐스팅\n",
    "np1 = np.array([6,7,8,9,10])\n",
    "np3 = np1 + 10\n",
    "print(np3)"
   ]
  },
  {
   "cell_type": "code",
   "execution_count": 45,
   "metadata": {
    "colab": {
     "base_uri": "https://localhost:8080/"
    },
    "id": "Cv_o09s9HdcX",
    "outputId": "80d3aaf4-d4e4-4aa3-f4c9-415b4eccb538"
   },
   "outputs": [
    {
     "name": "stdout",
     "output_type": "stream",
     "text": [
      "[[ 11  44  99]\n",
      " [ 44 110 198]\n",
      " [ 77 176 297]]\n"
     ]
    }
   ],
   "source": [
    "br1 = np.arange(1,10).reshape(3,3)\n",
    "br2 = np.array([11,22,33])\n",
    "print(br1*br2)"
   ]
  },
  {
   "cell_type": "code",
   "execution_count": null,
   "metadata": {
    "id": "DVK3VhwLHutR"
   },
   "outputs": [],
   "source": []
  },
  {
   "cell_type": "code",
   "execution_count": null,
   "metadata": {},
   "outputs": [],
   "source": []
  }
 ],
 "metadata": {
  "colab": {
   "provenance": []
  },
  "kernelspec": {
   "display_name": "Python 3 (ipykernel)",
   "language": "python",
   "name": "python3"
  },
  "language_info": {
   "codemirror_mode": {
    "name": "ipython",
    "version": 3
   },
   "file_extension": ".py",
   "mimetype": "text/x-python",
   "name": "python",
   "nbconvert_exporter": "python",
   "pygments_lexer": "ipython3",
   "version": "3.11.5"
  }
 },
 "nbformat": 4,
 "nbformat_minor": 4
}
