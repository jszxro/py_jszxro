{
 "cells": [
  {
   "cell_type": "markdown",
   "id": "cc687677-b9bf-4b6f-a7ec-3fa1d669aabf",
   "metadata": {
    "tags": []
   },
   "source": [
    "# 자료형"
   ]
  },
  {
   "cell_type": "markdown",
   "id": "cbcd900f-7fe7-44db-bf97-311a1d233d1a",
   "metadata": {
    "tags": []
   },
   "source": [
    "## 리스트 자료형"
   ]
  },
  {
   "cell_type": "code",
   "execution_count": 2,
   "id": "cf529ea2-4c72-4b1b-a1f6-d91e28678573",
   "metadata": {
    "tags": []
   },
   "outputs": [],
   "source": [
    "import string\n",
    "\n",
    "a = []\n",
    "for char in string.ascii_lowercase[0:8]:\n",
    "    a.append(char)\n"
   ]
  },
  {
   "cell_type": "code",
   "execution_count": 3,
   "id": "1acb06ba-a921-4932-bada-e933419fb8d8",
   "metadata": {
    "tags": []
   },
   "outputs": [
    {
     "name": "stdout",
     "output_type": "stream",
     "text": [
      "['a', 'b', 'c', 'd', 'e', 'f', 'g', 'h']\n"
     ]
    }
   ],
   "source": [
    "print(a)"
   ]
  },
  {
   "cell_type": "code",
   "execution_count": 19,
   "id": "223656e5-3ce0-474e-bdde-c58ac829acb1",
   "metadata": {
    "tags": []
   },
   "outputs": [
    {
     "name": "stdin",
     "output_type": "stream",
     "text": [
      "Key를 입력하세요:  France\n"
     ]
    },
    {
     "name": "stdout",
     "output_type": "stream",
     "text": [
      "32\n"
     ]
    }
   ],
   "source": [
    "#inf 01. 아래 Dict 데이터에서 사용자 입력으로 키 검색 후 값 반환\n",
    "\n",
    "Dic =  {'USA':36, 'Germany':17, 'France':32}\n",
    "\n",
    "inp = input('Key를 입력하세요: ')\n",
    "\n",
    "def dictInput(inp) :\n",
    "    if inp in Dic :\n",
    "        return Dic[inp]\n",
    "    return '다시 입력해주세요'\n",
    "\n",
    "print(dictInput(inp))"
   ]
  },
  {
   "cell_type": "code",
   "execution_count": 23,
   "id": "db8907a9-481b-4612-acf4-1c64161b7d43",
   "metadata": {
    "tags": []
   },
   "outputs": [],
   "source": [
    "def search_dict(word):\n",
    "    c = dict((new_k.lower(), new_val) for new_k, new_val in d.items())"
   ]
  },
  {
   "cell_type": "markdown",
   "id": "20c352b4-9904-4f30-a65d-ff8ab8b6a729",
   "metadata": {},
   "source": [
    "### 리스트 연산하기"
   ]
  },
  {
   "cell_type": "markdown",
   "id": "6ef4ba9e-c94a-434d-93d7-35d44e11495d",
   "metadata": {},
   "source": [
    "## 02장. 되새김 문제"
   ]
  },
  {
   "cell_type": "markdown",
   "id": "0c29f079-0e62-4d97-a22a-cd5f83edc48e",
   "metadata": {},
   "source": [
    "#### 홍길동씨 평균 점수 구하기"
   ]
  },
  {
   "cell_type": "code",
   "execution_count": 38,
   "id": "f4d195d9-fb28-4818-8a98-986f4f7bbe82",
   "metadata": {
    "tags": []
   },
   "outputs": [
    {
     "name": "stdout",
     "output_type": "stream",
     "text": [
      "홍길동 씨의 평균 점수는: 70.0점입니다.\n"
     ]
    }
   ],
   "source": [
    "hong = {'국어': 80, '수학': 55, '영어' : 75}\n",
    "score = list(hong.values())\n",
    "\n",
    "print(f'홍길동 씨의 평균 점수는: {sum(score)/len(score)}점입니다.')"
   ]
  },
  {
   "cell_type": "markdown",
   "id": "233e769c-c093-4c87-b1df-da3d6a611bf6",
   "metadata": {},
   "source": [
    "#### 홀수, 짝수 판별하기"
   ]
  },
  {
   "cell_type": "code",
   "execution_count": 41,
   "id": "f5458e56-4f7b-46f4-9426-beff024260fd",
   "metadata": {
    "tags": []
   },
   "outputs": [
    {
     "name": "stdin",
     "output_type": "stream",
     "text": [
      "홀짝을 판별하고 싶은 숫자를 입력하세요:  13\n"
     ]
    },
    {
     "name": "stdout",
     "output_type": "stream",
     "text": [
      "13은 홀수입니다.\n"
     ]
    }
   ],
   "source": [
    "a = int(input('홀짝을 판별하고 싶은 숫자를 입력하세요: '))\n",
    "\n",
    "def int_a(a) :\n",
    "    if a % 2 == 0 :\n",
    "        return f'{a}는 짝수입니다.'\n",
    "    else :\n",
    "        return f'{a}은 홀수입니다.'\n",
    "    \n",
    "print(int_a(a))"
   ]
  },
  {
   "cell_type": "markdown",
   "id": "7b655159-05bb-48f6-b762-f5d4259b1329",
   "metadata": {},
   "source": [
    "#### 주민등록번호 나누기"
   ]
  },
  {
   "cell_type": "code",
   "execution_count": 61,
   "id": "605a6136-df55-48a3-a777-95219c340826",
   "metadata": {
    "tags": []
   },
   "outputs": [
    {
     "name": "stdout",
     "output_type": "stream",
     "text": [
      "1988년 11월 20일\n",
      "068234\n"
     ]
    }
   ],
   "source": [
    "from datetime import datetime\n",
    "\n",
    "hongPin = \"881120-1068234\"\n",
    "\n",
    "y = hongPin[0:6]\n",
    "n = hongPin[8:]\n",
    "\n",
    "print(f'19{y[0:2]}년 {y[2:4]}월 {y[4:6]}일')\n",
    "print(n)"
   ]
  },
  {
   "cell_type": "markdown",
   "id": "1f95a185-e492-40cb-b6ab-326b6e4a11c4",
   "metadata": {},
   "source": [
    "#### 주민등록번호 인덱싱"
   ]
  },
  {
   "cell_type": "code",
   "execution_count": 69,
   "id": "8bc85492-f42f-4d74-9112-05572488e5ea",
   "metadata": {
    "tags": []
   },
   "outputs": [
    {
     "name": "stdout",
     "output_type": "stream",
     "text": [
      "남자입니다.\n"
     ]
    }
   ],
   "source": [
    "hongPin2 = \"881120-1068234\"\n",
    "\n",
    "def jender(hongPin2) :\n",
    "    str0 = int(hongPin2[7])\n",
    "    if str0 == 1 or str0 == 3 :\n",
    "        return '남자입니다.'\n",
    "    else :\n",
    "        return '여자입니다.'\n",
    "\n",
    "print(jender(hongPin2))"
   ]
  },
  {
   "cell_type": "markdown",
   "id": "af88b8e9-a41e-48a4-b533-a5b6912da5e3",
   "metadata": {
    "tags": []
   },
   "source": [
    "#### 문자열 바꾸기"
   ]
  },
  {
   "cell_type": "code",
   "execution_count": 71,
   "id": "837ac573-f785-45ca-ac0d-842a0e4c963b",
   "metadata": {
    "tags": []
   },
   "outputs": [
    {
     "name": "stdout",
     "output_type": "stream",
     "text": [
      "a#b#c#d\n"
     ]
    }
   ],
   "source": [
    "a = \"a:b:c:d\"\n",
    "b = a.replace(':', '#')\n",
    "print(b)"
   ]
  },
  {
   "cell_type": "markdown",
   "id": "459bfe07-aaf0-43dc-a762-238c851520d6",
   "metadata": {},
   "source": [
    "#### 리스트 역순 정렬하기"
   ]
  },
  {
   "cell_type": "code",
   "execution_count": 89,
   "id": "1ed1a476-95c4-478e-a56b-cf3ce1197e51",
   "metadata": {
    "tags": []
   },
   "outputs": [
    {
     "name": "stdout",
     "output_type": "stream",
     "text": [
      "[1, 2, 3, 4, 5]\n",
      "[5, 4, 3, 2, 1]\n"
     ]
    }
   ],
   "source": [
    "lst = [1, 2, 5, 4, 3]\n",
    "\n",
    "c = lst.copy()\n",
    "\n",
    "c.sort()\n",
    "print(c)\n",
    "\n",
    "c.reverse()\n",
    "print(c)"
   ]
  },
  {
   "cell_type": "markdown",
   "id": "d4c8110c-f14a-4a4b-8b2e-d2c76abb16a3",
   "metadata": {
    "tags": []
   },
   "source": [
    "#### 리스트를 문자열로 만들기"
   ]
  },
  {
   "cell_type": "code",
   "execution_count": 93,
   "id": "109dafa0-0286-4d66-88c5-aca31728fb05",
   "metadata": {
    "tags": []
   },
   "outputs": [
    {
     "name": "stdout",
     "output_type": "stream",
     "text": [
      "Life is too short\n"
     ]
    }
   ],
   "source": [
    "a = ['Life', 'is', 'too', 'short']\n",
    "result = ' '.join(a)\n",
    "print(result)"
   ]
  },
  {
   "cell_type": "markdown",
   "id": "0cc1ea61-dc92-43ae-9668-cef2873d77d0",
   "metadata": {
    "tags": []
   },
   "source": [
    "#### 튜플 더하기"
   ]
  },
  {
   "cell_type": "code",
   "execution_count": 97,
   "id": "aa83b24c-f48e-4e34-8691-140d3dd18abd",
   "metadata": {
    "tags": []
   },
   "outputs": [
    {
     "name": "stdout",
     "output_type": "stream",
     "text": [
      "(1, 2, 3, 4)\n"
     ]
    }
   ],
   "source": [
    "a = (1, 2, 3)\n",
    "a = a + (4, )\n",
    "print(a)"
   ]
  },
  {
   "cell_type": "markdown",
   "id": "6d78513b-d067-479b-b5ed-cad6b168c8e4",
   "metadata": {},
   "source": [
    "#### 딕셔너리의 키"
   ]
  },
  {
   "cell_type": "code",
   "execution_count": 98,
   "id": "8213eb3a-3894-4562-bd92-92b34c59d11a",
   "metadata": {
    "tags": []
   },
   "outputs": [
    {
     "data": {
      "text/plain": [
       "{}"
      ]
     },
     "execution_count": 98,
     "metadata": {},
     "output_type": "execute_result"
    }
   ],
   "source": [
    "a = dict()\n",
    "a"
   ]
  },
  {
   "cell_type": "code",
   "execution_count": 103,
   "id": "515ceb90-252c-46c3-957e-d1770ba3e423",
   "metadata": {
    "tags": []
   },
   "outputs": [],
   "source": [
    "a['name'] = 'python' #기본형\n",
    "# a[(a,)] = 'python' #타입에러\n",
    "# a[[1]] = 'p' #타입에러\n",
    "a[250] = 'python'"
   ]
  },
  {
   "cell_type": "code",
   "execution_count": 104,
   "id": "52cc010a-8cc7-4c77-b2ed-63b0c5891d76",
   "metadata": {
    "tags": []
   },
   "outputs": [
    {
     "data": {
      "text/plain": [
       "{'name': 'python', 250: 'python'}"
      ]
     },
     "execution_count": 104,
     "metadata": {},
     "output_type": "execute_result"
    }
   ],
   "source": [
    "a"
   ]
  },
  {
   "cell_type": "markdown",
   "id": "2fb82fcc-3cd1-4a7e-8b26-a225f130ed0e",
   "metadata": {},
   "source": [
    "#### 딕셔너리 값 추출하기"
   ]
  },
  {
   "cell_type": "code",
   "execution_count": 106,
   "id": "8ca55d65-75d3-4970-8ad7-9108c58bdb04",
   "metadata": {
    "tags": []
   },
   "outputs": [
    {
     "name": "stdout",
     "output_type": "stream",
     "text": [
      "{'A': 90, 'C': 70}\n",
      "80\n"
     ]
    }
   ],
   "source": [
    "a = {'A': 90, 'B': 80, 'C': 70}\n",
    "result = a.pop('B')\n",
    "print(a)\n",
    "print(result)"
   ]
  },
  {
   "cell_type": "markdown",
   "id": "914891eb-0f3a-425c-967c-8e54c6917906",
   "metadata": {},
   "source": [
    "#### 리스트에서 중복 제거하기"
   ]
  },
  {
   "cell_type": "code",
   "execution_count": 109,
   "id": "09a42606-f2e4-4e6e-b745-add3f1926752",
   "metadata": {
    "tags": []
   },
   "outputs": [
    {
     "name": "stdout",
     "output_type": "stream",
     "text": [
      "{1, 2, 3, 4, 5}\n",
      "[1, 2, 3, 4, 5]\n"
     ]
    }
   ],
   "source": [
    "a = [1, 1, 1, 2, 2, 3, 3, 3, 4, 4, 5]\n",
    "aSet = set(a)\n",
    "print(aSet)\n",
    "\n",
    "b = list(aSet)\n",
    "print(b)"
   ]
  },
  {
   "cell_type": "markdown",
   "id": "4fb4b55b-dda8-4cf3-956c-32b870789023",
   "metadata": {},
   "source": [
    "#### 파이썬 변수"
   ]
  },
  {
   "cell_type": "code",
   "execution_count": 114,
   "id": "f1be383e-44a2-470c-9e8b-74d90214f02a",
   "metadata": {
    "tags": []
   },
   "outputs": [
    {
     "name": "stdout",
     "output_type": "stream",
     "text": [
      "[1, 2, 3]\n",
      "[1, 2, 3]\n",
      "[1, 4, 3]\n",
      "[1, 4, 3]\n"
     ]
    }
   ],
   "source": [
    "a = b = [1, 2, 3]\n",
    "print(a)\n",
    "print(b)\n",
    "\n",
    "a[1] = 4\n",
    "print(a)\n",
    "print(b) #a와 b가 같은 리스트를 가리키고 있기 때문"
   ]
  },
  {
   "cell_type": "markdown",
   "id": "d5eb7bb8-8ebe-409d-bf73-8596a6375f84",
   "metadata": {},
   "source": [
    "## 03장 되새김 문제"
   ]
  },
  {
   "cell_type": "markdown",
   "id": "7ea18c19-5710-44b7-bd39-9cb4df244bbd",
   "metadata": {},
   "source": [
    "#### 조건문의 참과 거짓"
   ]
  },
  {
   "cell_type": "code",
   "execution_count": 116,
   "id": "b6ee45c9-4fba-4fe3-810c-b4fb35992c9f",
   "metadata": {
    "tags": []
   },
   "outputs": [],
   "source": [
    "# shirt 출력"
   ]
  },
  {
   "cell_type": "markdown",
   "id": "0c3121c6-2407-4a00-8b9e-78ac9cc2f422",
   "metadata": {},
   "source": [
    "#### 3의 배수의 합 구하기"
   ]
  },
  {
   "cell_type": "code",
   "execution_count": 117,
   "id": "2389f929-68ec-43c0-ae54-fd2176e21914",
   "metadata": {
    "tags": []
   },
   "outputs": [
    {
     "name": "stdout",
     "output_type": "stream",
     "text": [
      "166833\n"
     ]
    }
   ],
   "source": [
    "result = 0\n",
    "i = 1\n",
    "while i <= 1000:\n",
    "    if i % 3 == 0 :\n",
    "        result += i\n",
    "    i += 1\n",
    "print(result)"
   ]
  },
  {
   "cell_type": "markdown",
   "id": "f5a85bdc-489c-4cb6-aa0e-b11f03f5ad61",
   "metadata": {},
   "source": [
    "#### 별 표시하기"
   ]
  },
  {
   "cell_type": "code",
   "execution_count": 126,
   "id": "6cf44bb4-ac13-4dab-b028-d0ebd8b3c64c",
   "metadata": {
    "tags": []
   },
   "outputs": [
    {
     "name": "stdout",
     "output_type": "stream",
     "text": [
      "*\n",
      "**\n",
      "***\n",
      "****\n",
      "*****\n"
     ]
    }
   ],
   "source": [
    "i = 0\n",
    "while True :\n",
    "    i += 1\n",
    "    if i > 5 : \n",
    "        break\n",
    "    print(\"*\"*i)"
   ]
  },
  {
   "cell_type": "markdown",
   "id": "d0ffcdbf-91db-432b-9684-0eaf645455f2",
   "metadata": {
    "tags": []
   },
   "source": [
    "#### 1부터 100까지 출력하기"
   ]
  },
  {
   "cell_type": "code",
   "execution_count": 128,
   "id": "469989ca-b9eb-4e25-9664-bc2582ff98f4",
   "metadata": {
    "tags": []
   },
   "outputs": [
    {
     "name": "stdout",
     "output_type": "stream",
     "text": [
      "0\n",
      "1\n",
      "2\n",
      "3\n",
      "4\n",
      "5\n",
      "6\n",
      "7\n",
      "8\n",
      "9\n",
      "10\n",
      "11\n",
      "12\n",
      "13\n",
      "14\n",
      "15\n",
      "16\n",
      "17\n",
      "18\n",
      "19\n",
      "20\n",
      "21\n",
      "22\n",
      "23\n",
      "24\n",
      "25\n",
      "26\n",
      "27\n",
      "28\n",
      "29\n",
      "30\n",
      "31\n",
      "32\n",
      "33\n",
      "34\n",
      "35\n",
      "36\n",
      "37\n",
      "38\n",
      "39\n",
      "40\n",
      "41\n",
      "42\n",
      "43\n",
      "44\n",
      "45\n",
      "46\n",
      "47\n",
      "48\n",
      "49\n",
      "50\n",
      "51\n",
      "52\n",
      "53\n",
      "54\n",
      "55\n",
      "56\n",
      "57\n",
      "58\n",
      "59\n",
      "60\n",
      "61\n",
      "62\n",
      "63\n",
      "64\n",
      "65\n",
      "66\n",
      "67\n",
      "68\n",
      "69\n",
      "70\n",
      "71\n",
      "72\n",
      "73\n",
      "74\n",
      "75\n",
      "76\n",
      "77\n",
      "78\n",
      "79\n",
      "80\n",
      "81\n",
      "82\n",
      "83\n",
      "84\n",
      "85\n",
      "86\n",
      "87\n",
      "88\n",
      "89\n",
      "90\n",
      "91\n",
      "92\n",
      "93\n",
      "94\n",
      "95\n",
      "96\n",
      "97\n",
      "98\n",
      "99\n",
      "100\n"
     ]
    }
   ],
   "source": [
    "for i in range(101) :\n",
    "    print(i)"
   ]
  },
  {
   "cell_type": "markdown",
   "id": "28f44879-5f90-4de9-871f-128eac97bfe4",
   "metadata": {},
   "source": [
    "#### 평균 점수 구하기"
   ]
  },
  {
   "cell_type": "code",
   "execution_count": 132,
   "id": "0a17624f-ac65-4719-becf-0bc565e2344c",
   "metadata": {
    "tags": []
   },
   "outputs": [
    {
     "name": "stdout",
     "output_type": "stream",
     "text": [
      "평균 점수는: 79.0점 입니다.\n"
     ]
    }
   ],
   "source": [
    "A = [70, 60, 55,75, 95, 90, 80, 80, 85, 100]\n",
    "total = 0\n",
    "for score in A :\n",
    "    total += score\n",
    "average = total/len(A)\n",
    "print(f'평균 점수는: {average}점 입니다.')"
   ]
  },
  {
   "cell_type": "markdown",
   "id": "f950a1db-7517-43d3-8c6e-eb793e5fa6b8",
   "metadata": {},
   "source": [
    "#### 리스트 컴프리헨션 사용하기"
   ]
  },
  {
   "cell_type": "code",
   "execution_count": 134,
   "id": "dc232846-0f36-4440-946c-e4e226e451f4",
   "metadata": {
    "tags": []
   },
   "outputs": [
    {
     "name": "stdout",
     "output_type": "stream",
     "text": [
      "[2, 6, 10]\n"
     ]
    }
   ],
   "source": [
    "numbers = [1, 2, 3, 4, 5]\n",
    "result = []\n",
    "for n in numbers:\n",
    "    if n % 2 == 1 :\n",
    "        result.append(n*2)\n",
    "print(result)"
   ]
  },
  {
   "cell_type": "code",
   "execution_count": 137,
   "id": "4afd4d5f-036a-4229-9186-ea954912ab5c",
   "metadata": {
    "tags": []
   },
   "outputs": [
    {
     "name": "stdout",
     "output_type": "stream",
     "text": [
      "[2, 6, 10]\n"
     ]
    }
   ],
   "source": [
    "numbers = [1, 2, 3, 4, 5]\n",
    "result = [n*2 for n in numbers if n % 2 == 1]\n",
    "print(result)"
   ]
  },
  {
   "cell_type": "markdown",
   "id": "dfb806e4-728f-4eab-9f23-17243b878a94",
   "metadata": {},
   "source": [
    "## 04장 되새김 문제"
   ]
  },
  {
   "cell_type": "markdown",
   "id": "79786b17-ea99-430a-ad90-93e41703c3e0",
   "metadata": {},
   "source": [
    "#### 홀수, 짝수 판별하기"
   ]
  },
  {
   "cell_type": "code",
   "execution_count": 140,
   "id": "3cb234cf-39ab-49d4-b3e8-d621db52d278",
   "metadata": {
    "tags": []
   },
   "outputs": [
    {
     "name": "stdin",
     "output_type": "stream",
     "text": [
      "숫자를 입력하세요:  14\n"
     ]
    },
    {
     "name": "stdout",
     "output_type": "stream",
     "text": [
      "False\n"
     ]
    }
   ],
   "source": [
    "a = int(input('숫자를 입력하세요: '))\n",
    "def is_odd(number):\n",
    "    if a % 2 == 1 :\n",
    "        return True\n",
    "    else:\n",
    "        return False\n",
    "\n",
    "print(is_odd(a))"
   ]
  },
  {
   "cell_type": "markdown",
   "id": "7aa30dc6-5921-48ea-8b02-23899de2ca5a",
   "metadata": {},
   "source": [
    "#### 모든 입력의 평균값 구하기"
   ]
  },
  {
   "cell_type": "code",
   "execution_count": null,
   "id": "fbf52afd-f9b6-496f-9f76-77fe7ba4e00e",
   "metadata": {
    "tags": []
   },
   "outputs": [],
   "source": [
    "def avg_numbers(args) :\n",
    "    a = list(args)\n",
    "    return sum(a) / len(a)\n",
    "\n",
    "args = map(int, input('숫자를 입력하세여: ').split(','))\n",
    "print(avg_numbers(args))"
   ]
  },
  {
   "cell_type": "markdown",
   "id": "a52d7af0-7599-490d-8645-534a6ae4fe8e",
   "metadata": {},
   "source": [
    "#### 프로그램 오류 수정하기1"
   ]
  },
  {
   "cell_type": "code",
   "execution_count": 150,
   "id": "8b75a677-2247-443f-910e-1c67e0c3e7e0",
   "metadata": {
    "tags": []
   },
   "outputs": [
    {
     "name": "stdin",
     "output_type": "stream",
     "text": [
      "첫 번째 숫자를 입력하세요:  3\n",
      "두 번째 숫자를 입력하세요:  6\n"
     ]
    },
    {
     "name": "stdout",
     "output_type": "stream",
     "text": [
      "두 수의 합은 9입니다\n"
     ]
    }
   ],
   "source": [
    "input1 = int(input('첫 번째 숫자를 입력하세요: '))\n",
    "input2 = int(input('두 번째 숫자를 입력하세요: '))\n",
    "\n",
    "total = input1 + input2\n",
    "print('두 수의 합은 %s입니다' % total)"
   ]
  },
  {
   "cell_type": "markdown",
   "id": "f0f857fa-c9f9-41e9-9cce-387c2803a20a",
   "metadata": {},
   "source": [
    "#### 출력 결과가 다른 것은?"
   ]
  },
  {
   "cell_type": "code",
   "execution_count": 151,
   "id": "9f2b19f7-bdc3-41d4-912e-f1612362ac90",
   "metadata": {
    "tags": []
   },
   "outputs": [],
   "source": [
    "# 3번 공백이 있음 혼자"
   ]
  },
  {
   "cell_type": "markdown",
   "id": "467bd03c-9c38-4635-9add-b275fcb09b68",
   "metadata": {},
   "source": [
    "#### 프로그램 오류 수정하기2"
   ]
  },
  {
   "cell_type": "code",
   "execution_count": 153,
   "id": "11b94ff7-8e57-4365-a42a-789fba9f1711",
   "metadata": {
    "tags": []
   },
   "outputs": [
    {
     "name": "stdout",
     "output_type": "stream",
     "text": [
      "Life is too short\n"
     ]
    }
   ],
   "source": [
    "f1 = open(\"test.txt\", \"w\")\n",
    "f1.write(\"Life is too short\")\n",
    "f1.close()\n",
    "\n",
    "f2 = open(\"test.txt\", \"r\")\n",
    "print(f2.read())"
   ]
  },
  {
   "cell_type": "markdown",
   "id": "bd9d1831-217d-489b-8010-1ce8482d5a70",
   "metadata": {},
   "source": [
    "#### 사용자 입력 저장하기"
   ]
  },
  {
   "cell_type": "code",
   "execution_count": 156,
   "id": "d7f20799-8110-4bc2-8d41-b58f3d0e2014",
   "metadata": {
    "tags": []
   },
   "outputs": [
    {
     "name": "stdin",
     "output_type": "stream",
     "text": [
      "저장할 내용을 입력하세요:  hi\n"
     ]
    }
   ],
   "source": [
    "user_input = input(\"저장할 내용을 입력하세요: \")\n",
    "f = open('test.txt', 'w')\n",
    "f.write(user_input)\n",
    "f.write('\\n')\n",
    "f.close()"
   ]
  },
  {
   "cell_type": "markdown",
   "id": "0c756485-166e-4f66-84dd-ea2040d62882",
   "metadata": {},
   "source": [
    "#### 파일의 문자열 바꾸기"
   ]
  },
  {
   "cell_type": "code",
   "execution_count": 157,
   "id": "6e0e7484-3aef-4f54-a2bd-d9ef1a5c1f08",
   "metadata": {
    "tags": []
   },
   "outputs": [],
   "source": [
    "# test.txt"
   ]
  },
  {
   "cell_type": "markdown",
   "id": "92ba4ea4-b69f-49de-af79-89f79f90dc71",
   "metadata": {},
   "source": [
    "#### 입력값을 모두 더해 출력하기"
   ]
  },
  {
   "cell_type": "code",
   "execution_count": 158,
   "id": "36533960-b15d-44e4-9b7f-f08bb1bbcbef",
   "metadata": {
    "tags": []
   },
   "outputs": [],
   "source": [
    "#"
   ]
  },
  {
   "cell_type": "code",
   "execution_count": 1,
   "id": "c944826b-5c11-4c77-b30e-2b785532c973",
   "metadata": {},
   "outputs": [],
   "source": [
    "#리스트 요소 제거 - remove"
   ]
  },
  {
   "cell_type": "code",
   "execution_count": 13,
   "id": "81548360-558b-4e0d-9996-129ccfa7af06",
   "metadata": {
    "tags": []
   },
   "outputs": [],
   "source": [
    "bag1 = []"
   ]
  },
  {
   "cell_type": "code",
   "execution_count": 14,
   "id": "f8eab0bd-9774-4c14-bdda-adcb86b0a204",
   "metadata": {
    "tags": []
   },
   "outputs": [
    {
     "name": "stdin",
     "output_type": "stream",
     "text": [
      "필요한 항목을 넣어주세요:  사과 바나나 키위\n"
     ]
    },
    {
     "name": "stdout",
     "output_type": "stream",
     "text": [
      "장바구니에는 ['사과', '바나나', '키위']들이 있습니다.\n"
     ]
    }
   ],
   "source": [
    "# 장바구니\n",
    "inp = input('필요한 항목을 넣어주세요: ').split()\n",
    "bag1.extend(inp)\n",
    "print(f'장바구니에는 {bag1}들이 있습니다.')"
   ]
  },
  {
   "cell_type": "code",
   "execution_count": 15,
   "id": "79c001ce-2376-4dd8-93d2-ef24d924fbc2",
   "metadata": {
    "tags": []
   },
   "outputs": [
    {
     "name": "stdout",
     "output_type": "stream",
     "text": [
      "사과를 꺼내서 장바구니에 ['바나나', '키위']이(가) 남았습니다.\n"
     ]
    }
   ],
   "source": [
    "#FIFO 출력\n",
    "hand = bag1.pop(0)\n",
    "print(f'{hand}를 꺼내서 장바구니에 {bag1}이(가) 남았습니다.')"
   ]
  },
  {
   "cell_type": "code",
   "execution_count": 18,
   "id": "d2ad1370-74b0-4cbb-b140-4b146a0ff236",
   "metadata": {
    "tags": []
   },
   "outputs": [
    {
     "name": "stdout",
     "output_type": "stream",
     "text": [
      "장바구니에는 ['맥주', '피자', '햄버거']가 있습니다.\n"
     ]
    },
    {
     "name": "stdin",
     "output_type": "stream",
     "text": [
      "꺼내고 싶은 음식을 입력하세요:  피자\n"
     ]
    },
    {
     "name": "stdout",
     "output_type": "stream",
     "text": [
      "바구니에서 피자를 꺼내어 ['맥주', '햄버거']가 남았습니다.\n"
     ]
    }
   ],
   "source": [
    "#선택 출력\n",
    "bag2 = ['맥주', '피자', '햄버거']\n",
    "print(f'장바구니에는 {bag2}가 있습니다.')\n",
    "\n",
    "eat = input('꺼내고 싶은 음식을 입력하세요: ')\n",
    "hand2 = bag2.pop(bag2.index(eat))\n",
    "print(f'바구니에서 {hand2}를 꺼내어 {bag2}가 남았습니다.')"
   ]
  },
  {
   "cell_type": "code",
   "execution_count": 17,
   "id": "365d4402-26e6-42fc-a53c-a788b77ac401",
   "metadata": {
    "tags": []
   },
   "outputs": [
    {
     "name": "stdout",
     "output_type": "stream",
     "text": [
      "22을(를) 제거 하였습니다.\n"
     ]
    }
   ],
   "source": [
    "#remove는 리턴값이 없다\n",
    "choice = 22\n",
    "a = [11, 22, 33]\n",
    "a.remove(choice)\n",
    "print(f'{choice}을(를) 제거 하였습니다.')"
   ]
  },
  {
   "cell_type": "code",
   "execution_count": 22,
   "id": "b88d8c97-3301-4df4-a38b-00b805d06908",
   "metadata": {
    "tags": []
   },
   "outputs": [
    {
     "name": "stdin",
     "output_type": "stream",
     "text": [
      "추가할 물건 이름을 적어주세요:  딸기\n",
      "어느 물품의 오른쪽에 넣어둘까요?:  맥주\n"
     ]
    },
    {
     "name": "stdout",
     "output_type": "stream",
     "text": [
      "최종: ['호박', '감자', '소주', '맥주', '딸기', '피자']\n"
     ]
    }
   ],
   "source": [
    "#실습\n",
    "\n",
    "bag3 = ['호박', '감자', '소주', '맥주', '피자']\n",
    "\n",
    "test1 = input('추가할 물건 이름을 적어주세요: ')\n",
    "test2 = input('어느 물품의 오른쪽에 넣어둘까요?: ')\n",
    "\n",
    "idx = bag3.index(test2)+1\n",
    "bag3[idx:idx] = [test1]\n",
    "\n",
    "print(f'최종: {bag3}')"
   ]
  },
  {
   "cell_type": "code",
   "execution_count": 23,
   "id": "2c511592-9e4d-4431-a597-a0c151c6ba82",
   "metadata": {
    "tags": []
   },
   "outputs": [
    {
     "name": "stdin",
     "output_type": "stream",
     "text": [
      "추가할 물건 이름을 적어주세요:  팝콘\n",
      "어느 물품의 오른쪽에 넣어둘까요?:  2\n"
     ]
    },
    {
     "name": "stdout",
     "output_type": "stream",
     "text": [
      "['팝콘', '호박', '감자', '소주', '맥주', '피자']\n"
     ]
    }
   ],
   "source": [
    "bag = ['호박', '감자', '소주', '맥주', '피자']\n",
    "thing = input('추가할 물건 이름을 적어주세요: ')\n",
    "where = input('어느 물품의 오른쪽에 넣어둘까요?: ')\n",
    "\n",
    "bag.insert(0, thing)\n",
    "print(bag)"
   ]
  },
  {
   "cell_type": "code",
   "execution_count": 32,
   "id": "6438ef52-3095-4156-8d42-2e8984fee2a0",
   "metadata": {
    "tags": []
   },
   "outputs": [
    {
     "name": "stdin",
     "output_type": "stream",
     "text": [
      "원화로 계산할 달러를 입력하세요:  14\n"
     ]
    },
    {
     "name": "stdout",
     "output_type": "stream",
     "text": [
      "14달러는 20,299.16원입니다.\n"
     ]
    }
   ],
   "source": [
    "#환율 계산기 만들기\n",
    "\n",
    "def convert(test1) :\n",
    "    exchange_rate = 1449.94\n",
    "    return(test1 * exchange_rate)\n",
    "\n",
    "test1 = int(input('원화로 계산할 달러를 입력하세요: '))\n",
    "\n",
    "print(f'{test1}달러는 {convert(test1):,}원입니다.')"
   ]
  },
  {
   "cell_type": "code",
   "execution_count": 6,
   "id": "e0e9dd2b-cb83-41ba-b229-18cfb0a2114f",
   "metadata": {},
   "outputs": [
    {
     "name": "stdout",
     "output_type": "stream",
     "text": [
      "***********"
     ]
    }
   ],
   "source": [
    "#리스트 속도 측정\n",
    "\n",
    "import time as t\n",
    "for x in range(11):\n",
    "    print(f'*', end='')\n",
    "    t.sleep(0.1)"
   ]
  },
  {
   "cell_type": "code",
   "execution_count": 7,
   "id": "f584aa67-c4e7-40a7-ad86-c249d8700735",
   "metadata": {
    "tags": []
   },
   "outputs": [
    {
     "name": "stdout",
     "output_type": "stream",
     "text": [
      " C 드라이브의 볼륨에는 이름이 없습니다.\n",
      " 볼륨 일련 번호: CC11-5C57\n",
      "\n",
      " C:\\Users\\jszxr\\MyJupyter\\code_PK 디렉터리\n",
      "\n",
      "2025-02-07  오후 01:58    <DIR>          .\n",
      "2025-02-04  오후 04:37    <DIR>          ..\n",
      "2025-02-04  오후 04:54                30 .gitignore\n",
      "2025-02-07  오후 12:25    <DIR>          .ipynb_checkpoints\n",
      "2025-02-06  오전 11:53             8,990 chap2ex_정서영.ipynb\n",
      "2025-02-07  오후 01:49             6,042 chap3ex_정서영.ipynb\n",
      "2025-02-04  오후 12:27           151,964 PK01(20250203).ipynb\n",
      "2025-02-07  오후 01:58            28,123 PK02(20250204).ipynb\n",
      "2025-01-21  오후 04:46            30,097 PK_.ipynb\n",
      "               6개 파일             225,246 바이트\n",
      "               3개 디렉터리  131,154,526,208 바이트 남음\n"
     ]
    }
   ],
   "source": [
    "!dir"
   ]
  },
  {
   "cell_type": "code",
   "execution_count": 8,
   "id": "b766c72b-807a-46ee-b464-ce3c81c7b835",
   "metadata": {
    "tags": []
   },
   "outputs": [
    {
     "name": "stdout",
     "output_type": "stream",
     "text": [
      "\n",
      "Usage:   \n",
      "  pip <command> [options]\n",
      "\n",
      "Commands:\n",
      "  install                     Install packages.\n",
      "  download                    Download packages.\n",
      "  uninstall                   Uninstall packages.\n",
      "  freeze                      Output installed packages in requirements format.\n",
      "  inspect                     Inspect the python environment.\n",
      "  list                        List installed packages.\n",
      "  show                        Show information about installed packages.\n",
      "  check                       Verify installed packages have compatible dependencies.\n",
      "  config                      Manage local and global configuration.\n",
      "  search                      Search PyPI for packages.\n",
      "  cache                       Inspect and manage pip's wheel cache.\n",
      "  index                       Inspect information available from package indexes.\n",
      "  wheel                       Build wheels from your requirements.\n",
      "  hash                        Compute hashes of package archives.\n",
      "  completion                  A helper command used for command completion.\n",
      "  debug                       Show information useful for debugging.\n",
      "  help                        Show help for commands.\n",
      "\n",
      "General Options:\n",
      "  -h, --help                  Show help.\n",
      "  --debug                     Let unhandled exceptions propagate outside the\n",
      "                              main subroutine, instead of logging them to\n",
      "                              stderr.\n",
      "  --isolated                  Run pip in an isolated mode, ignoring\n",
      "                              environment variables and user configuration.\n",
      "  --require-virtualenv        Allow pip to only run in a virtual environment;\n",
      "                              exit with an error otherwise.\n",
      "  --python <python>           Run pip with the specified Python interpreter.\n",
      "  -v, --verbose               Give more output. Option is additive, and can be\n",
      "                              used up to 3 times.\n",
      "  -V, --version               Show version and exit.\n",
      "  -q, --quiet                 Give less output. Option is additive, and can be\n",
      "                              used up to 3 times (corresponding to WARNING,\n",
      "                              ERROR, and CRITICAL logging levels).\n",
      "  --log <path>                Path to a verbose appending log.\n",
      "  --no-input                  Disable prompting for input.\n",
      "  --keyring-provider <keyring_provider>\n",
      "                              Enable the credential lookup via the keyring\n",
      "                              library if user input is allowed. Specify which\n",
      "                              mechanism to use [auto, disabled, import,\n",
      "                              subprocess]. (default: auto)\n",
      "  --proxy <proxy>             Specify a proxy in the form\n",
      "                              scheme://[user:passwd@]proxy.server:port.\n",
      "  --retries <retries>         Maximum number of retries each connection should\n",
      "                              attempt (default 5 times).\n",
      "  --timeout <sec>             Set the socket timeout (default 15 seconds).\n",
      "  --exists-action <action>    Default action when a path already exists:\n",
      "                              (s)witch, (i)gnore, (w)ipe, (b)ackup, (a)bort.\n",
      "  --trusted-host <hostname>   Mark this host or host:port pair as trusted,\n",
      "                              even though it does not have valid or any HTTPS.\n",
      "  --cert <path>               Path to PEM-encoded CA certificate bundle. If\n",
      "                              provided, overrides the default. See 'SSL\n",
      "                              Certificate Verification' in pip documentation\n",
      "                              for more information.\n",
      "  --client-cert <path>        Path to SSL client certificate, a single file\n",
      "                              containing the private key and the certificate\n",
      "                              in PEM format.\n",
      "  --cache-dir <dir>           Store the cache data in <dir>.\n",
      "  --no-cache-dir              Disable the cache.\n",
      "  --disable-pip-version-check\n",
      "                              Don't periodically check PyPI to determine\n",
      "                              whether a new version of pip is available for\n",
      "                              download. Implied with --no-index.\n",
      "  --no-color                  Suppress colored output.\n",
      "  --no-python-version-warning\n",
      "                              Silence deprecation warnings for upcoming\n",
      "                              unsupported Pythons.\n",
      "  --use-feature <feature>     Enable new functionality, that may be backward\n",
      "                              incompatible.\n",
      "  --use-deprecated <feature>  Enable deprecated functionality, that will be\n",
      "                              removed in the future.\n"
     ]
    }
   ],
   "source": [
    "!pip -v"
   ]
  },
  {
   "cell_type": "code",
   "execution_count": 9,
   "id": "0921f4ab-ac89-425f-b8b9-3066e75167f0",
   "metadata": {
    "tags": []
   },
   "outputs": [
    {
     "name": "stdout",
     "output_type": "stream",
     "text": [
      "Package                       Version\n",
      "----------------------------- ---------------\n",
      "absl-py                       2.0.0\n",
      "aiobotocore                   2.5.0\n",
      "aiofiles                      22.1.0\n",
      "aiohttp                       3.8.5\n",
      "aioitertools                  0.7.1\n",
      "aiosignal                     1.2.0\n",
      "aiosqlite                     0.18.0\n",
      "alabaster                     0.7.12\n",
      "anaconda-anon-usage           0.4.3\n",
      "anaconda-catalogs             0.2.0\n",
      "anaconda-client               1.12.0\n",
      "anaconda-cloud-auth           0.1.4\n",
      "anaconda-navigator            2.5.0\n",
      "anaconda-project              0.11.1\n",
      "anyio                         3.5.0\n",
      "appdirs                       1.4.4\n",
      "argon2-cffi                   21.3.0\n",
      "argon2-cffi-bindings          21.2.0\n",
      "arrow                         1.2.3\n",
      "asgiref                       3.5.2\n",
      "astroid                       2.14.2\n",
      "astropy                       5.3.4\n",
      "asttokens                     2.0.5\n",
      "astunparse                    1.6.3\n",
      "async-timeout                 4.0.2\n",
      "atomicwrites                  1.4.0\n",
      "attrs                         23.1.0\n",
      "Automat                       20.2.0\n",
      "autopep8                      1.6.0\n",
      "Babel                         2.11.0\n",
      "backcall                      0.2.0\n",
      "backports.functools-lru-cache 1.6.4\n",
      "backports.tempfile            1.0\n",
      "backports.weakref             1.0.post1\n",
      "bcrypt                        3.2.0\n",
      "beautifulsoup4                4.12.2\n",
      "binaryornot                   0.4.4\n",
      "black                         0.0\n",
      "bleach                        4.1.0\n",
      "bokeh                         3.2.1\n",
      "boltons                       23.0.0\n",
      "boto3                         1.26.76\n",
      "botocore                      1.29.76\n",
      "Bottleneck                    1.3.5\n",
      "branca                        0.6.0\n",
      "Brotli                        1.0.9\n",
      "cachetools                    5.3.2\n",
      "catboost                      1.2.7\n",
      "certifi                       2024.12.14\n",
      "cffi                          1.15.1\n",
      "chardet                       4.0.0\n",
      "charset-normalizer            2.0.4\n",
      "click                         8.1.7\n",
      "cloudpickle                   2.2.1\n",
      "clyent                        1.2.2\n",
      "colorama                      0.4.6\n",
      "colorcet                      3.0.1\n",
      "colorclass                    2.2.2\n",
      "comm                          0.1.2\n",
      "conda                         23.9.0\n",
      "conda-build                   3.27.0\n",
      "conda-content-trust           0+unknown\n",
      "conda_index                   0.3.0\n",
      "conda-libmamba-solver         23.9.3\n",
      "conda-pack                    0.6.0\n",
      "conda-package-handling        2.2.0\n",
      "conda_package_streaming       0.9.0\n",
      "conda-repo-cli                1.0.75\n",
      "conda-token                   0.4.0\n",
      "conda-verify                  3.4.2\n",
      "constantly                    15.1.0\n",
      "contourpy                     1.0.5\n",
      "cookiecutter                  1.7.3\n",
      "cryptography                  39.0.1\n",
      "cssselect                     1.1.0\n",
      "cycler                        0.11.0\n",
      "cytoolz                       0.12.0\n",
      "daal4py                       2023.1.1\n",
      "dask                          2023.6.0\n",
      "datashader                    0.15.2\n",
      "datashape                     0.5.4\n",
      "debugpy                       1.6.7\n",
      "decorator                     5.1.1\n",
      "defusedxml                    0.7.1\n",
      "diff-match-patch              20200713\n",
      "dill                          0.3.7\n",
      "distributed                   2023.6.0\n",
      "Django                        4.1\n",
      "django-import-export          3.3.3\n",
      "docstring-to-markdown         0.11\n",
      "docutils                      0.18.1\n",
      "easygui                       0.98.3\n",
      "entrypoints                   0.4\n",
      "et-xmlfile                    1.1.0\n",
      "executing                     0.8.3\n",
      "fastjsonschema                2.16.2\n",
      "filelock                      3.9.0\n",
      "flake8                        6.0.0\n",
      "Flask                         2.2.2\n",
      "flatbuffers                   23.5.26\n",
      "folium                        0.14.0\n",
      "fonttools                     4.25.0\n",
      "fpdf                          1.7.2\n",
      "fqdn                          1.5.1\n",
      "frozenlist                    1.3.3\n",
      "fsspec                        2024.12.0\n",
      "future                        0.18.3\n",
      "gast                          0.5.4\n",
      "gensim                        4.3.0\n",
      "google-auth                   2.24.0\n",
      "google-auth-oauthlib          1.1.0\n",
      "google-pasta                  0.2.0\n",
      "googlemaps                    2.5.1\n",
      "graphviz                      0.20.3\n",
      "greenlet                      2.0.1\n",
      "grpcio                        1.59.3\n",
      "h5py                          3.9.0\n",
      "HeapDict                      1.0.1\n",
      "holoviews                     1.17.1\n",
      "huggingface-hub               0.27.1\n",
      "hvplot                        0.9.0\n",
      "hyperlink                     21.0.0\n",
      "idna                          3.4\n",
      "imagecodecs                   2023.1.23\n",
      "imageio                       2.31.4\n",
      "imagesize                     1.4.1\n",
      "imbalanced-learn              0.10.1\n",
      "importlib-metadata            6.0.0\n",
      "incremental                   21.3.0\n",
      "inflection                    0.5.1\n",
      "iniconfig                     1.1.1\n",
      "intake                        0.6.8\n",
      "intervaltree                  3.1.0\n",
      "ipykernel                     6.25.0\n",
      "ipython                       8.15.0\n",
      "ipython-genutils              0.2.0\n",
      "ipywidgets                    8.0.4\n",
      "isoduration                   20.11.0\n",
      "isort                         5.9.3\n",
      "itemadapter                   0.3.0\n",
      "itemloaders                   1.0.4\n",
      "itsdangerous                  2.0.1\n",
      "jaraco.classes                3.2.1\n",
      "jedi                          0.18.1\n",
      "jellyfish                     1.0.1\n",
      "Jinja2                        3.1.2\n",
      "jinja2-time                   0.2.0\n",
      "jmespath                      0.10.0\n",
      "joblib                        1.2.0\n",
      "JPype1                        1.5.0\n",
      "json5                         0.9.6\n",
      "jsonpatch                     1.32\n",
      "jsonpointer                   2.1\n",
      "jsonschema                    4.17.3\n",
      "jupyter                       1.0.0\n",
      "jupyter_client                7.4.9\n",
      "jupyter-console               6.6.3\n",
      "jupyter_core                  5.3.0\n",
      "jupyter-events                0.6.3\n",
      "jupyter-server                1.23.4\n",
      "jupyter_server_fileid         0.9.0\n",
      "jupyter_server_ydoc           0.8.0\n",
      "jupyter-ydoc                  0.2.4\n",
      "jupyterlab                    3.6.3\n",
      "jupyterlab-pygments           0.1.2\n",
      "jupyterlab_server             2.22.0\n",
      "jupyterlab-widgets            3.0.5\n",
      "keras                         2.15.0\n",
      "keyring                       23.13.1\n",
      "kiwisolver                    1.4.4\n",
      "konlpy                        0.6.0\n",
      "lazy_loader                   0.3\n",
      "lazy-object-proxy             1.6.0\n",
      "libarchive-c                  2.9\n",
      "libclang                      16.0.6\n",
      "libmambapy                    1.5.1\n",
      "lightgbm                      4.5.0\n",
      "linkify-it-py                 2.0.0\n",
      "llvmlite                      0.41.0\n",
      "lmdb                          1.4.1\n",
      "locket                        1.0.0\n",
      "lxml                          4.9.3\n",
      "lz4                           4.3.2\n",
      "Markdown                      3.4.1\n",
      "markdown-it-py                2.2.0\n",
      "MarkupPy                      1.14\n",
      "MarkupSafe                    2.1.1\n",
      "matplotlib                    3.7.2\n",
      "matplotlib-inline             0.1.6\n",
      "mccabe                        0.7.0\n",
      "mdit-py-plugins               0.3.0\n",
      "mdurl                         0.1.0\n",
      "menuinst                      1.4.19\n",
      "mistune                       0.8.4\n",
      "mkl-fft                       1.3.8\n",
      "mkl-random                    1.2.4\n",
      "mkl-service                   2.4.0\n",
      "ml-dtypes                     0.2.0\n",
      "more-itertools                8.12.0\n",
      "mpmath                        1.3.0\n",
      "msgpack                       1.0.3\n",
      "msoffcrypto-tool              5.4.2\n",
      "multidict                     6.0.2\n",
      "multipledispatch              0.6.0\n",
      "munkres                       1.1.4\n",
      "mypy-extensions               1.0.0\n",
      "mysqlclient                   2.2.0\n",
      "navigator-updater             0.4.0\n",
      "nbclassic                     0.5.5\n",
      "nbclient                      0.5.13\n",
      "nbconvert                     6.5.4\n",
      "nbformat                      5.9.2\n",
      "nest-asyncio                  1.5.6\n",
      "networkx                      3.1\n",
      "nltk                          3.8.1\n",
      "notebook                      6.5.4\n",
      "notebook_shim                 0.2.2\n",
      "numba                         0.58.0\n",
      "numexpr                       2.8.7\n",
      "numpy                         1.25.2\n",
      "numpydoc                      1.5.0\n",
      "oauthlib                      3.2.2\n",
      "odfpy                         1.4.1\n",
      "olefile                       0.47\n",
      "oletools                      0.60.2\n",
      "opencv-python                 4.8.1.78\n",
      "openpyxl                      3.0.10\n",
      "opt-einsum                    3.3.0\n",
      "packaging                     23.1\n",
      "pandas                        2.1.1\n",
      "pandocfilters                 1.5.0\n",
      "panel                         1.2.3\n",
      "param                         1.13.0\n",
      "paramiko                      2.8.1\n",
      "parsel                        1.6.0\n",
      "parso                         0.8.3\n",
      "partd                         1.4.0\n",
      "pathlib                       1.0.1\n",
      "pathspec                      0.10.3\n",
      "patsy                         0.5.3\n",
      "pcodedmp                      1.2.6\n",
      "pdf2image                     1.17.0\n",
      "pdfminer.six                  20231228\n",
      "pdfplumber                    0.11.5\n",
      "pep8                          1.7.1\n",
      "pexpect                       4.8.0\n",
      "pickleshare                   0.7.5\n",
      "Pillow                        10.0.1\n",
      "pip                           25.0\n",
      "pkce                          1.0.3\n",
      "pkginfo                       1.9.6\n",
      "platformdirs                  3.10.0\n",
      "plotly                        5.9.0\n",
      "pluggy                        1.0.0\n",
      "ply                           3.11\n",
      "poyo                          0.5.0\n",
      "prometheus-client             0.14.1\n",
      "prompt-toolkit                3.0.36\n",
      "Protego                       0.1.16\n",
      "protobuf                      4.23.4\n",
      "psutil                        5.9.0\n",
      "ptyprocess                    0.7.0\n",
      "pure-eval                     0.2.2\n",
      "py-cpuinfo                    9.0.0\n",
      "pyarrow                       11.0.0\n",
      "pyasn1                        0.4.8\n",
      "pyasn1-modules                0.2.8\n",
      "pycodestyle                   2.10.0\n",
      "pycosat                       0.6.6\n",
      "pycparser                     2.21\n",
      "pyct                          0.5.0\n",
      "pycurl                        7.45.2\n",
      "pydantic                      1.10.12\n",
      "PyDispatcher                  2.0.5\n",
      "pydocstyle                    6.3.0\n",
      "pyerfa                        2.0.0\n",
      "pyflakes                      3.0.1\n",
      "Pygments                      2.15.1\n",
      "pyhwp                         0.1b15\n",
      "PyJWT                         2.4.0\n",
      "pylint                        2.16.2\n",
      "pylint-venv                   2.3.0\n",
      "pyls-spyder                   0.4.0\n",
      "PyMuPDF                       1.25.1\n",
      "PyMySQL                       1.1.0\n",
      "PyNaCl                        1.5.0\n",
      "pyodbc                        4.0.39\n",
      "pyOpenSSL                     23.2.0\n",
      "pyparsing                     3.0.9\n",
      "pypdfium2                     4.30.1\n",
      "PyQt5                         5.15.7\n",
      "PyQt5-sip                     12.11.0\n",
      "PyQtWebEngine                 5.15.4\n",
      "pyrsistent                    0.18.0\n",
      "PySocks                       1.7.1\n",
      "pytesseract                   0.3.10\n",
      "pytest                        7.4.0\n",
      "python-dateutil               2.8.2\n",
      "python-dotenv                 0.21.0\n",
      "python-json-logger            2.0.7\n",
      "python-lsp-black              1.2.1\n",
      "python-lsp-jsonrpc            1.0.0\n",
      "python-lsp-server             1.7.2\n",
      "python-slugify                5.0.2\n",
      "python-snappy                 0.6.1\n",
      "pytoolconfig                  1.2.5\n",
      "pytz                          2023.3.post1\n",
      "pyviz-comms                   2.3.0\n",
      "PyWavelets                    1.4.1\n",
      "pywin32                       305.1\n",
      "pywin32-ctypes                0.2.0\n",
      "pywinpty                      2.0.10\n",
      "PyYAML                        6.0.1\n",
      "pyzmq                         23.2.0\n",
      "QDarkStyle                    3.0.2\n",
      "qstylizer                     0.2.2\n",
      "QtAwesome                     1.2.2\n",
      "qtconsole                     5.4.2\n",
      "QtPy                          2.2.0\n",
      "queuelib                      1.6.2\n",
      "regex                         2023.10.3\n",
      "requests                      2.31.0\n",
      "requests-file                 1.5.1\n",
      "requests-oauthlib             1.3.1\n",
      "requests-toolbelt             1.0.0\n",
      "rfc3339-validator             0.1.4\n",
      "rfc3986-validator             0.1.1\n",
      "rope                          1.7.0\n",
      "rsa                           4.9\n",
      "Rtree                         1.0.1\n",
      "ruamel.yaml                   0.17.21\n",
      "ruamel-yaml-conda             0.17.21\n",
      "s3fs                          2023.4.0\n",
      "s3transfer                    0.6.0\n",
      "sacremoses                    0.0.43\n",
      "safetensors                   0.5.2\n",
      "scikit-image                  0.20.0\n",
      "scikit-learn                  1.2.2\n",
      "scikit-learn-intelex          20230426.121932\n",
      "scipy                         1.11.3\n",
      "Scrapy                        2.8.0\n",
      "seaborn                       0.12.2\n",
      "selenium                      3.141.0\n",
      "semver                        2.13.0\n",
      "Send2Trash                    1.8.0\n",
      "service-identity              18.1.0\n",
      "setuptools                    68.0.0\n",
      "shap                          0.46.0\n",
      "sip                           6.6.2\n",
      "six                           1.16.0\n",
      "slicer                        0.0.8\n",
      "smart-open                    5.2.1\n",
      "sniffio                       1.2.0\n",
      "snowballstemmer               2.2.0\n",
      "sortedcontainers              2.4.0\n",
      "soupsieve                     2.5\n",
      "Sphinx                        5.0.2\n",
      "sphinxcontrib-applehelp       1.0.2\n",
      "sphinxcontrib-devhelp         1.0.2\n",
      "sphinxcontrib-htmlhelp        2.0.0\n",
      "sphinxcontrib-jsmath          1.0.1\n",
      "sphinxcontrib-qthelp          1.0.3\n",
      "sphinxcontrib-serializinghtml 1.1.5\n",
      "spyder                        5.4.3\n",
      "spyder-kernels                2.4.4\n",
      "SQLAlchemy                    2.0.21\n",
      "sqlparse                      0.4.4\n",
      "stack-data                    0.2.0\n",
      "statsmodels                   0.14.0\n",
      "sympy                         1.13.1\n",
      "tables                        3.8.0\n",
      "tablib                        3.5.0\n",
      "tabulate                      0.8.10\n",
      "TBB                           0.2\n",
      "tblib                         1.7.0\n",
      "tenacity                      8.2.2\n",
      "tensorboard                   2.15.1\n",
      "tensorboard-data-server       0.7.2\n",
      "tensorflow                    2.15.0\n",
      "tensorflow-estimator          2.15.0\n",
      "tensorflow-intel              2.15.0\n",
      "tensorflow-io-gcs-filesystem  0.31.0\n",
      "termcolor                     2.3.0\n",
      "terminado                     0.17.1\n",
      "text-unidecode                1.3\n",
      "textdistance                  4.2.1\n",
      "threadpoolctl                 2.2.0\n",
      "three-merge                   0.1.1\n",
      "tifffile                      2023.4.12\n",
      "tinycss2                      1.2.1\n",
      "tldextract                    3.2.0\n",
      "tokenizers                    0.21.0\n",
      "toml                          0.10.2\n",
      "tomlkit                       0.11.1\n",
      "toolz                         0.12.0\n",
      "torch                         2.5.1\n",
      "tornado                       6.3.3\n",
      "tqdm                          4.65.0\n",
      "traitlets                     5.7.1\n",
      "transformers                  4.47.1\n",
      "truststore                    0.8.0\n",
      "Twisted                       22.10.0\n",
      "twisted-iocpsupport           1.0.2\n",
      "typing_extensions             4.12.2\n",
      "tzdata                        2023.3\n",
      "uc-micro-py                   1.0.1\n",
      "ujson                         5.4.0\n",
      "Unidecode                     1.2.0\n",
      "uri-template                  1.3.0\n",
      "urllib3                       1.26.18\n",
      "w3lib                         1.21.0\n",
      "watchdog                      2.1.6\n",
      "wcwidth                       0.2.5\n",
      "webcolors                     24.11.1\n",
      "webdriver-manager             4.0.1\n",
      "webencodings                  0.5.1\n",
      "websocket-client              0.58.0\n",
      "Werkzeug                      2.2.3\n",
      "whatthepatch                  1.0.2\n",
      "wheel                         0.38.4\n",
      "widgetsnbextension            4.0.5\n",
      "win-inet-pton                 1.1.0\n",
      "win-unicode-console           0.5\n",
      "wordcloud                     1.9.4\n",
      "wrapt                         1.14.1\n",
      "xarray                        2023.6.0\n",
      "xgboost                       2.1.3\n",
      "xlrd                          2.0.1\n",
      "XlsxWriter                    3.2.0\n",
      "xlwings                       0.29.1\n",
      "xlwt                          1.3.0\n",
      "xyzservices                   2022.9.0\n",
      "y-py                          0.5.9\n",
      "yapf                          0.31.0\n",
      "yarl                          1.8.1\n",
      "ypy-websocket                 0.8.2\n",
      "zict                          3.0.0\n",
      "zipp                          3.11.0\n",
      "zope.interface                5.4.0\n",
      "zstandard                     0.19.0\n"
     ]
    }
   ],
   "source": [
    "!pip list"
   ]
  },
  {
   "cell_type": "code",
   "execution_count": 10,
   "id": "53493a7e-ccb1-461f-a582-601af16f5d3b",
   "metadata": {
    "tags": []
   },
   "outputs": [
    {
     "name": "stdout",
     "output_type": "stream",
     "text": [
      "Requirement already satisfied: tqdm in c:\\users\\jszxr\\anaconda3\\lib\\site-packages (4.65.0)\n",
      "Requirement already satisfied: colorama in c:\\users\\jszxr\\anaconda3\\lib\\site-packages (from tqdm) (0.4.6)\n"
     ]
    }
   ],
   "source": [
    "!pip install tqdm"
   ]
  },
  {
   "cell_type": "code",
   "execution_count": 18,
   "id": "6737470b-32c4-4161-834b-7455f8e56918",
   "metadata": {
    "tags": []
   },
   "outputs": [
    {
     "name": "stderr",
     "output_type": "stream",
     "text": [
      "100%|████████████████████████████████████████████████████████████████████████████████| 100/100 [00:01<00:00, 91.19it/s]\n"
     ]
    }
   ],
   "source": [
    "from tqdm import tqdm\n",
    "import time as tt\n",
    "for x in tqdm(range(100)):\n",
    "    pass\n",
    "    tt.sleep(0.01)"
   ]
  },
  {
   "cell_type": "code",
   "execution_count": 19,
   "id": "f5d21740-abc3-4e73-a3dd-7ed62636c614",
   "metadata": {},
   "outputs": [],
   "source": [
    "# #비트코인시세로 상승장 하강장 구분하기\n",
    "# # import requests as req\n",
    "# # url = 'https://api.bithumb.com/public/ticker/ALL_KRW'\n",
    "# # gdata = req.get(url).json\n",
    "# # print(gdata['data']['btc'])\n",
    "# # maxp = float(btc['max_price'])\n",
    "# # minp = float(btc['min_price'])\n",
    "# openp = float(btc['opening_price'])\n",
    "# bandp = float(maxp) - float(minp)\n",
    "# if (openp + bandp)>maxp:\n",
    "#     print('상승장')\n",
    "# else:\n",
    "#     print('하강장')"
   ]
  },
  {
   "cell_type": "code",
   "execution_count": 26,
   "id": "e29ec273-1f4d-4296-9dfe-bd92d59321c5",
   "metadata": {
    "tags": []
   },
   "outputs": [
    {
     "name": "stdin",
     "output_type": "stream",
     "text": [
      "숫자를 입력하세요:  5\n"
     ]
    },
    {
     "name": "stdout",
     "output_type": "stream",
     "text": [
      "5x1 = 5\n",
      "5x2 = 10\n",
      "5x3 = 15\n",
      "5x4 = 20\n",
      "5x5 = 25\n",
      "5x6 = 30\n",
      "5x7 = 35\n",
      "5x8 = 40\n",
      "5x9 = 45\n"
     ]
    }
   ],
   "source": [
    "#구구단\n",
    "\n",
    "gugu = int(input('숫자를 입력하세요: '))\n",
    "\n",
    "for i in range(1, 10):\n",
    "    print(f'{gugu}x{i} = {gugu*i}')"
   ]
  },
  {
   "cell_type": "code",
   "execution_count": 29,
   "id": "3af67475-72de-427c-a781-ca5ec59fe136",
   "metadata": {
    "tags": []
   },
   "outputs": [],
   "source": [
    "#리스트 컴프리헨션"
   ]
  },
  {
   "cell_type": "code",
   "execution_count": 30,
   "id": "41cf3ddb-3935-4cc5-aabf-29869827e1ac",
   "metadata": {
    "tags": []
   },
   "outputs": [
    {
     "name": "stdout",
     "output_type": "stream",
     "text": [
      "[3, 6, 9, 12]\n"
     ]
    }
   ],
   "source": [
    "a = [1,2,3,4]\n",
    "result = []\n",
    "for num in a:\n",
    "    result.append(num*3)\n",
    "print(result)"
   ]
  },
  {
   "cell_type": "code",
   "execution_count": 31,
   "id": "b36b2a40-922f-4816-a91b-35e13ba14824",
   "metadata": {
    "tags": []
   },
   "outputs": [],
   "source": [
    "# [결과(return) for문 if문]"
   ]
  },
  {
   "cell_type": "code",
   "execution_count": 33,
   "id": "062ef6f5-a64e-48ca-9431-ceb27aa17b59",
   "metadata": {
    "tags": []
   },
   "outputs": [
    {
     "data": {
      "text/plain": [
       "[0, 1, 2, 3, 4]"
      ]
     },
     "execution_count": 33,
     "metadata": {},
     "output_type": "execute_result"
    }
   ],
   "source": [
    "[x for x in range(10) if x < 5]"
   ]
  },
  {
   "cell_type": "code",
   "execution_count": null,
   "id": "9a348cba-fe8b-451b-80a7-76eed955750e",
   "metadata": {},
   "outputs": [],
   "source": [
    "#파이썬으로 로또 생성기 만들기"
   ]
  }
 ],
 "metadata": {
  "kernelspec": {
   "display_name": "Python 3 (ipykernel)",
   "language": "python",
   "name": "python3"
  },
  "language_info": {
   "codemirror_mode": {
    "name": "ipython",
    "version": 3
   },
   "file_extension": ".py",
   "mimetype": "text/x-python",
   "name": "python",
   "nbconvert_exporter": "python",
   "pygments_lexer": "ipython3",
   "version": "3.11.5"
  },
  "toc-autonumbering": true
 },
 "nbformat": 4,
 "nbformat_minor": 5
}
