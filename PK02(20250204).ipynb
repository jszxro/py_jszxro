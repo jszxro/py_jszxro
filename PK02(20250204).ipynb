{
 "cells": [
  {
   "cell_type": "markdown",
   "id": "cc687677-b9bf-4b6f-a7ec-3fa1d669aabf",
   "metadata": {
    "tags": []
   },
   "source": [
    "# 자료형"
   ]
  },
  {
   "cell_type": "markdown",
   "id": "cbcd900f-7fe7-44db-bf97-311a1d233d1a",
   "metadata": {
    "tags": []
   },
   "source": [
    "## 리스트 자료형"
   ]
  },
  {
   "cell_type": "code",
   "execution_count": 2,
   "id": "cf529ea2-4c72-4b1b-a1f6-d91e28678573",
   "metadata": {
    "tags": []
   },
   "outputs": [],
   "source": [
    "import string\n",
    "\n",
    "a = []\n",
    "for char in string.ascii_lowercase[0:8]:\n",
    "    a.append(char)\n"
   ]
  },
  {
   "cell_type": "code",
   "execution_count": 3,
   "id": "1acb06ba-a921-4932-bada-e933419fb8d8",
   "metadata": {
    "tags": []
   },
   "outputs": [
    {
     "name": "stdout",
     "output_type": "stream",
     "text": [
      "['a', 'b', 'c', 'd', 'e', 'f', 'g', 'h']\n"
     ]
    }
   ],
   "source": [
    "print(a)"
   ]
  },
  {
   "cell_type": "code",
   "execution_count": 19,
   "id": "223656e5-3ce0-474e-bdde-c58ac829acb1",
   "metadata": {
    "tags": []
   },
   "outputs": [
    {
     "name": "stdin",
     "output_type": "stream",
     "text": [
      "Key를 입력하세요:  France\n"
     ]
    },
    {
     "name": "stdout",
     "output_type": "stream",
     "text": [
      "32\n"
     ]
    }
   ],
   "source": [
    "#inf 01. 아래 Dict 데이터에서 사용자 입력으로 키 검색 후 값 반환\n",
    "\n",
    "Dic =  {'USA':36, 'Germany':17, 'France':32}\n",
    "\n",
    "inp = input('Key를 입력하세요: ')\n",
    "\n",
    "def dictInput(inp) :\n",
    "    if inp in Dic :\n",
    "        return Dic[inp]\n",
    "    return '다시 입력해주세요'\n",
    "\n",
    "print(dictInput(inp))"
   ]
  },
  {
   "cell_type": "code",
   "execution_count": 23,
   "id": "db8907a9-481b-4612-acf4-1c64161b7d43",
   "metadata": {
    "tags": []
   },
   "outputs": [],
   "source": [
    "def search_dict(word):\n",
    "    c = dict((new_k.lower(), new_val) for new_k, new_val in d.items())"
   ]
  },
  {
   "cell_type": "markdown",
   "id": "20c352b4-9904-4f30-a65d-ff8ab8b6a729",
   "metadata": {},
   "source": [
    "### 리스트 연산하기"
   ]
  },
  {
   "cell_type": "markdown",
   "id": "6ef4ba9e-c94a-434d-93d7-35d44e11495d",
   "metadata": {},
   "source": [
    "## 02장. 되새김 문제"
   ]
  },
  {
   "cell_type": "markdown",
   "id": "0c29f079-0e62-4d97-a22a-cd5f83edc48e",
   "metadata": {},
   "source": [
    "#### 홍길동씨 평균 점수 구하기"
   ]
  },
  {
   "cell_type": "code",
   "execution_count": 38,
   "id": "f4d195d9-fb28-4818-8a98-986f4f7bbe82",
   "metadata": {
    "tags": []
   },
   "outputs": [
    {
     "name": "stdout",
     "output_type": "stream",
     "text": [
      "홍길동 씨의 평균 점수는: 70.0점입니다.\n"
     ]
    }
   ],
   "source": [
    "hong = {'국어': 80, '수학': 55, '영어' : 75}\n",
    "score = list(hong.values())\n",
    "\n",
    "print(f'홍길동 씨의 평균 점수는: {sum(score)/len(score)}점입니다.')"
   ]
  },
  {
   "cell_type": "markdown",
   "id": "233e769c-c093-4c87-b1df-da3d6a611bf6",
   "metadata": {},
   "source": [
    "#### 홀수, 짝수 판별하기"
   ]
  },
  {
   "cell_type": "code",
   "execution_count": 41,
   "id": "f5458e56-4f7b-46f4-9426-beff024260fd",
   "metadata": {
    "tags": []
   },
   "outputs": [
    {
     "name": "stdin",
     "output_type": "stream",
     "text": [
      "홀짝을 판별하고 싶은 숫자를 입력하세요:  13\n"
     ]
    },
    {
     "name": "stdout",
     "output_type": "stream",
     "text": [
      "13은 홀수입니다.\n"
     ]
    }
   ],
   "source": [
    "a = int(input('홀짝을 판별하고 싶은 숫자를 입력하세요: '))\n",
    "\n",
    "def int_a(a) :\n",
    "    if a % 2 == 0 :\n",
    "        return f'{a}는 짝수입니다.'\n",
    "    else :\n",
    "        return f'{a}은 홀수입니다.'\n",
    "    \n",
    "print(int_a(a))"
   ]
  },
  {
   "cell_type": "markdown",
   "id": "7b655159-05bb-48f6-b762-f5d4259b1329",
   "metadata": {},
   "source": [
    "#### 주민등록번호 나누기"
   ]
  },
  {
   "cell_type": "code",
   "execution_count": 61,
   "id": "605a6136-df55-48a3-a777-95219c340826",
   "metadata": {
    "tags": []
   },
   "outputs": [
    {
     "name": "stdout",
     "output_type": "stream",
     "text": [
      "1988년 11월 20일\n",
      "068234\n"
     ]
    }
   ],
   "source": [
    "from datetime import datetime\n",
    "\n",
    "hongPin = \"881120-1068234\"\n",
    "\n",
    "y = hongPin[0:6]\n",
    "n = hongPin[8:]\n",
    "\n",
    "print(f'19{y[0:2]}년 {y[2:4]}월 {y[4:6]}일')\n",
    "print(n)"
   ]
  },
  {
   "cell_type": "markdown",
   "id": "1f95a185-e492-40cb-b6ab-326b6e4a11c4",
   "metadata": {},
   "source": [
    "#### 주민등록번호 인덱싱"
   ]
  },
  {
   "cell_type": "code",
   "execution_count": 69,
   "id": "8bc85492-f42f-4d74-9112-05572488e5ea",
   "metadata": {
    "tags": []
   },
   "outputs": [
    {
     "name": "stdout",
     "output_type": "stream",
     "text": [
      "남자입니다.\n"
     ]
    }
   ],
   "source": [
    "hongPin2 = \"881120-1068234\"\n",
    "\n",
    "def jender(hongPin2) :\n",
    "    str0 = int(hongPin2[7])\n",
    "    if str0 == 1 or str0 == 3 :\n",
    "        return '남자입니다.'\n",
    "    else :\n",
    "        return '여자입니다.'\n",
    "\n",
    "print(jender(hongPin2))"
   ]
  },
  {
   "cell_type": "markdown",
   "id": "af88b8e9-a41e-48a4-b533-a5b6912da5e3",
   "metadata": {
    "tags": []
   },
   "source": [
    "#### 문자열 바꾸기"
   ]
  },
  {
   "cell_type": "code",
   "execution_count": 71,
   "id": "837ac573-f785-45ca-ac0d-842a0e4c963b",
   "metadata": {
    "tags": []
   },
   "outputs": [
    {
     "name": "stdout",
     "output_type": "stream",
     "text": [
      "a#b#c#d\n"
     ]
    }
   ],
   "source": [
    "a = \"a:b:c:d\"\n",
    "b = a.replace(':', '#')\n",
    "print(b)"
   ]
  },
  {
   "cell_type": "markdown",
   "id": "459bfe07-aaf0-43dc-a762-238c851520d6",
   "metadata": {},
   "source": [
    "#### 리스트 역순 정렬하기"
   ]
  },
  {
   "cell_type": "code",
   "execution_count": 89,
   "id": "1ed1a476-95c4-478e-a56b-cf3ce1197e51",
   "metadata": {
    "tags": []
   },
   "outputs": [
    {
     "name": "stdout",
     "output_type": "stream",
     "text": [
      "[1, 2, 3, 4, 5]\n",
      "[5, 4, 3, 2, 1]\n"
     ]
    }
   ],
   "source": [
    "lst = [1, 2, 5, 4, 3]\n",
    "\n",
    "c = lst.copy()\n",
    "\n",
    "c.sort()\n",
    "print(c)\n",
    "\n",
    "c.reverse()\n",
    "print(c)"
   ]
  },
  {
   "cell_type": "markdown",
   "id": "d4c8110c-f14a-4a4b-8b2e-d2c76abb16a3",
   "metadata": {
    "tags": []
   },
   "source": [
    "#### 리스트를 문자열로 만들기"
   ]
  },
  {
   "cell_type": "code",
   "execution_count": 93,
   "id": "109dafa0-0286-4d66-88c5-aca31728fb05",
   "metadata": {
    "tags": []
   },
   "outputs": [
    {
     "name": "stdout",
     "output_type": "stream",
     "text": [
      "Life is too short\n"
     ]
    }
   ],
   "source": [
    "a = ['Life', 'is', 'too', 'short']\n",
    "result = ' '.join(a)\n",
    "print(result)"
   ]
  },
  {
   "cell_type": "markdown",
   "id": "0cc1ea61-dc92-43ae-9668-cef2873d77d0",
   "metadata": {
    "tags": []
   },
   "source": [
    "#### 튜플 더하기"
   ]
  },
  {
   "cell_type": "code",
   "execution_count": 97,
   "id": "aa83b24c-f48e-4e34-8691-140d3dd18abd",
   "metadata": {
    "tags": []
   },
   "outputs": [
    {
     "name": "stdout",
     "output_type": "stream",
     "text": [
      "(1, 2, 3, 4)\n"
     ]
    }
   ],
   "source": [
    "a = (1, 2, 3)\n",
    "a = a + (4, )\n",
    "print(a)"
   ]
  },
  {
   "cell_type": "markdown",
   "id": "6d78513b-d067-479b-b5ed-cad6b168c8e4",
   "metadata": {},
   "source": [
    "#### 딕셔너리의 키"
   ]
  },
  {
   "cell_type": "code",
   "execution_count": 98,
   "id": "8213eb3a-3894-4562-bd92-92b34c59d11a",
   "metadata": {
    "tags": []
   },
   "outputs": [
    {
     "data": {
      "text/plain": [
       "{}"
      ]
     },
     "execution_count": 98,
     "metadata": {},
     "output_type": "execute_result"
    }
   ],
   "source": [
    "a = dict()\n",
    "a"
   ]
  },
  {
   "cell_type": "code",
   "execution_count": 103,
   "id": "515ceb90-252c-46c3-957e-d1770ba3e423",
   "metadata": {
    "tags": []
   },
   "outputs": [],
   "source": [
    "a['name'] = 'python' #기본형\n",
    "# a[(a,)] = 'python' #타입에러\n",
    "# a[[1]] = 'p' #타입에러\n",
    "a[250] = 'python'"
   ]
  },
  {
   "cell_type": "code",
   "execution_count": 104,
   "id": "52cc010a-8cc7-4c77-b2ed-63b0c5891d76",
   "metadata": {
    "tags": []
   },
   "outputs": [
    {
     "data": {
      "text/plain": [
       "{'name': 'python', 250: 'python'}"
      ]
     },
     "execution_count": 104,
     "metadata": {},
     "output_type": "execute_result"
    }
   ],
   "source": [
    "a"
   ]
  },
  {
   "cell_type": "markdown",
   "id": "2fb82fcc-3cd1-4a7e-8b26-a225f130ed0e",
   "metadata": {},
   "source": [
    "#### 딕셔너리 값 추출하기"
   ]
  },
  {
   "cell_type": "code",
   "execution_count": 106,
   "id": "8ca55d65-75d3-4970-8ad7-9108c58bdb04",
   "metadata": {
    "tags": []
   },
   "outputs": [
    {
     "name": "stdout",
     "output_type": "stream",
     "text": [
      "{'A': 90, 'C': 70}\n",
      "80\n"
     ]
    }
   ],
   "source": [
    "a = {'A': 90, 'B': 80, 'C': 70}\n",
    "result = a.pop('B')\n",
    "print(a)\n",
    "print(result)"
   ]
  },
  {
   "cell_type": "markdown",
   "id": "914891eb-0f3a-425c-967c-8e54c6917906",
   "metadata": {},
   "source": [
    "#### 리스트에서 중복 제거하기"
   ]
  },
  {
   "cell_type": "code",
   "execution_count": 109,
   "id": "09a42606-f2e4-4e6e-b745-add3f1926752",
   "metadata": {
    "tags": []
   },
   "outputs": [
    {
     "name": "stdout",
     "output_type": "stream",
     "text": [
      "{1, 2, 3, 4, 5}\n",
      "[1, 2, 3, 4, 5]\n"
     ]
    }
   ],
   "source": [
    "a = [1, 1, 1, 2, 2, 3, 3, 3, 4, 4, 5]\n",
    "aSet = set(a)\n",
    "print(aSet)\n",
    "\n",
    "b = list(aSet)\n",
    "print(b)"
   ]
  },
  {
   "cell_type": "markdown",
   "id": "4fb4b55b-dda8-4cf3-956c-32b870789023",
   "metadata": {},
   "source": [
    "#### 파이썬 변수"
   ]
  },
  {
   "cell_type": "code",
   "execution_count": 114,
   "id": "f1be383e-44a2-470c-9e8b-74d90214f02a",
   "metadata": {
    "tags": []
   },
   "outputs": [
    {
     "name": "stdout",
     "output_type": "stream",
     "text": [
      "[1, 2, 3]\n",
      "[1, 2, 3]\n",
      "[1, 4, 3]\n",
      "[1, 4, 3]\n"
     ]
    }
   ],
   "source": [
    "a = b = [1, 2, 3]\n",
    "print(a)\n",
    "print(b)\n",
    "\n",
    "a[1] = 4\n",
    "print(a)\n",
    "print(b) #a와 b가 같은 리스트를 가리키고 있기 때문"
   ]
  },
  {
   "cell_type": "markdown",
   "id": "d5eb7bb8-8ebe-409d-bf73-8596a6375f84",
   "metadata": {},
   "source": [
    "## 03장 되새김 문제"
   ]
  },
  {
   "cell_type": "markdown",
   "id": "7ea18c19-5710-44b7-bd39-9cb4df244bbd",
   "metadata": {},
   "source": [
    "#### 조건문의 참과 거짓"
   ]
  },
  {
   "cell_type": "code",
   "execution_count": 116,
   "id": "b6ee45c9-4fba-4fe3-810c-b4fb35992c9f",
   "metadata": {
    "tags": []
   },
   "outputs": [],
   "source": [
    "# shirt 출력"
   ]
  },
  {
   "cell_type": "markdown",
   "id": "0c3121c6-2407-4a00-8b9e-78ac9cc2f422",
   "metadata": {},
   "source": [
    "#### 3의 배수의 합 구하기"
   ]
  },
  {
   "cell_type": "code",
   "execution_count": 117,
   "id": "2389f929-68ec-43c0-ae54-fd2176e21914",
   "metadata": {
    "tags": []
   },
   "outputs": [
    {
     "name": "stdout",
     "output_type": "stream",
     "text": [
      "166833\n"
     ]
    }
   ],
   "source": [
    "result = 0\n",
    "i = 1\n",
    "while i <= 1000:\n",
    "    if i % 3 == 0 :\n",
    "        result += i\n",
    "    i += 1\n",
    "print(result)"
   ]
  },
  {
   "cell_type": "markdown",
   "id": "f5a85bdc-489c-4cb6-aa0e-b11f03f5ad61",
   "metadata": {},
   "source": [
    "#### 별 표시하기"
   ]
  },
  {
   "cell_type": "code",
   "execution_count": 126,
   "id": "6cf44bb4-ac13-4dab-b028-d0ebd8b3c64c",
   "metadata": {
    "tags": []
   },
   "outputs": [
    {
     "name": "stdout",
     "output_type": "stream",
     "text": [
      "*\n",
      "**\n",
      "***\n",
      "****\n",
      "*****\n"
     ]
    }
   ],
   "source": [
    "i = 0\n",
    "while True :\n",
    "    i += 1\n",
    "    if i > 5 : \n",
    "        break\n",
    "    print(\"*\"*i)"
   ]
  },
  {
   "cell_type": "markdown",
   "id": "d0ffcdbf-91db-432b-9684-0eaf645455f2",
   "metadata": {
    "tags": []
   },
   "source": [
    "#### 1부터 100까지 출력하기"
   ]
  },
  {
   "cell_type": "code",
   "execution_count": 128,
   "id": "469989ca-b9eb-4e25-9664-bc2582ff98f4",
   "metadata": {
    "tags": []
   },
   "outputs": [
    {
     "name": "stdout",
     "output_type": "stream",
     "text": [
      "0\n",
      "1\n",
      "2\n",
      "3\n",
      "4\n",
      "5\n",
      "6\n",
      "7\n",
      "8\n",
      "9\n",
      "10\n",
      "11\n",
      "12\n",
      "13\n",
      "14\n",
      "15\n",
      "16\n",
      "17\n",
      "18\n",
      "19\n",
      "20\n",
      "21\n",
      "22\n",
      "23\n",
      "24\n",
      "25\n",
      "26\n",
      "27\n",
      "28\n",
      "29\n",
      "30\n",
      "31\n",
      "32\n",
      "33\n",
      "34\n",
      "35\n",
      "36\n",
      "37\n",
      "38\n",
      "39\n",
      "40\n",
      "41\n",
      "42\n",
      "43\n",
      "44\n",
      "45\n",
      "46\n",
      "47\n",
      "48\n",
      "49\n",
      "50\n",
      "51\n",
      "52\n",
      "53\n",
      "54\n",
      "55\n",
      "56\n",
      "57\n",
      "58\n",
      "59\n",
      "60\n",
      "61\n",
      "62\n",
      "63\n",
      "64\n",
      "65\n",
      "66\n",
      "67\n",
      "68\n",
      "69\n",
      "70\n",
      "71\n",
      "72\n",
      "73\n",
      "74\n",
      "75\n",
      "76\n",
      "77\n",
      "78\n",
      "79\n",
      "80\n",
      "81\n",
      "82\n",
      "83\n",
      "84\n",
      "85\n",
      "86\n",
      "87\n",
      "88\n",
      "89\n",
      "90\n",
      "91\n",
      "92\n",
      "93\n",
      "94\n",
      "95\n",
      "96\n",
      "97\n",
      "98\n",
      "99\n",
      "100\n"
     ]
    }
   ],
   "source": [
    "for i in range(101) :\n",
    "    print(i)"
   ]
  },
  {
   "cell_type": "markdown",
   "id": "28f44879-5f90-4de9-871f-128eac97bfe4",
   "metadata": {},
   "source": [
    "#### 평균 점수 구하기"
   ]
  },
  {
   "cell_type": "code",
   "execution_count": 132,
   "id": "0a17624f-ac65-4719-becf-0bc565e2344c",
   "metadata": {
    "tags": []
   },
   "outputs": [
    {
     "name": "stdout",
     "output_type": "stream",
     "text": [
      "평균 점수는: 79.0점 입니다.\n"
     ]
    }
   ],
   "source": [
    "A = [70, 60, 55,75, 95, 90, 80, 80, 85, 100]\n",
    "total = 0\n",
    "for score in A :\n",
    "    total += score\n",
    "average = total/len(A)\n",
    "print(f'평균 점수는: {average}점 입니다.')"
   ]
  },
  {
   "cell_type": "markdown",
   "id": "f950a1db-7517-43d3-8c6e-eb793e5fa6b8",
   "metadata": {},
   "source": [
    "#### 리스트 컴프리헨션 사용하기"
   ]
  },
  {
   "cell_type": "code",
   "execution_count": 134,
   "id": "dc232846-0f36-4440-946c-e4e226e451f4",
   "metadata": {
    "tags": []
   },
   "outputs": [
    {
     "name": "stdout",
     "output_type": "stream",
     "text": [
      "[2, 6, 10]\n"
     ]
    }
   ],
   "source": [
    "numbers = [1, 2, 3, 4, 5]\n",
    "result = []\n",
    "for n in numbers:\n",
    "    if n % 2 == 1 :\n",
    "        result.append(n*2)\n",
    "print(result)"
   ]
  },
  {
   "cell_type": "code",
   "execution_count": 137,
   "id": "4afd4d5f-036a-4229-9186-ea954912ab5c",
   "metadata": {
    "tags": []
   },
   "outputs": [
    {
     "name": "stdout",
     "output_type": "stream",
     "text": [
      "[2, 6, 10]\n"
     ]
    }
   ],
   "source": [
    "numbers = [1, 2, 3, 4, 5]\n",
    "result = [n*2 for n in numbers if n % 2 == 1]\n",
    "print(result)"
   ]
  },
  {
   "cell_type": "markdown",
   "id": "dfb806e4-728f-4eab-9f23-17243b878a94",
   "metadata": {},
   "source": [
    "## 04장 되새김 문제"
   ]
  },
  {
   "cell_type": "markdown",
   "id": "79786b17-ea99-430a-ad90-93e41703c3e0",
   "metadata": {},
   "source": [
    "#### 홀수, 짝수 판별하기"
   ]
  },
  {
   "cell_type": "code",
   "execution_count": 140,
   "id": "3cb234cf-39ab-49d4-b3e8-d621db52d278",
   "metadata": {
    "tags": []
   },
   "outputs": [
    {
     "name": "stdin",
     "output_type": "stream",
     "text": [
      "숫자를 입력하세요:  14\n"
     ]
    },
    {
     "name": "stdout",
     "output_type": "stream",
     "text": [
      "False\n"
     ]
    }
   ],
   "source": [
    "a = int(input('숫자를 입력하세요: '))\n",
    "def is_odd(number):\n",
    "    if a % 2 == 1 :\n",
    "        return True\n",
    "    else:\n",
    "        return False\n",
    "\n",
    "print(is_odd(a))"
   ]
  },
  {
   "cell_type": "markdown",
   "id": "7aa30dc6-5921-48ea-8b02-23899de2ca5a",
   "metadata": {},
   "source": [
    "#### 모든 입력의 평균값 구하기"
   ]
  },
  {
   "cell_type": "code",
   "execution_count": null,
   "id": "fbf52afd-f9b6-496f-9f76-77fe7ba4e00e",
   "metadata": {
    "tags": []
   },
   "outputs": [],
   "source": [
    "def avg_numbers(args) :\n",
    "    a = list(args)\n",
    "    return sum(a) / len(a)\n",
    "\n",
    "args = map(int, input('숫자를 입력하세여: ').split(','))\n",
    "print(avg_numbers(args))"
   ]
  },
  {
   "cell_type": "markdown",
   "id": "a52d7af0-7599-490d-8645-534a6ae4fe8e",
   "metadata": {},
   "source": [
    "#### 프로그램 오류 수정하기1"
   ]
  },
  {
   "cell_type": "code",
   "execution_count": 150,
   "id": "8b75a677-2247-443f-910e-1c67e0c3e7e0",
   "metadata": {
    "tags": []
   },
   "outputs": [
    {
     "name": "stdin",
     "output_type": "stream",
     "text": [
      "첫 번째 숫자를 입력하세요:  3\n",
      "두 번째 숫자를 입력하세요:  6\n"
     ]
    },
    {
     "name": "stdout",
     "output_type": "stream",
     "text": [
      "두 수의 합은 9입니다\n"
     ]
    }
   ],
   "source": [
    "input1 = int(input('첫 번째 숫자를 입력하세요: '))\n",
    "input2 = int(input('두 번째 숫자를 입력하세요: '))\n",
    "\n",
    "total = input1 + input2\n",
    "print('두 수의 합은 %s입니다' % total)"
   ]
  },
  {
   "cell_type": "markdown",
   "id": "f0f857fa-c9f9-41e9-9cce-387c2803a20a",
   "metadata": {},
   "source": [
    "#### 출력 결과가 다른 것은?"
   ]
  },
  {
   "cell_type": "code",
   "execution_count": 151,
   "id": "9f2b19f7-bdc3-41d4-912e-f1612362ac90",
   "metadata": {
    "tags": []
   },
   "outputs": [],
   "source": [
    "# 3번 공백이 있음 혼자"
   ]
  },
  {
   "cell_type": "markdown",
   "id": "467bd03c-9c38-4635-9add-b275fcb09b68",
   "metadata": {},
   "source": [
    "#### 프로그램 오류 수정하기2"
   ]
  },
  {
   "cell_type": "code",
   "execution_count": 153,
   "id": "11b94ff7-8e57-4365-a42a-789fba9f1711",
   "metadata": {
    "tags": []
   },
   "outputs": [
    {
     "name": "stdout",
     "output_type": "stream",
     "text": [
      "Life is too short\n"
     ]
    }
   ],
   "source": [
    "f1 = open(\"test.txt\", \"w\")\n",
    "f1.write(\"Life is too short\")\n",
    "f1.close()\n",
    "\n",
    "f2 = open(\"test.txt\", \"r\")\n",
    "print(f2.read())"
   ]
  },
  {
   "cell_type": "markdown",
   "id": "bd9d1831-217d-489b-8010-1ce8482d5a70",
   "metadata": {},
   "source": [
    "#### 사용자 입력 저장하기"
   ]
  },
  {
   "cell_type": "code",
   "execution_count": 156,
   "id": "d7f20799-8110-4bc2-8d41-b58f3d0e2014",
   "metadata": {
    "tags": []
   },
   "outputs": [
    {
     "name": "stdin",
     "output_type": "stream",
     "text": [
      "저장할 내용을 입력하세요:  hi\n"
     ]
    }
   ],
   "source": [
    "user_input = input(\"저장할 내용을 입력하세요: \")\n",
    "f = open('test.txt', 'w')\n",
    "f.write(user_input)\n",
    "f.write('\\n')\n",
    "f.close()"
   ]
  },
  {
   "cell_type": "markdown",
   "id": "0c756485-166e-4f66-84dd-ea2040d62882",
   "metadata": {},
   "source": [
    "#### 파일의 문자열 바꾸기"
   ]
  },
  {
   "cell_type": "code",
   "execution_count": 157,
   "id": "6e0e7484-3aef-4f54-a2bd-d9ef1a5c1f08",
   "metadata": {
    "tags": []
   },
   "outputs": [],
   "source": [
    "# test.txt"
   ]
  },
  {
   "cell_type": "markdown",
   "id": "92ba4ea4-b69f-49de-af79-89f79f90dc71",
   "metadata": {},
   "source": [
    "#### 입력값을 모두 더해 출력하기"
   ]
  },
  {
   "cell_type": "code",
   "execution_count": 158,
   "id": "36533960-b15d-44e4-9b7f-f08bb1bbcbef",
   "metadata": {
    "tags": []
   },
   "outputs": [],
   "source": [
    "#"
   ]
  },
  {
   "cell_type": "code",
   "execution_count": 1,
   "id": "c944826b-5c11-4c77-b30e-2b785532c973",
   "metadata": {},
   "outputs": [],
   "source": [
    "#리스트 요소 제거 - remove"
   ]
  },
  {
   "cell_type": "code",
   "execution_count": 13,
   "id": "81548360-558b-4e0d-9996-129ccfa7af06",
   "metadata": {
    "tags": []
   },
   "outputs": [],
   "source": [
    "bag1 = []"
   ]
  },
  {
   "cell_type": "code",
   "execution_count": 14,
   "id": "f8eab0bd-9774-4c14-bdda-adcb86b0a204",
   "metadata": {
    "tags": []
   },
   "outputs": [
    {
     "name": "stdin",
     "output_type": "stream",
     "text": [
      "필요한 항목을 넣어주세요:  사과 바나나 키위\n"
     ]
    },
    {
     "name": "stdout",
     "output_type": "stream",
     "text": [
      "장바구니에는 ['사과', '바나나', '키위']들이 있습니다.\n"
     ]
    }
   ],
   "source": [
    "# 장바구니\n",
    "inp = input('필요한 항목을 넣어주세요: ').split()\n",
    "bag1.extend(inp)\n",
    "print(f'장바구니에는 {bag1}들이 있습니다.')"
   ]
  },
  {
   "cell_type": "code",
   "execution_count": 15,
   "id": "79c001ce-2376-4dd8-93d2-ef24d924fbc2",
   "metadata": {
    "tags": []
   },
   "outputs": [
    {
     "name": "stdout",
     "output_type": "stream",
     "text": [
      "사과를 꺼내서 장바구니에 ['바나나', '키위']이(가) 남았습니다.\n"
     ]
    }
   ],
   "source": [
    "#FIFO 출력\n",
    "hand = bag1.pop(0)\n",
    "print(f'{hand}를 꺼내서 장바구니에 {bag1}이(가) 남았습니다.')"
   ]
  },
  {
   "cell_type": "code",
   "execution_count": 18,
   "id": "d2ad1370-74b0-4cbb-b140-4b146a0ff236",
   "metadata": {
    "tags": []
   },
   "outputs": [
    {
     "name": "stdout",
     "output_type": "stream",
     "text": [
      "장바구니에는 ['맥주', '피자', '햄버거']가 있습니다.\n"
     ]
    },
    {
     "name": "stdin",
     "output_type": "stream",
     "text": [
      "꺼내고 싶은 음식을 입력하세요:  피자\n"
     ]
    },
    {
     "name": "stdout",
     "output_type": "stream",
     "text": [
      "바구니에서 피자를 꺼내어 ['맥주', '햄버거']가 남았습니다.\n"
     ]
    }
   ],
   "source": [
    "#선택 출력\n",
    "bag2 = ['맥주', '피자', '햄버거']\n",
    "print(f'장바구니에는 {bag2}가 있습니다.')\n",
    "\n",
    "eat = input('꺼내고 싶은 음식을 입력하세요: ')\n",
    "hand2 = bag2.pop(bag2.index(eat))\n",
    "print(f'바구니에서 {hand2}를 꺼내어 {bag2}가 남았습니다.')"
   ]
  },
  {
   "cell_type": "code",
   "execution_count": 17,
   "id": "365d4402-26e6-42fc-a53c-a788b77ac401",
   "metadata": {
    "tags": []
   },
   "outputs": [
    {
     "name": "stdout",
     "output_type": "stream",
     "text": [
      "22을(를) 제거 하였습니다.\n"
     ]
    }
   ],
   "source": [
    "#remove는 리턴값이 없다\n",
    "choice = 22\n",
    "a = [11, 22, 33]\n",
    "a.remove(choice)\n",
    "print(f'{choice}을(를) 제거 하였습니다.')"
   ]
  },
  {
   "cell_type": "code",
   "execution_count": 22,
   "id": "b88d8c97-3301-4df4-a38b-00b805d06908",
   "metadata": {
    "tags": []
   },
   "outputs": [
    {
     "name": "stdin",
     "output_type": "stream",
     "text": [
      "추가할 물건 이름을 적어주세요:  딸기\n",
      "어느 물품의 오른쪽에 넣어둘까요?:  맥주\n"
     ]
    },
    {
     "name": "stdout",
     "output_type": "stream",
     "text": [
      "최종: ['호박', '감자', '소주', '맥주', '딸기', '피자']\n"
     ]
    }
   ],
   "source": [
    "#실습\n",
    "\n",
    "bag3 = ['호박', '감자', '소주', '맥주', '피자']\n",
    "\n",
    "test1 = input('추가할 물건 이름을 적어주세요: ')\n",
    "test2 = input('어느 물품의 오른쪽에 넣어둘까요?: ')\n",
    "\n",
    "idx = bag3.index(test2)+1\n",
    "bag3[idx:idx] = [test1]\n",
    "\n",
    "print(f'최종: {bag3}')"
   ]
  },
  {
   "cell_type": "code",
   "execution_count": 23,
   "id": "2c511592-9e4d-4431-a597-a0c151c6ba82",
   "metadata": {
    "tags": []
   },
   "outputs": [
    {
     "name": "stdin",
     "output_type": "stream",
     "text": [
      "추가할 물건 이름을 적어주세요:  팝콘\n",
      "어느 물품의 오른쪽에 넣어둘까요?:  2\n"
     ]
    },
    {
     "name": "stdout",
     "output_type": "stream",
     "text": [
      "['팝콘', '호박', '감자', '소주', '맥주', '피자']\n"
     ]
    }
   ],
   "source": [
    "bag = ['호박', '감자', '소주', '맥주', '피자']\n",
    "thing = input('추가할 물건 이름을 적어주세요: ')\n",
    "where = input('어느 물품의 오른쪽에 넣어둘까요?: ')\n",
    "\n",
    "bag.insert(0, thing)\n",
    "print(bag)"
   ]
  },
  {
   "cell_type": "code",
   "execution_count": 32,
   "id": "6438ef52-3095-4156-8d42-2e8984fee2a0",
   "metadata": {
    "tags": []
   },
   "outputs": [
    {
     "name": "stdin",
     "output_type": "stream",
     "text": [
      "원화로 계산할 달러를 입력하세요:  14\n"
     ]
    },
    {
     "name": "stdout",
     "output_type": "stream",
     "text": [
      "14달러는 20,299.16원입니다.\n"
     ]
    }
   ],
   "source": [
    "#환율 계산기 만들기\n",
    "\n",
    "def convert(test1) :\n",
    "    exchange_rate = 1449.94\n",
    "    return(test1 * exchange_rate)\n",
    "\n",
    "test1 = int(input('원화로 계산할 달러를 입력하세요: '))\n",
    "\n",
    "print(f'{test1}달러는 {convert(test1):,}원입니다.')"
   ]
  },
  {
   "cell_type": "code",
   "execution_count": null,
   "id": "e0e9dd2b-cb83-41ba-b229-18cfb0a2114f",
   "metadata": {},
   "outputs": [],
   "source": []
  }
 ],
 "metadata": {
  "kernelspec": {
   "display_name": "Python 3 (ipykernel)",
   "language": "python",
   "name": "python3"
  },
  "language_info": {
   "codemirror_mode": {
    "name": "ipython",
    "version": 3
   },
   "file_extension": ".py",
   "mimetype": "text/x-python",
   "name": "python",
   "nbconvert_exporter": "python",
   "pygments_lexer": "ipython3",
   "version": "3.11.5"
  },
  "toc-autonumbering": true
 },
 "nbformat": 4,
 "nbformat_minor": 5
}
