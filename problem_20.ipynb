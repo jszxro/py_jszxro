{
 "cells": [
  {
   "cell_type": "markdown",
   "id": "e555ca56-d41f-49a1-a1ff-66c142f333b5",
   "metadata": {},
   "source": [
    "## 1. 문자열 바꾸기"
   ]
  },
  {
   "cell_type": "code",
   "execution_count": 11,
   "id": "18ad697e-46cc-44db-ab1d-c21241c871bf",
   "metadata": {
    "tags": []
   },
   "outputs": [
    {
     "name": "stdout",
     "output_type": "stream",
     "text": [
      "a:b:c:d\n"
     ]
    }
   ],
   "source": [
    "a = 'a:b:c:d'\n",
    "print(a)"
   ]
  },
  {
   "cell_type": "code",
   "execution_count": 4,
   "id": "0e9ed776-ad78-4314-b891-0949042d7d6a",
   "metadata": {
    "tags": []
   },
   "outputs": [
    {
     "data": {
      "text/plain": [
       "'a#b#c#d'"
      ]
     },
     "execution_count": 4,
     "metadata": {},
     "output_type": "execute_result"
    }
   ],
   "source": [
    "a.replace(':','#')"
   ]
  },
  {
   "cell_type": "code",
   "execution_count": 17,
   "id": "cabc6613-2065-4429-9199-cfe99521b6b5",
   "metadata": {
    "tags": []
   },
   "outputs": [],
   "source": [
    "lst = a.split(':')"
   ]
  },
  {
   "cell_type": "code",
   "execution_count": 18,
   "id": "5623adb1-aaaa-4578-9573-1775a33ed0ca",
   "metadata": {
    "tags": []
   },
   "outputs": [
    {
     "data": {
      "text/plain": [
       "'a#b#c#d'"
      ]
     },
     "execution_count": 18,
     "metadata": {},
     "output_type": "execute_result"
    }
   ],
   "source": [
    "'#'.join(lst)"
   ]
  },
  {
   "cell_type": "markdown",
   "id": "a3a572c5-6567-4366-be2c-b79cbddbacff",
   "metadata": {},
   "source": [
    "## 2. 딕셔너리 값 추출하기"
   ]
  },
  {
   "cell_type": "code",
   "execution_count": 20,
   "id": "a58f4420-0c40-4582-8960-e72923c2a5ea",
   "metadata": {
    "tags": []
   },
   "outputs": [
    {
     "ename": "KeyError",
     "evalue": "'C'",
     "output_type": "error",
     "traceback": [
      "\u001b[1;31m---------------------------------------------------------------------------\u001b[0m",
      "\u001b[1;31mKeyError\u001b[0m                                  Traceback (most recent call last)",
      "Cell \u001b[1;32mIn[20], line 2\u001b[0m\n\u001b[0;32m      1\u001b[0m a \u001b[38;5;241m=\u001b[39m {\u001b[38;5;124m'\u001b[39m\u001b[38;5;124mA\u001b[39m\u001b[38;5;124m'\u001b[39m : \u001b[38;5;241m90\u001b[39m, \u001b[38;5;124m'\u001b[39m\u001b[38;5;124mB\u001b[39m\u001b[38;5;124m'\u001b[39m : \u001b[38;5;241m80\u001b[39m}\n\u001b[1;32m----> 2\u001b[0m a[\u001b[38;5;124m'\u001b[39m\u001b[38;5;124mC\u001b[39m\u001b[38;5;124m'\u001b[39m]\n",
      "\u001b[1;31mKeyError\u001b[0m: 'C'"
     ]
    }
   ],
   "source": [
    "a = {'A' : 90, 'B' : 80}\n",
    "a['C']"
   ]
  },
  {
   "cell_type": "code",
   "execution_count": 35,
   "id": "ddf36f68-c29f-4f82-a435-a328f28a88ee",
   "metadata": {
    "tags": []
   },
   "outputs": [
    {
     "data": {
      "text/plain": [
       "70"
      ]
     },
     "execution_count": 35,
     "metadata": {},
     "output_type": "execute_result"
    }
   ],
   "source": [
    "a = {'A' : 90, 'B' : 80}\n",
    "a.get('C', 70)"
   ]
  },
  {
   "cell_type": "markdown",
   "id": "3c004c83-38c7-4e37-bf89-0c71160e5c5c",
   "metadata": {},
   "source": [
    "## 3. 리스트의 더하기와 extend 함수"
   ]
  },
  {
   "cell_type": "code",
   "execution_count": 36,
   "id": "f8c6e0c6-471f-4e13-aa2e-b17c94ad3d6c",
   "metadata": {
    "tags": []
   },
   "outputs": [],
   "source": [
    "a = [1, 2, 3] #extend는 주솟값이 변함 없음"
   ]
  },
  {
   "cell_type": "markdown",
   "id": "e703f4df-52fe-47d3-942e-353d8e05d0c0",
   "metadata": {},
   "source": [
    "## 4. 리스트 총합 구하기"
   ]
  },
  {
   "cell_type": "code",
   "execution_count": 37,
   "id": "7c9e5f4c-6fe8-4b11-9793-7264a5612793",
   "metadata": {
    "tags": []
   },
   "outputs": [],
   "source": [
    "A = [20,55,67,82,45,33,90,87,100,25]"
   ]
  },
  {
   "cell_type": "code",
   "execution_count": 38,
   "id": "59821c45-b0cc-40e8-9742-15a5645c1ce4",
   "metadata": {
    "tags": []
   },
   "outputs": [
    {
     "name": "stdout",
     "output_type": "stream",
     "text": [
      "481\n"
     ]
    }
   ],
   "source": [
    "total = 0\n",
    "for i in A :\n",
    "    if i >= 50 :\n",
    "        total += i\n",
    "print(total)"
   ]
  },
  {
   "cell_type": "markdown",
   "id": "b39dd688-20d6-4ae4-9eba-aa25a1296c86",
   "metadata": {},
   "source": [
    "## 5. 피보나치 함수"
   ]
  },
  {
   "cell_type": "code",
   "execution_count": 41,
   "id": "d0a262df-0bb0-433d-bc15-eb20f9bbae6d",
   "metadata": {
    "tags": []
   },
   "outputs": [
    {
     "name": "stdout",
     "output_type": "stream",
     "text": [
      "0 1 1 2 3 5 8 13 21 34 "
     ]
    }
   ],
   "source": [
    "def pibo(n):\n",
    "    if n == 0 : return 0\n",
    "    if n == 1 : return 1\n",
    "    return pibo(n-2) + pibo(n-1)\n",
    "\n",
    "for i in range(10) :\n",
    "    print(pibo(i), end=' ')"
   ]
  },
  {
   "cell_type": "markdown",
   "id": "5fc794bc-037f-4499-9494-c594ceccad79",
   "metadata": {
    "tags": []
   },
   "source": [
    "## 6. 숫자의 총합 구하기"
   ]
  },
  {
   "cell_type": "code",
   "execution_count": 43,
   "id": "892061e0-2362-4256-9e2d-eaa5106c7787",
   "metadata": {
    "tags": []
   },
   "outputs": [
    {
     "name": "stdin",
     "output_type": "stream",
     "text": [
      "숫자를 입력하세요:  65,45,2,3,45,8\n"
     ]
    },
    {
     "name": "stdout",
     "output_type": "stream",
     "text": [
      "168\n"
     ]
    }
   ],
   "source": [
    "inp = list(map(int, input('숫자를 입력하세요: ').split(',')))\n",
    "\n",
    "total = 0\n",
    "for i in inp :\n",
    "    total += i\n",
    "print(total)\n"
   ]
  },
  {
   "cell_type": "markdown",
   "id": "271ce13c-60a8-4bc1-bf98-b6bb15e8dab6",
   "metadata": {},
   "source": [
    "## 7. 한 줄 구구단"
   ]
  },
  {
   "cell_type": "code",
   "execution_count": 45,
   "id": "8fad4532-f8fe-4b3d-b20f-4d10c66c5d7f",
   "metadata": {
    "tags": []
   },
   "outputs": [
    {
     "name": "stdin",
     "output_type": "stream",
     "text": [
      "구구단을 출력할 숫자를 입력하세요(2~9):  2\n"
     ]
    },
    {
     "name": "stdout",
     "output_type": "stream",
     "text": [
      "2 4 6 8 10 12 14 16 18 "
     ]
    }
   ],
   "source": [
    "gugu = int(input('구구단을 출력할 숫자를 입력하세요(2~9): '))\n",
    "\n",
    "for i in range(1, 10) :\n",
    "    print(f'{i*gugu}', end = ' ')"
   ]
  },
  {
   "cell_type": "markdown",
   "id": "86293c04-cecb-448a-9d7f-72f99677680c",
   "metadata": {},
   "source": [
    "## 8. 파일을 읽어 역순으로 정렬"
   ]
  },
  {
   "cell_type": "code",
   "execution_count": null,
   "id": "52536525-41db-4a24-914f-19fd6a70ee83",
   "metadata": {},
   "outputs": [],
   "source": [
    "f = open('abc.txt', 'r')\n",
    "lines = f.readlines()\n",
    "f.close\n",
    "\n",
    "lines.reverse()"
   ]
  },
  {
   "cell_type": "code",
   "execution_count": null,
   "id": "18bac7dc-dda5-4e75-b05f-63a622b79757",
   "metadata": {},
   "outputs": [],
   "source": [
    "f = open('abc.txt', 'w')\n",
    "for line in lines :\n",
    "    line = line.strip()\n",
    "    f.write(line)\n",
    "    f.write('\\n')\n",
    "    \n",
    "f.close"
   ]
  },
  {
   "cell_type": "markdown",
   "id": "72c92437-3ee0-4193-97bb-35dd8049f4b0",
   "metadata": {},
   "source": [
    "## 9. 평균값 구하기"
   ]
  },
  {
   "cell_type": "code",
   "execution_count": 57,
   "id": "3868f222-dd60-45eb-a1bf-9411344ba2f0",
   "metadata": {
    "tags": []
   },
   "outputs": [
    {
     "name": "stdout",
     "output_type": "stream",
     "text": [
      "['70\\n', '60\\n', '55\\n', '75\\n', '95\\n', '90\\n', '80\\n', '85\\n', '100']\n"
     ]
    }
   ],
   "source": [
    "f = open('sample.txt', 'r')\n",
    "txt = f.readlines()\n",
    "f.close\n",
    "\n",
    "print(txt)\n",
    "\n",
    "total = 0\n",
    "for t in txt :\n",
    "    txt1 = int(t)\n",
    "    total += txt1\n",
    "    \n",
    "average = total/len(txt)\n",
    "\n",
    "f = open(\"result.txt\", 'w')\n",
    "f.write(str(average))\n",
    "f.close()"
   ]
  },
  {
   "cell_type": "markdown",
   "id": "ac00fc5c-2db9-4aa2-9920-c53bfb210dab",
   "metadata": {},
   "source": [
    "## 10. 계산기 만들기"
   ]
  },
  {
   "cell_type": "code",
   "execution_count": 59,
   "id": "8d8ae15c-7b80-4d0d-ab52-ad8bfeef5c5b",
   "metadata": {
    "tags": []
   },
   "outputs": [
    {
     "name": "stdout",
     "output_type": "stream",
     "text": [
      "15\n",
      "3.0\n",
      "40\n",
      "8.0\n"
     ]
    }
   ],
   "source": [
    "class Calculator():\n",
    "    def __init__(self, numberList) :\n",
    "        self.numberList = numberList\n",
    "    def sum(self):\n",
    "        result = 0\n",
    "        for num in self.numberList :\n",
    "            result += num\n",
    "        return result\n",
    "    def avg(self):\n",
    "        total = self.sum()\n",
    "        return total / len(self.numberList)\n",
    "      \n",
    "Cal1 = Calculator([1,2,3,4,5])\n",
    "print(Cal1.sum())\n",
    "print(Cal1.avg())\n",
    "\n",
    "Cal2 = Calculator([6,7,8,9,10])\n",
    "print(Cal2.sum())\n",
    "print(Cal2.avg())"
   ]
  },
  {
   "cell_type": "markdown",
   "id": "12aaf104-c176-4c09-ba73-68885698c16c",
   "metadata": {},
   "source": [
    "## 11. 모듈을 사용하는 방법"
   ]
  },
  {
   "cell_type": "code",
   "execution_count": 60,
   "id": "13172cf8-8b67-4ad3-8ce4-b231f8868337",
   "metadata": {
    "tags": []
   },
   "outputs": [
    {
     "data": {
      "text/plain": [
       "'현재 디렉토리 사용'"
      ]
     },
     "execution_count": 60,
     "metadata": {},
     "output_type": "execute_result"
    }
   ],
   "source": [
    "#1 \n",
    "import sys\n",
    "sys.path.append('c:/doit')\n",
    "import mymod\n",
    "\n",
    "#2\n",
    "'''PYTHONPATH 환경변수 사용'''\n",
    "\n",
    "#3 \n",
    "'''현재 디렉토리 사용'''"
   ]
  },
  {
   "cell_type": "markdown",
   "id": "738278c0-c406-4412-bc41-8c0c198e6bd1",
   "metadata": {},
   "source": [
    "## 12. 오류"
   ]
  },
  {
   "cell_type": "code",
   "execution_count": 61,
   "id": "3265e79c-e8cb-4dd4-8329-41183597b826",
   "metadata": {
    "tags": []
   },
   "outputs": [],
   "source": [
    "#7"
   ]
  },
  {
   "cell_type": "markdown",
   "id": "1cbc6558-d603-4762-acb5-83c40c9c04e5",
   "metadata": {},
   "source": [
    "## 13. DashInsert 함수"
   ]
  },
  {
   "cell_type": "code",
   "execution_count": 63,
   "id": "80337ea5-08a0-4ac1-8565-f5458b741ff1",
   "metadata": {
    "tags": []
   },
   "outputs": [
    {
     "name": "stdin",
     "output_type": "stream",
     "text": [
      " 4546793\n"
     ]
    },
    {
     "name": "stdout",
     "output_type": "stream",
     "text": [
      "454*67-9-3\n"
     ]
    }
   ],
   "source": [
    "def DashInsert(num):\n",
    "    num = str(num)\n",
    "    result = [num[0]]\n",
    "    for i in range(1, len(num)) :\n",
    "        p, c = int(num[i-1]), int(num[i])\n",
    "        \n",
    "        if p % 2 != 0 and c % 2 != 0 :\n",
    "            result.append('-')\n",
    "        elif p % 2 == 0 and c % 2 == 0 :\n",
    "            result.append('*')\n",
    "            \n",
    "        result.append(num[i])\n",
    "\n",
    "    return ''.join(result)\n",
    "\n",
    "num = int(input())\n",
    "print(DashInsert(num))"
   ]
  },
  {
   "cell_type": "markdown",
   "id": "7fa7ec8f-5b82-4014-b666-ff1d58c67120",
   "metadata": {},
   "source": [
    "## 14. 문자열 압축하기"
   ]
  },
  {
   "cell_type": "code",
   "execution_count": 65,
   "id": "5198532f-fc0e-480e-a485-f0a65dfe18dc",
   "metadata": {
    "tags": []
   },
   "outputs": [
    {
     "name": "stdin",
     "output_type": "stream",
     "text": [
      " aaabbcccccca\n"
     ]
    },
    {
     "name": "stdout",
     "output_type": "stream",
     "text": [
      "a4b2c6\n"
     ]
    }
   ],
   "source": [
    "def string(s): \n",
    "    cnt = {}\n",
    "    result = ''\n",
    "    \n",
    "    for char in s :\n",
    "        cnt[char] = cnt.get(char, 0) + 1\n",
    "    \n",
    "    for char, count in cnt.items(): \n",
    "        result += f\"{char}{count}\"\n",
    "        \n",
    "    return result\n",
    "\n",
    "str_i = input()\n",
    "print(string(str_i))"
   ]
  },
  {
   "cell_type": "code",
   "execution_count": 66,
   "id": "4539e49c-8e1f-419b-a458-eb98ad23d520",
   "metadata": {
    "tags": []
   },
   "outputs": [
    {
     "name": "stdin",
     "output_type": "stream",
     "text": [
      "문자열을 입력하세요:  aabbcca\n"
     ]
    },
    {
     "name": "stdout",
     "output_type": "stream",
     "text": [
      "a2b2c2a1\n"
     ]
    }
   ],
   "source": [
    "def compress_string_continuous(s):\n",
    "    if not s:\n",
    "        return \"\"\n",
    "\n",
    "    result = \"\"\n",
    "    prev_char = s[0]\n",
    "    count = 1\n",
    "\n",
    "    for i in range(1, len(s)):\n",
    "        if s[i] == prev_char:\n",
    "            count += 1 \n",
    "        else:\n",
    "            result += f\"{prev_char}{count}\"  # 이전 문자 + 개수 추가\n",
    "            prev_char = s[i]  # 현재 문자를 새로운 prev_char로 변경\n",
    "            count = 1  # 개수 초기화\n",
    "\n",
    "    result += f\"{prev_char}{count}\"\n",
    "    return result\n",
    "\n",
    "# 입력 및 실행\n",
    "str_i = input(\"문자열을 입력하세요: \")\n",
    "print(compress_string_continuous(str_i))\n"
   ]
  },
  {
   "cell_type": "markdown",
   "id": "25b361d6-f931-4d0a-99f5-2c02c9b8e715",
   "metadata": {},
   "source": [
    "## 15."
   ]
  },
  {
   "cell_type": "code",
   "execution_count": 2,
   "id": "553ffce0-e2db-499c-9ee6-8dac73c91b8d",
   "metadata": {
    "tags": []
   },
   "outputs": [],
   "source": [
    "def DuplicateNumbers(lst):\n",
    "    result = []\n",
    "    for i in lst :\n",
    "        if i not in result :\n",
    "            result.append(i)\n",
    "        else:\n",
    "            return False\n",
    "    return len(result) == 10"
   ]
  },
  {
   "cell_type": "code",
   "execution_count": 3,
   "id": "240746be-1781-4bad-ad89-75860a3210c5",
   "metadata": {
    "tags": []
   },
   "outputs": [
    {
     "name": "stdout",
     "output_type": "stream",
     "text": [
      "True\n"
     ]
    }
   ],
   "source": [
    "print(DuplicateNumbers(\"0123456789\"))"
   ]
  },
  {
   "cell_type": "code",
   "execution_count": null,
   "id": "03559f9d-f296-4f1c-b6d1-1c9d51c2eb20",
   "metadata": {},
   "outputs": [],
   "source": []
  }
 ],
 "metadata": {
  "kernelspec": {
   "display_name": "Python 3 (ipykernel)",
   "language": "python",
   "name": "python3"
  },
  "language_info": {
   "codemirror_mode": {
    "name": "ipython",
    "version": 3
   },
   "file_extension": ".py",
   "mimetype": "text/x-python",
   "name": "python",
   "nbconvert_exporter": "python",
   "pygments_lexer": "ipython3",
   "version": "3.11.5"
  }
 },
 "nbformat": 4,
 "nbformat_minor": 5
}
