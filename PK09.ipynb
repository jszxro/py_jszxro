{
 "cells": [
  {
   "cell_type": "code",
   "execution_count": null,
   "id": "8247bb35-9453-4e50-8842-f8601f2eebe0",
   "metadata": {
    "tags": []
   },
   "outputs": [],
   "source": []
  },
  {
   "cell_type": "code",
   "execution_count": 2,
   "id": "879e0354-b1f2-40e9-856d-7293c3de1861",
   "metadata": {
    "tags": []
   },
   "outputs": [
    {
     "name": "stderr",
     "output_type": "stream",
     "text": [
      "ERROR: pip's dependency resolver does not currently take into account all the packages that are installed. This behaviour is the source of the following dependency conflicts.\n",
      "anaconda-cloud-auth 0.1.4 requires pydantic<2.0, but you have pydantic 2.11.0a2 which is incompatible.\n"
     ]
    }
   ],
   "source": [
    "!pip install -q -U google-genai"
   ]
  },
  {
   "cell_type": "code",
   "execution_count": null,
   "id": "8d891d2e-98bf-49d8-b9c0-25c67ec8cda7",
   "metadata": {},
   "outputs": [],
   "source": [
    "# 구글 제미나이 AI\n",
    "from google import genai\n",
    "def aiai(text):\n",
    "    client = genai.Client(api_key=\"YOUR_API_KEY\")\n",
    "    response = client.models.generate_content(model=\"gemini-2.0-flash\",contents=text + \"단 400자 이내로 서술형 친절하게 알려줘.\")\n",
    "    answer = response.text\n",
    "    print(answer)\n",
    "    return answer\n",
    "\n",
    "aiai(\"pandas에 대해서 궁금해\")"
   ]
  }
 ],
 "metadata": {
  "kernelspec": {
   "display_name": "Python 3 (ipykernel)",
   "language": "python",
   "name": "python3"
  },
  "language_info": {
   "codemirror_mode": {
    "name": "ipython",
    "version": 3
   },
   "file_extension": ".py",
   "mimetype": "text/x-python",
   "name": "python",
   "nbconvert_exporter": "python",
   "pygments_lexer": "ipython3",
   "version": "3.11.5"
  }
 },
 "nbformat": 4,
 "nbformat_minor": 5
}
